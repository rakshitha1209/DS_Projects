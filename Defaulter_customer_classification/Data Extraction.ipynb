{
 "cells": [
  {
   "cell_type": "code",
   "execution_count": 1,
   "metadata": {},
   "outputs": [],
   "source": [
    "## importing necessary packages required\n",
    "import mysql.connector as mysql\n",
    "import os\n",
    "import pandas as pd\n",
    "import numpy as np"
   ]
  },
  {
   "cell_type": "code",
   "execution_count": 2,
   "metadata": {},
   "outputs": [],
   "source": [
    "## creating the connection to database server\n",
    "conn = mysql.connect(user='dm_team1', password='dm_team1123#', host='18.136.56.185',buffered=True)\n"
   ]
  },
  {
   "cell_type": "code",
   "execution_count": 3,
   "metadata": {},
   "outputs": [
    {
     "name": "stdout",
     "output_type": "stream",
     "text": [
      "('information_schema',)\n",
      "('project_banking',)\n"
     ]
    }
   ],
   "source": [
    "## opening cursor to get the databases present over that server\n",
    "cursor = conn.cursor()\n",
    "databases = (\"show databases\")\n",
    "cursor.execute(databases)\n",
    "databaselist = cursor.fetchall()\n",
    "for (database) in databaselist:\n",
    "    print(database)\n"
   ]
  },
  {
   "cell_type": "code",
   "execution_count": 6,
   "metadata": {},
   "outputs": [],
   "source": [
    "## connecting the database\n",
    "connection=mysql.connect(host='18.136.56.185',\n",
    "                                  user='dm_team1',\n",
    "                                  password='dm_team1123#',\n",
    "                                  database='project_banking')"
   ]
  },
  {
   "cell_type": "code",
   "execution_count": 7,
   "metadata": {},
   "outputs": [
    {
     "name": "stdout",
     "output_type": "stream",
     "text": [
      "  Tables_in_project_banking\n",
      "0              Cust_Account\n",
      "1         Cust_Demographics\n",
      "2              Cust_Enquiry\n"
     ]
    }
   ],
   "source": [
    "## checking the tables presnet on the database\n",
    "db_tables=pd.read_sql_query('show tables',connection)\n",
    "print(db_tables)"
   ]
  },
  {
   "cell_type": "code",
   "execution_count": 8,
   "metadata": {
    "collapsed": true
   },
   "outputs": [
    {
     "name": "stdout",
     "output_type": "stream",
     "text": [
      "(186329, 21)\n"
     ]
    },
    {
     "data": {
      "text/html": [
       "<div>\n",
       "<style scoped>\n",
       "    .dataframe tbody tr th:only-of-type {\n",
       "        vertical-align: middle;\n",
       "    }\n",
       "\n",
       "    .dataframe tbody tr th {\n",
       "        vertical-align: top;\n",
       "    }\n",
       "\n",
       "    .dataframe thead th {\n",
       "        text-align: right;\n",
       "    }\n",
       "</style>\n",
       "<table border=\"1\" class=\"dataframe\">\n",
       "  <thead>\n",
       "    <tr style=\"text-align: right;\">\n",
       "      <th></th>\n",
       "      <th>dt_opened</th>\n",
       "      <th>customer_no</th>\n",
       "      <th>upload_dt</th>\n",
       "      <th>acct_type</th>\n",
       "      <th>owner_indic</th>\n",
       "      <th>opened_dt</th>\n",
       "      <th>last_paymt_dt</th>\n",
       "      <th>closed_dt</th>\n",
       "      <th>reporting_dt</th>\n",
       "      <th>high_credit_amt</th>\n",
       "      <th>...</th>\n",
       "      <th>amt_past_due</th>\n",
       "      <th>paymenthistory1</th>\n",
       "      <th>paymenthistory2</th>\n",
       "      <th>paymt_str_dt</th>\n",
       "      <th>paymt_end_dt</th>\n",
       "      <th>creditlimit</th>\n",
       "      <th>cashlimit</th>\n",
       "      <th>rateofinterest</th>\n",
       "      <th>paymentfrequency</th>\n",
       "      <th>actualpaymentamount</th>\n",
       "    </tr>\n",
       "  </thead>\n",
       "  <tbody>\n",
       "    <tr>\n",
       "      <th>0</th>\n",
       "      <td>10-Nov-15</td>\n",
       "      <td>12265</td>\n",
       "      <td>20-Oct-15</td>\n",
       "      <td>6</td>\n",
       "      <td>1</td>\n",
       "      <td>09-Jun-13</td>\n",
       "      <td>30-Jun-14</td>\n",
       "      <td>05-Jul-14</td>\n",
       "      <td>30-Sep-15</td>\n",
       "      <td>20900</td>\n",
       "      <td>...</td>\n",
       "      <td></td>\n",
       "      <td>\"\"\"STDSTDSTDXXXXXXXXXXXXXXXSTDXXXXXXXXXXXXXXXS...</td>\n",
       "      <td></td>\n",
       "      <td>01-Sep-15</td>\n",
       "      <td>01-Jul-14</td>\n",
       "      <td></td>\n",
       "      <td></td>\n",
       "      <td></td>\n",
       "      <td></td>\n",
       "      <td></td>\n",
       "    </tr>\n",
       "    <tr>\n",
       "      <th>1</th>\n",
       "      <td>10-Nov-15</td>\n",
       "      <td>12265</td>\n",
       "      <td>20-Oct-15</td>\n",
       "      <td>10</td>\n",
       "      <td>1</td>\n",
       "      <td>25-May-12</td>\n",
       "      <td>06-Sep-15</td>\n",
       "      <td></td>\n",
       "      <td>03-Oct-15</td>\n",
       "      <td>16201</td>\n",
       "      <td>...</td>\n",
       "      <td></td>\n",
       "      <td>\"\"\"0000000000000000000000000000000000000000000...</td>\n",
       "      <td>\"\"\"000000000000000000000000000XXX0000000000000...</td>\n",
       "      <td>01-Oct-15</td>\n",
       "      <td>01-Nov-12</td>\n",
       "      <td>14000</td>\n",
       "      <td>1400</td>\n",
       "      <td></td>\n",
       "      <td>3</td>\n",
       "      <td>5603</td>\n",
       "    </tr>\n",
       "    <tr>\n",
       "      <th>2</th>\n",
       "      <td>10-Nov-15</td>\n",
       "      <td>12265</td>\n",
       "      <td>20-Oct-15</td>\n",
       "      <td>10</td>\n",
       "      <td>1</td>\n",
       "      <td>22-Mar-12</td>\n",
       "      <td>31-Aug-15</td>\n",
       "      <td></td>\n",
       "      <td>30-Sep-15</td>\n",
       "      <td>41028</td>\n",
       "      <td>...</td>\n",
       "      <td></td>\n",
       "      <td>\"\"\"0000000000000000000000000000000000000000000...</td>\n",
       "      <td>\"\"\"0000000000000000000000000000000000000000000...</td>\n",
       "      <td>01-Sep-15</td>\n",
       "      <td>01-Oct-12</td>\n",
       "      <td></td>\n",
       "      <td></td>\n",
       "      <td></td>\n",
       "      <td></td>\n",
       "      <td></td>\n",
       "    </tr>\n",
       "    <tr>\n",
       "      <th>3</th>\n",
       "      <td>20-Jul-15</td>\n",
       "      <td>15606</td>\n",
       "      <td>09-Jul-15</td>\n",
       "      <td>10</td>\n",
       "      <td>1</td>\n",
       "      <td>13-Jan-06</td>\n",
       "      <td></td>\n",
       "      <td>26-Jul-07</td>\n",
       "      <td>31-Jan-09</td>\n",
       "      <td>93473</td>\n",
       "      <td>...</td>\n",
       "      <td></td>\n",
       "      <td>\"\"\"1200900600600600300000000000000000000000000...</td>\n",
       "      <td></td>\n",
       "      <td>01-Jul-07</td>\n",
       "      <td>01-Feb-06</td>\n",
       "      <td></td>\n",
       "      <td></td>\n",
       "      <td></td>\n",
       "      <td></td>\n",
       "      <td></td>\n",
       "    </tr>\n",
       "    <tr>\n",
       "      <th>4</th>\n",
       "      <td>20-Jul-15</td>\n",
       "      <td>15606</td>\n",
       "      <td>09-Jul-15</td>\n",
       "      <td>6</td>\n",
       "      <td>1</td>\n",
       "      <td>18-Jan-15</td>\n",
       "      <td>05-May-15</td>\n",
       "      <td></td>\n",
       "      <td>31-May-15</td>\n",
       "      <td>20250</td>\n",
       "      <td>...</td>\n",
       "      <td></td>\n",
       "      <td>\"\"\"000000000000000\"\"\"</td>\n",
       "      <td></td>\n",
       "      <td>01-May-15</td>\n",
       "      <td>01-Jan-15</td>\n",
       "      <td></td>\n",
       "      <td></td>\n",
       "      <td></td>\n",
       "      <td></td>\n",
       "      <td></td>\n",
       "    </tr>\n",
       "  </tbody>\n",
       "</table>\n",
       "<p>5 rows × 21 columns</p>\n",
       "</div>"
      ],
      "text/plain": [
       "   dt_opened customer_no  upload_dt acct_type owner_indic  opened_dt  \\\n",
       "0  10-Nov-15       12265  20-Oct-15         6           1  09-Jun-13   \n",
       "1  10-Nov-15       12265  20-Oct-15        10           1  25-May-12   \n",
       "2  10-Nov-15       12265  20-Oct-15        10           1  22-Mar-12   \n",
       "3  20-Jul-15       15606  09-Jul-15        10           1  13-Jan-06   \n",
       "4  20-Jul-15       15606  09-Jul-15         6           1  18-Jan-15   \n",
       "\n",
       "  last_paymt_dt  closed_dt reporting_dt high_credit_amt  ... amt_past_due  \\\n",
       "0     30-Jun-14  05-Jul-14    30-Sep-15           20900  ...                \n",
       "1     06-Sep-15               03-Oct-15           16201  ...                \n",
       "2     31-Aug-15               30-Sep-15           41028  ...                \n",
       "3                26-Jul-07    31-Jan-09           93473  ...                \n",
       "4     05-May-15               31-May-15           20250  ...                \n",
       "\n",
       "                                     paymenthistory1  \\\n",
       "0  \"\"\"STDSTDSTDXXXXXXXXXXXXXXXSTDXXXXXXXXXXXXXXXS...   \n",
       "1  \"\"\"0000000000000000000000000000000000000000000...   \n",
       "2  \"\"\"0000000000000000000000000000000000000000000...   \n",
       "3  \"\"\"1200900600600600300000000000000000000000000...   \n",
       "4                              \"\"\"000000000000000\"\"\"   \n",
       "\n",
       "                                     paymenthistory2 paymt_str_dt  \\\n",
       "0                                                       01-Sep-15   \n",
       "1  \"\"\"000000000000000000000000000XXX0000000000000...    01-Oct-15   \n",
       "2  \"\"\"0000000000000000000000000000000000000000000...    01-Sep-15   \n",
       "3                                                       01-Jul-07   \n",
       "4                                                       01-May-15   \n",
       "\n",
       "  paymt_end_dt creditlimit cashlimit rateofinterest paymentfrequency  \\\n",
       "0    01-Jul-14                                                         \n",
       "1    01-Nov-12       14000      1400                               3   \n",
       "2    01-Oct-12                                                         \n",
       "3    01-Feb-06                                                         \n",
       "4    01-Jan-15                                                         \n",
       "\n",
       "  actualpaymentamount  \n",
       "0                      \n",
       "1                5603  \n",
       "2                      \n",
       "3                      \n",
       "4                      \n",
       "\n",
       "[5 rows x 21 columns]"
      ]
     },
     "execution_count": 8,
     "metadata": {},
     "output_type": "execute_result"
    }
   ],
   "source": [
    "## querying the table\n",
    "query = 'select * from Cust_Account'\n",
    "df = pd.read_sql(query,connection)\n",
    "print(df.shape)\n",
    "df.head()\n"
   ]
  },
  {
   "cell_type": "code",
   "execution_count": 9,
   "metadata": {},
   "outputs": [],
   "source": [
    "df.to_csv('Cust_Account')"
   ]
  },
  {
   "cell_type": "code",
   "execution_count": 10,
   "metadata": {},
   "outputs": [
    {
     "name": "stdout",
     "output_type": "stream",
     "text": [
      "(23896, 83)\n"
     ]
    }
   ],
   "source": [
    "## querying table \n",
    "query = 'select * from Cust_Demographics'\n",
    "df = pd.read_sql(query,connection)\n",
    "print(df.shape)\n",
    "df.head()\n",
    "df.to_csv('Cust_Demographics')"
   ]
  },
  {
   "cell_type": "code",
   "execution_count": 11,
   "metadata": {},
   "outputs": [
    {
     "name": "stdout",
     "output_type": "stream",
     "text": [
      "(413188, 6)\n"
     ]
    }
   ],
   "source": [
    "## querying table\n",
    "query = 'select * from Cust_Enquiry'\n",
    "df = pd.read_sql(query,connection)\n",
    "print(df.shape)\n",
    "df.head()\n",
    "df.to_csv('Cust_Enquiry')"
   ]
  }
 ],
 "metadata": {
  "kernelspec": {
   "display_name": "Python 3",
   "language": "python",
   "name": "python3"
  },
  "language_info": {
   "codemirror_mode": {
    "name": "ipython",
    "version": 3
   },
   "file_extension": ".py",
   "mimetype": "text/x-python",
   "name": "python",
   "nbconvert_exporter": "python",
   "pygments_lexer": "ipython3",
   "version": "3.7.6"
  }
 },
 "nbformat": 4,
 "nbformat_minor": 2
}
