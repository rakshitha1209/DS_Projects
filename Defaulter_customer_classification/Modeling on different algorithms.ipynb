{
 "cells": [
  {
   "cell_type": "code",
   "execution_count": 1,
   "metadata": {},
   "outputs": [],
   "source": [
    "## importing necessary packages\n",
    "import pandas as pd\n",
    "import numpy as np\n",
    "import matplotlib.pyplot as plt"
   ]
  },
  {
   "cell_type": "code",
   "execution_count": 3,
   "metadata": {},
   "outputs": [],
   "source": [
    "## importing the cleaned data\n",
    "df=pd.read_csv('final_df.csv',low_memory=False)"
   ]
  },
  {
   "cell_type": "code",
   "execution_count": 3,
   "metadata": {},
   "outputs": [
    {
     "data": {
      "text/html": [
       "<div>\n",
       "<style scoped>\n",
       "    .dataframe tbody tr th:only-of-type {\n",
       "        vertical-align: middle;\n",
       "    }\n",
       "\n",
       "    .dataframe tbody tr th {\n",
       "        vertical-align: top;\n",
       "    }\n",
       "\n",
       "    .dataframe thead th {\n",
       "        text-align: right;\n",
       "    }\n",
       "</style>\n",
       "<table border=\"1\" class=\"dataframe\">\n",
       "  <thead>\n",
       "    <tr style=\"text-align: right;\">\n",
       "      <th></th>\n",
       "      <th>Unnamed: 0</th>\n",
       "      <th>customer_no</th>\n",
       "      <th>feature_1</th>\n",
       "      <th>feature_3</th>\n",
       "      <th>feature_4</th>\n",
       "      <th>feature_11</th>\n",
       "      <th>feature_50</th>\n",
       "      <th>feature_55</th>\n",
       "      <th>feature_59</th>\n",
       "      <th>feature_62</th>\n",
       "      <th>feature_68</th>\n",
       "      <th>feature_78</th>\n",
       "      <th>Bad_label</th>\n",
       "      <th>Unnamed: 0.1</th>\n",
       "      <th>owner_indic</th>\n",
       "      <th>no_of_accts</th>\n",
       "      <th>acct_type</th>\n",
       "      <th>utilization</th>\n",
       "      <th>utilization_count</th>\n",
       "      <th>cur_balance_amt</th>\n",
       "      <th>enquiry_count</th>\n",
       "    </tr>\n",
       "  </thead>\n",
       "  <tbody>\n",
       "    <tr>\n",
       "      <th>0</th>\n",
       "      <td>0</td>\n",
       "      <td>1</td>\n",
       "      <td>1</td>\n",
       "      <td>650.0</td>\n",
       "      <td>2.0</td>\n",
       "      <td>1</td>\n",
       "      <td>1</td>\n",
       "      <td>1.0</td>\n",
       "      <td>1</td>\n",
       "      <td>1</td>\n",
       "      <td>2.0</td>\n",
       "      <td>1.0</td>\n",
       "      <td>0</td>\n",
       "      <td>0</td>\n",
       "      <td>1</td>\n",
       "      <td>17</td>\n",
       "      <td>2</td>\n",
       "      <td>2</td>\n",
       "      <td>3</td>\n",
       "      <td>325490</td>\n",
       "      <td>1</td>\n",
       "    </tr>\n",
       "    <tr>\n",
       "      <th>1</th>\n",
       "      <td>1</td>\n",
       "      <td>1</td>\n",
       "      <td>1</td>\n",
       "      <td>650.0</td>\n",
       "      <td>2.0</td>\n",
       "      <td>1</td>\n",
       "      <td>1</td>\n",
       "      <td>1.0</td>\n",
       "      <td>1</td>\n",
       "      <td>1</td>\n",
       "      <td>2.0</td>\n",
       "      <td>1.0</td>\n",
       "      <td>0</td>\n",
       "      <td>1</td>\n",
       "      <td>4</td>\n",
       "      <td>1</td>\n",
       "      <td>2</td>\n",
       "      <td>2</td>\n",
       "      <td>1</td>\n",
       "      <td>1754678</td>\n",
       "      <td>1</td>\n",
       "    </tr>\n",
       "    <tr>\n",
       "      <th>2</th>\n",
       "      <td>2</td>\n",
       "      <td>1</td>\n",
       "      <td>1</td>\n",
       "      <td>650.0</td>\n",
       "      <td>2.0</td>\n",
       "      <td>1</td>\n",
       "      <td>1</td>\n",
       "      <td>1.0</td>\n",
       "      <td>1</td>\n",
       "      <td>1</td>\n",
       "      <td>2.0</td>\n",
       "      <td>1.0</td>\n",
       "      <td>0</td>\n",
       "      <td>2</td>\n",
       "      <td>1</td>\n",
       "      <td>17</td>\n",
       "      <td>5</td>\n",
       "      <td>2</td>\n",
       "      <td>1</td>\n",
       "      <td>0</td>\n",
       "      <td>1</td>\n",
       "    </tr>\n",
       "    <tr>\n",
       "      <th>3</th>\n",
       "      <td>3</td>\n",
       "      <td>1</td>\n",
       "      <td>1</td>\n",
       "      <td>650.0</td>\n",
       "      <td>2.0</td>\n",
       "      <td>1</td>\n",
       "      <td>1</td>\n",
       "      <td>1.0</td>\n",
       "      <td>1</td>\n",
       "      <td>1</td>\n",
       "      <td>2.0</td>\n",
       "      <td>1.0</td>\n",
       "      <td>0</td>\n",
       "      <td>3</td>\n",
       "      <td>1</td>\n",
       "      <td>17</td>\n",
       "      <td>5</td>\n",
       "      <td>0</td>\n",
       "      <td>2</td>\n",
       "      <td>0</td>\n",
       "      <td>1</td>\n",
       "    </tr>\n",
       "    <tr>\n",
       "      <th>4</th>\n",
       "      <td>4</td>\n",
       "      <td>1</td>\n",
       "      <td>1</td>\n",
       "      <td>650.0</td>\n",
       "      <td>2.0</td>\n",
       "      <td>1</td>\n",
       "      <td>1</td>\n",
       "      <td>1.0</td>\n",
       "      <td>1</td>\n",
       "      <td>1</td>\n",
       "      <td>2.0</td>\n",
       "      <td>1.0</td>\n",
       "      <td>0</td>\n",
       "      <td>4</td>\n",
       "      <td>1</td>\n",
       "      <td>17</td>\n",
       "      <td>10</td>\n",
       "      <td>2</td>\n",
       "      <td>6</td>\n",
       "      <td>2634689</td>\n",
       "      <td>14</td>\n",
       "    </tr>\n",
       "  </tbody>\n",
       "</table>\n",
       "</div>"
      ],
      "text/plain": [
       "   Unnamed: 0  customer_no  feature_1  feature_3  feature_4  feature_11  \\\n",
       "0           0            1          1      650.0        2.0           1   \n",
       "1           1            1          1      650.0        2.0           1   \n",
       "2           2            1          1      650.0        2.0           1   \n",
       "3           3            1          1      650.0        2.0           1   \n",
       "4           4            1          1      650.0        2.0           1   \n",
       "\n",
       "   feature_50  feature_55  feature_59  feature_62  feature_68  feature_78  \\\n",
       "0           1         1.0           1           1         2.0         1.0   \n",
       "1           1         1.0           1           1         2.0         1.0   \n",
       "2           1         1.0           1           1         2.0         1.0   \n",
       "3           1         1.0           1           1         2.0         1.0   \n",
       "4           1         1.0           1           1         2.0         1.0   \n",
       "\n",
       "   Bad_label  Unnamed: 0.1  owner_indic  no_of_accts  acct_type  utilization  \\\n",
       "0          0             0            1           17          2            2   \n",
       "1          0             1            4            1          2            2   \n",
       "2          0             2            1           17          5            2   \n",
       "3          0             3            1           17          5            0   \n",
       "4          0             4            1           17         10            2   \n",
       "\n",
       "   utilization_count  cur_balance_amt  enquiry_count  \n",
       "0                  3           325490              1  \n",
       "1                  1          1754678              1  \n",
       "2                  1                0              1  \n",
       "3                  2                0              1  \n",
       "4                  6          2634689             14  "
      ]
     },
     "execution_count": 3,
     "metadata": {},
     "output_type": "execute_result"
    }
   ],
   "source": [
    "pd.set_option('display.max_columns',None)\n",
    "df.head()"
   ]
  },
  {
   "cell_type": "code",
   "execution_count": 4,
   "metadata": {},
   "outputs": [],
   "source": [
    "df=df[['customer_no', 'feature_1', 'feature_3', 'feature_4',\n",
    "       'feature_11', 'feature_50', 'feature_55', 'feature_59', 'feature_62',\n",
    "       'feature_68', 'feature_78', 'owner_indic',\n",
    "       'no_of_accts', 'acct_type', 'utilization',\n",
    "       'cur_balance_amt', 'enquiry_count', 'Bad_label']]"
   ]
  },
  {
   "cell_type": "markdown",
   "metadata": {},
   "source": [
    "## Checking class balance"
   ]
  },
  {
   "cell_type": "code",
   "execution_count": 25,
   "metadata": {
    "scrolled": true
   },
   "outputs": [
    {
     "data": {
      "text/plain": [
       "0    69962\n",
       "1     2969\n",
       "Name: Bad_label, dtype: int64"
      ]
     },
     "execution_count": 25,
     "metadata": {},
     "output_type": "execute_result"
    }
   ],
   "source": [
    "df.Bad_label.value_counts()"
   ]
  },
  {
   "cell_type": "code",
   "execution_count": 28,
   "metadata": {},
   "outputs": [
    {
     "data": {
      "text/plain": [
       "41185    0\n",
       "14623    0\n",
       "34341    0\n",
       "50574    0\n",
       "9956     0\n",
       "        ..\n",
       "69105    0\n",
       "21482    0\n",
       "19168    0\n",
       "69845    0\n",
       "35318    0\n",
       "Name: Bad_label, Length: 54698, dtype: int64"
      ]
     },
     "execution_count": 28,
     "metadata": {},
     "output_type": "execute_result"
    }
   ],
   "source": [
    "y_train"
   ]
  },
  {
   "cell_type": "code",
   "execution_count": 9,
   "metadata": {},
   "outputs": [
    {
     "name": "stdout",
     "output_type": "stream",
     "text": [
      "Before OverSampling, counts of label '1': 2258\n",
      "Before OverSampling, counts of label '0': 52440 \n",
      "\n",
      "After OverSampling, the shape of train_X: (104880, 16)\n",
      "After OverSampling, the shape of train_y: (104880,) \n",
      "\n",
      "After OverSampling, counts of label '1': 52440\n",
      "After OverSampling, counts of label '0': 52440\n"
     ]
    }
   ],
   "source": [
    "from imblearn.over_sampling import SMOTE \n",
    "from sklearn.model_selection import train_test_split\n",
    "\n",
    "print(\"Before OverSampling, counts of label '1': {}\".format(sum(y_train == 1))) \n",
    "print(\"Before OverSampling, counts of label '0': {} \\n\".format(sum(y_train == 0)))\n",
    "sm = SMOTE(random_state = 2) \n",
    "X_res, y_res = sm.fit_sample(X_train,y_train) \n",
    "  \n",
    "print('After OverSampling, the shape of train_X: {}'.format(X_res.shape)) \n",
    "print('After OverSampling, the shape of train_y: {} \\n'.format(y_res.shape)) \n",
    "  \n",
    "print(\"After OverSampling, counts of label '1': {}\".format(sum(y_res == 1))) \n",
    "print(\"After OverSampling, counts of label '0': {}\".format(sum(y_res == 0))) "
   ]
  },
  {
   "cell_type": "code",
   "execution_count": 5,
   "metadata": {},
   "outputs": [],
   "source": [
    "from sklearn.model_selection import train_test_split\n",
    "X=df.iloc[:,1:17]\n",
    "y=df.Bad_label"
   ]
  },
  {
   "cell_type": "code",
   "execution_count": 8,
   "metadata": {},
   "outputs": [],
   "source": [
    "\n",
    "X_train,X_test,y_train,y_test=train_test_split(X,y,test_size=.25)"
   ]
  },
  {
   "cell_type": "code",
   "execution_count": null,
   "metadata": {},
   "outputs": [],
   "source": []
  },
  {
   "cell_type": "markdown",
   "metadata": {},
   "source": [
    "## Logistic regression"
   ]
  },
  {
   "cell_type": "code",
   "execution_count": 32,
   "metadata": {},
   "outputs": [],
   "source": [
    "from sklearn.linear_model import LogisticRegression\n",
    "LR=LogisticRegression()\n",
    "model=LR.fit(X_res,y_res)"
   ]
  },
  {
   "cell_type": "code",
   "execution_count": 33,
   "metadata": {},
   "outputs": [],
   "source": [
    "y_pred=model.predict(X_test)"
   ]
  },
  {
   "cell_type": "code",
   "execution_count": 10,
   "metadata": {},
   "outputs": [],
   "source": [
    "from sklearn.metrics import roc_auc_score"
   ]
  },
  {
   "cell_type": "code",
   "execution_count": 34,
   "metadata": {},
   "outputs": [],
   "source": [
    "score=roc_auc_score(y_test,y_pred)"
   ]
  },
  {
   "cell_type": "code",
   "execution_count": 35,
   "metadata": {},
   "outputs": [
    {
     "data": {
      "text/plain": [
       "0.47841797935281427"
      ]
     },
     "execution_count": 35,
     "metadata": {},
     "output_type": "execute_result"
    }
   ],
   "source": [
    "score"
   ]
  },
  {
   "cell_type": "markdown",
   "metadata": {},
   "source": [
    "## Decision Tree"
   ]
  },
  {
   "cell_type": "code",
   "execution_count": 13,
   "metadata": {},
   "outputs": [],
   "source": [
    "from sklearn.tree import DecisionTreeClassifier"
   ]
  },
  {
   "cell_type": "code",
   "execution_count": 36,
   "metadata": {},
   "outputs": [],
   "source": [
    "DT=DecisionTreeClassifier()\n",
    "model=DT.fit(X_res,y_res)"
   ]
  },
  {
   "cell_type": "code",
   "execution_count": 37,
   "metadata": {},
   "outputs": [],
   "source": [
    "y_pr=model.predict(X_test)"
   ]
  },
  {
   "cell_type": "code",
   "execution_count": 38,
   "metadata": {},
   "outputs": [
    {
     "data": {
      "text/plain": [
       "0.5553641853445046"
      ]
     },
     "execution_count": 38,
     "metadata": {},
     "output_type": "execute_result"
    }
   ],
   "source": [
    "score=roc_auc_score(y_test,y_pr)\n",
    "score"
   ]
  },
  {
   "cell_type": "markdown",
   "metadata": {},
   "source": [
    "## Random Forest"
   ]
  },
  {
   "cell_type": "code",
   "execution_count": 17,
   "metadata": {},
   "outputs": [],
   "source": [
    "from sklearn.ensemble import RandomForestClassifier\n",
    "RF=RandomForestClassifier()\n",
    "model=RF.fit(X_train,y_train)\n",
    "y_pre=model.predict(X_test)"
   ]
  },
  {
   "cell_type": "code",
   "execution_count": 18,
   "metadata": {},
   "outputs": [
    {
     "data": {
      "text/plain": [
       "0.5481283422459893"
      ]
     },
     "execution_count": 18,
     "metadata": {},
     "output_type": "execute_result"
    }
   ],
   "source": [
    "score=roc_auc_score(y_test,y_pre)\n",
    "score"
   ]
  },
  {
   "cell_type": "markdown",
   "metadata": {},
   "source": [
    "## AdaBoosting Classification"
   ]
  },
  {
   "cell_type": "code",
   "execution_count": 23,
   "metadata": {},
   "outputs": [],
   "source": [
    "from sklearn.ensemble import AdaBoostClassifier\n",
    "ab=AdaBoostClassifier(n_estimators=50,learning_rate=0.1)\n",
    "model=ab.fit(X_train,y_train)"
   ]
  },
  {
   "cell_type": "markdown",
   "metadata": {},
   "source": [
    "y_pre=model.predict(X_test)\n",
    "score=roc_auc_score(y_test,y_pre)\n",
    "score"
   ]
  },
  {
   "cell_type": "markdown",
   "metadata": {},
   "source": [
    "## ANN Model"
   ]
  },
  {
   "cell_type": "code",
   "execution_count": 10,
   "metadata": {},
   "outputs": [],
   "source": [
    "import keras\n",
    "from keras.models import Sequential\n",
    "from keras.layers import Dense,LeakyReLU,PReLU,ELU,Dropout"
   ]
  },
  {
   "cell_type": "code",
   "execution_count": 12,
   "metadata": {},
   "outputs": [
    {
     "data": {
      "text/html": [
       "<div>\n",
       "<style scoped>\n",
       "    .dataframe tbody tr th:only-of-type {\n",
       "        vertical-align: middle;\n",
       "    }\n",
       "\n",
       "    .dataframe tbody tr th {\n",
       "        vertical-align: top;\n",
       "    }\n",
       "\n",
       "    .dataframe thead th {\n",
       "        text-align: right;\n",
       "    }\n",
       "</style>\n",
       "<table border=\"1\" class=\"dataframe\">\n",
       "  <thead>\n",
       "    <tr style=\"text-align: right;\">\n",
       "      <th></th>\n",
       "      <th>feature_1</th>\n",
       "      <th>feature_3</th>\n",
       "      <th>feature_4</th>\n",
       "      <th>feature_11</th>\n",
       "      <th>feature_50</th>\n",
       "      <th>feature_55</th>\n",
       "      <th>feature_59</th>\n",
       "      <th>feature_62</th>\n",
       "      <th>feature_68</th>\n",
       "      <th>feature_78</th>\n",
       "      <th>owner_indic</th>\n",
       "      <th>no_of_accts</th>\n",
       "      <th>acct_type</th>\n",
       "      <th>utilization</th>\n",
       "      <th>cur_balance_amt</th>\n",
       "      <th>enquiry_count</th>\n",
       "    </tr>\n",
       "  </thead>\n",
       "  <tbody>\n",
       "    <tr>\n",
       "      <th>0</th>\n",
       "      <td>3</td>\n",
       "      <td>786.0</td>\n",
       "      <td>1.0</td>\n",
       "      <td>1</td>\n",
       "      <td>0</td>\n",
       "      <td>1.0</td>\n",
       "      <td>1</td>\n",
       "      <td>1</td>\n",
       "      <td>1.0</td>\n",
       "      <td>1.0</td>\n",
       "      <td>1</td>\n",
       "      <td>22</td>\n",
       "      <td>2</td>\n",
       "      <td>2</td>\n",
       "      <td>2226154</td>\n",
       "      <td>12</td>\n",
       "    </tr>\n",
       "    <tr>\n",
       "      <th>1</th>\n",
       "      <td>3</td>\n",
       "      <td>760.0</td>\n",
       "      <td>3.0</td>\n",
       "      <td>1</td>\n",
       "      <td>0</td>\n",
       "      <td>1.0</td>\n",
       "      <td>1</td>\n",
       "      <td>1</td>\n",
       "      <td>1.0</td>\n",
       "      <td>1.0</td>\n",
       "      <td>1</td>\n",
       "      <td>8</td>\n",
       "      <td>1</td>\n",
       "      <td>2</td>\n",
       "      <td>272943</td>\n",
       "      <td>3</td>\n",
       "    </tr>\n",
       "    <tr>\n",
       "      <th>2</th>\n",
       "      <td>6</td>\n",
       "      <td>708.0</td>\n",
       "      <td>3.0</td>\n",
       "      <td>1</td>\n",
       "      <td>1</td>\n",
       "      <td>1.0</td>\n",
       "      <td>1</td>\n",
       "      <td>1</td>\n",
       "      <td>2.0</td>\n",
       "      <td>1.0</td>\n",
       "      <td>1</td>\n",
       "      <td>15</td>\n",
       "      <td>10</td>\n",
       "      <td>2</td>\n",
       "      <td>12144</td>\n",
       "      <td>25</td>\n",
       "    </tr>\n",
       "    <tr>\n",
       "      <th>3</th>\n",
       "      <td>4</td>\n",
       "      <td>754.0</td>\n",
       "      <td>1.0</td>\n",
       "      <td>1</td>\n",
       "      <td>0</td>\n",
       "      <td>1.0</td>\n",
       "      <td>1</td>\n",
       "      <td>1</td>\n",
       "      <td>1.0</td>\n",
       "      <td>1.0</td>\n",
       "      <td>1</td>\n",
       "      <td>4</td>\n",
       "      <td>2</td>\n",
       "      <td>2</td>\n",
       "      <td>781149</td>\n",
       "      <td>1</td>\n",
       "    </tr>\n",
       "    <tr>\n",
       "      <th>4</th>\n",
       "      <td>4</td>\n",
       "      <td>745.0</td>\n",
       "      <td>3.0</td>\n",
       "      <td>1</td>\n",
       "      <td>0</td>\n",
       "      <td>1.0</td>\n",
       "      <td>1</td>\n",
       "      <td>1</td>\n",
       "      <td>1.0</td>\n",
       "      <td>1.0</td>\n",
       "      <td>1</td>\n",
       "      <td>15</td>\n",
       "      <td>10</td>\n",
       "      <td>0</td>\n",
       "      <td>196599</td>\n",
       "      <td>17</td>\n",
       "    </tr>\n",
       "  </tbody>\n",
       "</table>\n",
       "</div>"
      ],
      "text/plain": [
       "   feature_1  feature_3  feature_4  feature_11  feature_50  feature_55  \\\n",
       "0          3      786.0        1.0           1           0         1.0   \n",
       "1          3      760.0        3.0           1           0         1.0   \n",
       "2          6      708.0        3.0           1           1         1.0   \n",
       "3          4      754.0        1.0           1           0         1.0   \n",
       "4          4      745.0        3.0           1           0         1.0   \n",
       "\n",
       "   feature_59  feature_62  feature_68  feature_78  owner_indic  no_of_accts  \\\n",
       "0           1           1         1.0         1.0            1           22   \n",
       "1           1           1         1.0         1.0            1            8   \n",
       "2           1           1         2.0         1.0            1           15   \n",
       "3           1           1         1.0         1.0            1            4   \n",
       "4           1           1         1.0         1.0            1           15   \n",
       "\n",
       "   acct_type  utilization  cur_balance_amt  enquiry_count  \n",
       "0          2            2          2226154             12  \n",
       "1          1            2           272943              3  \n",
       "2         10            2            12144             25  \n",
       "3          2            2           781149              1  \n",
       "4         10            0           196599             17  "
      ]
     },
     "execution_count": 12,
     "metadata": {},
     "output_type": "execute_result"
    }
   ],
   "source": [
    "X_res.head()"
   ]
  },
  {
   "cell_type": "code",
   "execution_count": 14,
   "metadata": {},
   "outputs": [
    {
     "name": "stdout",
     "output_type": "stream",
     "text": [
      "WARNING:tensorflow:From C:\\Users\\Shubhangi sakarkar\\anaconda3\\lib\\site-packages\\tensorflow\\python\\ops\\math_ops.py:3066: to_int32 (from tensorflow.python.ops.math_ops) is deprecated and will be removed in a future version.\n",
      "Instructions for updating:\n",
      "Use tf.cast instead.\n",
      "Train on 70269 samples, validate on 34611 samples\n",
      "Epoch 1/50\n",
      "70269/70269 [==============================] - 15s 211us/step - loss: 4.0913 - accuracy: 0.7457 - val_loss: 16.0807 - val_accuracy: 8.9567e-04\n",
      "Epoch 2/50\n",
      "70269/70269 [==============================] - 14s 204us/step - loss: 4.0838 - accuracy: 0.7458 - val_loss: 16.0921 - val_accuracy: 0.0000e+00\n",
      "Epoch 3/50\n",
      "70269/70269 [==============================] - 14s 202us/step - loss: 4.0814 - accuracy: 0.7459 - val_loss: 16.0732 - val_accuracy: 4.3339e-04\n",
      "Epoch 4/50\n",
      "70269/70269 [==============================] - 15s 210us/step - loss: 4.0786 - accuracy: 0.7459 - val_loss: 16.0426 - val_accuracy: 0.0013\n",
      "Epoch 5/50\n",
      "70269/70269 [==============================] - 15s 211us/step - loss: 4.0763 - accuracy: 0.7459 - val_loss: 16.0380 - val_accuracy: 0.0010\n",
      "Epoch 6/50\n",
      "70269/70269 [==============================] - 15s 207us/step - loss: 4.0755 - accuracy: 0.7459 - val_loss: 16.0466 - val_accuracy: 0.0000e+00\n",
      "Epoch 7/50\n",
      "70269/70269 [==============================] - 14s 202us/step - loss: 4.0749 - accuracy: 0.7459 - val_loss: 16.0261 - val_accuracy: 0.0055\n",
      "Epoch 8/50\n",
      "70269/70269 [==============================] - 15s 209us/step - loss: 4.0742 - accuracy: 0.7460 - val_loss: 16.0415 - val_accuracy: 6.0674e-04\n",
      "Epoch 9/50\n",
      "70269/70269 [==============================] - 14s 201us/step - loss: 4.0738 - accuracy: 0.7459 - val_loss: 16.0284 - val_accuracy: 0.0036\n",
      "Epoch 10/50\n",
      "70269/70269 [==============================] - 14s 203us/step - loss: 4.0743 - accuracy: 0.7458 - val_loss: 16.0293 - val_accuracy: 0.0023\n",
      "Epoch 11/50\n",
      "70269/70269 [==============================] - 14s 205us/step - loss: 4.0737 - accuracy: 0.7459 - val_loss: 16.0425 - val_accuracy: 0.0000e+00\n",
      "Epoch 12/50\n",
      "70269/70269 [==============================] - 15s 214us/step - loss: 4.0742 - accuracy: 0.7457 - val_loss: 16.0248 - val_accuracy: 0.0057\n",
      "Epoch 13/50\n",
      "70269/70269 [==============================] - 14s 205us/step - loss: 4.0735 - accuracy: 0.7458 - val_loss: 16.0348 - val_accuracy: 0.0011\n",
      "Epoch 14/50\n",
      "70269/70269 [==============================] - 14s 205us/step - loss: 4.0734 - accuracy: 0.7458 - val_loss: 16.0249 - val_accuracy: 0.0057\n",
      "Epoch 15/50\n",
      "70269/70269 [==============================] - 15s 211us/step - loss: 4.0738 - accuracy: 0.7458 - val_loss: 16.0460 - val_accuracy: 0.0000e+00\n",
      "Epoch 16/50\n",
      "70269/70269 [==============================] - 14s 204us/step - loss: 4.0736 - accuracy: 0.7457 - val_loss: 16.0432 - val_accuracy: 0.0000e+00\n",
      "Epoch 17/50\n",
      "70269/70269 [==============================] - 14s 205us/step - loss: 4.0729 - accuracy: 0.7460 - val_loss: 16.0401 - val_accuracy: 0.0000e+00\n",
      "Epoch 18/50\n",
      "70269/70269 [==============================] - 14s 206us/step - loss: 4.0730 - accuracy: 0.7459 - val_loss: 16.0257 - val_accuracy: 0.0053\n",
      "Epoch 19/50\n",
      "70269/70269 [==============================] - 15s 208us/step - loss: 4.0732 - accuracy: 0.7459 - val_loss: 16.0402 - val_accuracy: 0.0000e+00\n",
      "Epoch 20/50\n",
      "70269/70269 [==============================] - 15s 219us/step - loss: 4.0739 - accuracy: 0.7457 - val_loss: 16.0394 - val_accuracy: 0.0000e+00\n",
      "Epoch 21/50\n",
      "70269/70269 [==============================] - 14s 203us/step - loss: 4.0729 - accuracy: 0.7459 - val_loss: 16.0424 - val_accuracy: 0.0000e+00\n",
      "Epoch 22/50\n",
      "70269/70269 [==============================] - 14s 204us/step - loss: 4.0730 - accuracy: 0.7459 - val_loss: 16.0300 - val_accuracy: 0.0016\n",
      "Epoch 23/50\n",
      "70269/70269 [==============================] - 14s 204us/step - loss: 4.0733 - accuracy: 0.7459 - val_loss: 16.0309 - val_accuracy: 8.3788e-04\n",
      "Epoch 24/50\n",
      "70269/70269 [==============================] - 15s 211us/step - loss: 4.0734 - accuracy: 0.7459 - val_loss: 16.0288 - val_accuracy: 0.0025\n",
      "Epoch 25/50\n",
      "70269/70269 [==============================] - 14s 206us/step - loss: 4.0730 - accuracy: 0.7458 - val_loss: 16.0296 - val_accuracy: 0.0012\n",
      "Epoch 26/50\n",
      "70269/70269 [==============================] - 14s 205us/step - loss: 4.0728 - accuracy: 0.7458 - val_loss: 16.0294 - val_accuracy: 0.0014\n",
      "Epoch 27/50\n",
      "70269/70269 [==============================] - 15s 211us/step - loss: 4.0734 - accuracy: 0.7459 - val_loss: 16.0282 - val_accuracy: 0.0022\n",
      "Epoch 28/50\n",
      "70269/70269 [==============================] - 15s 208us/step - loss: 4.0731 - accuracy: 0.7459 - val_loss: 16.0362 - val_accuracy: 5.7785e-05\n",
      "Epoch 29/50\n",
      "70269/70269 [==============================] - 15s 209us/step - loss: 4.0732 - accuracy: 0.7458 - val_loss: 16.0450 - val_accuracy: 0.0000e+00\n",
      "Epoch 30/50\n",
      "70269/70269 [==============================] - 15s 207us/step - loss: 4.0728 - accuracy: 0.7460 - val_loss: 16.0324 - val_accuracy: 2.8893e-05\n",
      "Epoch 31/50\n",
      "70269/70269 [==============================] - 14s 205us/step - loss: 4.0731 - accuracy: 0.7459 - val_loss: 16.0341 - val_accuracy: 0.0011\n",
      "Epoch 32/50\n",
      "70269/70269 [==============================] - 15s 207us/step - loss: 4.0727 - accuracy: 0.7460 - val_loss: 16.0338 - val_accuracy: 0.0011\n",
      "Epoch 33/50\n",
      "70269/70269 [==============================] - 15s 213us/step - loss: 4.0729 - accuracy: 0.7459 - val_loss: 16.0252 - val_accuracy: 0.0057\n",
      "Epoch 34/50\n",
      "70269/70269 [==============================] - 14s 196us/step - loss: 4.0731 - accuracy: 0.7460 - val_loss: 16.0314 - val_accuracy: 0.0012\n",
      "Epoch 35/50\n",
      "70269/70269 [==============================] - 14s 197us/step - loss: 4.0724 - accuracy: 0.7461 - val_loss: 16.0239 - val_accuracy: 0.0058\n",
      "Epoch 36/50\n",
      "70269/70269 [==============================] - 14s 196us/step - loss: 4.0727 - accuracy: 0.7459 - val_loss: 16.0646 - val_accuracy: 0.0000e+00\n",
      "Epoch 37/50\n",
      "70269/70269 [==============================] - 14s 203us/step - loss: 4.0730 - accuracy: 0.7458 - val_loss: 16.0259 - val_accuracy: 0.0044\n",
      "Epoch 38/50\n",
      "70269/70269 [==============================] - 16s 223us/step - loss: 4.0728 - accuracy: 0.7458 - val_loss: 16.0248 - val_accuracy: 0.0058\n",
      "Epoch 39/50\n",
      "70269/70269 [==============================] - 17s 242us/step - loss: 4.0728 - accuracy: 0.7460 - val_loss: 16.0492 - val_accuracy: 0.0000e+00\n",
      "Epoch 40/50\n",
      "70269/70269 [==============================] - 19s 263us/step - loss: 4.0728 - accuracy: 0.7460 - val_loss: 16.0452 - val_accuracy: 0.0000e+00\n",
      "Epoch 41/50\n",
      "70269/70269 [==============================] - 20s 279us/step - loss: 4.0727 - accuracy: 0.7459 - val_loss: 16.0414 - val_accuracy: 2.6003e-04\n",
      "Epoch 42/50\n",
      "70269/70269 [==============================] - 19s 265us/step - loss: 4.0725 - accuracy: 0.7459 - val_loss: 16.0460 - val_accuracy: 2.0225e-04\n",
      "Epoch 43/50\n",
      "70269/70269 [==============================] - 14s 205us/step - loss: 4.0722 - accuracy: 0.7460 - val_loss: 16.0432 - val_accuracy: 8.6678e-05\n",
      "Epoch 44/50\n",
      "70269/70269 [==============================] - 17s 240us/step - loss: 4.0725 - accuracy: 0.7460 - val_loss: 16.0278 - val_accuracy: 0.0034\n",
      "Epoch 45/50\n",
      "70269/70269 [==============================] - 16s 228us/step - loss: 4.0725 - accuracy: 0.7459 - val_loss: 16.0470 - val_accuracy: 2.3114e-04\n",
      "Epoch 46/50\n",
      "70269/70269 [==============================] - 16s 228us/step - loss: 4.0728 - accuracy: 0.7460 - val_loss: 16.0240 - val_accuracy: 0.0058\n",
      "Epoch 47/50\n",
      "70269/70269 [==============================] - 17s 241us/step - loss: 4.0727 - accuracy: 0.7459 - val_loss: 16.0304 - val_accuracy: 0.0016\n",
      "Epoch 48/50\n",
      "70269/70269 [==============================] - 18s 260us/step - loss: 4.0727 - accuracy: 0.7460 - val_loss: 16.0258 - val_accuracy: 0.0052\n",
      "Epoch 49/50\n",
      "70269/70269 [==============================] - 17s 235us/step - loss: 4.0727 - accuracy: 0.7459 - val_loss: 16.0302 - val_accuracy: 0.0017\n",
      "Epoch 50/50\n",
      "70269/70269 [==============================] - 16s 229us/step - loss: 4.0725 - accuracy: 0.7459 - val_loss: 16.0235 - val_accuracy: 0.0058\n"
     ]
    }
   ],
   "source": [
    "##initilaizing ANN\"\n",
    "classifier=Sequential()\n",
    "\n",
    "##creating input and 1 hidden layer\"\n",
    "classifier.add(Dense(units=6, input_dim=16,kernel_initializer='he_uniform',activation='relu'))\n",
    "\n",
    "##adding second hidden layer\"\n",
    "classifier.add(Dense(units=6,kernel_initializer='he_uniform',activation='relu'))\n",
    "\n",
    "##adding output layer\"\n",
    "classifier.add(Dense(units=1,kernel_initializer='glorot_uniform',activation='sigmoid'))\n",
    "\n",
    "\n",
    "##compling ANN\"\n",
    "classifier.compile(optimizer='Adamax',loss='binary_crossentropy',metrics=['accuracy'])\n",
    "\n",
    "##fitting ANN to training set\"\n",
    "model_history=classifier.fit(X_res,y_res,batch_size=10,validation_split=0.33,epochs=50)"
   ]
  },
  {
   "cell_type": "code",
   "execution_count": 15,
   "metadata": {},
   "outputs": [
    {
     "data": {
      "image/png": "[encoded data removed]",
      "text/plain": [
       "<Figure size 432x288 with 1 Axes>"
      ]
     },
     "metadata": {
      "needs_background": "light"
     },
     "output_type": "display_data"
    }
   ],
   "source": [
    "# summarize history for loss\n",
    "plt.plot(model_history.history['loss'])\n",
    "plt.plot(model_history.history['val_loss'])\n",
    "plt.title('model loss')\n",
    "plt.ylabel('loss')\n",
    "plt.xlabel('epoch')\n",
    "plt.legend(['train', 'test'], loc='upper left')\n",
    "plt.show()"
   ]
  },
  {
   "cell_type": "code",
   "execution_count": 16,
   "metadata": {},
   "outputs": [
    {
     "data": {
      "text/plain": [
       "0.9571107332858004"
      ]
     },
     "execution_count": 16,
     "metadata": {},
     "output_type": "execute_result"
    }
   ],
   "source": [
    "#Making the predictions and evaluating the model\n",
    "\n",
    "# Predicting the Test set results\n",
    "y_pred = classifier.predict(X_test)\n",
    "y_pred = (y_pred > 0.5)\n",
    "\n",
    "# Making the Confusion Matrix\n",
    "from sklearn.metrics import confusion_matrix\n",
    "cm = confusion_matrix(y_test, y_pred)\n",
    "\n",
    "# Calculate the Accuracy\n",
    "from sklearn.metrics import accuracy_score\n",
    "score=accuracy_score(y_pred,y_test)\n",
    "score"
   ]
  },
  {
   "cell_type": "code",
   "execution_count": null,
   "metadata": {},
   "outputs": [],
   "source": []
  }
 ],
 "metadata": {
  "kernelspec": {
   "display_name": "Python 3",
   "language": "python",
   "name": "python3"
  },
  "language_info": {
   "codemirror_mode": {
    "name": "ipython",
    "version": 3
   },
   "file_extension": ".py",
   "mimetype": "text/x-python",
   "name": "python",
   "nbconvert_exporter": "python",
   "pygments_lexer": "ipython3",
   "version": "3.7.6"
  }
 },
 "nbformat": 4,
 "nbformat_minor": 4
}
