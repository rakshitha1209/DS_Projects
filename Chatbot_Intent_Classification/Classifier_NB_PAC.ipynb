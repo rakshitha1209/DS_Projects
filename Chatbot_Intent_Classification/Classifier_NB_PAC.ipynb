{
 "cells": [
  {
   "cell_type": "markdown",
   "metadata": {},
   "source": [
    "# Chatbot Intent Classification (Text Classification)\n",
    "\n",
    "### Liraries Used:\n",
    "\n",
    "* PorterStemmer\n",
    "* CountVectorizer\n",
    "* KFold : Cross Validation\n",
    "* NaiveBayes : MultinomialNB\n",
    "* PassiveAggressiveClassifier\n",
    "\n"
   ]
  },
  {
   "cell_type": "code",
   "execution_count": 130,
   "metadata": {},
   "outputs": [],
   "source": [
    "import pandas as pd\n",
    "import numpy as np"
   ]
  },
  {
   "cell_type": "code",
   "execution_count": 131,
   "metadata": {},
   "outputs": [
    {
     "data": {
      "text/html": [
       "<div>\n",
       "<style scoped>\n",
       "    .dataframe tbody tr th:only-of-type {\n",
       "        vertical-align: middle;\n",
       "    }\n",
       "\n",
       "    .dataframe tbody tr th {\n",
       "        vertical-align: top;\n",
       "    }\n",
       "\n",
       "    .dataframe thead th {\n",
       "        text-align: right;\n",
       "    }\n",
       "</style>\n",
       "<table border=\"1\" class=\"dataframe\">\n",
       "  <thead>\n",
       "    <tr style=\"text-align: right;\">\n",
       "      <th></th>\n",
       "      <th>text</th>\n",
       "      <th>intent</th>\n",
       "      <th>entity_name</th>\n",
       "      <th>entity_value</th>\n",
       "      <th>entity_start_index</th>\n",
       "      <th>entity_class</th>\n",
       "      <th>sentiment</th>\n",
       "      <th>refund_exists</th>\n",
       "    </tr>\n",
       "  </thead>\n",
       "  <tbody>\n",
       "    <tr>\n",
       "      <th>0</th>\n",
       "      <td>Hi I have a flight booked on I think American ...</td>\n",
       "      <td>AMENITIES</td>\n",
       "      <td>{product}|{airAmenity}</td>\n",
       "      <td>flight|car</td>\n",
       "      <td>12|137</td>\n",
       "      <td>FLIGHT|OTHER</td>\n",
       "      <td>neutral</td>\n",
       "      <td>NaN</td>\n",
       "    </tr>\n",
       "    <tr>\n",
       "      <th>1</th>\n",
       "      <td>I didn t even get to sit in my paid seats</td>\n",
       "      <td>AMENITIES</td>\n",
       "      <td>{airAmenity}|{airAmenity}</td>\n",
       "      <td>sit|seats</td>\n",
       "      <td>21|36</td>\n",
       "      <td>SEAT|SEAT</td>\n",
       "      <td>negative</td>\n",
       "      <td>NaN</td>\n",
       "    </tr>\n",
       "    <tr>\n",
       "      <th>2</th>\n",
       "      <td>Hi there I'm wondering if you could help me wi...</td>\n",
       "      <td>AMENITIES</td>\n",
       "      <td>NaN</td>\n",
       "      <td>NaN</td>\n",
       "      <td>NaN</td>\n",
       "      <td>NaN</td>\n",
       "      <td>neutral</td>\n",
       "      <td>NaN</td>\n",
       "    </tr>\n",
       "    <tr>\n",
       "      <th>3</th>\n",
       "      <td>Hi carrie how are you.. I just want to know fo...</td>\n",
       "      <td>AMENITIES</td>\n",
       "      <td>{airAmenity}</td>\n",
       "      <td>baggage</td>\n",
       "      <td>67</td>\n",
       "      <td>BAG</td>\n",
       "      <td>neutral</td>\n",
       "      <td>NaN</td>\n",
       "    </tr>\n",
       "    <tr>\n",
       "      <th>4</th>\n",
       "      <td>Hi, I booked airline tickets for NUM adults wi...</td>\n",
       "      <td>AMENITIES</td>\n",
       "      <td>{airAmenity}|{airAmenity}|{airAmenity}|{airAme...</td>\n",
       "      <td>airline|tickets|airline|baggage|airline|carry ...</td>\n",
       "      <td>13|21|13|184|13|219|232</td>\n",
       "      <td>OTHER|BOARDING_PASS|OTHER|BAG|OTHER|BAG|CHECK_IN</td>\n",
       "      <td>neutral</td>\n",
       "      <td>NaN</td>\n",
       "    </tr>\n",
       "  </tbody>\n",
       "</table>\n",
       "</div>"
      ],
      "text/plain": [
       "                                                text     intent  \\\n",
       "0  Hi I have a flight booked on I think American ...  AMENITIES   \n",
       "1          I didn t even get to sit in my paid seats  AMENITIES   \n",
       "2  Hi there I'm wondering if you could help me wi...  AMENITIES   \n",
       "3  Hi carrie how are you.. I just want to know fo...  AMENITIES   \n",
       "4  Hi, I booked airline tickets for NUM adults wi...  AMENITIES   \n",
       "\n",
       "                                         entity_name  \\\n",
       "0                             {product}|{airAmenity}   \n",
       "1                          {airAmenity}|{airAmenity}   \n",
       "2                                                NaN   \n",
       "3                                       {airAmenity}   \n",
       "4  {airAmenity}|{airAmenity}|{airAmenity}|{airAme...   \n",
       "\n",
       "                                        entity_value       entity_start_index  \\\n",
       "0                                         flight|car                   12|137   \n",
       "1                                          sit|seats                    21|36   \n",
       "2                                                NaN                      NaN   \n",
       "3                                            baggage                       67   \n",
       "4  airline|tickets|airline|baggage|airline|carry ...  13|21|13|184|13|219|232   \n",
       "\n",
       "                                       entity_class sentiment  refund_exists  \n",
       "0                                      FLIGHT|OTHER   neutral            NaN  \n",
       "1                                         SEAT|SEAT  negative            NaN  \n",
       "2                                               NaN   neutral            NaN  \n",
       "3                                               BAG   neutral            NaN  \n",
       "4  OTHER|BOARDING_PASS|OTHER|BAG|OTHER|BAG|CHECK_IN   neutral            NaN  "
      ]
     },
     "execution_count": 131,
     "metadata": {},
     "output_type": "execute_result"
    }
   ],
   "source": [
    "df = pd.read_csv(\"GCO-train-data.csv\")\n",
    "df.head()"
   ]
  },
  {
   "cell_type": "markdown",
   "metadata": {},
   "source": [
    "### Checking Null Values via Visualization"
   ]
  },
  {
   "cell_type": "code",
   "execution_count": 132,
   "metadata": {},
   "outputs": [
    {
     "data": {
      "text/plain": [
       "<matplotlib.axes._subplots.AxesSubplot at 0x2aaf7ee0e08>"
      ]
     },
     "execution_count": 132,
     "metadata": {},
     "output_type": "execute_result"
    },
    {
     "data": {
      "image/png": "[encoded data removed]",
      "text/plain": [
       "<Figure size 432x288 with 2 Axes>"
      ]
     },
     "metadata": {
      "needs_background": "light"
     },
     "output_type": "display_data"
    }
   ],
   "source": [
    "import seaborn as sns\n",
    "\n",
    "sns.heatmap(df.isnull() ,cmap='viridis' ,yticklabels=False )\n"
   ]
  },
  {
   "cell_type": "code",
   "execution_count": 133,
   "metadata": {},
   "outputs": [
    {
     "name": "stdout",
     "output_type": "stream",
     "text": [
      "(74178, 8)\n"
     ]
    },
    {
     "data": {
      "text/plain": [
       "text      0\n",
       "intent    0\n",
       "dtype: int64"
      ]
     },
     "execution_count": 133,
     "metadata": {},
     "output_type": "execute_result"
    }
   ],
   "source": [
    "print(df.shape)\n",
    "df.loc[: ,['text' ,'intent']].isnull().sum()"
   ]
  },
  {
   "cell_type": "markdown",
   "metadata": {},
   "source": [
    "### Visualize distribution of Intent Categories"
   ]
  },
  {
   "cell_type": "code",
   "execution_count": 134,
   "metadata": {},
   "outputs": [
    {
     "name": "stdout",
     "output_type": "stream",
     "text": [
      "AMENITIES                               16139\n",
      "BILLING_REWARDS                         15695\n",
      "CANCEL_RELATED_INTENT_IDENTIFICATION    14832\n",
      "CHANGE                                  12840\n",
      "BOOKING_CONFIRMATION                    12019\n",
      "UNKNOWN_SCENARIO                         1495\n",
      "SPEAK_TO_AGENT                            963\n",
      "ST_HELLO                                   54\n",
      "ACCEPT_UTILITY                             51\n",
      "DECLINE_UTILITY                            37\n",
      "ST_GOODBYE                                 30\n",
      "ST_ABOUTUS                                 23\n",
      "Name: intent, dtype: int64\n"
     ]
    }
   ],
   "source": [
    "print(df['intent'].value_counts())"
   ]
  },
  {
   "cell_type": "code",
   "execution_count": 135,
   "metadata": {},
   "outputs": [
    {
     "data": {
      "text/plain": [
       "<matplotlib.axes._subplots.AxesSubplot at 0x2aafc6bf9c8>"
      ]
     },
     "execution_count": 135,
     "metadata": {},
     "output_type": "execute_result"
    },
    {
     "data": {
      "image/png": "[encoded data removed]",
      "text/plain": [
       "<Figure size 432x288 with 1 Axes>"
      ]
     },
     "metadata": {
      "needs_background": "light"
     },
     "output_type": "display_data"
    }
   ],
   "source": [
    "df['intent'].value_counts().plot(kind ='bar')"
   ]
  },
  {
   "cell_type": "markdown",
   "metadata": {},
   "source": [
    "for i in list(range(len(df))):\n",
    "    if( df['intent'][i] == 'ST_HELLO' or  df['intent'][i] == 'ST_GOODBYE' or df['intent'][i] == 'ST_ABOUTUS' or\n",
    "        df['intent'][i] == 'ACCEPT_UTILITY' or df['intent'][i] == 'DECLINE_UTILITY' ):\n",
    "        df['intent'][i] = 'SPEAK_TO_AGENT'\n",
    "    \n",
    "    elif():\n",
    "        df['intent'][i] = 'UTILITY'\n",
    "df['intent'].value_counts().plot(kind ='bar')"
   ]
  },
  {
   "cell_type": "markdown",
   "metadata": {},
   "source": [
    "## Data Preprocessing"
   ]
  },
  {
   "cell_type": "code",
   "execution_count": 136,
   "metadata": {},
   "outputs": [],
   "source": [
    "import re\n",
    "from nltk.corpus import stopwords\n",
    "from nltk.stem.porter import PorterStemmer"
   ]
  },
  {
   "cell_type": "code",
   "execution_count": 137,
   "metadata": {},
   "outputs": [],
   "source": [
    "ps = PorterStemmer()\n",
    "corpus = []\n",
    "\n",
    "for i in range(0 ,len(df)):\n",
    "    text = re.sub( '[^a-zA-Z]' ,' ' ,df['text'][i])\n",
    "    text = text.lower()\n",
    "    text = text.split()\n",
    "    \n",
    "    text = [ ps.stem(w)  for w in text if not w in stopwords.words(\"english\") ]\n",
    "    text = ' '.join(text)\n",
    "    corpus.append(text)\n",
    "#print(corpus)"
   ]
  },
  {
   "cell_type": "markdown",
   "metadata": {},
   "source": [
    "## Appying CountVectorizer"
   ]
  },
  {
   "cell_type": "code",
   "execution_count": 138,
   "metadata": {},
   "outputs": [],
   "source": [
    "from sklearn.feature_extraction.text import CountVectorizer\n",
    "\n",
    "cv = CountVectorizer(max_features = 5000 , ngram_range=(1,3))\n",
    "\n",
    "X = cv.fit_transform(corpus).toarray()"
   ]
  },
  {
   "cell_type": "code",
   "execution_count": 139,
   "metadata": {},
   "outputs": [
    {
     "name": "stdout",
     "output_type": "stream",
     "text": [
      "(74178, 5000)\n",
      "(74178,)\n"
     ]
    }
   ],
   "source": [
    "y = df['intent']\n",
    "print(X.shape)\n",
    "print(y.shape)"
   ]
  },
  {
   "cell_type": "markdown",
   "metadata": {},
   "source": [
    "## Implemeting Kfold Cross Validation\n",
    "\n",
    "This auto handles the train test split"
   ]
  },
  {
   "cell_type": "code",
   "execution_count": 140,
   "metadata": {},
   "outputs": [],
   "source": [
    "from sklearn.model_selection import KFold\n",
    "\n",
    "kf = KFold(n_splits=10,shuffle=True, random_state=10) \n",
    "\n",
    "for train_index, test_index in kf.split(X):\n",
    "    #print(\"Train:\", train_index,\"/n\" , \"Test :\",test_index)\n",
    "    X_train, X_test = X[train_index], X[test_index] \n",
    "    y_train, y_test = y[train_index], y[test_index]"
   ]
  },
  {
   "cell_type": "markdown",
   "metadata": {},
   "source": [
    "# Modelling"
   ]
  },
  {
   "cell_type": "markdown",
   "metadata": {},
   "source": [
    "## MultinominalNB"
   ]
  },
  {
   "cell_type": "code",
   "execution_count": 141,
   "metadata": {},
   "outputs": [],
   "source": [
    "from sklearn.naive_bayes import MultinomialNB\n",
    "from sklearn.metrics import accuracy_score , confusion_matrix\n",
    "import itertools\n",
    "\n",
    "model_nb = MultinomialNB()\n",
    "model_nb.fit(X_train , y_train)\n",
    "y_pred = model_nb.predict(X_test)"
   ]
  },
  {
   "cell_type": "code",
   "execution_count": 142,
   "metadata": {},
   "outputs": [
    {
     "name": "stdout",
     "output_type": "stream",
     "text": [
      "Training Accuracy :  0.9126449177675924\n",
      "Testing Accuracy :  0.9126449177675924\n"
     ]
    }
   ],
   "source": [
    "print(\"Training Accuracy : \", str(cross_val[0]) )\n",
    "print(\"Testing Accuracy : \", str(cross_val[1]) )"
   ]
  },
  {
   "cell_type": "code",
   "execution_count": 143,
   "metadata": {},
   "outputs": [
    {
     "name": "stdout",
     "output_type": "stream",
     "text": [
      "*=======NaiveBayes Accuracy : 0.9139813940946474% ========* \n",
      "\n",
      "Training Accuracy for PassiveAggressiveClassifier:  0.9178861910396788\n",
      "Testing Accuracy for PassiveAggressiveClassifier : 0.9139813940946474 \n",
      "\n",
      "========Confusion Matrix ============\n",
      " [[   0    1    0    4    2    0    0    0    0    0    1]\n",
      " [   0 1424   50   33   16   47    0   12    0    0    0]\n",
      " [   0   29 1530   17   22    5    0    2    0    0    0]\n",
      " [   0   46   41 1108   27    8    0    2    0    0    4]\n",
      " [   0    3   27   11 1387   12    0    0    0    0   25]\n",
      " [   0   46   16   10   32 1154    0    2    0    0    3]\n",
      " [   0    7    1    1    0    0    0    0    0    0    0]\n",
      " [   0    4    0   15    1    1    0   77    0    0    0]\n",
      " [   0    1    0    0    0    0    0    0    0    0    0]\n",
      " [   0    0    0    1    0    0    0    0    0    0    0]\n",
      " [   0    0    0    0   49    1    0    0    0    0   99]]\n"
     ]
    }
   ],
   "source": [
    "score = accuracy_score(y_test ,y_pred)\n",
    "cm  = confusion_matrix(y_test ,y_pred)\n",
    "\n",
    "print(\"*=======NaiveBayes Accuracy : {}% ========* \\n\".format(score))\n",
    "print(\"Training Accuracy for PassiveAggressiveClassifier: \" , model_nb.score(X_train , y_train))\n",
    "print(\"Testing Accuracy for PassiveAggressiveClassifier : {} \\n\" .format( model_nb.score(X_test , y_test)))\n",
    "print(\"========Confusion Matrix ============\\n\",cm)\n"
   ]
  },
  {
   "cell_type": "markdown",
   "metadata": {},
   "source": [
    "# Passive Aggressive Classifier"
   ]
  },
  {
   "cell_type": "code",
   "execution_count": 144,
   "metadata": {},
   "outputs": [],
   "source": [
    "from sklearn.linear_model import PassiveAggressiveClassifier\n",
    "\n",
    "model_pac = PassiveAggressiveClassifier()\n",
    "model_pac.fit(X_train,y_train)\n",
    "y_pred = model_pac.predict(X_test)"
   ]
  },
  {
   "cell_type": "code",
   "execution_count": 145,
   "metadata": {},
   "outputs": [
    {
     "name": "stdout",
     "output_type": "stream",
     "text": [
      "*=======PassiveAggressiveClassifier Accuracy : 0.9444519347445058% ========* \n",
      "\n",
      "========Confusion Matrix ============\n",
      " [[   2    2    1    1    0    0    0    1    0    0    0    1]\n",
      " [   0 1525   11   25    1   16    0    4    0    0    0    0]\n",
      " [   0   18 1557    8   11    9    1    0    1    0    0    0]\n",
      " [   1   38   28 1134   17   11    1    5    0    0    1    0]\n",
      " [   0    5   17   16 1372   11    0    0    1    0    0   43]\n",
      " [   1   34   14   13   10 1189    0    2    0    0    0    0]\n",
      " [   1    1    5    0    0    0    2    0    0    0    0    0]\n",
      " [   1    2    4    2    0    2    0   87    0    0    0    0]\n",
      " [   0    0    0    0    0    0    0    1    0    0    0    0]\n",
      " [   0    1    0    0    0    0    0    0    0    0    0    0]\n",
      " [   0    0    0    0    0    0    0    0    0    0    0    0]\n",
      " [   0    0    0    0   11    1    0    0    0    0    0  137]]\n"
     ]
    }
   ],
   "source": [
    "score = round(accuracy_score(y_test ,y_pred),2)*100\n",
    "cm  = confusion_matrix(y_test ,y_pred)\n",
    "\n",
    "print(\"*=======PassiveAggressiveClassifier Accuracy : {}% ========* \\n\".format(score))\n",
    "print(\"========Confusion Matrix ============\\n\",cm)"
   ]
  },
  {
   "cell_type": "code",
   "execution_count": 146,
   "metadata": {},
   "outputs": [
    {
     "name": "stdout",
     "output_type": "stream",
     "text": [
      "Training Accuracy for PassiveAggressiveClassifier:  0.9755096538398167\n",
      "Testing Accuracy for PassiveAggressiveClassifier :  0.9444519347445058\n"
     ]
    },
    {
     "name": "stderr",
     "output_type": "stream",
     "text": [
      "C:\\Users\\Rakshu\\Anaconda3\\envs\\tensorflow\\lib\\site-packages\\sklearn\\metrics\\_classification.py:1272: UndefinedMetricWarning: Precision and F-score are ill-defined and being set to 0.0 in labels with no predicted samples. Use `zero_division` parameter to control this behavior.\n",
      "  _warn_prf(average, modifier, msg_start, len(result))\n",
      "C:\\Users\\Rakshu\\Anaconda3\\envs\\tensorflow\\lib\\site-packages\\sklearn\\metrics\\_classification.py:1272: UndefinedMetricWarning: Recall and F-score are ill-defined and being set to 0.0 in labels with no true samples. Use `zero_division` parameter to control this behavior.\n",
      "  _warn_prf(average, modifier, msg_start, len(result))\n"
     ]
    },
    {
     "name": "stdout",
     "output_type": "stream",
     "text": [
      "                                      precision    recall  f1-score   support\n",
      "\n",
      "                      ACCEPT_UTILITY       0.33      0.25      0.29         8\n",
      "                           AMENITIES       0.94      0.96      0.95      1582\n",
      "                     BILLING_REWARDS       0.95      0.97      0.96      1605\n",
      "                BOOKING_CONFIRMATION       0.95      0.92      0.93      1236\n",
      "CANCEL_RELATED_INTENT_IDENTIFICATION       0.96      0.94      0.95      1465\n",
      "                              CHANGE       0.96      0.94      0.95      1263\n",
      "                     DECLINE_UTILITY       0.50      0.22      0.31         9\n",
      "                      SPEAK_TO_AGENT       0.87      0.89      0.88        98\n",
      "                          ST_ABOUTUS       0.00      0.00      0.00         1\n",
      "                          ST_GOODBYE       0.00      0.00      0.00         1\n",
      "                            ST_HELLO       0.00      0.00      0.00         0\n",
      "                    UNKNOWN_SCENARIO       0.76      0.92      0.83       149\n",
      "\n",
      "                            accuracy                           0.94      7417\n",
      "                           macro avg       0.60      0.58      0.59      7417\n",
      "                        weighted avg       0.95      0.94      0.94      7417\n",
      "\n"
     ]
    }
   ],
   "source": [
    "from sklearn.metrics import classification_report\n",
    "print(\"Training Accuracy for PassiveAggressiveClassifier: \" , model_pac.score(X_train , y_train))\n",
    "print(\"Testing Accuracy for PassiveAggressiveClassifier : \" , model_pac.score(X_test , y_test))\n",
    "print(classification_report(y_test ,y_pred))\n"
   ]
  },
  {
   "cell_type": "code",
   "execution_count": null,
   "metadata": {},
   "outputs": [],
   "source": []
  }
 ],
 "metadata": {
  "kernelspec": {
   "display_name": "Python 3",
   "language": "python",
   "name": "python3"
  },
  "language_info": {
   "codemirror_mode": {
    "name": "ipython",
    "version": 3
   },
   "file_extension": ".py",
   "mimetype": "text/x-python",
   "name": "python",
   "nbconvert_exporter": "python",
   "pygments_lexer": "ipython3",
   "version": "3.7.7"
  }
 },
 "nbformat": 4,
 "nbformat_minor": 4
}
