{
 "cells": [
  {
   "cell_type": "raw",
   "metadata": {},
   "source": [
    "FicZon Inc is an IT solution provider with products ranging from on- premises products to SAS based solutions. FicZon major leads generation channel is digital and through their website.\n",
    "\n",
    "FicZon business is majorly dependent on the sales force effectiveness. As the market is maturing and more new competitors entering the market, FicZon is experiencing the dip in sales.\n",
    "\n",
    "Effective sales is dependent on lead quality and as of now, this is based on manual categorization and highly depended on sales staff. Though there is a quality process, which continuously updates the lead categorization, it’s value is in for post analysis, rather than conversation.\n",
    "\n",
    "FicZon wants to explore Machine Learning to pre-categorize the lead quality and as result, expecting significant increase in sales effectiveness."
   ]
  },
  {
   "cell_type": "raw",
   "metadata": {},
   "source": [
    "##===================Domain Understanding\n",
    "# SalesLead\\Lead : a person\\organization who may eventually become a client or purchanse the prodcut\n",
    "\n",
    "#Several factors determine the quality of sales leads, such as whether the individual or business had the incentive to \n",
    "#offer contact information, the accuracy of the data provided, and the validity of the sales lead.\n",
    "\n",
    "Lead generation is the way that you attract and get people to give you their contact information to you.\n",
    "\n",
    "COLUMNS :\n",
    "    Product_ID : Unique identifier which the determines the product i.e product tracebility\n",
    "    Source : Source from where lead info is aquired i.e email,social media,website,blogs ..etc\n",
    "    Sales_Agent : Person who invloved in getting the lead info\n",
    "    Location : Location to which lead beong to\n",
    "    Status : Status of the lead \n",
    "    Delivery_Mode : already clean\n"
   ]
  },
  {
   "cell_type": "raw",
   "metadata": {},
   "source": [
    "##====================Tasks and assmptions\n",
    "\n",
    "# Sales dataset with shape 7422 entries , and 7 columns\n",
    "# Mobile and Email : columns doesnot add any significancec to dataset in predicting the lead potential we are dropping these columns\n",
    "\n",
    "#====Product_ID : There are 58 rows whose Product_ID='' ,replace it with Mode\n",
    "\n",
    "#====Status : Converting mutilclass values to binary i.e into high potential(1) n low  potential leads(0)\n",
    "li_high =['Potential','In Progress Positive','CONVERTED','converted','Long Term']\n",
    "li_low=['Open','Not Responding' ,'Junk Lead','Just Enquiry','In Progress Negative','LOST']\n",
    "\n",
    "#====SOurce : forward filling the 7 empty string values\n",
    "\n",
    "#====Sales_Agent : replace empty string with the mode value\n",
    "\n",
    "#====Location : replace 6 empty string with the mode value"
   ]
  },
  {
   "cell_type": "code",
   "execution_count": 1,
   "metadata": {},
   "outputs": [],
   "source": [
    "#========= Determine relationship of each i/p var with target i.e Status variable\n",
    "\n",
    "#=========Label Encode the data\n",
    "\n",
    "#==========Plot Correlation Matrix \n",
    "\n",
    "#=========No Standerdization : Since all the columns are categorical in nature ,data has not been standerdized\n",
    "\n",
    "#=======Modelling\n",
    "SVM          : 70.3\n",
    "RandomForest : 71.4\n",
    "XGBClassifer : 74"
   ]
  },
  {
   "cell_type": "markdown",
   "metadata": {},
   "source": [
    "## 1. Data exploration insights – Sales effectiveness.\n",
    "## 2. ML model to predict the Lead Category (High Potential , Low Potential)"
   ]
  },
  {
   "cell_type": "code",
   "execution_count": 2,
   "metadata": {},
   "outputs": [],
   "source": [
    "from sqlalchemy import create_engine\n",
    "import pandas as pd\n",
    "import matplotlib.pyplot as plt\n",
    "from matplotlib import rcParams\n",
    "import numpy as np\n",
    "from collections import Counter\n",
    "import seaborn as sb\n",
    "from sklearn.preprocessing import LabelEncoder\n",
    "from sklearn.model_selection import train_test_split as tts\n",
    "from scipy import stats\n",
    "import warnings\n",
    "warnings.filterwarnings(\"ignore\")\n",
    "\n",
    "db_host = '18.136.56.185'\n",
    "username ='dm_team2'\n",
    "pwd='dm_team1118#'\n",
    "db_name='project_sales'\n"
   ]
  },
  {
   "cell_type": "code",
   "execution_count": 3,
   "metadata": {},
   "outputs": [
    {
     "data": {
      "text/plain": [
       "['data']"
      ]
     },
     "execution_count": 3,
     "metadata": {},
     "output_type": "execute_result"
    }
   ],
   "source": [
    "#Connecting to SQL DB\n",
    "conn =create_engine('mysql+pymysql://'+username+':'+pwd+'@'+db_host+'/'+db_name)\n",
    "conn.table_names()"
   ]
  },
  {
   "cell_type": "code",
   "execution_count": 4,
   "metadata": {},
   "outputs": [
    {
     "data": {
      "text/html": [
       "<div>\n",
       "<style scoped>\n",
       "    .dataframe tbody tr th:only-of-type {\n",
       "        vertical-align: middle;\n",
       "    }\n",
       "\n",
       "    .dataframe tbody tr th {\n",
       "        vertical-align: top;\n",
       "    }\n",
       "\n",
       "    .dataframe thead th {\n",
       "        text-align: right;\n",
       "    }\n",
       "</style>\n",
       "<table border=\"1\" class=\"dataframe\">\n",
       "  <thead>\n",
       "    <tr style=\"text-align: right;\">\n",
       "      <th></th>\n",
       "      <th>Created</th>\n",
       "      <th>Product_ID</th>\n",
       "      <th>Source</th>\n",
       "      <th>Mobile</th>\n",
       "      <th>EMAIL</th>\n",
       "      <th>Sales_Agent</th>\n",
       "      <th>Location</th>\n",
       "      <th>Delivery_Mode</th>\n",
       "      <th>Status</th>\n",
       "    </tr>\n",
       "  </thead>\n",
       "  <tbody>\n",
       "    <tr>\n",
       "      <td>0</td>\n",
       "      <td>14-11-2018 10:05</td>\n",
       "      <td></td>\n",
       "      <td>Website</td>\n",
       "      <td>984XXXXXXX</td>\n",
       "      <td>aXXXXXXX@gmail.com</td>\n",
       "      <td>Sales-Agent-11</td>\n",
       "      <td></td>\n",
       "      <td>Mode-5</td>\n",
       "      <td>Open</td>\n",
       "    </tr>\n",
       "    <tr>\n",
       "      <td>1</td>\n",
       "      <td>14-11-2018 09:22</td>\n",
       "      <td></td>\n",
       "      <td>Website</td>\n",
       "      <td>XXXXXXX</td>\n",
       "      <td>#VALUE!</td>\n",
       "      <td>Sales-Agent-10</td>\n",
       "      <td></td>\n",
       "      <td>Mode-5</td>\n",
       "      <td>Open</td>\n",
       "    </tr>\n",
       "  </tbody>\n",
       "</table>\n",
       "</div>"
      ],
      "text/plain": [
       "            Created Product_ID   Source      Mobile               EMAIL  \\\n",
       "0  14-11-2018 10:05             Website  984XXXXXXX  aXXXXXXX@gmail.com   \n",
       "1  14-11-2018 09:22             Website     XXXXXXX             #VALUE!   \n",
       "\n",
       "      Sales_Agent Location Delivery_Mode Status  \n",
       "0  Sales-Agent-11                 Mode-5   Open  \n",
       "1  Sales-Agent-10                 Mode-5   Open  "
      ]
     },
     "execution_count": 4,
     "metadata": {},
     "output_type": "execute_result"
    }
   ],
   "source": [
    "query ='select * from data '\n",
    "df1 =pd.read_sql(query,conn)\n",
    "df1.head(2)\n"
   ]
  },
  {
   "cell_type": "code",
   "execution_count": 5,
   "metadata": {},
   "outputs": [
    {
     "data": {
      "text/plain": [
       "Index(['Created', 'Product_ID', 'Source', 'Mobile', 'EMAIL', 'Sales_Agent',\n",
       "       'Location', 'Delivery_Mode', 'Status'],\n",
       "      dtype='object')"
      ]
     },
     "execution_count": 5,
     "metadata": {},
     "output_type": "execute_result"
    }
   ],
   "source": [
    "df1.describe()\n",
    "df1.columns\n",
    "\n"
   ]
  },
  {
   "cell_type": "markdown",
   "metadata": {},
   "source": [
    "### EDA"
   ]
  },
  {
   "cell_type": "code",
   "execution_count": 6,
   "metadata": {},
   "outputs": [
    {
     "name": "stdout",
     "output_type": "stream",
     "text": [
      "The empty string values in column Product_ID is :  58\n",
      "------------------------------------\n",
      "The empty string values in column Source is :  17\n",
      "------------------------------------\n",
      "The empty string values in column Sales_Agent is :  23\n",
      "------------------------------------\n",
      "The empty string values in column Location is :  58\n",
      "------------------------------------\n",
      "The empty string values in column Delivery_Mode is :  0\n",
      "------------------------------------\n",
      "The empty string values in column Status is :  0\n",
      "------------------------------------\n"
     ]
    }
   ],
   "source": [
    "#Find all columns with empty string values\n",
    "list = [ 'Product_ID', 'Source', 'Sales_Agent',\n",
    "       'Location', 'Delivery_Mode', 'Status']\n",
    "\n",
    "\n",
    "for i in list :\n",
    "   #print( \"Column \"+i +\" : \" ,Counter( df1[i]))\n",
    "   print( \"The empty string values in column \"+i+\" is : \",df1[i].loc[df1[i]==''].count())\n",
    "   print(\"------------------------------------\")"
   ]
  },
  {
   "cell_type": "markdown",
   "metadata": {},
   "source": [
    "##### Dropping columns Created,Email and Mobile since its not  significant enough to predict sales"
   ]
  },
  {
   "cell_type": "code",
   "execution_count": 7,
   "metadata": {},
   "outputs": [
    {
     "data": {
      "text/plain": [
       "Index(['Product_ID', 'Source', 'Sales_Agent', 'Location', 'Delivery_Mode',\n",
       "       'Status'],\n",
       "      dtype='object')"
      ]
     },
     "execution_count": 7,
     "metadata": {},
     "output_type": "execute_result"
    }
   ],
   "source": [
    "df1.drop(columns=['Created','EMAIL','Mobile'] ,inplace=True,axis=1)\n",
    "df1.columns"
   ]
  },
  {
   "cell_type": "code",
   "execution_count": 8,
   "metadata": {},
   "outputs": [
    {
     "data": {
      "text/html": [
       "<div>\n",
       "<style scoped>\n",
       "    .dataframe tbody tr th:only-of-type {\n",
       "        vertical-align: middle;\n",
       "    }\n",
       "\n",
       "    .dataframe tbody tr th {\n",
       "        vertical-align: top;\n",
       "    }\n",
       "\n",
       "    .dataframe thead th {\n",
       "        text-align: right;\n",
       "    }\n",
       "</style>\n",
       "<table border=\"1\" class=\"dataframe\">\n",
       "  <thead>\n",
       "    <tr style=\"text-align: right;\">\n",
       "      <th></th>\n",
       "      <th>Product_ID</th>\n",
       "      <th>Source</th>\n",
       "      <th>Sales_Agent</th>\n",
       "      <th>Location</th>\n",
       "      <th>Delivery_Mode</th>\n",
       "      <th>Status</th>\n",
       "    </tr>\n",
       "  </thead>\n",
       "  <tbody>\n",
       "    <tr>\n",
       "      <td>0</td>\n",
       "      <td></td>\n",
       "      <td>Website</td>\n",
       "      <td>Sales-Agent-11</td>\n",
       "      <td></td>\n",
       "      <td>Mode-5</td>\n",
       "      <td>Open</td>\n",
       "    </tr>\n",
       "    <tr>\n",
       "      <td>1</td>\n",
       "      <td></td>\n",
       "      <td>Website</td>\n",
       "      <td>Sales-Agent-10</td>\n",
       "      <td></td>\n",
       "      <td>Mode-5</td>\n",
       "      <td>Open</td>\n",
       "    </tr>\n",
       "    <tr>\n",
       "      <td>2</td>\n",
       "      <td></td>\n",
       "      <td>Website</td>\n",
       "      <td>Sales-Agent-10</td>\n",
       "      <td></td>\n",
       "      <td>Mode-5</td>\n",
       "      <td>Open</td>\n",
       "    </tr>\n",
       "    <tr>\n",
       "      <td>3</td>\n",
       "      <td></td>\n",
       "      <td>Website</td>\n",
       "      <td>Sales-Agent-10</td>\n",
       "      <td></td>\n",
       "      <td>Mode-5</td>\n",
       "      <td>Open</td>\n",
       "    </tr>\n",
       "    <tr>\n",
       "      <td>4</td>\n",
       "      <td></td>\n",
       "      <td>Website</td>\n",
       "      <td>Sales-Agent-10</td>\n",
       "      <td></td>\n",
       "      <td>Mode-5</td>\n",
       "      <td>Open</td>\n",
       "    </tr>\n",
       "  </tbody>\n",
       "</table>\n",
       "</div>"
      ],
      "text/plain": [
       "  Product_ID   Source     Sales_Agent Location Delivery_Mode Status\n",
       "0             Website  Sales-Agent-11                 Mode-5   Open\n",
       "1             Website  Sales-Agent-10                 Mode-5   Open\n",
       "2             Website  Sales-Agent-10                 Mode-5   Open\n",
       "3             Website  Sales-Agent-10                 Mode-5   Open\n",
       "4             Website  Sales-Agent-10                 Mode-5   Open"
      ]
     },
     "execution_count": 8,
     "metadata": {},
     "output_type": "execute_result"
    }
   ],
   "source": [
    "df =df1\n",
    "df.head()"
   ]
  },
  {
   "cell_type": "markdown",
   "metadata": {},
   "source": [
    "### Since all the features are categorical in nature Normality and Scaling(Standardization ) is not required"
   ]
  },
  {
   "cell_type": "markdown",
   "metadata": {},
   "source": [
    "### Column Status\n"
   ]
  },
  {
   "cell_type": "code",
   "execution_count": 9,
   "metadata": {},
   "outputs": [
    {
     "data": {
      "text/plain": [
       "<matplotlib.axes._subplots.AxesSubplot at 0x109da1984c8>"
      ]
     },
     "execution_count": 9,
     "metadata": {},
     "output_type": "execute_result"
    },
    {
     "data": {
      "image/png": "[encoded data removed]",
      "text/plain": [
       "<Figure size 1080x360 with 1 Axes>"
      ]
     },
     "metadata": {
      "needs_background": "light"
     },
     "output_type": "display_data"
    }
   ],
   "source": [
    "#Plotting to undersatnd diff categories of status column\n",
    "plt.figure(figsize=(15, 5))\n",
    "plt.title('Status')\n",
    "df.Status.value_counts().plot.bar()"
   ]
  },
  {
   "cell_type": "raw",
   "metadata": {},
   "source": [
    "Counter(df.Status)\n",
    "\n",
    "#Delete the rows wit status Open ,Just Enquiry ,Long Term\n",
    "\n",
    "df['Status'] = np.where(((df['Status'] =='Open') | (df['Status']=='Just Enquiry') | (df['Status']=='Long Term')) ,\"\",df.Status)\n",
    "Counter(df.Status)\n",
    "\n",
    "df.drop(df[df.Status == \"\"].index , inplace=True)\n",
    "\n",
    "Counter(df.Status)\n"
   ]
  },
  {
   "cell_type": "markdown",
   "metadata": {},
   "source": [
    "##### Group the status into below categories\n",
    "#'0_Not_Potential' :['In Progress Negative','Junk Lead','LOST','Not Responding' ]\n",
    "#'1_Potential' : ['In Progress Positive','Potential'],\n",
    "#'2_PotentialLongterm' : ['Long Term'] ,\n",
    "#'3_HighPotential':['CONVERTED','converted']"
   ]
  },
  {
   "cell_type": "code",
   "execution_count": 10,
   "metadata": {},
   "outputs": [
    {
     "name": "stdout",
     "output_type": "stream",
     "text": [
      "Counter({0: 4573, 1: 1351, 3: 852, 2: 646})\n"
     ]
    },
    {
     "data": {
      "text/plain": [
       "[Text(0, 0, '0_Not_Potential'),\n",
       " Text(0, 0, '1_Potential'),\n",
       " Text(0, 0, '2_PotentialLongterm'),\n",
       " Text(0, 0, '3_HighPotential')]"
      ]
     },
     "execution_count": 10,
     "metadata": {},
     "output_type": "execute_result"
    },
    {
     "data": {
      "image/png": "[encoded data removed]",
      "text/plain": [
       "<Figure size 1080x360 with 1 Axes>"
      ]
     },
     "metadata": {
      "needs_background": "light"
     },
     "output_type": "display_data"
    }
   ],
   "source": [
    "df.loc[((df.Status=='In Progress Negative') | (df.Status=='Junk Lead') | (df.Status=='LOST') | (df.Status=='Not Responding') | (df.Status=='Just Enquiry') | (df.Status=='Open')),'Status' ] = 0\n",
    "df.loc[((df.Status=='In Progress Positive') | (df.Status=='Potential')),'Status'] = 1\n",
    "df.loc[((df.Status=='Long Term')),'Status'] = 2\n",
    "df.loc[((df.Status=='CONVERTED') | (df.Status=='converted')),'Status'] = 3\n",
    "\n",
    "print(Counter(df.Status))\n",
    "xlbl =('0_Not_Potential','1_Potential','2_PotentialLongterm','3_HighPotential')\n",
    "\n",
    "\n",
    "plt.figure(figsize=(15, 5))\n",
    "fig = df.Status.value_counts().plot.bar()\n",
    "fig.set_xticklabels(xlbl)\n"
   ]
  },
  {
   "cell_type": "code",
   "execution_count": 11,
   "metadata": {},
   "outputs": [
    {
     "data": {
      "text/plain": [
       "0       0\n",
       "1       0\n",
       "2       0\n",
       "3       0\n",
       "4       0\n",
       "       ..\n",
       "7417    0\n",
       "7418    0\n",
       "7419    0\n",
       "7420    0\n",
       "7421    3\n",
       "Name: Status, Length: 7422, dtype: object"
      ]
     },
     "execution_count": 11,
     "metadata": {},
     "output_type": "execute_result"
    }
   ],
   "source": [
    "df['Status']"
   ]
  },
  {
   "cell_type": "markdown",
   "metadata": {},
   "source": [
    "# Analyse the Leads %\n",
    "\n",
    "From the below Pie Chart we can conclude that 61 % of the leads are not Potential leads"
   ]
  },
  {
   "cell_type": "code",
   "execution_count": 12,
   "metadata": {},
   "outputs": [
    {
     "name": "stdout",
     "output_type": "stream",
     "text": [
      "Count of 0_Not_Potential :  4573\n",
      "Count of 1_Potential:  1351\n",
      "Count of 2_PotentialLongterm :  646\n",
      "Count of 3_HighPotential :  852\n"
     ]
    }
   ],
   "source": [
    "Count_0_Not_Potential = df['Status'].loc[(df['Status']== 0)].count()\n",
    "print(\"Count of 0_Not_Potential : \",Count_0_Not_Potential)  \n",
    "\n",
    "Count_1_Potential = df['Status'].loc[(df['Status']== 1)].count()\n",
    "print(\"Count of 1_Potential: \",Count_1_Potential) \n",
    "\n",
    "Count_2_PotentialLongterm = df['Status'].loc[(df['Status']== 2)].count()\n",
    "print(\"Count of 2_PotentialLongterm : \",Count_2_PotentialLongterm) \n",
    "\n",
    "Count_3_HighPotential = df['Status'].loc[(df['Status']== 3 ) ].count()\n",
    "print(\"Count of 3_HighPotential : \",Count_3_HighPotential) "
   ]
  },
  {
   "cell_type": "code",
   "execution_count": 13,
   "metadata": {},
   "outputs": [
    {
     "data": {
      "text/plain": [
       "Counter({0: 4573, 1: 1351, 3: 852, 2: 646})"
      ]
     },
     "execution_count": 13,
     "metadata": {},
     "output_type": "execute_result"
    }
   ],
   "source": [
    "'''\n",
    "'0_Not_Potential' : 4573\n",
    "'1_Potential' : 1351,\n",
    "'2_PotentialLongterm' : 646 ,\n",
    "'3_HighPotential' :852\n",
    "'''\n",
    "Plabels =['0_Not_Potential','1_Potential','2_PotentialLongterm','3_HighPotential']\n",
    "Pdata = [4573,1351,646,852]\n",
    "\n",
    "#Actual numbers\n",
    "Counter(df.Status)"
   ]
  },
  {
   "cell_type": "code",
   "execution_count": 14,
   "metadata": {},
   "outputs": [
    {
     "data": {
      "text/plain": [
       "([<matplotlib.patches.Wedge at 0x109da7de6c8>,\n",
       "  <matplotlib.patches.Wedge at 0x109da7e82c8>,\n",
       "  <matplotlib.patches.Wedge at 0x109da7e8ec8>,\n",
       "  <matplotlib.patches.Wedge at 0x109da7efb88>],\n",
       " [Text(-0.3598414315168364, -1.0394778228340968, '0_Not_Potential'),\n",
       "  Text(0.9057160994016799, 0.6242422184413728, '1_Potential'),\n",
       "  Text(0.1339177014339886, 1.091817772910222, '2_PotentialLongterm'),\n",
       "  Text(-0.5389417756999525, 0.9589274020515746, '3_HighPotential')],\n",
       " [Text(-0.19627714446372893, -0.5669879033640528, '61.6%'),\n",
       "  Text(0.4940269633100071, 0.34049575551347605, '18.2%'),\n",
       "  Text(0.07304601896399378, 0.5955369670419393, '8.7%'),\n",
       "  Text(-0.29396824129088317, 0.5230513102099498, '11.5%')])"
      ]
     },
     "execution_count": 14,
     "metadata": {},
     "output_type": "execute_result"
    },
    {
     "data": {
      "image/png": "[encoded data removed]",
      "text/plain": [
       "<Figure size 432x288 with 1 Axes>"
      ]
     },
     "metadata": {},
     "output_type": "display_data"
    }
   ],
   "source": [
    "plt.pie(Pdata ,labels=Plabels,autopct='%1.1f%%', shadow=True, startangle=140 )"
   ]
  },
  {
   "cell_type": "markdown",
   "metadata": {},
   "source": [
    "# Data Cleaning"
   ]
  },
  {
   "cell_type": "markdown",
   "metadata": {},
   "source": [
    "## Status Column"
   ]
  },
  {
   "cell_type": "code",
   "execution_count": 15,
   "metadata": {},
   "outputs": [
    {
     "data": {
      "text/plain": [
       "Counter({0: 4573, 1: 1351, 3: 852, 2: 646})"
      ]
     },
     "execution_count": 15,
     "metadata": {},
     "output_type": "execute_result"
    }
   ],
   "source": [
    "Counter(df.Status)"
   ]
  },
  {
   "cell_type": "code",
   "execution_count": 16,
   "metadata": {},
   "outputs": [
    {
     "data": {
      "text/plain": [
       "Counter({0: 5219, 1: 2203})"
      ]
     },
     "execution_count": 16,
     "metadata": {},
     "output_type": "execute_result"
    }
   ],
   "source": [
    "# Grouping Status data column into Potential and  Not-Potential\n",
    "\n",
    "df.loc[((df.Status== 1) | (df.Status==3)),'Status' ] = 1 # Potential\n",
    "df.loc[((df.Status== 0) | (df.Status==2)),'Status' ] = 0 #NonPotential\n",
    "\n",
    "Counter(df.Status)"
   ]
  },
  {
   "cell_type": "markdown",
   "metadata": {},
   "source": [
    "## Column Product_ID \n",
    "\n",
    "Replacing '' values with mode of Product_ID column\n"
   ]
  },
  {
   "cell_type": "code",
   "execution_count": 17,
   "metadata": {},
   "outputs": [
    {
     "name": "stdout",
     "output_type": "stream",
     "text": [
      "Counter({'18': 1711, '15': 1518, '19': 1189, '9': 992, '27': 739, '5': 487, '10': 168, '1': 105, '20': 102, '25': 90, '21': 66, '': 58, '2': 38, '12': 36, '26': 31, '14': 27, '11': 12, '22': 8, '3': 7, '17': 7, '6': 7, '8': 6, '13': 5, '24': 3, '16': 3, '23': 2, '0': 2, '28': 1, '7': 1, '4': 1})\n",
      "=======================\n",
      "Counter({'18': 1769, '15': 1518, '19': 1189, '9': 992, '27': 739, '5': 487, '10': 168, '1': 105, '20': 102, '25': 90, '21': 66, '2': 38, '12': 36, '26': 31, '14': 27, '11': 12, '22': 8, '3': 7, '17': 7, '6': 7, '8': 6, '13': 5, '24': 3, '16': 3, '23': 2, '0': 2, '28': 1, '7': 1, '4': 1})\n"
     ]
    }
   ],
   "source": [
    "print(Counter(df.Product_ID))\n",
    "\n",
    "df['Product_ID'] = np.where((df['Product_ID'] == ''),(df.loc[:,'Product_ID'].mode()),df['Product_ID'])\n",
    "print(\"=======================\")\n",
    "print(Counter(df.Product_ID))"
   ]
  },
  {
   "cell_type": "markdown",
   "metadata": {},
   "source": [
    "### Column \"Source\"\n",
    "\n",
    "#Source : forward filling the 7 empty string values\n"
   ]
  },
  {
   "cell_type": "code",
   "execution_count": 18,
   "metadata": {},
   "outputs": [
    {
     "name": "stdout",
     "output_type": "stream",
     "text": [
      "Counter({'Call': 2547, 'Live Chat-Direct': 1834, 'Website': 1594, 'Live Chat-Google Organic': 274, 'Live Chat -PPC': 249, 'Live Chat-Blog': 237, 'Customer Referral': 180, 'US Website': 137, 'Just Dial': 56, 'Existing Client': 51, 'Live Chat-CPC': 50, 'Personal Contact': 50, 'By Recommendation': 32, 'CRM form': 23, 'Existing Customer': 22, 'Live Chat-Google Ads': 21, 'Campaign': 19, '': 17, 'E-mail Campaign': 12, 'Live Chat-Adwords Remarketing': 7, 'Live Chat-Quora': 2, 'Other': 2, 'SMS Campaign': 2, 'Live Chat-Youtube': 2, 'E-Mail Message': 1, 'Live Chat-Justdial': 1})\n",
      "=======================\n",
      "Counter({'Call': 2548, 'Live Chat-Direct': 1839, 'Website': 1603, 'Live Chat-Google Organic': 275, 'Live Chat -PPC': 249, 'Live Chat-Blog': 237, 'Customer Referral': 180, 'US Website': 137, 'Just Dial': 56, 'Existing Client': 51, 'Personal Contact': 51, 'Live Chat-CPC': 50, 'By Recommendation': 32, 'CRM form': 23, 'Existing Customer': 22, 'Live Chat-Google Ads': 21, 'Campaign': 19, 'E-mail Campaign': 12, 'Live Chat-Adwords Remarketing': 7, 'Live Chat-Quora': 2, 'Other': 2, 'SMS Campaign': 2, 'Live Chat-Youtube': 2, 'E-Mail Message': 1, 'Live Chat-Justdial': 1})\n"
     ]
    }
   ],
   "source": [
    "print(Counter(df.Source))\n",
    "\n",
    "df['Source'] = np.where((df['Source'] == ''),np.nan,df ['Source'])\n",
    "df['Source'].ffill(inplace=True)\n",
    "print(\"=======================\")\n",
    "print(Counter(df.Source))"
   ]
  },
  {
   "cell_type": "markdown",
   "metadata": {},
   "source": [
    "## Column \"Sales_Agent\"\n",
    "Replace empty string with the mode value"
   ]
  },
  {
   "cell_type": "code",
   "execution_count": 19,
   "metadata": {},
   "outputs": [
    {
     "name": "stdout",
     "output_type": "stream",
     "text": [
      "Counter({'Sales-Agent-4': 1500, 'Sales-Agent-11': 1420, 'Sales-Agent-5': 1190, 'Sales-Agent-9': 879, 'Sales-Agent-3': 781, 'Sales-Agent-7': 736, 'Sales-Agent-2': 389, 'Sales-Agent-12': 269, 'Sales-Agent-6': 114, 'Sales-Agent-8': 68, 'Sales-Agent-10': 49, '': 23, 'Sales-Agent-1': 4})\n",
      "=======================\n",
      "Counter({'Sales-Agent-4': 1523, 'Sales-Agent-11': 1420, 'Sales-Agent-5': 1190, 'Sales-Agent-9': 879, 'Sales-Agent-3': 781, 'Sales-Agent-7': 736, 'Sales-Agent-2': 389, 'Sales-Agent-12': 269, 'Sales-Agent-6': 114, 'Sales-Agent-8': 68, 'Sales-Agent-10': 49, 'Sales-Agent-1': 4})\n"
     ]
    }
   ],
   "source": [
    "print(Counter(df.Sales_Agent))\n",
    "\n",
    "df['Sales_Agent'] = np.where((df['Sales_Agent'] == ''),(df.loc[:,'Sales_Agent'].mode()),df['Sales_Agent'])\n",
    "print(\"=======================\")\n",
    "print(Counter(df.Sales_Agent))"
   ]
  },
  {
   "cell_type": "markdown",
   "metadata": {},
   "source": [
    "## Column \"Location\""
   ]
  },
  {
   "cell_type": "code",
   "execution_count": 20,
   "metadata": {},
   "outputs": [
    {
     "name": "stdout",
     "output_type": "stream",
     "text": [
      "Counter({'Other Locations': 2500, 'Bangalore': 2084, 'Chennai': 909, 'Hyderabad': 528, 'Delhi': 471, 'Mumbai': 402, 'Pune': 142, 'UAE': 79, '': 58, 'Trivandrum': 58, 'Kolkata': 55, 'USA': 45, 'UK': 41, 'AUSTRALIA': 25, 'Singapore': 17, 'Malaysia': 4, 'EUROPE': 3, 'Howrah': 1})\n",
      "=======================\n",
      "Counter({'Other Locations': 2558, 'Bangalore': 2084, 'Chennai': 909, 'Hyderabad': 528, 'Delhi': 471, 'Mumbai': 402, 'Pune': 142, 'UAE': 79, 'Trivandrum': 58, 'Kolkata': 55, 'USA': 45, 'UK': 41, 'AUSTRALIA': 25, 'Singapore': 17, 'Malaysia': 4, 'EUROPE': 3, 'Howrah': 1})\n"
     ]
    }
   ],
   "source": [
    "print(Counter(df.Location))\n",
    "\n",
    "df['Location'] = np.where((df['Location'] == ''),(df.loc[:,'Location'].mode()),df['Location'])\n",
    "print(\"=======================\")\n",
    "print(Counter(df.Location))\n"
   ]
  },
  {
   "cell_type": "markdown",
   "metadata": {},
   "source": [
    "## Column \"Delivery_mode\""
   ]
  },
  {
   "cell_type": "code",
   "execution_count": 21,
   "metadata": {},
   "outputs": [
    {
     "data": {
      "text/plain": [
       "Counter({'Mode-5': 2975,\n",
       "         'Mode-1': 2627,\n",
       "         'Mode-3': 1688,\n",
       "         'Mode-2': 11,\n",
       "         'Mode-4': 121})"
      ]
     },
     "execution_count": 21,
     "metadata": {},
     "output_type": "execute_result"
    }
   ],
   "source": [
    "Counter(df['Delivery_Mode'])"
   ]
  },
  {
   "cell_type": "markdown",
   "metadata": {},
   "source": [
    "# EDA"
   ]
  },
  {
   "cell_type": "markdown",
   "metadata": {},
   "source": [
    "### Visualize Product_ID wrt Status\n",
    "\n",
    "Insights drawn : \n",
    " * The Product_ID 15,18,19,9,27,5 : Generates higher number of 'non potential leads'\n",
    " * The Product_ID 19,5,27,19,28 : Generates higher number of 'potential leads'\n",
    " * The Product_ID 8,7,6,4,3,28,25,23,22,17,16: Failed to generates any 'leads'"
   ]
  },
  {
   "cell_type": "code",
   "execution_count": 22,
   "metadata": {},
   "outputs": [
    {
     "data": {
      "text/plain": [
       "<matplotlib.axes._subplots.AxesSubplot at 0x109da817208>"
      ]
     },
     "execution_count": 22,
     "metadata": {},
     "output_type": "execute_result"
    },
    {
     "data": {
      "image/png": "[encoded data removed]",
      "text/plain": [
       "<Figure size 720x720 with 1 Axes>"
      ]
     },
     "metadata": {
      "needs_background": "light"
     },
     "output_type": "display_data"
    }
   ],
   "source": [
    "rcParams['figure.figsize'] =10,10 \n",
    "crosstab_pid = pd.crosstab([df.Product_ID],df.Status)\n",
    "crosstab_pid.plot(kind='barh',stacked=False,grid=True ,title='Product_ID VS Status')\n"
   ]
  },
  {
   "cell_type": "markdown",
   "metadata": {},
   "source": [
    "### Visualize Source wrt Status\n",
    "\n",
    "Insights drawn :\n",
    "    * Source \"Call\" : Produces highest number both wrt 'potential leads ' and 'non potential leads'\n",
    "    * SOurces \"Live Chat\",\"Website\": Producing reasonable ammount leads\n",
    "    * Sources  'Just Dail','Youtube' : Though these are paid sources but failed to generate any leads hence these sources should be taken care to imporve else could stop investing in these sources and use that investment in any other tasks.\n",
    "    "
   ]
  },
  {
   "cell_type": "code",
   "execution_count": 23,
   "metadata": {},
   "outputs": [
    {
     "data": {
      "text/plain": [
       "<matplotlib.axes._subplots.AxesSubplot at 0x109daaf8288>"
      ]
     },
     "execution_count": 23,
     "metadata": {},
     "output_type": "execute_result"
    },
    {
     "data": {
      "image/png": "[encoded data removed]",
      "text/plain": [
       "<Figure size 720x720 with 1 Axes>"
      ]
     },
     "metadata": {
      "needs_background": "light"
     },
     "output_type": "display_data"
    }
   ],
   "source": [
    "rcParams['figure.figsize'] =10,10 \n",
    "crosstab_pid = pd.crosstab([df.Source],df.Status)\n",
    "crosstab_pid.plot(kind='barh',stacked=False,grid=True ,title='Source VS Status')"
   ]
  },
  {
   "cell_type": "markdown",
   "metadata": {},
   "source": [
    "### Visualize Sales_Agent wrt Status\n",
    "\n",
    "Insights drawn:\n",
    "    * SA 4,5,11 : Generates both Potential n non potential leads but likely into more maximum non-potential leads\n",
    "    * SA 1  : Has not generated anay leads\n",
    "    * SA 9 : Generates good ammount of potential leads than non-potential leads\n",
    "    * Measures should be taken in evaluating performance of the Sales_Agents to improve the lead generation"
   ]
  },
  {
   "cell_type": "code",
   "execution_count": 24,
   "metadata": {},
   "outputs": [
    {
     "data": {
      "text/plain": [
       "<matplotlib.axes._subplots.AxesSubplot at 0x109dad522c8>"
      ]
     },
     "execution_count": 24,
     "metadata": {},
     "output_type": "execute_result"
    },
    {
     "data": {
      "image/png": "[encoded data removed]",
      "text/plain": [
       "<Figure size 1440x720 with 1 Axes>"
      ]
     },
     "metadata": {
      "needs_background": "light"
     },
     "output_type": "display_data"
    }
   ],
   "source": [
    "rcParams['figure.figsize'] =20,10 \n",
    "crosstab_pid = pd.crosstab([df.Sales_Agent],df.Status)\n",
    "crosstab_pid.plot(kind='barh',stacked=False,grid=True ,title='Sales_Agent VS Status')"
   ]
  },
  {
   "cell_type": "markdown",
   "metadata": {},
   "source": [
    "### Visualize Location wrt Status\n",
    "\n",
    "Insights drawn:\n",
    "    * Location \"Banglore\",'Delhi','Chennai' : Generating good ammount of leads\n",
    "    * Location \"Other Locations\" : Generates maximum non potential leads . It should be taken care to specify the Locations properly ,instead of assigning as a 'Other Location',so that can better understand the locations ,and measures can be taken to improve lead geneartion\n",
    "    * Locations \"Australia\",\"Singapore\",'UAE',\"Thaiwan\",\"UK\",\"US\" : Generating  less number of  leads.\n",
    "    * Few locations  failed to generate a single lead ,it would definately leads to the loss .Hence should identify the actuall problems facing by these locations n resolve it else relocate to better places"
   ]
  },
  {
   "cell_type": "code",
   "execution_count": 25,
   "metadata": {},
   "outputs": [
    {
     "data": {
      "text/plain": [
       "<matplotlib.axes._subplots.AxesSubplot at 0x109dad6f3c8>"
      ]
     },
     "execution_count": 25,
     "metadata": {},
     "output_type": "execute_result"
    },
    {
     "data": {
      "image/png": "[encoded data removed]",
      "text/plain": [
       "<Figure size 1440x720 with 1 Axes>"
      ]
     },
     "metadata": {
      "needs_background": "light"
     },
     "output_type": "display_data"
    }
   ],
   "source": [
    "rcParams['figure.figsize'] =20,10 \n",
    "crosstab_pid = pd.crosstab([df.Location],df.Status)\n",
    "crosstab_pid.plot(kind='barh',stacked=False,grid=True ,title='Location VS Status')"
   ]
  },
  {
   "cell_type": "markdown",
   "metadata": {},
   "source": [
    "\n",
    " ### Visualise Delivery_Mode wrt Status\n",
    " \n",
    " Insights Drawn :\n",
    "  * Delivery_Mode 1,2,3 : Performing better in generaing leads\n",
    "  * Delivery_Mode 2 : Is relatively less efficcinet in genetaing the leads ,hence the mode should be care to improve the efficiency\n",
    "  * Delivery_Mode 5 : Though generated good ammount of leads but 80% are non-potential."
   ]
  },
  {
   "cell_type": "code",
   "execution_count": 26,
   "metadata": {},
   "outputs": [
    {
     "data": {
      "text/plain": [
       "<matplotlib.axes._subplots.AxesSubplot at 0x109db0cf248>"
      ]
     },
     "execution_count": 26,
     "metadata": {},
     "output_type": "execute_result"
    },
    {
     "data": {
      "image/png": "[encoded data removed]",
      "text/plain": [
       "<Figure size 1440x720 with 1 Axes>"
      ]
     },
     "metadata": {
      "needs_background": "light"
     },
     "output_type": "display_data"
    }
   ],
   "source": [
    "rcParams['figure.figsize'] =20,10 \n",
    "crosstab_pid = pd.crosstab([df.Delivery_Mode],df.Status)\n",
    "crosstab_pid.plot(kind='barh',stacked=False,grid=True ,title='Delivery_Mode VS Status')"
   ]
  },
  {
   "cell_type": "markdown",
   "metadata": {},
   "source": [
    "## Label Encoding the data"
   ]
  },
  {
   "cell_type": "code",
   "execution_count": 27,
   "metadata": {},
   "outputs": [],
   "source": [
    "encoder =LabelEncoder()\n",
    "\n",
    "col_list=df.columns\n",
    "\n",
    "for i in col_list:\n",
    "    #df[i]=df[i].astype('str')\n",
    "    df[i]= encoder.fit_transform(df[i])"
   ]
  },
  {
   "cell_type": "markdown",
   "metadata": {},
   "source": [
    "### Check Multi Collinearity - using correlation on predictor continours variable"
   ]
  },
  {
   "cell_type": "code",
   "execution_count": 28,
   "metadata": {},
   "outputs": [
    {
     "name": "stdout",
     "output_type": "stream",
     "text": [
      "               Product_ID    Source  Sales_Agent  Location  Delivery_Mode  \\\n",
      "Product_ID       1.000000  0.020695     0.067880 -0.213664      -0.182203   \n",
      "Source           0.020695  1.000000    -0.036069  0.064242      -0.139205   \n",
      "Sales_Agent      0.067880 -0.036069     1.000000 -0.138623      -0.233541   \n",
      "Location        -0.213664  0.064242    -0.138623  1.000000       0.401989   \n",
      "Delivery_Mode   -0.182203 -0.139205    -0.233541  0.401989       1.000000   \n",
      "Status           0.117490 -0.042539     0.153338 -0.250346      -0.175367   \n",
      "\n",
      "                 Status  \n",
      "Product_ID     0.117490  \n",
      "Source        -0.042539  \n",
      "Sales_Agent    0.153338  \n",
      "Location      -0.250346  \n",
      "Delivery_Mode -0.175367  \n",
      "Status         1.000000  \n"
     ]
    },
    {
     "data": {
      "text/plain": [
       "<matplotlib.axes._subplots.AxesSubplot at 0x109db17f188>"
      ]
     },
     "execution_count": 28,
     "metadata": {},
     "output_type": "execute_result"
    },
    {
     "data": {
      "image/png": "[encoded data removed]",
      "text/plain": [
       "<Figure size 576x576 with 2 Axes>"
      ]
     },
     "metadata": {
      "needs_background": "light"
     },
     "output_type": "display_data"
    }
   ],
   "source": [
    "cormat = df.corr()\n",
    "print(cormat)\n",
    "plt.figure(figsize=(8,8))\n",
    "sb.heatmap(cormat,annot=True,cmap=\"Blues\")\n"
   ]
  },
  {
   "cell_type": "code",
   "execution_count": 29,
   "metadata": {},
   "outputs": [
    {
     "data": {
      "text/plain": [
       "<matplotlib.axes._subplots.AxesSubplot at 0x109db2b2248>"
      ]
     },
     "execution_count": 29,
     "metadata": {},
     "output_type": "execute_result"
    },
    {
     "data": {
      "image/png": "[encoded data removed]",
      "text/plain": [
       "<Figure size 360x360 with 2 Axes>"
      ]
     },
     "metadata": {},
     "output_type": "display_data"
    }
   ],
   "source": [
    "# pearsosn Corrleation : Continous variables\n",
    "# Spearman correlation to test multicolineaarity among categorical variables\n",
    "#Note : since Chi2 test has been done we can skip this\n",
    "    \n",
    "corr_list = df.corr(method='spearman').round(2)\n",
    "sb.set(style='white')\n",
    "mask = np.zeros_like(corr_list,dtype=np.bool)\n",
    "mask[np.triu_indices_from(mask)] =True\n",
    "\n",
    "rcParams['figure.figsize'] =5,5\n",
    "sb.heatmap(corr_list ,annot=True,mask=mask,cmap=sb.diverging_palette(220,10,as_cmap=True),vmax=0.3)\n",
    "\n",
    "# where evenr the value of r>0.75 ,it means very high correlation,so we can delete that\n",
    "#In this case no strong correlation so no multicollinearity\n",
    "# We can conclude that there is no multicollinearity among the categorical vars"
   ]
  },
  {
   "cell_type": "markdown",
   "metadata": {},
   "source": [
    "## Checking if each caategorical var has a statistically significant association with caategorical outcome var\n",
    "\n",
    "### Below sample is just for one we have to do for every combination of i/p and target var"
   ]
  },
  {
   "cell_type": "code",
   "execution_count": 30,
   "metadata": {},
   "outputs": [
    {
     "name": "stdout",
     "output_type": "stream",
     "text": [
      "======================\n",
      "Chi  for  Product_ID :  794.2020178065721\n",
      "P-Value  Product_ID :  7.210693068389772e-130\n",
      "dof : Product_ID :  58\n",
      "======================\n",
      "Chi  for  Source :  576.5832849875077\n",
      "P-Value  Source :  1.1950737812701062e-90\n",
      "dof : Source :  50\n",
      "======================\n",
      "Chi  for  Sales_Agent :  433.50474054906374\n",
      "P-Value  Sales_Agent :  9.607173972966126e-77\n",
      "dof : Sales_Agent :  24\n",
      "======================\n",
      "Chi  for  Location :  699.1041078910192\n",
      "P-Value  Location :  3.866590230166336e-125\n",
      "dof : Location :  34\n",
      "======================\n",
      "Chi  for  Delivery_Mode :  314.98404735488145\n",
      "P-Value  Delivery_Mode :  1.051976829264423e-61\n",
      "dof : Delivery_Mode :  10\n",
      "Status            0     1   All\n",
      "Delivery_Mode                  \n",
      "0              1629   998  2627\n",
      "1                 5     6    11\n",
      "2              1129   559  1688\n",
      "3                48    73   121\n",
      "4              2408   567  2975\n",
      "All            5219  2203  7422\n"
     ]
    }
   ],
   "source": [
    "# if P < 0.05 Null Hypothesis : there is  no assocaition b/w the var\n",
    "#P> 0.05 cant reject Ho and dependency exists\n",
    "#print(pd.crosstab(df.Product_ID ,df.Status))\n",
    "\n",
    "col_list = df.iloc[:,:-1]\n",
    "for c in col_list:\n",
    "    crosstab = pd.crosstab(df[c] ,df.Status,margins = True)\n",
    "    chi2,P,dof ,expected = stats.chi2_contingency(crosstab)\n",
    "    print(\"======================\")\n",
    "    print(\"Chi  for \" ,c ,\": \",chi2)\n",
    "    print(\"P-Value \" ,c ,\": \",P)\n",
    "    print(\"dof :\" ,c ,\": \",dof)  # Degree of Freedom\n",
    "#print(\"expected : \",expected)\n",
    "print(crosstab)"
   ]
  },
  {
   "cell_type": "code",
   "execution_count": 31,
   "metadata": {},
   "outputs": [
    {
     "data": {
      "text/html": [
       "<div>\n",
       "<style scoped>\n",
       "    .dataframe tbody tr th:only-of-type {\n",
       "        vertical-align: middle;\n",
       "    }\n",
       "\n",
       "    .dataframe tbody tr th {\n",
       "        vertical-align: top;\n",
       "    }\n",
       "\n",
       "    .dataframe thead th {\n",
       "        text-align: right;\n",
       "    }\n",
       "</style>\n",
       "<table border=\"1\" class=\"dataframe\">\n",
       "  <thead>\n",
       "    <tr style=\"text-align: right;\">\n",
       "      <th></th>\n",
       "      <th>Product_ID</th>\n",
       "      <th>Source</th>\n",
       "      <th>Sales_Agent</th>\n",
       "      <th>Location</th>\n",
       "      <th>Delivery_Mode</th>\n",
       "    </tr>\n",
       "  </thead>\n",
       "  <tbody>\n",
       "    <tr>\n",
       "      <td>0</td>\n",
       "      <td>10</td>\n",
       "      <td>24</td>\n",
       "      <td>2</td>\n",
       "      <td>10</td>\n",
       "      <td>4</td>\n",
       "    </tr>\n",
       "    <tr>\n",
       "      <td>1</td>\n",
       "      <td>10</td>\n",
       "      <td>24</td>\n",
       "      <td>1</td>\n",
       "      <td>10</td>\n",
       "      <td>4</td>\n",
       "    </tr>\n",
       "    <tr>\n",
       "      <td>2</td>\n",
       "      <td>10</td>\n",
       "      <td>24</td>\n",
       "      <td>1</td>\n",
       "      <td>10</td>\n",
       "      <td>4</td>\n",
       "    </tr>\n",
       "    <tr>\n",
       "      <td>3</td>\n",
       "      <td>10</td>\n",
       "      <td>24</td>\n",
       "      <td>1</td>\n",
       "      <td>10</td>\n",
       "      <td>4</td>\n",
       "    </tr>\n",
       "    <tr>\n",
       "      <td>4</td>\n",
       "      <td>10</td>\n",
       "      <td>24</td>\n",
       "      <td>1</td>\n",
       "      <td>10</td>\n",
       "      <td>4</td>\n",
       "    </tr>\n",
       "    <tr>\n",
       "      <td>...</td>\n",
       "      <td>...</td>\n",
       "      <td>...</td>\n",
       "      <td>...</td>\n",
       "      <td>...</td>\n",
       "      <td>...</td>\n",
       "    </tr>\n",
       "    <tr>\n",
       "      <td>7417</td>\n",
       "      <td>28</td>\n",
       "      <td>2</td>\n",
       "      <td>8</td>\n",
       "      <td>9</td>\n",
       "      <td>3</td>\n",
       "    </tr>\n",
       "    <tr>\n",
       "      <td>7418</td>\n",
       "      <td>7</td>\n",
       "      <td>2</td>\n",
       "      <td>3</td>\n",
       "      <td>10</td>\n",
       "      <td>4</td>\n",
       "    </tr>\n",
       "    <tr>\n",
       "      <td>7419</td>\n",
       "      <td>24</td>\n",
       "      <td>14</td>\n",
       "      <td>2</td>\n",
       "      <td>1</td>\n",
       "      <td>0</td>\n",
       "    </tr>\n",
       "    <tr>\n",
       "      <td>7420</td>\n",
       "      <td>14</td>\n",
       "      <td>1</td>\n",
       "      <td>6</td>\n",
       "      <td>10</td>\n",
       "      <td>0</td>\n",
       "    </tr>\n",
       "    <tr>\n",
       "      <td>7421</td>\n",
       "      <td>18</td>\n",
       "      <td>24</td>\n",
       "      <td>5</td>\n",
       "      <td>2</td>\n",
       "      <td>0</td>\n",
       "    </tr>\n",
       "  </tbody>\n",
       "</table>\n",
       "<p>7422 rows × 5 columns</p>\n",
       "</div>"
      ],
      "text/plain": [
       "      Product_ID  Source  Sales_Agent  Location  Delivery_Mode\n",
       "0             10      24            2        10              4\n",
       "1             10      24            1        10              4\n",
       "2             10      24            1        10              4\n",
       "3             10      24            1        10              4\n",
       "4             10      24            1        10              4\n",
       "...          ...     ...          ...       ...            ...\n",
       "7417          28       2            8         9              3\n",
       "7418           7       2            3        10              4\n",
       "7419          24      14            2         1              0\n",
       "7420          14       1            6        10              0\n",
       "7421          18      24            5         2              0\n",
       "\n",
       "[7422 rows x 5 columns]"
      ]
     },
     "execution_count": 31,
     "metadata": {},
     "output_type": "execute_result"
    }
   ],
   "source": [
    "col_list = df.iloc[:,:-1]\n",
    "col_list"
   ]
  },
  {
   "cell_type": "markdown",
   "metadata": {},
   "source": [
    "## Check if each Categorical predictor impacts continuous outcome variable\n",
    "If the class of predictor is dicotomous use t-test else Anova\n",
    "Usefull only in case of regression\n",
    "\n",
    "Should be done for every combination of predictor and outcome. \n",
    "All tests which have p-value<0.05,those predictors should be retained and others deleted"
   ]
  },
  {
   "cell_type": "markdown",
   "metadata": {},
   "source": [
    "# PCA could be done for dimen reduction \n",
    " \n",
    " PCA not required in this case"
   ]
  },
  {
   "cell_type": "markdown",
   "metadata": {},
   "source": [
    "## Feature Creation\n",
    "\n",
    " Done based on domain analysis\n",
    " * 1.Appropriate bin sized for converting continous var into categorical\n",
    " * 2.Combining categories\n",
    " * 3.Creating new featires based on linear transformations of other var eg :duration can g got bt diff of 2 dates\n",
    " * 4.Usefulness of varibale and metric\n",
    " "
   ]
  },
  {
   "cell_type": "markdown",
   "metadata": {},
   "source": [
    "NA"
   ]
  },
  {
   "cell_type": "markdown",
   "metadata": {},
   "source": [
    "# Attribute Transformation:\n",
    "\n",
    "Function that maps the entire set of values of a given attribute to a new set of replacement values such that each of old value can be identified  withone of new values\n",
    "* 1.SImple funs : x^k ,log(x) ,e^x , |x|\n",
    "* 2.Standardization(scales are diff) Z-score\n",
    "* 3.Normalization : Min-Max scale \n"
   ]
  },
  {
   "cell_type": "markdown",
   "metadata": {},
   "source": [
    "## Data Split"
   ]
  },
  {
   "cell_type": "code",
   "execution_count": 32,
   "metadata": {},
   "outputs": [],
   "source": [
    "X= df.iloc[:,0:-1]\n",
    "y=df['Status']\n",
    "\n",
    "X_train,X_test,y_train,y_test =tts(X ,y ,test_size=0.3 ,random_state=10)"
   ]
  },
  {
   "cell_type": "code",
   "execution_count": 33,
   "metadata": {},
   "outputs": [
    {
     "name": "stdout",
     "output_type": "stream",
     "text": [
      "(5195, 5)\n",
      "(5195,)\n",
      "(2227, 5)\n",
      "(2227,)\n"
     ]
    }
   ],
   "source": [
    "print(X_train.shape)\n",
    "print(y_train.shape)\n",
    "print(X_test.shape)\n",
    "print(y_test.shape)"
   ]
  },
  {
   "cell_type": "markdown",
   "metadata": {},
   "source": [
    "## Modelling"
   ]
  },
  {
   "cell_type": "code",
   "execution_count": 34,
   "metadata": {},
   "outputs": [],
   "source": [
    "from sklearn.linear_model import LogisticRegression\n",
    "from sklearn.neighbors import KNeighborsClassifier\n",
    "from sklearn.tree import DecisionTreeClassifier\n",
    "from sklearn.ensemble import RandomForestClassifier\n",
    "from sklearn.svm import SVC\n",
    "from xgboost import XGBClassifier\n",
    "from sklearn import model_selection\n",
    "\n",
    "from sklearn.metrics import accuracy_score ,confusion_matrix ,classification_report"
   ]
  },
  {
   "cell_type": "code",
   "execution_count": 35,
   "metadata": {},
   "outputs": [
    {
     "name": "stdout",
     "output_type": "stream",
     "text": [
      "LR: 0.716380 (0.015254)\n",
      "KNN: 0.711800 (0.016779)\n",
      "CART: 0.695231 (0.017942)\n",
      "RF: 0.708975 (0.010911)\n",
      "SVM: 0.720154 (0.010843)\n",
      "XGB: 0.720292 (0.010414)\n"
     ]
    }
   ],
   "source": [
    "#prepare models\n",
    "models =[]\n",
    "models.append(('LR',LogisticRegression()))\n",
    "models.append(('KNN',KNeighborsClassifier()))\n",
    "models.append(('CART',DecisionTreeClassifier()))\n",
    "models.append(('RF',RandomForestClassifier()))\n",
    "models.append(('SVM',SVC()))\n",
    "models.append(('XGB',XGBClassifier()))\n",
    "\n",
    "results=[]\n",
    "names=[]\n",
    "output=[]\n",
    "score ='accuracy'\n",
    "\n",
    "for name,model in models:\n",
    "    #kfold = model_selectcion.KFold(n_splits=10 ,random_state=10)\n",
    "    #and mention param cv=kfold in below line\n",
    "    cv_results = model_selection.cross_val_score(model,X,y,scoring=score)\n",
    "    results.append(cv_results)\n",
    "    names.append(name)\n",
    "    msg = \"%s: %f (%f)\" % (name,cv_results.mean(),cv_results.std())\n",
    "    output.append(msg)\n",
    "\n",
    "#Consider top 3 algorithms gives best accuracy\n",
    "    print(msg)"
   ]
  },
  {
   "cell_type": "code",
   "execution_count": 36,
   "metadata": {},
   "outputs": [
    {
     "data": {
      "text/plain": [
       "[Text(0, 0, 'LR'),\n",
       " Text(0, 0, 'KNN'),\n",
       " Text(0, 0, 'CART'),\n",
       " Text(0, 0, 'RF'),\n",
       " Text(0, 0, 'SVM'),\n",
       " Text(0, 0, 'XGB')]"
      ]
     },
     "execution_count": 36,
     "metadata": {},
     "output_type": "execute_result"
    },
    {
     "data": {
      "image/png": "[encoded data removed]",
      "text/plain": [
       "<Figure size 1080x360 with 1 Axes>"
      ]
     },
     "metadata": {},
     "output_type": "display_data"
    }
   ],
   "source": [
    "#boxplot algorithm comparision\n",
    "rcParams['figure.figsize'] =15,5\n",
    "fig=plt.figure()\n",
    "fig.suptitle(\"Algorithm Comparision\")\n",
    "ax=fig.add_subplot(111)\n",
    "plt.boxplot(results)\n",
    "ax.set_xticklabels(names)"
   ]
  },
  {
   "cell_type": "markdown",
   "metadata": {},
   "source": [
    "## Key Observations:\n",
    "\n",
    "SVM and XGBoost considered for further optimization"
   ]
  },
  {
   "cell_type": "markdown",
   "metadata": {},
   "source": [
    "### SVM"
   ]
  },
  {
   "cell_type": "code",
   "execution_count": 37,
   "metadata": {},
   "outputs": [
    {
     "data": {
      "text/plain": [
       "0.7274360125729681"
      ]
     },
     "execution_count": 37,
     "metadata": {},
     "output_type": "execute_result"
    }
   ],
   "source": [
    "model1=SVC(C=2 ,gamma=0.11 ,kernel='rbf',random_state=100)\n",
    "model1.fit(X_train,y_train)\n",
    "\n",
    "y_predict1= model1.predict(X_test)\n",
    "\n",
    "accuracy_score(y_test,y_predict1)\n"
   ]
  },
  {
   "cell_type": "markdown",
   "metadata": {},
   "source": [
    "from sklearn.model_selection import GridSearchCV\n",
    "\n",
    "params = { 'C' : [1,5,10],\n",
    "          'gamma' : [0.1,0.01,0.001],\n",
    "          'kernel':['rbf','linear','sigmoid']}\n",
    "cv =GridSearchCV(model1,params)\n",
    "cv.fit(X_train,y_train)"
   ]
  },
  {
   "cell_type": "markdown",
   "metadata": {},
   "source": [
    "print(\"Best Estimators : \",cv.best_estimator_)\n",
    "print(\"Best Score : \", cv.best_score_)\n",
    "print(\"Best Params : \",cv.best_params_)"
   ]
  },
  {
   "cell_type": "markdown",
   "metadata": {},
   "source": [
    "### XGBoost"
   ]
  },
  {
   "cell_type": "code",
   "execution_count": 38,
   "metadata": {},
   "outputs": [
    {
     "data": {
      "text/plain": [
       "0.7620116748989673"
      ]
     },
     "execution_count": 38,
     "metadata": {},
     "output_type": "execute_result"
    }
   ],
   "source": [
    "model = XGBClassifier(booster='gbtree',\n",
    "                       random_state=155,\n",
    "                       eta=0.11,\n",
    "                      max_depth=3,\n",
    "                      gamma=0.01,\n",
    "                      min_child_weight=3,\n",
    "                      colsample_bytree=0.5,\n",
    "                      base_score=0.7,\n",
    "                      learning_rate=0.2,\n",
    "                      num_parallel_tree=5\n",
    "                       )\n",
    "model.fit(X_train,y_train)\n",
    "y_predict= model.predict(X_test)\n",
    "accuracy_score(y_test,y_predict)"
   ]
  },
  {
   "cell_type": "code",
   "execution_count": 39,
   "metadata": {},
   "outputs": [
    {
     "name": "stdout",
     "output_type": "stream",
     "text": [
      "              precision    recall  f1-score   support\n",
      "\n",
      "           0       0.77      0.94      0.85      1552\n",
      "           1       0.72      0.35      0.47       675\n",
      "\n",
      "    accuracy                           0.76      2227\n",
      "   macro avg       0.75      0.64      0.66      2227\n",
      "weighted avg       0.76      0.76      0.73      2227\n",
      "\n",
      "col_0      0    1\n",
      "Status           \n",
      "0       1463   89\n",
      "1        441  234\n"
     ]
    }
   ],
   "source": [
    "print(classification_report(y_test,y_predict))\n",
    "print(pd.crosstab(y_test,y_predict))\n"
   ]
  },
  {
   "cell_type": "code",
   "execution_count": 40,
   "metadata": {},
   "outputs": [
    {
     "data": {
      "text/plain": [
       "Counter({0: 3667, 1: 1528})"
      ]
     },
     "execution_count": 40,
     "metadata": {},
     "output_type": "execute_result"
    }
   ],
   "source": [
    "type(y_train)\n",
    "\n",
    "y_train_11 =pd.DataFrame(y_train)\n",
    "y_train_11.columns\n",
    "Counter(y_train_11.Status)"
   ]
  },
  {
   "cell_type": "code",
   "execution_count": 41,
   "metadata": {},
   "outputs": [
    {
     "data": {
      "text/plain": [
       "<matplotlib.axes._subplots.AxesSubplot at 0x109db866088>"
      ]
     },
     "execution_count": 41,
     "metadata": {},
     "output_type": "execute_result"
    },
    {
     "data": {
      "image/png": "[encoded data removed]",
      "text/plain": [
       "<Figure size 720x360 with 1 Axes>"
      ]
     },
     "metadata": {},
     "output_type": "display_data"
    }
   ],
   "source": [
    "FeatureImportancel =pd.DataFrame({'Feature' : df.iloc[:,:-1] , 'Importance' : model.feature_importances_*100})\n",
    "\n",
    "FeatureImportancel=FeatureImportancel.sort_values(by='Importance',axis=0,ascending=False)\n",
    "\n",
    "FeatureImportancel.plot(x='Feature',\n",
    "                       y='Importance',\n",
    "                       kind='bar',\n",
    "                       grid=True,\n",
    "                       title=\"Features VS Influence on Model\",\n",
    "                       figsize=(10,5))"
   ]
  },
  {
   "cell_type": "code",
   "execution_count": 42,
   "metadata": {},
   "outputs": [],
   "source": [
    "#Merge all data into a single Data FRame index to oroginal split row index\n",
    "\n",
    "#y1_predict = pd.DataFrame(y)"
   ]
  },
  {
   "cell_type": "code",
   "execution_count": 43,
   "metadata": {},
   "outputs": [
    {
     "data": {
      "text/plain": [
       "(2227, 2)"
      ]
     },
     "execution_count": 43,
     "metadata": {},
     "output_type": "execute_result"
    }
   ],
   "source": [
    "#Define Result lists\n",
    "y_test = pd.DataFrame(y_test)\n",
    "y_predict = pd.DataFrame(y_predict ,columns =['y_Predict_Status'])\n",
    "Proba =model.predict_proba(X_test)\n",
    "Proba.shape"
   ]
  },
  {
   "cell_type": "code",
   "execution_count": 44,
   "metadata": {},
   "outputs": [
    {
     "data": {
      "text/html": [
       "<div>\n",
       "<style scoped>\n",
       "    .dataframe tbody tr th:only-of-type {\n",
       "        vertical-align: middle;\n",
       "    }\n",
       "\n",
       "    .dataframe tbody tr th {\n",
       "        vertical-align: top;\n",
       "    }\n",
       "\n",
       "    .dataframe thead th {\n",
       "        text-align: right;\n",
       "    }\n",
       "</style>\n",
       "<table border=\"1\" class=\"dataframe\">\n",
       "  <thead>\n",
       "    <tr style=\"text-align: right;\">\n",
       "      <th></th>\n",
       "      <th>0</th>\n",
       "      <th>1</th>\n",
       "    </tr>\n",
       "  </thead>\n",
       "  <tbody>\n",
       "    <tr>\n",
       "      <td>0</td>\n",
       "      <td>0.984188</td>\n",
       "      <td>0.015812</td>\n",
       "    </tr>\n",
       "    <tr>\n",
       "      <td>1</td>\n",
       "      <td>0.512792</td>\n",
       "      <td>0.487208</td>\n",
       "    </tr>\n",
       "    <tr>\n",
       "      <td>2</td>\n",
       "      <td>0.807018</td>\n",
       "      <td>0.192982</td>\n",
       "    </tr>\n",
       "    <tr>\n",
       "      <td>3</td>\n",
       "      <td>0.522130</td>\n",
       "      <td>0.477870</td>\n",
       "    </tr>\n",
       "    <tr>\n",
       "      <td>4</td>\n",
       "      <td>0.526411</td>\n",
       "      <td>0.473589</td>\n",
       "    </tr>\n",
       "  </tbody>\n",
       "</table>\n",
       "</div>"
      ],
      "text/plain": [
       "          0         1\n",
       "0  0.984188  0.015812\n",
       "1  0.512792  0.487208\n",
       "2  0.807018  0.192982\n",
       "3  0.522130  0.477870\n",
       "4  0.526411  0.473589"
      ]
     },
     "execution_count": 44,
     "metadata": {},
     "output_type": "execute_result"
    }
   ],
   "source": [
    "Proba =pd.DataFrame(Proba)\n",
    "Proba.head()"
   ]
  },
  {
   "cell_type": "code",
   "execution_count": 45,
   "metadata": {},
   "outputs": [
    {
     "data": {
      "text/html": [
       "<div>\n",
       "<style scoped>\n",
       "    .dataframe tbody tr th:only-of-type {\n",
       "        vertical-align: middle;\n",
       "    }\n",
       "\n",
       "    .dataframe tbody tr th {\n",
       "        vertical-align: top;\n",
       "    }\n",
       "\n",
       "    .dataframe thead th {\n",
       "        text-align: right;\n",
       "    }\n",
       "</style>\n",
       "<table border=\"1\" class=\"dataframe\">\n",
       "  <thead>\n",
       "    <tr style=\"text-align: right;\">\n",
       "      <th></th>\n",
       "      <th>y_test</th>\n",
       "      <th>y_predict</th>\n",
       "      <th>Proba_0</th>\n",
       "      <th>Proba_1</th>\n",
       "    </tr>\n",
       "  </thead>\n",
       "  <tbody>\n",
       "    <tr>\n",
       "      <td>0</td>\n",
       "      <td>0.0</td>\n",
       "      <td>0.0</td>\n",
       "      <td>0.984188</td>\n",
       "      <td>0.015812</td>\n",
       "    </tr>\n",
       "    <tr>\n",
       "      <td>1</td>\n",
       "      <td>1.0</td>\n",
       "      <td>0.0</td>\n",
       "      <td>0.512792</td>\n",
       "      <td>0.487208</td>\n",
       "    </tr>\n",
       "    <tr>\n",
       "      <td>2</td>\n",
       "      <td>0.0</td>\n",
       "      <td>0.0</td>\n",
       "      <td>0.807018</td>\n",
       "      <td>0.192982</td>\n",
       "    </tr>\n",
       "    <tr>\n",
       "      <td>3</td>\n",
       "      <td>0.0</td>\n",
       "      <td>0.0</td>\n",
       "      <td>0.522130</td>\n",
       "      <td>0.477870</td>\n",
       "    </tr>\n",
       "    <tr>\n",
       "      <td>4</td>\n",
       "      <td>0.0</td>\n",
       "      <td>0.0</td>\n",
       "      <td>0.526411</td>\n",
       "      <td>0.473589</td>\n",
       "    </tr>\n",
       "  </tbody>\n",
       "</table>\n",
       "</div>"
      ],
      "text/plain": [
       "   y_test  y_predict   Proba_0   Proba_1\n",
       "0     0.0        0.0  0.984188  0.015812\n",
       "1     1.0        0.0  0.512792  0.487208\n",
       "2     0.0        0.0  0.807018  0.192982\n",
       "3     0.0        0.0  0.522130  0.477870\n",
       "4     0.0        0.0  0.526411  0.473589"
      ]
     },
     "execution_count": 45,
     "metadata": {},
     "output_type": "execute_result"
    }
   ],
   "source": [
    "ConsolidatedData1 = np.concatenate([np.array(y_test),np.array(y_predict),np.array(Proba)],axis=1)\n",
    "ConsolidatedData1 = pd.DataFrame(ConsolidatedData1,columns=['y_test','y_predict','Proba_0','Proba_1'])\n",
    "ConsolidatedData1 = pd.DataFrame(ConsolidatedData1)\n",
    "ConsolidatedData1.head()"
   ]
  },
  {
   "cell_type": "code",
   "execution_count": 46,
   "metadata": {
    "scrolled": true
   },
   "outputs": [
    {
     "name": "stdout",
     "output_type": "stream",
     "text": [
      "y_predict   0.0  1.0\n",
      "y_test              \n",
      "0.0        1463   89\n",
      "1.0         441  234\n",
      "              precision    recall  f1-score   support\n",
      "\n",
      "         0.0       0.77      0.94      0.85      1552\n",
      "         1.0       0.72      0.35      0.47       675\n",
      "\n",
      "    accuracy                           0.76      2227\n",
      "   macro avg       0.75      0.64      0.66      2227\n",
      "weighted avg       0.76      0.76      0.73      2227\n",
      "\n"
     ]
    },
    {
     "data": {
      "text/plain": [
       "y_test       2227\n",
       "y_predict    2227\n",
       "Proba_0      2227\n",
       "Proba_1      2227\n",
       "dtype: int64"
      ]
     },
     "execution_count": 46,
     "metadata": {},
     "output_type": "execute_result"
    }
   ],
   "source": [
    "print(pd.crosstab(ConsolidatedData1.y_test,ConsolidatedData1.y_predict))\n",
    "print(classification_report(ConsolidatedData1.y_test,ConsolidatedData1.y_predict))\n",
    "ConsolidatedData1.count()\n",
    "\n",
    "# We could see that Recall is high now "
   ]
  },
  {
   "cell_type": "code",
   "execution_count": 47,
   "metadata": {},
   "outputs": [
    {
     "data": {
      "text/html": [
       "<div>\n",
       "<style scoped>\n",
       "    .dataframe tbody tr th:only-of-type {\n",
       "        vertical-align: middle;\n",
       "    }\n",
       "\n",
       "    .dataframe tbody tr th {\n",
       "        vertical-align: top;\n",
       "    }\n",
       "\n",
       "    .dataframe thead th {\n",
       "        text-align: right;\n",
       "    }\n",
       "</style>\n",
       "<table border=\"1\" class=\"dataframe\">\n",
       "  <thead>\n",
       "    <tr style=\"text-align: right;\">\n",
       "      <th></th>\n",
       "      <th>Threshold</th>\n",
       "      <th>Accuracy</th>\n",
       "      <th>Recall</th>\n",
       "      <th>Precision</th>\n",
       "    </tr>\n",
       "  </thead>\n",
       "  <tbody>\n",
       "    <tr>\n",
       "      <td>45</td>\n",
       "      <td>0.5</td>\n",
       "      <td>76.201167</td>\n",
       "      <td>34.666667</td>\n",
       "      <td>72.44582</td>\n",
       "    </tr>\n",
       "  </tbody>\n",
       "</table>\n",
       "</div>"
      ],
      "text/plain": [
       "    Threshold   Accuracy     Recall  Precision\n",
       "45        0.5  76.201167  34.666667   72.44582"
      ]
     },
     "execution_count": 47,
     "metadata": {},
     "output_type": "execute_result"
    }
   ],
   "source": [
    "#Define Result lists\n",
    "\n",
    "Accuracy =[]\n",
    "Recall =[]\n",
    "Precision=[]\n",
    "Threshold =[]\n",
    "\n",
    "#Set new col to zero\n",
    "ConsolidatedData1['y_Pred_new'] =0\n",
    "\n",
    "#Loop to evaluate the threshold\n",
    "for i in range(5,95,1):\n",
    "    ConsolidatedData1.loc[ConsolidatedData1.Proba_1 > i/100 , 'y_Pred_new']=1\n",
    "    z = pd.crosstab(ConsolidatedData1.y_test , ConsolidatedData1.y_Pred_new)\n",
    "    #print(z)\n",
    "    Threshold.append(i/100)\n",
    "    Accuracy.append(((z[0][0] + z[1][1])/(z[0][0]+z[0][1]+z[1][0]+z[1][1])) *100)\n",
    "    Precision.append((z[1][1]/(z[1][0]+z[1][1]))*100)\n",
    "    Recall.append((z[1][1]/(z[0][1]+z[1][1]))*100)\n",
    "    ConsolidatedData1['y_Pred_new']=0\n",
    "\n",
    "#Convert the lists into a single data frame\n",
    "\n",
    "Result = pd.DataFrame({'Threshold' : Threshold ,\n",
    "                      'Accuracy' : Accuracy,\n",
    "                      'Recall':Recall,\n",
    "                      'Precision':Precision})\n",
    "Result.loc[Result.Accuracy > 76]\n",
    "\n",
    "    "
   ]
  },
  {
   "cell_type": "code",
   "execution_count": 48,
   "metadata": {},
   "outputs": [
    {
     "data": {
      "text/plain": [
       "<matplotlib.axes._subplots.AxesSubplot at 0x109e3ad7a88>"
      ]
     },
     "execution_count": 48,
     "metadata": {},
     "output_type": "execute_result"
    },
    {
     "data": {
      "image/png": "[encoded data removed]",
      "text/plain": [
       "<Figure size 720x360 with 1 Axes>"
      ]
     },
     "metadata": {},
     "output_type": "display_data"
    }
   ],
   "source": [
    "Result.plot(x='Threshold',\n",
    "           y=['Accuracy','Recall','Precision'],\n",
    "           kind='line',\n",
    "           grid=True,\n",
    "           title='Threshold VS Accuracy/Reca5ll/Precisioin',\n",
    "           legend=True,\n",
    "           figsize =(10,5))\n",
    "\n",
    "#Choose threshold as 0.5 as its giving better accuracy:"
   ]
  },
  {
   "cell_type": "markdown",
   "metadata": {},
   "source": [
    "## Approach 1: Code for prediction based on custom threshold\n",
    "\n",
    "Classifications\n",
    "\n",
    "Use Test Data and optimise for recall .Interpret confusion matrix as below\n",
    "\n",
    "TP =Potential\n",
    "TN = Not Potential\n",
    "FN+TN = Not Sure"
   ]
  },
  {
   "cell_type": "code",
   "execution_count": 49,
   "metadata": {},
   "outputs": [
    {
     "name": "stdout",
     "output_type": "stream",
     "text": [
      "Counter({'NotSure': 872, 'NotPotential': 758, 'Potential': 597})\n",
      "   y_test  y_predict   Proba_0   Proba_1  y_Pred_new   FinalStatus\n",
      "0     0.0        0.0  0.984188  0.015812           0  NotPotential\n",
      "1     1.0        0.0  0.512792  0.487208           1     Potential\n",
      "2     0.0        0.0  0.807018  0.192982           0  NotPotential\n",
      "3     0.0        0.0  0.522130  0.477870           1       NotSure\n",
      "4     0.0        0.0  0.526411  0.473589           1       NotSure\n"
     ]
    }
   ],
   "source": [
    "#Set threshold to avove choosen value\n",
    "\n",
    "CustomThreshold =0.2\n",
    "\n",
    "#Set New prediction column to zero\n",
    "ConsolidatedData1['y_Pred_new'] =0\n",
    "\n",
    "#Set ConsolidatedData1 across all the rows have proba>1 threshold to 1\n",
    "ConsolidatedData1.loc[ConsolidatedData1.Proba_1> CustomThreshold,'y_Pred_new']=1\n",
    "\n",
    "#Update Appropriate status\n",
    "ConsolidatedData1['FinalStatus'] =\"\"\n",
    "ConsolidatedData1.loc[(ConsolidatedData1.y_test==1) & (ConsolidatedData1.y_Pred_new==1) ,'FinalStatus'] ='Potential'\n",
    "ConsolidatedData1.loc[(ConsolidatedData1.y_test==0) & (ConsolidatedData1.y_Pred_new==0) ,'FinalStatus'] ='NotPotential'\n",
    "ConsolidatedData1.loc[(ConsolidatedData1.y_test==1) & (ConsolidatedData1.y_Pred_new==0) ,'FinalStatus'] ='NotSure'\n",
    "ConsolidatedData1.loc[(ConsolidatedData1.y_test==0) & (ConsolidatedData1.y_Pred_new==1) ,'FinalStatus'] ='NotSure'\n",
    "\n",
    "print(Counter(ConsolidatedData1.FinalStatus))\n",
    "print(ConsolidatedData1.head())\n",
    "\n",
    "#ConsolidatedData1.drop('y_Predict_new' ,axis=1,inplace=True)\n"
   ]
  },
  {
   "cell_type": "code",
   "execution_count": 50,
   "metadata": {},
   "outputs": [
    {
     "name": "stdout",
     "output_type": "stream",
     "text": [
      "CuttOff = 0.5 : \n",
      " y_predict   0.0  1.0\n",
      "y_test              \n",
      "0.0        1463   89\n",
      "1.0         441  234\n",
      "--------Incresed the precision as we changed the cut-off from 0.5 to 0.2------\n",
      "\n",
      " CuttOff = 0.2 : \n",
      " y_Pred_new    0    1\n",
      "y_test              \n",
      "0.0         758  794\n",
      "1.0          78  597\n",
      "\n",
      " \n",
      "               precision    recall  f1-score   support\n",
      "\n",
      "         0.0       0.91      0.49      0.63      1552\n",
      "         1.0       0.43      0.88      0.58       675\n",
      "\n",
      "    accuracy                           0.61      2227\n",
      "   macro avg       0.67      0.69      0.61      2227\n",
      "weighted avg       0.76      0.61      0.62      2227\n",
      "\n"
     ]
    }
   ],
   "source": [
    "print(\"CuttOff = 0.5 : \\n\" ,pd.crosstab(ConsolidatedData1.y_test ,ConsolidatedData1.y_predict))\n",
    "print(\"--------Incresed the precision as we changed the cut-off from 0.5 to 0.2------\")\n",
    "print(\"\\n CuttOff = 0.2 : \\n\" ,pd.crosstab(ConsolidatedData1.y_test ,ConsolidatedData1.y_Pred_new))\n",
    "print(\"\\n \\n\" ,classification_report(ConsolidatedData1.y_test ,ConsolidatedData1.y_Pred_new))\n",
    "\n",
    "#"
   ]
  },
  {
   "cell_type": "markdown",
   "metadata": {},
   "source": [
    "##  We tweaking the precision of the model"
   ]
  },
  {
   "cell_type": "markdown",
   "metadata": {},
   "source": [
    "# Approach 2:\n",
    "Use non potential data +Incorrect classified data from approach 1\n",
    "Interpret Confusion Matrix as follows\n",
    "\n",
    "TP : Not Sure\n",
    "TN : Not Potential (definite not potential)\n",
    "FN +TN : Not Sure"
   ]
  },
  {
   "cell_type": "code",
   "execution_count": 63,
   "metadata": {},
   "outputs": [
    {
     "data": {
      "text/html": [
       "<div>\n",
       "<style scoped>\n",
       "    .dataframe tbody tr th:only-of-type {\n",
       "        vertical-align: middle;\n",
       "    }\n",
       "\n",
       "    .dataframe tbody tr th {\n",
       "        vertical-align: top;\n",
       "    }\n",
       "\n",
       "    .dataframe thead th {\n",
       "        text-align: right;\n",
       "    }\n",
       "</style>\n",
       "<table border=\"1\" class=\"dataframe\">\n",
       "  <thead>\n",
       "    <tr style=\"text-align: right;\">\n",
       "      <th></th>\n",
       "      <th>Product_ID</th>\n",
       "      <th>Source</th>\n",
       "      <th>Sales_Agent</th>\n",
       "      <th>Location</th>\n",
       "      <th>Delivery_Mode</th>\n",
       "      <th>Status</th>\n",
       "    </tr>\n",
       "  </thead>\n",
       "  <tbody>\n",
       "    <tr>\n",
       "      <td>0</td>\n",
       "      <td>10</td>\n",
       "      <td>24</td>\n",
       "      <td>2</td>\n",
       "      <td>10</td>\n",
       "      <td>4</td>\n",
       "      <td>0</td>\n",
       "    </tr>\n",
       "    <tr>\n",
       "      <td>1</td>\n",
       "      <td>10</td>\n",
       "      <td>24</td>\n",
       "      <td>1</td>\n",
       "      <td>10</td>\n",
       "      <td>4</td>\n",
       "      <td>0</td>\n",
       "    </tr>\n",
       "    <tr>\n",
       "      <td>2</td>\n",
       "      <td>10</td>\n",
       "      <td>24</td>\n",
       "      <td>1</td>\n",
       "      <td>10</td>\n",
       "      <td>4</td>\n",
       "      <td>0</td>\n",
       "    </tr>\n",
       "    <tr>\n",
       "      <td>3</td>\n",
       "      <td>10</td>\n",
       "      <td>24</td>\n",
       "      <td>1</td>\n",
       "      <td>10</td>\n",
       "      <td>4</td>\n",
       "      <td>0</td>\n",
       "    </tr>\n",
       "    <tr>\n",
       "      <td>4</td>\n",
       "      <td>10</td>\n",
       "      <td>24</td>\n",
       "      <td>1</td>\n",
       "      <td>10</td>\n",
       "      <td>4</td>\n",
       "      <td>0</td>\n",
       "    </tr>\n",
       "  </tbody>\n",
       "</table>\n",
       "</div>"
      ],
      "text/plain": [
       "   Product_ID  Source  Sales_Agent  Location  Delivery_Mode  Status\n",
       "0          10      24            2        10              4       0\n",
       "1          10      24            1        10              4       0\n",
       "2          10      24            1        10              4       0\n",
       "3          10      24            1        10              4       0\n",
       "4          10      24            1        10              4       0"
      ]
     },
     "execution_count": 63,
     "metadata": {},
     "output_type": "execute_result"
    }
   ],
   "source": [
    "#Select all rows need to be reprocessed in iteration 2\n",
    "#df3 =df.loc[(df_temp.index)]`\n",
    "#df3.head()\n",
    "\n",
    "df3 =df_temp\n",
    "df3.head()"
   ]
  },
  {
   "cell_type": "markdown",
   "metadata": {},
   "source": [
    "## Modelling"
   ]
  },
  {
   "cell_type": "code",
   "execution_count": 64,
   "metadata": {},
   "outputs": [],
   "source": [
    "X2 = df3.iloc[:,:-1]\n",
    "y2 =df3.Status\n",
    "\n",
    "X2_train,X2_test,y2_train,y2_test = tts(X2,y2,random_state=100,test_size=0.25)"
   ]
  },
  {
   "cell_type": "code",
   "execution_count": 68,
   "metadata": {},
   "outputs": [
    {
     "name": "stdout",
     "output_type": "stream",
     "text": [
      "(3914, 5)\n",
      "(1305, 5)\n",
      "(3914,)\n",
      "(1305,)\n"
     ]
    }
   ],
   "source": [
    "X2.head()\n",
    "print( X2_train.shape)\n",
    "print( X2_test.shape)\n",
    "print( y2_train.shape)\n",
    "print( y2_test.shape)\n"
   ]
  },
  {
   "cell_type": "code",
   "execution_count": 69,
   "metadata": {},
   "outputs": [
    {
     "data": {
      "text/plain": [
       "1.0"
      ]
     },
     "execution_count": 69,
     "metadata": {},
     "output_type": "execute_result"
    }
   ],
   "source": [
    "\n",
    "model_2 = XGBClassifier(booster='gbtree',\n",
    "                       random_state=155,\n",
    "                       eta=0.11,\n",
    "                      max_depth=3,\n",
    "                      gamma=0.01,\n",
    "                      min_child_weight=3,\n",
    "                      colsample_bytree=0.5,\n",
    "                      base_score=0.7,\n",
    "                      learning_rate=0.2,\n",
    "                      num_parallel_tree=5\n",
    "                       )\n",
    "model_2.fit(X2_train,y2_train)\n",
    "y2_predict= model_2.predict(X2_test)\n",
    "accuracy_score(y2_test,y2_predict)"
   ]
  },
  {
   "cell_type": "code",
   "execution_count": 70,
   "metadata": {},
   "outputs": [
    {
     "name": "stdout",
     "output_type": "stream",
     "text": [
      "[[1305]]\n",
      "Accuracy_score : 100.0\n"
     ]
    }
   ],
   "source": [
    "#Assign test to boosting test data\n",
    "#Since Precision for zero is already 95% we don need any further cut off analysis\n",
    "\n",
    "\n",
    "#y1_predict = model_2.predict(X1_test)\n",
    "print(confusion_matrix(y2_test,y2_predict))\n",
    "print(\"Accuracy_score :\"  ,accuracy_score(y2_test,y2_predict).round(4)*100)"
   ]
  },
  {
   "cell_type": "code",
   "execution_count": 71,
   "metadata": {},
   "outputs": [
    {
     "name": "stdout",
     "output_type": "stream",
     "text": [
      "              precision    recall  f1-score   support\n",
      "\n",
      "           0       1.00      1.00      1.00      1305\n",
      "\n",
      "    accuracy                           1.00      1305\n",
      "   macro avg       1.00      1.00      1.00      1305\n",
      "weighted avg       1.00      1.00      1.00      1305\n",
      "\n"
     ]
    }
   ],
   "source": [
    "print(classification_report(y2_test,y2_predict))\n"
   ]
  },
  {
   "cell_type": "code",
   "execution_count": null,
   "metadata": {},
   "outputs": [],
   "source": []
  }
 ],
 "metadata": {
  "kernelspec": {
   "display_name": "Python 3",
   "language": "python",
   "name": "python3"
  },
  "language_info": {
   "codemirror_mode": {
    "name": "ipython",
    "version": 3
   },
   "file_extension": ".py",
   "mimetype": "text/x-python",
   "name": "python",
   "nbconvert_exporter": "python",
   "pygments_lexer": "ipython3",
   "version": "3.7.6"
  }
 },
 "nbformat": 4,
 "nbformat_minor": 2
}
