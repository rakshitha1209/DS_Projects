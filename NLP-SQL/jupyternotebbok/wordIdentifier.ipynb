{
 "cells": [
  {
   "cell_type": "code",
   "execution_count": 1,
   "metadata": {
    "collapsed": true
   },
   "outputs": [
    {
     "name": "stdout",
     "output_type": "stream",
     "text": [
      "Requirement already satisfied: nltk in c:\\users\\shubhangi sakarkar\\anaconda3\\envs\\nlpsql\\lib\\site-packages (3.3)\n",
      "Requirement already satisfied: six in c:\\users\\shubhangi sakarkar\\anaconda3\\envs\\nlpsql\\lib\\site-packages (from nltk) (1.15.0)\n"
     ]
    }
   ],
   "source": [
    "! pip install nltk"
   ]
  },
  {
   "cell_type": "code",
   "execution_count": 2,
   "metadata": {},
   "outputs": [],
   "source": [
    "import nltk\n",
    "def wordIdentifier(query):\n",
    " \n",
    "    #fucntion of nltk package which tokenizes sentences into words\n",
    "    tokens=nltk.word_tokenize(query)\n",
    "    print(tokens)\n",
    "\n",
    "    #tags tokens with associatd figure of speech(like CD,VB,NN etc)\n",
    "    tagged=nltk.pos_tag(tokens)\n",
    "    print(tagged)\n",
    "    keywords=[]\n",
    "    numerals=[]\n",
    "    tags = ['NN', 'NNS', 'NNP', 'NNPS', 'JJ']\n",
    "    for i in tagged:\n",
    "        if i[1] in tags:\n",
    "            keywords.append(i[0])\n",
    "        elif i[1] == 'CD':\n",
    "            numerals.append(i[0])\n",
    "    return tokens,keywords,tagged,numerals"
   ]
  }
 ],
 "metadata": {
  "kernelspec": {
   "display_name": "Python 3",
   "language": "python",
   "name": "python3"
  },
  "language_info": {
   "codemirror_mode": {
    "name": "ipython",
    "version": 3
   },
   "file_extension": ".py",
   "mimetype": "text/x-python",
   "name": "python",
   "nbconvert_exporter": "python",
   "pygments_lexer": "ipython3",
   "version": "3.7.7"
  }
 },
 "nbformat": 4,
 "nbformat_minor": 4
}
