{
 "cells": [
  {
   "cell_type": "code",
   "execution_count": 4,
   "metadata": {},
   "outputs": [],
   "source": [
    "attributeList={\n",
    "#Table=student\n",
    "#key value\n",
    "'name':['superstore.CustomerName','superstore.Segment','superstore.City','superstore.Country'\n",
    "        'superstore.State','superstore.Market','superstore.Region','superstore.Category','superstore.SubCategory'\n",
    "        'superstore.ProductName'],\n",
    "'orderid':['superstore.OrderID'],\n",
    "'orderdate':['superstore.OrderDate'],\n",
    "'ship':['superstore.ShipDate'],\n",
    "'shipment':   ['superstore.ShipDate'],\n",
    "'shipdate':['superstore.ShipDate'],\n",
    "'shipmentmode':['superstore.ShipMode'],\n",
    "'Shipmode':['superstore.ShipMode'],\n",
    "'customerid':['superstore.CustomerID'],\n",
    "'cif':['superstore.CustomerID'],\n",
    "'cno':['superstore.CustomerID'],\n",
    "'segment':['superstore.Segment'],\n",
    "'city': ['superstore.City'],\n",
    "'state': ['superstore.State'],\n",
    "'country': ['superstore.Country'],\n",
    "'market': ['superstore.Market'],\n",
    "'region': ['superstore.Region'],\n",
    "'productid': ['superstore.ProductID'],\n",
    "'category': ['superstore.Category'],\n",
    "'subcategory': ['superstore.SubCategory'],\n",
    "'productname': ['superstore.ProductName'],\n",
    "'product':['superstore.ProductName'],\n",
    "'sales': ['superstore.Sales'],\n",
    "'sale': ['superstore.Sales'],\n",
    "'subcat': ['superstore.SubCategory'],\n",
    "'quantity':['superstore.Quantity'],\n",
    "'quantities':['superstore.Quantity'],\n",
    "'number':['superstore.Qauntity'],\n",
    "'discount':['superstore.Discount'],\n",
    "'profit':['superstore.Profit'],\n",
    "'shippingcost':['superstore.ShippingCost'],\n",
    "'Shipmentfee':['superstore.ShippingCost'],\n",
    "'orderpriority':['superstore.OrderPriority'],\n",
    "'priority':['superstore.OrderPriority']\n",
    "}\n"
   ]
  }
 ],
 "metadata": {
  "kernelspec": {
   "display_name": "Python 3",
   "language": "python",
   "name": "python3"
  },
  "language_info": {
   "codemirror_mode": {
    "name": "ipython",
    "version": 3
   },
   "file_extension": ".py",
   "mimetype": "text/x-python",
   "name": "python",
   "nbconvert_exporter": "python",
   "pygments_lexer": "ipython3",
   "version": "3.7.7"
  }
 },
 "nbformat": 4,
 "nbformat_minor": 4
}
