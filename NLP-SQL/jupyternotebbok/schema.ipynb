{
 "cells": [
  {
   "cell_type": "code",
   "execution_count": 2,
   "metadata": {},
   "outputs": [],
   "source": [
    "tableAttributeList={\n",
    "#attributerelation\n",
    "'superstore.Segment': 'superstore',\n",
    " 'superstore.OrderID' : 'superstore',\n",
    " 'superstore.OrderDate': 'superstore',\n",
    " 'superstore.ShipDate': 'superstore',\n",
    " 'superstore.ShipMode' : 'superstore',\n",
    " 'superstore.CustomerID' : 'superstore',\n",
    " 'superstore.CustomerName' : 'superstore',\n",
    " 'superstore.City' : 'superstore',\n",
    " 'superstore.State' : 'superstore',\n",
    " 'superstore.Country' : 'superstore',\n",
    "    \n",
    " 'superstore.Market': 'superstore',\n",
    " 'superstore.Region' : 'superstore',\n",
    " 'superstore.ProductID': 'superstore',\n",
    " 'superstore.Category': 'superstore',\n",
    " 'superstore.SubCategory' : 'superstore',\n",
    " 'superstore.ProductName' : 'superstore',\n",
    " 'superstore.Sales' : 'superstore',\n",
    " 'superstore.Quantity' : 'superstore',\n",
    " 'superstore.Discount' : 'superstore',\n",
    " 'superstore.Profit' : 'superstore',\n",
    "   \n",
    " 'superstore.ShippingCost' : 'superstore',\n",
    " 'superstore.OrderPriority' : 'superstore'\n",
    "}\n"
   ]
  }
 ],
 "metadata": {
  "kernelspec": {
   "display_name": "Python 3",
   "language": "python",
   "name": "python3"
  },
  "language_info": {
   "codemirror_mode": {
    "name": "ipython",
    "version": 3
   },
   "file_extension": ".py",
   "mimetype": "text/x-python",
   "name": "python",
   "nbconvert_exporter": "python",
   "pygments_lexer": "ipython3",
   "version": "3.7.7"
  }
 },
 "nbformat": 4,
 "nbformat_minor": 4
}
