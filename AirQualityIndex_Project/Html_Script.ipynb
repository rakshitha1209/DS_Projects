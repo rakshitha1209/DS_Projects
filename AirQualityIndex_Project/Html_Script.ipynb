{
 "cells": [
  {
   "cell_type": "markdown",
   "metadata": {},
   "source": [
    "# Fetch data : Input/Independant variables\n",
    "\n",
    "* en.tutiempo.net/climate  -->climate -->Asia -->India -->Banglore\n",
    "* Target var obtained from weathermap.com"
   ]
  },
  {
   "cell_type": "code",
   "execution_count": 1,
   "metadata": {},
   "outputs": [],
   "source": [
    "import os\n",
    "import time\n",
    "import requests #download the page in form of HTML\n",
    "import sys #system argument"
   ]
  },
  {
   "cell_type": "code",
   "execution_count": 3,
   "metadata": {},
   "outputs": [],
   "source": [
    "def retrieve_html():\n",
    "    for year in range(2013,2019):\n",
    "        for month in range(1,13):\n",
    "            if (month <10):\n",
    "                 url = 'https://en.tutiempo.net/climate/0{}-{}/ws-432950.html'.format(month,year)\n",
    "            else: \n",
    "                 url = 'https://en.tutiempo.net/climate/{}-{}/ws-432950.html'.format(month,year)\n",
    "                \n",
    "            texts = requests.get(url)\n",
    "            text_utf = texts.text.encode('utf=8')\n",
    "\n",
    "            if not os.path.exists(\"Data/Html_Data/{}\".format(year)):\n",
    "                os.makedirs(\"Data/Html_Data/{}\".format(year))\n",
    "            with open(\"Data/Html_Data/{}/{}.html\".format(year,month),\"wb\") as output:\n",
    "                output.write(text_utf)   #open any folder\n",
    "        sys.stdout.flush()"
   ]
  },
  {
   "cell_type": "markdown",
   "metadata": {},
   "source": [
    "https://en.tutiempo.net/climate/01-2013/ws-432950.html https://en.tutiempo.net/climate/0%i-%i/ws-432950.html'.format(month,year)\n",
    "\n",
    "Instead of %i we can also write {}-placehokder ,1st placeholder replced by month n 2nd placceholder by year"
   ]
  },
  {
   "cell_type": "code",
   "execution_count": 4,
   "metadata": {},
   "outputs": [
    {
     "name": "stdout",
     "output_type": "stream",
     "text": [
      "Time Taken 64.81150722503662 \n"
     ]
    }
   ],
   "source": [
    "if __name__ == \"__main__\":\n",
    "    start_time =time.time()\n",
    "    retrieve_html()\n",
    "    stop_time = time.time()\n",
    "    print(\"Time Taken {} \".format(stop_time - start_time))"
   ]
  },
  {
   "cell_type": "code",
   "execution_count": null,
   "metadata": {},
   "outputs": [],
   "source": []
  },
  {
   "cell_type": "code",
   "execution_count": null,
   "metadata": {},
   "outputs": [],
   "source": []
  }
 ],
 "metadata": {
  "kernelspec": {
   "display_name": "Python 3",
   "language": "python",
   "name": "python3"
  },
  "language_info": {
   "codemirror_mode": {
    "name": "ipython",
    "version": 3
   },
   "file_extension": ".py",
   "mimetype": "text/x-python",
   "name": "python",
   "nbconvert_exporter": "python",
   "pygments_lexer": "ipython3",
   "version": "3.7.6"
  }
 },
 "nbformat": 4,
 "nbformat_minor": 4
}
