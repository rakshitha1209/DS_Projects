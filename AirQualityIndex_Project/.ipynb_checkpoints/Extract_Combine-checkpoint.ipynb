{
 "cells": [
  {
   "cell_type": "code",
   "execution_count": 45,
   "metadata": {},
   "outputs": [
    {
     "ename": "ModuleNotFoundError",
     "evalue": "No module named 'AQI_FetchTarget'",
     "output_type": "error",
     "traceback": [
      "\u001b[1;31m---------------------------------------------------------------------------\u001b[0m",
      "\u001b[1;31mModuleNotFoundError\u001b[0m                       Traceback (most recent call last)",
      "\u001b[1;32m<ipython-input-45-4668ba787483>\u001b[0m in \u001b[0;36m<module>\u001b[1;34m\u001b[0m\n\u001b[1;32m----> 1\u001b[1;33m \u001b[1;32mfrom\u001b[0m \u001b[0mAQI_FetchTarget\u001b[0m \u001b[1;32mimport\u001b[0m \u001b[0mavg_data_2013\u001b[0m\u001b[1;33m,\u001b[0m\u001b[0mavg_data_2014\u001b[0m\u001b[1;33m,\u001b[0m\u001b[0mavg_data_2015\u001b[0m\u001b[1;33m,\u001b[0m\u001b[0mavg_data_2016\u001b[0m\u001b[1;33m\u001b[0m\u001b[1;33m\u001b[0m\u001b[0m\n\u001b[0m\u001b[0;32m      2\u001b[0m \u001b[1;32mimport\u001b[0m \u001b[0mrequests\u001b[0m\u001b[1;33m\u001b[0m\u001b[1;33m\u001b[0m\u001b[0m\n\u001b[0;32m      3\u001b[0m \u001b[1;32mimport\u001b[0m \u001b[0msys\u001b[0m \u001b[1;31m# SYstem library\u001b[0m\u001b[1;33m\u001b[0m\u001b[1;33m\u001b[0m\u001b[0m\n\u001b[0;32m      4\u001b[0m \u001b[1;32mimport\u001b[0m \u001b[0mos\u001b[0m\u001b[1;33m\u001b[0m\u001b[1;33m\u001b[0m\u001b[0m\n\u001b[0;32m      5\u001b[0m \u001b[1;32mimport\u001b[0m \u001b[0mcsv\u001b[0m\u001b[1;33m\u001b[0m\u001b[1;33m\u001b[0m\u001b[0m\n",
      "\u001b[1;31mModuleNotFoundError\u001b[0m: No module named 'AQI_FetchTarget'"
     ]
    }
   ],
   "source": [
    "from AQI_FetchTarget import avg_data_2013,avg_data_2014,avg_data_2015,avg_data_2016\n",
    "import requests\n",
    "import sys # SYstem library\n",
    "import os\n",
    "import csv\n",
    "import pandas as pd\n",
    "from bs4 import BeautifulSoup"
   ]
  },
  {
   "cell_type": "markdown",
   "metadata": {},
   "source": [
    "Meta_data : Web scrape the required data from HTML file\n"
   ]
  },
  {
   "cell_type": "code",
   "execution_count": 37,
   "metadata": {},
   "outputs": [],
   "source": [
    "def meta_data(month ,year):\n",
    "    \n",
    "    file_html = open(\"Data/Html_Data/{}/{}.html\".format(year,month), 'rb') #open file in ReadByte (rb) mode\n",
    "    plain_text = file_html.read() #read data from file n store in var\n",
    "    \n",
    "    tempD = []\n",
    "    finalD = []\n",
    "    \n",
    "    soup = BeautifulSoup(plain_text ,\"lxml\") # initialize BeautifulSoup\n",
    "    for table in soup.findAll('table' , {'class' : 'medias mensuales numspan'}):\n",
    "        for tbody in table:\n",
    "            for tr in tbody:\n",
    "                a = tr.get_text()\n",
    "                tempD.append(a)\n",
    "    \n",
    "    rows = len(tempD)/15 # 15 is num f features\n",
    "    \n",
    "    for times in range(round(rows)):\n",
    "        newtempD=[]\n",
    "        for i in range(15):\n",
    "            newtempD.append(tempD[0])\n",
    "            tempD.pop(0)\n",
    "        finalD.append(newtempD)\n",
    "        \n",
    "    length = len(finalD)\n",
    "    \n",
    "    finalD.pop(length -1 )\n",
    "    finalD.pop(0)\n",
    "    \n",
    "    for a in range(len(finalD)):\n",
    "        finalD[a].pop(6)\n",
    "        finalD[a].pop(13)\n",
    "        finalD[a].pop(12)\n",
    "        finalD[a].pop(11)\n",
    "        finalD[a].pop(10)\n",
    "        finalD[a].pop(9)\n",
    "        finalD[a].pop(0)\n",
    "        \n",
    "    return finalD"
   ]
  },
  {
   "cell_type": "code",
   "execution_count": 38,
   "metadata": {},
   "outputs": [],
   "source": [
    "if __name__ == \"__main__\":\n",
    "    if not os.path.exists(\"Data/Real_Data\"):\n",
    "        os.makedirs(\"Data/Real_Data\")\n",
    "    for year in range(2013,2017):\n",
    "        final_data = []\n",
    "        \n",
    "        with open(\"Data/Real_Data/real_\"+ str(year) + '.csv' ,'w') as csvfile:\n",
    "            wr = csv.writer(csvfile , dialect ='excel') #styling like in excel formamt\n",
    "            wr.writerow(['T','TM','Tm','SLP','H','VV','V','VM','PM 2.5'])\n",
    "        for month in range(1,13):\n",
    "            temp = meta_data(month,year)\n",
    "            final_data = final_data + temp\n",
    "            \n",
    "        #pm = getattr(sys.modules[__name__] , 'avg_data({})'.format(year)())\n",
    "        pm = avg_data(year)\n",
    "        \n",
    "        if len(pm) == 364:\n",
    "            pm.insert(364 , '-')\n",
    "        \n",
    "        for i in range(len(final_data)-1):\n",
    "            final_data[i].insert(8,pm[i])\n",
    "        \n",
    "        with open('Data/Real_Data/real_' + str(year) + '.csv' ,'a') as csvfile:\n",
    "            wr = csv.writer(csvfile ,dialect='excel')\n",
    "            for row in final_data:\n",
    "                flag=0\n",
    "                \n",
    "                for elem in row:\n",
    "                    if elem == \"\" or elem == \"-\":\n",
    "                        flag=1\n",
    "                if flag  != 1:\n",
    "                    wr.writerow(row)\n",
    "    data_2013 = data_combine(2013 ,660)  #chunksize can take diff val like 400\n",
    "    data_2014 = data_combine(2014 ,660)  \n",
    "    data_2015 = data_combine(2015 ,660)  \n",
    "    data_2016 = data_combine(2016 ,660)  \n",
    "    \n",
    "    total = data_2013 + data_2014 + data_2015 + data_2016\n",
    "    \n",
    "    \n",
    "    with open('Data/Real_Data/Real_Combine.csv' ,'w') as csvfile:\n",
    "        wr = csv.writer(csvfile , dialect='excel')\n",
    "        wr.writerow(\n",
    "            ['T','TM','Tm','SLP','H','VV','V','VM','PM 2.5'])\n",
    "        wr.writerows(total)"
   ]
  },
  {
   "cell_type": "code",
   "execution_count": 39,
   "metadata": {},
   "outputs": [],
   "source": [
    "def data_combine(year , cs ): #cs: chunksize\n",
    "    for a in pd.read_csv('Data/Real_Data/real_' + str(year) + '.csv' ,chunksize=cs):\n",
    "        df = pd.DataFrame(data=a)\n",
    "        mylist = df.values.tolist()\n",
    "    return mylist "
   ]
  },
  {
   "cell_type": "code",
   "execution_count": 40,
   "metadata": {},
   "outputs": [
    {
     "data": {
      "text/html": [
       "<div>\n",
       "<style scoped>\n",
       "    .dataframe tbody tr th:only-of-type {\n",
       "        vertical-align: middle;\n",
       "    }\n",
       "\n",
       "    .dataframe tbody tr th {\n",
       "        vertical-align: top;\n",
       "    }\n",
       "\n",
       "    .dataframe thead th {\n",
       "        text-align: right;\n",
       "    }\n",
       "</style>\n",
       "<table border=\"1\" class=\"dataframe\">\n",
       "  <thead>\n",
       "    <tr style=\"text-align: right;\">\n",
       "      <th></th>\n",
       "      <th>T</th>\n",
       "      <th>TM</th>\n",
       "      <th>Tm</th>\n",
       "      <th>SLP</th>\n",
       "      <th>H</th>\n",
       "      <th>VV</th>\n",
       "      <th>V</th>\n",
       "      <th>VM</th>\n",
       "      <th>PM 2.5</th>\n",
       "    </tr>\n",
       "  </thead>\n",
       "  <tbody>\n",
       "  </tbody>\n",
       "</table>\n",
       "</div>"
      ],
      "text/plain": [
       "Empty DataFrame\n",
       "Columns: [T, TM, Tm, SLP, H, VV, V, VM, PM 2.5]\n",
       "Index: []"
      ]
     },
     "execution_count": 40,
     "metadata": {},
     "output_type": "execute_result"
    }
   ],
   "source": [
    "df = pd.read_csv('Data/Real_Data/Real_Combine.csv')\n",
    "df.head()"
   ]
  },
  {
   "cell_type": "code",
   "execution_count": 36,
   "metadata": {},
   "outputs": [
    {
     "data": {
      "text/plain": [
       "[['23.4', '30.3', '19', '-', '59', '6.3', '4.3', '5.4'],\n",
       " ['22.4', '30.3', '16.9', '-', '57', '6.9', '3.3', '7.6'],\n",
       " ['24', '31.8', '16.9', '-', '51', '6.9', '2.8', '5.4'],\n",
       " ['', '', '', '', '', '', '', ''],\n",
       " ['', '', '', '', '', '', '', ''],\n",
       " ['', '', '', '', '', '', '', ''],\n",
       " ['22.8', '30.2', '17.6', '-', '55', '7.7', '3.7', '7.6'],\n",
       " ['23.1', '30.6', '17.4', '-', '46', '6.9', '3.3', '5.4'],\n",
       " ['22.9', '30.6', '17.4', '-', '51', '6.9', '3.5', '3.5'],\n",
       " ['', '', '', '', '', '', '', ''],\n",
       " ['', '', '', '', '', '', '', ''],\n",
       " ['', '', '', '', '', '', '', ''],\n",
       " ['22.3', '30.1', '15.7', '-', '43', '6.9', '2.8', '5.4'],\n",
       " ['21.8', '30.6', '14.8', '-', '41', '6.9', '1.9', '5.4'],\n",
       " ['21.6', '30.6', '14.2', '-', '43', '6.9', '3.1', '7.6'],\n",
       " ['', '', '', '', '', '', '', ''],\n",
       " ['', '', '', '', '', '', '', ''],\n",
       " ['', '', '', '', '', '', '', ''],\n",
       " ['21.6', '29.6', '16.4', '-', '58', '6.9', '2.2', '3.5'],\n",
       " ['21.9', '29.6', '16.6', '-', '58', '6.9', '2.4', '5.4'],\n",
       " ['22.3', '29.9', '17.5', '-', '55', '6.9', '3.1', '5.4'],\n",
       " ['', '', '', '', '', '', '', ''],\n",
       " ['', '', '', '', '', '', '', ''],\n",
       " ['', '', '', '', '', '', '', ''],\n",
       " ['21.6', '29.1', '15.5', '-', '47', '7.7', '4.8', '7.6'],\n",
       " ['21.8', '29.2', '14.6', '-', '41', '6.9', '2.8', '3.5'],\n",
       " ['22.3', '30.1', '15.6', '-', '40', '6.9', '2.4', '5.4'],\n",
       " ['', '', '', '', '', '', '', ''],\n",
       " ['', '', '', '', '', '', '', ''],\n",
       " ['', '', '', '', '', '', '', ''],\n",
       " ['22.1', '29.8', '17.3', '-', '54', '6.9', '5.2', '9.4']]"
      ]
     },
     "execution_count": 36,
     "metadata": {},
     "output_type": "execute_result"
    }
   ],
   "source": [
    "file_html = open(\"Data/Html_Data/{}/{}.html\".format(2013,1), 'rb') #open file in ReadByte (rb) mode\n",
    "plain_text = file_html.read() #read data from file n store in var\n",
    "    \n",
    "tempD = []\n",
    "finalD = []\n",
    "\n",
    "soup = BeautifulSoup(plain_text ,\"lxml\") # initialize BeautifulSoup\n",
    "for table in soup.findAll('table' , {'class' : 'medias mensuales numspan'}):\n",
    "    for tbody in table:\n",
    "        for tr in tbody:\n",
    "            a = tr.get_text()\n",
    "            tempD.append(a)\n",
    "\n",
    "rows = len(tempD)/15 # 15 is num f features\n",
    "\n",
    "for times in range(round(rows)):\n",
    "    newtempD=[]\n",
    "    for i in range(15):\n",
    "        newtempD.append(tempD[0])\n",
    "        tempD.pop(0)\n",
    "    finalD.append(newtempD)\n",
    "\n",
    "length = len(finalD)\n",
    "\n",
    "finalD.pop(length -1 )\n",
    "finalD.pop(0)\n",
    "\n",
    "for a in range(len(finalD)):\n",
    "    finalD[a].pop(6)\n",
    "    finalD[a].pop(13)\n",
    "    finalD[a].pop(12)\n",
    "    finalD[a].pop(11)\n",
    "    finalD[a].pop(10)\n",
    "    finalD[a].pop(9)\n",
    "    finalD[a].pop(0)\n",
    "finalD"
   ]
  },
  {
   "cell_type": "code",
   "execution_count": null,
   "metadata": {},
   "outputs": [],
   "source": []
  },
  {
   "cell_type": "code",
   "execution_count": null,
   "metadata": {},
   "outputs": [],
   "source": []
  }
 ],
 "metadata": {
  "kernelspec": {
   "display_name": "Python 3",
   "language": "python",
   "name": "python3"
  },
  "language_info": {
   "codemirror_mode": {
    "name": "ipython",
    "version": 3
   },
   "file_extension": ".py",
   "mimetype": "text/x-python",
   "name": "python",
   "nbconvert_exporter": "python",
   "pygments_lexer": "ipython3",
   "version": "3.7.6"
  }
 },
 "nbformat": 4,
 "nbformat_minor": 4
}
