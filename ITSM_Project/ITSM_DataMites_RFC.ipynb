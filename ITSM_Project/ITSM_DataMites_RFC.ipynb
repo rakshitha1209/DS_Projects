{
 "cells": [
  {
   "cell_type": "markdown",
   "metadata": {},
   "source": [
    "# Predictinng Request For Change(RFC)\n",
    "\n",
    "## Predict RFC (Request for change) and possible failure / misconfiguration of ITSM assets."
   ]
  },
  {
   "cell_type": "raw",
   "metadata": {},
   "source": [
    "Data Munging :\n",
    "    --> For Columns 'Category' ,'CI_Subcat' ,'WBS' ,'Priority' cleaning is same as before\n",
    "    --> Columns \"No_of_Related_Changes\" have \"46046\" empty strinig values ,hence replacing these values with '1' (after refering to column \"No_of_Related_Interactions\" and deriving the similarity b/w the columns ,replacing the empty values with 1)\n",
    "\n",
    "\n",
    "Modelling : RandomForest Algorithm\n",
    "    --> Input variables :'Category' ,'CI_Subcat' ,'WBS' ,   'Priority','No_of_Related_Interactions','No_of_Related_Incidents'\n",
    "    --> Target Variable : No_of_Related_Changes\n",
    "    -->Both RF and MLPClassifier achieves accuracy_score of 0.99%"
   ]
  },
  {
   "cell_type": "markdown",
   "metadata": {},
   "source": [
    "### DB connection"
   ]
  },
  {
   "cell_type": "code",
   "execution_count": 50,
   "metadata": {},
   "outputs": [
    {
     "data": {
      "text/plain": [
       "['dataset_list']"
      ]
     },
     "execution_count": 50,
     "metadata": {},
     "output_type": "execute_result"
    }
   ],
   "source": [
    "from sqlalchemy import create_engine\n",
    "import pandas as pd\n",
    "\n",
    "db_host = '18.136.56.185'\n",
    "username ='dm_team'\n",
    "pwd='dm_team123#'\n",
    "db_name='project_itsm'\n",
    "\n",
    "#Connecting to SQL DB\n",
    "conn =create_engine('mysql+pymysql://'+username+':'+pwd+'@'+db_host+'/'+db_name)\n",
    "conn.table_names()"
   ]
  },
  {
   "cell_type": "markdown",
   "metadata": {},
   "source": [
    "### Loading data"
   ]
  },
  {
   "cell_type": "code",
   "execution_count": 76,
   "metadata": {},
   "outputs": [
    {
     "name": "stdout",
     "output_type": "stream",
     "text": [
      "(46606, 25)\n"
     ]
    },
    {
     "data": {
      "text/plain": [
       "Index(['CI_Name', 'CI_Cat', 'CI_Subcat', 'WBS', 'Incident_ID', 'Status',\n",
       "       'Impact', 'Urgency', 'Priority', 'number_cnt', 'Category', 'KB_number',\n",
       "       'Alert_Status', 'No_of_Reassignments', 'Open_Time', 'Reopen_Time',\n",
       "       'Resolved_Time', 'Close_Time', 'Handle_Time_hrs', 'Closure_Code',\n",
       "       'No_of_Related_Interactions', 'Related_Interaction',\n",
       "       'No_of_Related_Incidents', 'No_of_Related_Changes', 'Related_Change'],\n",
       "      dtype='object')"
      ]
     },
     "execution_count": 76,
     "metadata": {},
     "output_type": "execute_result"
    }
   ],
   "source": [
    "query ='select * from dataset_list '\n",
    "df =pd.read_sql(query,conn)\n",
    "print(df.shape)\n",
    "df.head(2)\n",
    "df.columns"
   ]
  },
  {
   "cell_type": "code",
   "execution_count": 70,
   "metadata": {},
   "outputs": [
    {
     "name": "stdout",
     "output_type": "stream",
     "text": [
      "Counter({'1': 46582, '2': 21, '3': 2, '9': 1})\n"
     ]
    },
    {
     "data": {
      "text/plain": [
       "CI_Name                       object\n",
       "CI_Cat                        object\n",
       "CI_Subcat                      int64\n",
       "WBS                            int64\n",
       "Incident_ID                   object\n",
       "Status                        object\n",
       "Impact                        object\n",
       "Urgency                       object\n",
       "Priority                      object\n",
       "number_cnt                    object\n",
       "Category                       int64\n",
       "KB_number                     object\n",
       "Alert_Status                  object\n",
       "No_of_Reassignments           object\n",
       "Open_Time                     object\n",
       "Reopen_Time                   object\n",
       "Resolved_Time                 object\n",
       "Close_Time                    object\n",
       "Handle_Time_hrs               object\n",
       "Closure_Code                  object\n",
       "No_of_Related_Interactions    object\n",
       "Related_Interaction           object\n",
       "No_of_Related_Incidents       object\n",
       "No_of_Related_Changes         object\n",
       "Related_Change                object\n",
       "dtype: object"
      ]
     },
     "execution_count": 70,
     "metadata": {},
     "output_type": "execute_result"
    }
   ],
   "source": [
    "df.head(5)\n",
    "df.columns\n",
    "print(Counter(df['No_of_Related_Changes']))\n",
    "df.dtypes"
   ]
  },
  {
   "cell_type": "markdown",
   "metadata": {},
   "source": [
    "### Data Munging"
   ]
  },
  {
   "cell_type": "markdown",
   "metadata": {},
   "source": [
    "####  \"CI_Subcat\" column "
   ]
  },
  {
   "cell_type": "code",
   "execution_count": 53,
   "metadata": {},
   "outputs": [
    {
     "data": {
      "text/plain": [
       "Counter({'Web Based Application': 15311,\n",
       "         'Desktop Application': 3876,\n",
       "         'Server Based Application': 18922,\n",
       "         'SAP': 1199,\n",
       "         'Client Based Application': 492,\n",
       "         'Citrix': 767,\n",
       "         'Standard Application': 85,\n",
       "         'Windows Server': 153,\n",
       "         'Laptop': 1921,\n",
       "         'Linux Server': 55,\n",
       "         'Monitor': 212,\n",
       "         'Automation Software': 55,\n",
       "         'SAN': 549,\n",
       "         'Banking Device': 916,\n",
       "         'Desktop': 423,\n",
       "         'Database': 211,\n",
       "         'Oracle Server': 3,\n",
       "         'Keyboard': 27,\n",
       "         'Printer': 88,\n",
       "         'Exchange': 130,\n",
       "         'System Software': 272,\n",
       "         'VDI': 9,\n",
       "         'Encryption': 45,\n",
       "         'Omgeving': 86,\n",
       "         'MigratieDummy': 60,\n",
       "         'Scanner': 64,\n",
       "         'Controller': 146,\n",
       "         'DataCenterEquipment': 277,\n",
       "         'KVM Switches': 32,\n",
       "         'Switch': 28,\n",
       "         'Database Software': 4,\n",
       "         'Network Component': 32,\n",
       "         'Unix Server': 7,\n",
       "         'Lines': 15,\n",
       "         'ESX Cluster': 11,\n",
       "         'zOS Server': 4,\n",
       "         'SharePoint Farm': 11,\n",
       "         'NonStop Server': 14,\n",
       "         'Application Server': 1,\n",
       "         'Security Software': 1,\n",
       "         'Thin Client': 6,\n",
       "         'zOS Cluster': 17,\n",
       "         'Router': 16,\n",
       "         'VMWare': 1,\n",
       "         'Net Device': 11,\n",
       "         'Neoview Server': 1,\n",
       "         'MQ Queue Manager': 4,\n",
       "         'UPS': 1,\n",
       "         'Number': 2,\n",
       "         'Iptelephony': 1,\n",
       "         'Windows Server in extern beheer': 1,\n",
       "         'Modem': 3,\n",
       "         'X86 Server': 10,\n",
       "         'ESX Server': 2,\n",
       "         'Virtual Tape Server': 1,\n",
       "         'IPtelephony': 2,\n",
       "         'NonStop Harddisk': 2,\n",
       "         'Firewall': 2,\n",
       "         'RAC Service': 1,\n",
       "         'zOS Systeem': 2,\n",
       "         'Instance': 2,\n",
       "         'NonStop Storage': 1,\n",
       "         'Protocol': 1,\n",
       "         'Tape Library': 2})"
      ]
     },
     "execution_count": 53,
     "metadata": {},
     "output_type": "execute_result"
    }
   ],
   "source": [
    "from collections import Counter\n",
    "import numpy as np\n",
    "from scipy import stats\n",
    "\n",
    "mode_val=stats.mode(df['CI_Subcat']).mode\n",
    "\n",
    "# CI_Subcat field cleaning \n",
    "Counter(df.CI_Subcat)\n",
    "df.CI_Subcat.isnull().sum()\n",
    "\n",
    "#Replacing empty srting values of 111 records of CI_Subcat column  with mode\n",
    "\n",
    "df['CI_Subcat'] = np.where((df.CI_Cat == ''), mode_val ,df.CI_Subcat)\n",
    "Counter(df['CI_Subcat'])\n",
    "\n",
    "df.dropna(inplace=True)\n",
    "\n",
    "df.isnull().sum()\n",
    "Counter(df['CI_Subcat'])"
   ]
  },
  {
   "cell_type": "markdown",
   "metadata": {},
   "source": [
    "#### Cleaning column 'Priority' ,'WBS' , 'No_of_Related_Interactions','No_of_Related_Incidents' ,'Category'"
   ]
  },
  {
   "cell_type": "code",
   "execution_count": 54,
   "metadata": {},
   "outputs": [
    {
     "name": "stdout",
     "output_type": "stream",
     "text": [
      "Counter({'': 46046, '1': 536, '2': 21, '3': 2, '9': 1})\n"
     ]
    },
    {
     "data": {
      "text/plain": [
       "Counter({'1': 43058,\n",
       "         '2': 2736,\n",
       "         '3': 429,\n",
       "         '14': 2,\n",
       "         '7': 12,\n",
       "         '4': 124,\n",
       "         '5': 30,\n",
       "         '370': 1,\n",
       "         '9': 5,\n",
       "         '11': 2,\n",
       "         '54': 1,\n",
       "         '': 114,\n",
       "         '288': 1,\n",
       "         '34': 2,\n",
       "         '44': 2,\n",
       "         '39': 2,\n",
       "         '12': 6,\n",
       "         '42': 3,\n",
       "         '6': 16,\n",
       "         '8': 6,\n",
       "         '28': 2,\n",
       "         '29': 2,\n",
       "         '13': 4,\n",
       "         '18': 2,\n",
       "         '20': 5,\n",
       "         '15': 3,\n",
       "         '31': 1,\n",
       "         '88': 1,\n",
       "         '30': 1,\n",
       "         '41': 1,\n",
       "         '74': 1,\n",
       "         '16': 2,\n",
       "         '24': 1,\n",
       "         '17': 2,\n",
       "         '57': 1,\n",
       "         '33': 2,\n",
       "         '10': 3,\n",
       "         '118': 1,\n",
       "         '45': 2,\n",
       "         '55': 1,\n",
       "         '40': 1,\n",
       "         '19': 3,\n",
       "         '22': 3,\n",
       "         '23': 2,\n",
       "         '37': 1,\n",
       "         '26': 2,\n",
       "         '43': 1,\n",
       "         '25': 1,\n",
       "         '27': 1,\n",
       "         '21': 1})"
      ]
     },
     "execution_count": 54,
     "metadata": {},
     "output_type": "execute_result"
    }
   ],
   "source": [
    "print(Counter(df.No_of_Related_Changes))\n",
    "Counter(df.No_of_Related_Interactions)\n"
   ]
  },
  {
   "cell_type": "code",
   "execution_count": 60,
   "metadata": {},
   "outputs": [
    {
     "name": "stdout",
     "output_type": "stream",
     "text": [
      "Counter({'1': 46582, '2': 21, '3': 2, '9': 1})\n"
     ]
    },
    {
     "data": {
      "text/plain": [
       "Counter({'1': 46582, '2': 21, '3': 2, '9': 1})"
      ]
     },
     "execution_count": 60,
     "metadata": {},
     "output_type": "execute_result"
    }
   ],
   "source": [
    "#------------Priority : for 'NA' values in Priority replcaing with respecctive Urgency vals\n",
    "Counter(df.Priority)\n",
    "df['Priority'] = np.where((df['Priority']== 'NA') , df['Urgency'],df['Priority'])\n",
    "\n",
    "#-------------No_of_Related_Interactions : replace empty values with '1'\n",
    "Counter(df.No_of_Related_Interactions)\n",
    "df['No_of_Related_Interactions'] = np.where((df.No_of_Related_Interactions == ''),'1',df.No_of_Related_Interactions)\n",
    "\n",
    "#------------No_of_Related_Incidents : replace empty values with '1'\n",
    "Counter(df.No_of_Related_Incidents) \n",
    "df['No_of_Related_Incidents'] = np.where((df.No_of_Related_Incidents == ''),'1',df.No_of_Related_Incidents)\n",
    "\n",
    "#----------Category\n",
    "Counter(df.Category)\n",
    "\n",
    "#----------No_of_Related_Changes\n",
    "Counter(df.No_of_Related_Changes)\n",
    "df['No_of_Reassignments'] = np.where((df.No_of_Reassignments == ''),'1',df.No_of_Reassignments)\n",
    "\n",
    "#----------No_of_Related_Changes\n",
    "df['No_of_Related_Changes'] = np.where((df.No_of_Related_Changes == ''),'1',df.No_of_Related_Changes)\n",
    "print(Counter(df.No_of_Reassignments))\n",
    "Counter(df.No_of_Related_Changes)"
   ]
  },
  {
   "cell_type": "markdown",
   "metadata": {},
   "source": [
    "## Label Encoding of columns\n"
   ]
  },
  {
   "cell_type": "code",
   "execution_count": 61,
   "metadata": {},
   "outputs": [],
   "source": [
    "from sklearn.preprocessing import LabelEncoder\n",
    "\n",
    "li = ['Category','CI_Subcat','WBS']\n",
    "encoder =LabelEncoder()\n",
    "\n",
    "for i in li:\n",
    "    df[i] = encoder.fit_transform(df[i])\n"
   ]
  },
  {
   "cell_type": "markdown",
   "metadata": {},
   "source": [
    "## Define X and y : train_test_split"
   ]
  },
  {
   "cell_type": "code",
   "execution_count": 71,
   "metadata": {},
   "outputs": [],
   "source": [
    "x1 = ['Category' ,'CI_Subcat' ,'WBS' ,'Priority','No_of_Related_Interactions','No_of_Related_Incidents']"
   ]
  },
  {
   "cell_type": "code",
   "execution_count": 72,
   "metadata": {},
   "outputs": [],
   "source": [
    "X = df.loc[: , x1]\n",
    "y =df.No_of_Related_Changes"
   ]
  },
  {
   "cell_type": "code",
   "execution_count": 73,
   "metadata": {},
   "outputs": [
    {
     "data": {
      "text/plain": [
       "37182    1\n",
       "39573    1\n",
       "1595     1\n",
       "42983    1\n",
       "32730    1\n",
       "        ..\n",
       "40059    1\n",
       "28017    1\n",
       "29199    1\n",
       "40061    1\n",
       "17673    1\n",
       "Name: No_of_Related_Changes, Length: 32624, dtype: object"
      ]
     },
     "execution_count": 73,
     "metadata": {},
     "output_type": "execute_result"
    }
   ],
   "source": [
    "from sklearn.model_selection import train_test_split as tts\n",
    "\n",
    "X_train,X_test,y_train,y_test = tts(X ,y ,test_size=0.3 ,random_state=10)\n",
    "y_train"
   ]
  },
  {
   "cell_type": "markdown",
   "metadata": {},
   "source": [
    "## PCA to determine column signficance"
   ]
  },
  {
   "cell_type": "code",
   "execution_count": 65,
   "metadata": {},
   "outputs": [],
   "source": [
    "from sklearn.preprocessing import StandardScaler\n",
    "scaler =StandardScaler()\n",
    "X_std = scaler.fit_transform(X)"
   ]
  },
  {
   "cell_type": "code",
   "execution_count": 66,
   "metadata": {},
   "outputs": [
    {
     "name": "stdout",
     "output_type": "stream",
     "text": [
      "Index(['Category', 'CI_Subcat', 'WBS', 'Priority',\n",
      "       'No_of_Related_Interactions', 'No_of_Related_Incidents',\n",
      "       'No_of_Related_Changes'],\n",
      "      dtype='object')\n",
      "[0.21545527 0.1625542  0.15567206 0.14253404 0.13011628 0.12011841\n",
      " 0.07354974]\n",
      "[1.50821923 1.13790385 1.08972782 0.9977597  0.9108335  0.84084688\n",
      " 0.51485921]\n"
     ]
    }
   ],
   "source": [
    "from sklearn.decomposition import PCA\n",
    "pca =PCA()\n",
    "X1 = pd.DataFrame(pca.fit_transform(X_std))\n",
    "\n",
    "print(X.columns)\n",
    "print(pca.explained_variance_ratio_)\n",
    "print(pca.explained_variance_)"
   ]
  },
  {
   "cell_type": "markdown",
   "metadata": {},
   "source": [
    "## Define model : MLPClassifier"
   ]
  },
  {
   "cell_type": "code",
   "execution_count": 74,
   "metadata": {},
   "outputs": [
    {
     "data": {
      "text/plain": [
       "0.9993563152624804"
      ]
     },
     "execution_count": 74,
     "metadata": {},
     "output_type": "execute_result"
    }
   ],
   "source": [
    "from sklearn.neural_network import MLPClassifier\n",
    "\n",
    "model = MLPClassifier(hidden_layer_sizes=(80,100),max_iter=600,random_state=10)\n",
    "model.fit(X_train,y_train)\n",
    "y_predict=model.predict(X_test)\n",
    "accuracy_score(y_test,y_predict)"
   ]
  },
  {
   "cell_type": "markdown",
   "metadata": {},
   "source": [
    "## Define Model : RandomForestClassifier"
   ]
  },
  {
   "cell_type": "code",
   "execution_count": 75,
   "metadata": {},
   "outputs": [
    {
     "data": {
      "text/plain": [
       "0.9993563152624804"
      ]
     },
     "execution_count": 75,
     "metadata": {},
     "output_type": "execute_result"
    }
   ],
   "source": [
    "from sklearn.ensemble import RandomForestClassifier\n",
    "from sklearn.metrics import accuracy_score , confusion_matrix ,classification_report\n",
    "\n",
    "model_rf = RandomForestClassifier(max_depth= 2, n_estimators= 500)\n",
    "model_rf.fit(X_train,y_train)\n",
    "y_predict= model_rf.predict(X_test)\n",
    "\n",
    "accuracy_score(y_test ,y_predict)"
   ]
  },
  {
   "cell_type": "code",
   "execution_count": 69,
   "metadata": {},
   "outputs": [
    {
     "name": "stdout",
     "output_type": "stream",
     "text": [
      "[[13973     0     0]\n",
      " [    8     0     0]\n",
      " [    1     0     0]]\n"
     ]
    },
    {
     "name": "stderr",
     "output_type": "stream",
     "text": [
      "C:\\Users\\Rakshu\\Anaconda3\\lib\\site-packages\\sklearn\\metrics\\classification.py:1437: UndefinedMetricWarning: Precision and F-score are ill-defined and being set to 0.0 in labels with no predicted samples.\n",
      "  'precision', 'predicted', average, warn_for)\n"
     ]
    },
    {
     "name": "stdout",
     "output_type": "stream",
     "text": [
      "              precision    recall  f1-score   support\n",
      "\n",
      "           1       1.00      1.00      1.00     13973\n",
      "           2       0.00      0.00      0.00         8\n",
      "           3       0.00      0.00      0.00         1\n",
      "\n",
      "    accuracy                           1.00     13982\n",
      "   macro avg       0.33      0.33      0.33     13982\n",
      "weighted avg       1.00      1.00      1.00     13982\n",
      "\n"
     ]
    }
   ],
   "source": [
    "print(confusion_matrix(y_test ,y_predict))\n",
    "print(classification_report(y_test ,y_predict))"
   ]
  },
  {
   "cell_type": "markdown",
   "metadata": {},
   "source": [
    "### HyperParameter tuning using GridSearchCV"
   ]
  },
  {
   "cell_type": "code",
   "execution_count": 87,
   "metadata": {},
   "outputs": [
    {
     "name": "stderr",
     "output_type": "stream",
     "text": [
      "C:\\Users\\Rakshu\\Anaconda3\\lib\\site-packages\\sklearn\\model_selection\\_split.py:657: Warning: The least populated class in y has only 1 members, which is too few. The minimum number of members in any class cannot be less than n_splits=5.\n",
      "  % (min_groups, self.n_splits)), Warning)\n"
     ]
    },
    {
     "data": {
      "text/plain": [
       "GridSearchCV(cv=5, error_score='raise-deprecating',\n",
       "             estimator=RandomForestClassifier(bootstrap=True, class_weight=None,\n",
       "                                              criterion='gini', max_depth=8,\n",
       "                                              max_features='auto',\n",
       "                                              max_leaf_nodes=None,\n",
       "                                              min_impurity_decrease=0.0,\n",
       "                                              min_impurity_split=None,\n",
       "                                              min_samples_leaf=1,\n",
       "                                              min_samples_split=2,\n",
       "                                              min_weight_fraction_leaf=0.0,\n",
       "                                              n_estimators=1000, n_jobs=None,\n",
       "                                              oob_score=False,\n",
       "                                              random_state=None, verbose=0,\n",
       "                                              warm_start=False),\n",
       "             iid='warn', n_jobs=None,\n",
       "             param_grid={'max_depth': [2, 4, 8, 10, 15],\n",
       "                         'n_estimators': [5, 10, 100, 500, 250]},\n",
       "             pre_dispatch='2*n_jobs', refit=True, return_train_score=False,\n",
       "             scoring=None, verbose=0)"
      ]
     },
     "execution_count": 87,
     "metadata": {},
     "output_type": "execute_result"
    }
   ],
   "source": [
    "from sklearn.model_selection import GridSearchCV\n",
    "\n",
    "params={'n_estimators' : [5,10,100,500,250],\n",
    "       'max_depth' : [2,4,8,10,15]}\n",
    "\n",
    "cv =GridSearchCV(model_rf ,params ,cv=5)\n",
    "cv.fit(X_train,y_train)"
   ]
  },
  {
   "cell_type": "code",
   "execution_count": 88,
   "metadata": {},
   "outputs": [
    {
     "name": "stdout",
     "output_type": "stream",
     "text": [
      "Best Estimators :   RandomForestClassifier(bootstrap=True, class_weight=None, criterion='gini',\n",
      "                       max_depth=2, max_features='auto', max_leaf_nodes=None,\n",
      "                       min_impurity_decrease=0.0, min_impurity_split=None,\n",
      "                       min_samples_leaf=1, min_samples_split=2,\n",
      "                       min_weight_fraction_leaf=0.0, n_estimators=5,\n",
      "                       n_jobs=None, oob_score=False, random_state=None,\n",
      "                       verbose=0, warm_start=False)\n",
      "Best Score :  0.9873406081412457\n",
      "Best Params :  {'max_depth': 2, 'n_estimators': 5}\n"
     ]
    }
   ],
   "source": [
    "print(\"Best Estimators :  \", cv.best_estimator_)\n",
    "print(\"Best Score : \" , cv.best_score_)\n",
    "print(\"Best Params : \",cv.best_params_)"
   ]
  },
  {
   "cell_type": "code",
   "execution_count": null,
   "metadata": {},
   "outputs": [],
   "source": []
  }
 ],
 "metadata": {
  "kernelspec": {
   "display_name": "Python 3",
   "language": "python",
   "name": "python3"
  },
  "language_info": {
   "codemirror_mode": {
    "name": "ipython",
    "version": 3
   },
   "file_extension": ".py",
   "mimetype": "text/x-python",
   "name": "python",
   "nbconvert_exporter": "python",
   "pygments_lexer": "ipython3",
   "version": "3.7.4"
  }
 },
 "nbformat": 4,
 "nbformat_minor": 2
}
