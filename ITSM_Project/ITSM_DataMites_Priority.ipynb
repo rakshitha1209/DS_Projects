{
 "cells": [
  {
   "cell_type": "raw",
   "metadata": {},
   "source": [
    "!pip install sqlalchemy\n",
    "!pip install pymysql\n",
    "!pip install mysql-connector-python"
   ]
  },
  {
   "cell_type": "markdown",
   "metadata": {},
   "source": [
    "## Predicting High Priority Tickets: To predict priority 1 & 2 tickets, so that they can take preventive measures or fix the problem before it surfaces."
   ]
  },
  {
   "cell_type": "markdown",
   "metadata": {},
   "source": [
    "## Insights drawn:"
   ]
  },
  {
   "cell_type": "raw",
   "metadata": {},
   "source": [
    "1. Columns \"CI_Cat\" and \"CI_Subcat\" have 111 empty string values , dropping the respective rows .\n",
    "   Since assumptions made that both the columns are crucial for finding priority and in deciding the signinficance of the      incidents.\n",
    "2. Column \"Impact\" have junk values 'NS' , replacing these values with respective \"Urgency\"  column values.\n",
    "3. Column  \"Urgency\" have '5 - Very Low': rename it to 5\n",
    "4. Column \"Priority\" has NA values replce with \"Urgency\" values``\n",
    "5. Column \"WBS\" forward fill the values having  '5'\n",
    "\n",
    "Model1: Predicting Priority using : 'CI_Cat','CI_Subcat','Category','WBS' ,'Impact'\n",
    "      -->From PCA concluded that explained_variance of 'Impact'(0.63821814) much better than 'Urgency'(0.01821048) hence   considered only Impact \n",
    "      -->With RandomForest Algorithm, model achieves accuracy score of \"0.9952\"\n",
    "      -->Considering both 'Impact' and 'Urgency' gives the accuracy score of \"0.9999\"\n",
    "\n",
    "Model2 : Predict Impact and Urgency then derive Priority \n",
    "       --> Predicting Impact and Urgency achieves 83% accuracy\n"
   ]
  },
  {
   "cell_type": "code",
   "execution_count": 11,
   "metadata": {},
   "outputs": [],
   "source": [
    "from sqlalchemy import create_engine\n",
    "import pandas as pd"
   ]
  },
  {
   "cell_type": "code",
   "execution_count": 12,
   "metadata": {},
   "outputs": [],
   "source": [
    "db_host = '18.136.56.185'\n",
    "username ='dm_team'\n",
    "pwd='dm_team123#'\n",
    "db_name='project_itsm'"
   ]
  },
  {
   "cell_type": "code",
   "execution_count": 13,
   "metadata": {},
   "outputs": [
    {
     "name": "stdout",
     "output_type": "stream",
     "text": [
      "[('information_schema',), ('project_itsm',)]\n"
     ]
    }
   ],
   "source": [
    "import mysql.connector\n",
    "\n",
    "db = mysql.connector.connect(host=db_host,\n",
    "                             user=username,\n",
    "                             password=pwd\n",
    "                             )\n",
    "\n",
    "cursor =db.cursor()\n",
    "\n",
    "cursor.execute(\"SHOW DATABASES\")\n",
    "\n",
    "database =cursor.fetchall()\n",
    "\n",
    "print(database)"
   ]
  },
  {
   "cell_type": "code",
   "execution_count": 14,
   "metadata": {},
   "outputs": [
    {
     "data": {
      "text/plain": [
       "['dataset_list']"
      ]
     },
     "execution_count": 14,
     "metadata": {},
     "output_type": "execute_result"
    }
   ],
   "source": [
    "#Connecting to SQL DB\n",
    "conn =create_engine('mysql+pymysql://'+username+':'+pwd+'@'+db_host+'/'+db_name)\n",
    "conn.table_names()"
   ]
  },
  {
   "cell_type": "markdown",
   "metadata": {},
   "source": [
    "### Load Data"
   ]
  },
  {
   "cell_type": "code",
   "execution_count": 15,
   "metadata": {},
   "outputs": [
    {
     "name": "stdout",
     "output_type": "stream",
     "text": [
      "(46606, 25)\n"
     ]
    },
    {
     "data": {
      "text/html": [
       "<div>\n",
       "<style scoped>\n",
       "    .dataframe tbody tr th:only-of-type {\n",
       "        vertical-align: middle;\n",
       "    }\n",
       "\n",
       "    .dataframe tbody tr th {\n",
       "        vertical-align: top;\n",
       "    }\n",
       "\n",
       "    .dataframe thead th {\n",
       "        text-align: right;\n",
       "    }\n",
       "</style>\n",
       "<table border=\"1\" class=\"dataframe\">\n",
       "  <thead>\n",
       "    <tr style=\"text-align: right;\">\n",
       "      <th></th>\n",
       "      <th>CI_Name</th>\n",
       "      <th>CI_Cat</th>\n",
       "      <th>CI_Subcat</th>\n",
       "      <th>WBS</th>\n",
       "      <th>Incident_ID</th>\n",
       "      <th>Status</th>\n",
       "      <th>Impact</th>\n",
       "      <th>Urgency</th>\n",
       "      <th>Priority</th>\n",
       "      <th>number_cnt</th>\n",
       "      <th>...</th>\n",
       "      <th>Reopen_Time</th>\n",
       "      <th>Resolved_Time</th>\n",
       "      <th>Close_Time</th>\n",
       "      <th>Handle_Time_hrs</th>\n",
       "      <th>Closure_Code</th>\n",
       "      <th>No_of_Related_Interactions</th>\n",
       "      <th>Related_Interaction</th>\n",
       "      <th>No_of_Related_Incidents</th>\n",
       "      <th>No_of_Related_Changes</th>\n",
       "      <th>Related_Change</th>\n",
       "    </tr>\n",
       "  </thead>\n",
       "  <tbody>\n",
       "    <tr>\n",
       "      <td>0</td>\n",
       "      <td>SUB000508</td>\n",
       "      <td>subapplication</td>\n",
       "      <td>Web Based Application</td>\n",
       "      <td>WBS000162</td>\n",
       "      <td>IM0000004</td>\n",
       "      <td>Closed</td>\n",
       "      <td>4</td>\n",
       "      <td>4</td>\n",
       "      <td>4</td>\n",
       "      <td>0.601292279</td>\n",
       "      <td>...</td>\n",
       "      <td></td>\n",
       "      <td>04-11-2013 13:50</td>\n",
       "      <td>04-11-2013 13:51</td>\n",
       "      <td>3,87,16,91,111</td>\n",
       "      <td>Other</td>\n",
       "      <td>1</td>\n",
       "      <td>SD0000007</td>\n",
       "      <td>2</td>\n",
       "      <td></td>\n",
       "      <td></td>\n",
       "    </tr>\n",
       "    <tr>\n",
       "      <td>1</td>\n",
       "      <td>WBA000124</td>\n",
       "      <td>application</td>\n",
       "      <td>Web Based Application</td>\n",
       "      <td>WBS000088</td>\n",
       "      <td>IM0000005</td>\n",
       "      <td>Closed</td>\n",
       "      <td>3</td>\n",
       "      <td>3</td>\n",
       "      <td>3</td>\n",
       "      <td>0.415049969</td>\n",
       "      <td>...</td>\n",
       "      <td>02-12-2013 12:31</td>\n",
       "      <td>02-12-2013 12:36</td>\n",
       "      <td>02-12-2013 12:36</td>\n",
       "      <td>4,35,47,86,389</td>\n",
       "      <td>Software</td>\n",
       "      <td>1</td>\n",
       "      <td>SD0000011</td>\n",
       "      <td>1</td>\n",
       "      <td></td>\n",
       "      <td></td>\n",
       "    </tr>\n",
       "    <tr>\n",
       "      <td>2</td>\n",
       "      <td>DTA000024</td>\n",
       "      <td>application</td>\n",
       "      <td>Desktop Application</td>\n",
       "      <td>WBS000092</td>\n",
       "      <td>IM0000006</td>\n",
       "      <td>Closed</td>\n",
       "      <td>NS</td>\n",
       "      <td>3</td>\n",
       "      <td>NA</td>\n",
       "      <td>0.517551335</td>\n",
       "      <td>...</td>\n",
       "      <td></td>\n",
       "      <td>13-01-2014 15:12</td>\n",
       "      <td>13-01-2014 15:13</td>\n",
       "      <td>4,84,31,19,444</td>\n",
       "      <td>No error - works as designed</td>\n",
       "      <td>1</td>\n",
       "      <td>SD0000017</td>\n",
       "      <td></td>\n",
       "      <td></td>\n",
       "      <td></td>\n",
       "    </tr>\n",
       "    <tr>\n",
       "      <td>3</td>\n",
       "      <td>WBA000124</td>\n",
       "      <td>application</td>\n",
       "      <td>Web Based Application</td>\n",
       "      <td>WBS000088</td>\n",
       "      <td>IM0000011</td>\n",
       "      <td>Closed</td>\n",
       "      <td>4</td>\n",
       "      <td>4</td>\n",
       "      <td>4</td>\n",
       "      <td>0.642927218</td>\n",
       "      <td>...</td>\n",
       "      <td></td>\n",
       "      <td>14-11-2013 09:31</td>\n",
       "      <td>14-11-2013 09:31</td>\n",
       "      <td>4,32,18,33,333</td>\n",
       "      <td>Operator error</td>\n",
       "      <td>1</td>\n",
       "      <td>SD0000025</td>\n",
       "      <td></td>\n",
       "      <td></td>\n",
       "      <td></td>\n",
       "    </tr>\n",
       "    <tr>\n",
       "      <td>4</td>\n",
       "      <td>WBA000124</td>\n",
       "      <td>application</td>\n",
       "      <td>Web Based Application</td>\n",
       "      <td>WBS000088</td>\n",
       "      <td>IM0000012</td>\n",
       "      <td>Closed</td>\n",
       "      <td>4</td>\n",
       "      <td>4</td>\n",
       "      <td>4</td>\n",
       "      <td>0.345258343</td>\n",
       "      <td>...</td>\n",
       "      <td></td>\n",
       "      <td>08-11-2013 13:55</td>\n",
       "      <td>08-11-2013 13:55</td>\n",
       "      <td>3,38,39,03,333</td>\n",
       "      <td>Other</td>\n",
       "      <td>1</td>\n",
       "      <td>SD0000029</td>\n",
       "      <td></td>\n",
       "      <td></td>\n",
       "      <td></td>\n",
       "    </tr>\n",
       "  </tbody>\n",
       "</table>\n",
       "<p>5 rows × 25 columns</p>\n",
       "</div>"
      ],
      "text/plain": [
       "     CI_Name          CI_Cat              CI_Subcat        WBS Incident_ID  \\\n",
       "0  SUB000508  subapplication  Web Based Application  WBS000162   IM0000004   \n",
       "1  WBA000124     application  Web Based Application  WBS000088   IM0000005   \n",
       "2  DTA000024     application    Desktop Application  WBS000092   IM0000006   \n",
       "3  WBA000124     application  Web Based Application  WBS000088   IM0000011   \n",
       "4  WBA000124     application  Web Based Application  WBS000088   IM0000012   \n",
       "\n",
       "   Status Impact Urgency Priority   number_cnt  ...       Reopen_Time  \\\n",
       "0  Closed      4       4        4  0.601292279  ...                     \n",
       "1  Closed      3       3        3  0.415049969  ...  02-12-2013 12:31   \n",
       "2  Closed     NS       3       NA  0.517551335  ...                     \n",
       "3  Closed      4       4        4  0.642927218  ...                     \n",
       "4  Closed      4       4        4  0.345258343  ...                     \n",
       "\n",
       "      Resolved_Time        Close_Time Handle_Time_hrs  \\\n",
       "0  04-11-2013 13:50  04-11-2013 13:51  3,87,16,91,111   \n",
       "1  02-12-2013 12:36  02-12-2013 12:36  4,35,47,86,389   \n",
       "2  13-01-2014 15:12  13-01-2014 15:13  4,84,31,19,444   \n",
       "3  14-11-2013 09:31  14-11-2013 09:31  4,32,18,33,333   \n",
       "4  08-11-2013 13:55  08-11-2013 13:55  3,38,39,03,333   \n",
       "\n",
       "                   Closure_Code No_of_Related_Interactions  \\\n",
       "0                         Other                          1   \n",
       "1                      Software                          1   \n",
       "2  No error - works as designed                          1   \n",
       "3                Operator error                          1   \n",
       "4                         Other                          1   \n",
       "\n",
       "  Related_Interaction No_of_Related_Incidents No_of_Related_Changes  \\\n",
       "0           SD0000007                       2                         \n",
       "1           SD0000011                       1                         \n",
       "2           SD0000017                                                 \n",
       "3           SD0000025                                                 \n",
       "4           SD0000029                                                 \n",
       "\n",
       "  Related_Change  \n",
       "0                 \n",
       "1                 \n",
       "2                 \n",
       "3                 \n",
       "4                 \n",
       "\n",
       "[5 rows x 25 columns]"
      ]
     },
     "execution_count": 15,
     "metadata": {},
     "output_type": "execute_result"
    }
   ],
   "source": [
    "query ='select * from dataset_list '\n",
    "df =pd.read_sql(query,conn)\n",
    "print(df.shape)\n",
    "df.head()\n",
    "\n"
   ]
  },
  {
   "cell_type": "code",
   "execution_count": null,
   "metadata": {},
   "outputs": [],
   "source": [
    "df.columns\n",
    "df.dtypes\n"
   ]
  },
  {
   "cell_type": "markdown",
   "metadata": {},
   "source": [
    "## EDA"
   ]
  },
  {
   "cell_type": "code",
   "execution_count": 16,
   "metadata": {},
   "outputs": [
    {
     "data": {
      "text/plain": [
       "Counter({'subapplication': 7782,\n",
       "         'application': 32900,\n",
       "         'computer': 3643,\n",
       "         'displaydevice': 212,\n",
       "         'software': 333,\n",
       "         'storage': 703,\n",
       "         'database': 214,\n",
       "         'hardware': 442,\n",
       "         'officeelectronics': 152,\n",
       "         'networkcomponents': 107,\n",
       "         'applicationcomponent': 5,\n",
       "         'Phone': 2})"
      ]
     },
     "execution_count": 16,
     "metadata": {},
     "output_type": "execute_result"
    }
   ],
   "source": [
    "from collections import Counter\n",
    "import numpy as np\n",
    "\n",
    "# CI_Cat filed cleaning \n",
    "Counter(df.CI_Cat)\n",
    "df.CI_Cat.isnull().sum()\n",
    "\n",
    "#Replacing empty srting values of 111 records of CI_Cat column n dropping the same\n",
    "\n",
    "df['CI_Cat'] = np.where((df.CI_Cat == ''),np.nan,df.CI_Cat)\n",
    "Counter(df['CI_Cat'])\n",
    "\n",
    "df.dropna(inplace=True)\n",
    "\n",
    "df.isnull().sum()\n",
    "Counter(df['CI_Cat'])\n"
   ]
  },
  {
   "cell_type": "markdown",
   "metadata": {},
   "source": [
    "### Cleaning columns : Impact,Urgency,Priority"
   ]
  },
  {
   "cell_type": "code",
   "execution_count": 17,
   "metadata": {},
   "outputs": [
    {
     "data": {
      "text/plain": [
       "Counter({'4': 22721, '3': 6655, '5': 16427, '2': 689, '1': 3})"
      ]
     },
     "execution_count": 17,
     "metadata": {},
     "output_type": "execute_result"
    }
   ],
   "source": [
    "#-----------Impact column have junk values 'NS' so it has to be replced by valid value\n",
    "df.loc[(df.Impact=='NS'),'Impact']= df.Urgency\n",
    "Counter(df.Impact)\n",
    "\n",
    "#-----------Urgency column have '5 - Very Low': rename it to 5\n",
    "df.loc[(df.Urgency=='5 - Very Low')] = '5'\n",
    "\n",
    "#----------Priority column has NA values replce with urgency values\n",
    "Counter(df.Priority)\n",
    "df.loc[(df.Priority == 'NA'),'Priority'] =df.Urgency\n",
    "df.loc[(df.Priority==5),'Priority'] ='5'\n",
    "\n",
    "Counter(df.Priority)"
   ]
  },
  {
   "cell_type": "markdown",
   "metadata": {},
   "source": [
    "### Cleaning WBS column"
   ]
  },
  {
   "cell_type": "code",
   "execution_count": 18,
   "metadata": {},
   "outputs": [
    {
     "data": {
      "text/plain": [
       "Counter({'WBS000162': 495,\n",
       "         'WBS000088': 619,\n",
       "         'WBS000092': 784,\n",
       "         'WBS000055': 115,\n",
       "         'WBS000090': 128,\n",
       "         'WBS000073': 13342,\n",
       "         'WBS000066': 154,\n",
       "         'WBS000071': 21,\n",
       "         'WBS000263': 2283,\n",
       "         'WBS000072': 2197,\n",
       "         'WBS000054': 165,\n",
       "         'WBS000271': 1186,\n",
       "         'WBS000170': 70,\n",
       "         'WBS000014': 219,\n",
       "         'WBS000098': 208,\n",
       "         'WBS000043': 232,\n",
       "         'WBS000086': 80,\n",
       "         'WBS000027': 166,\n",
       "         'WBS000300': 43,\n",
       "         'WBS000223': 803,\n",
       "         'WBS000311': 16,\n",
       "         'WBS000142': 2,\n",
       "         'WBS000109': 1,\n",
       "         'WBS000153': 146,\n",
       "         'WBS000102': 185,\n",
       "         'WBS000152': 1076,\n",
       "         'WBS000129': 2,\n",
       "         'WBS000251': 42,\n",
       "         'WBS000115': 17,\n",
       "         'WBS000168': 72,\n",
       "         'WBS000136': 18,\n",
       "         'WBS000314': 3,\n",
       "         'WBS000187': 353,\n",
       "         'WBS000135': 54,\n",
       "         'WBS000217': 70,\n",
       "         'WBS000091': 2500,\n",
       "         'WBS000296': 582,\n",
       "         'WBS000161': 44,\n",
       "         'WBS000312': 8,\n",
       "         'WBS000012': 38,\n",
       "         'WBS000234': 58,\n",
       "         'WBS000094': 861,\n",
       "         'WBS000318': 1099,\n",
       "         'WBS000285': 82,\n",
       "         'WBS000093': 215,\n",
       "         'WBS000016': 505,\n",
       "         'WBS000298': 102,\n",
       "         'WBS000096': 418,\n",
       "         'WBS000025': 207,\n",
       "         'WBS000272': 6,\n",
       "         'WBS000284': 33,\n",
       "         'WBS000128': 755,\n",
       "         'WBS000067': 23,\n",
       "         'WBS000110': 242,\n",
       "         'WBS000292': 573,\n",
       "         'WBS000165': 113,\n",
       "         'WBS000015': 208,\n",
       "         'WBS000111': 131,\n",
       "         'WBS000199': 483,\n",
       "         'WBS000095': 1102,\n",
       "         'WBS000089': 603,\n",
       "         'WBS000017': 142,\n",
       "         'WBS000069': 84,\n",
       "         'WBS000241': 3,\n",
       "         'WBS000023': 302,\n",
       "         'WBS000140': 4,\n",
       "         'WBS000070': 113,\n",
       "         'WBS000167': 183,\n",
       "         'WBS000138': 39,\n",
       "         'WBS000125': 318,\n",
       "         'WBS000249': 32,\n",
       "         'WBS000039': 42,\n",
       "         'WBS000048': 191,\n",
       "         'WBS000253': 43,\n",
       "         'WBS000216': 24,\n",
       "         'WBS000186': 68,\n",
       "         'WBS000172': 328,\n",
       "         'WBS000228': 612,\n",
       "         'WBS000309': 8,\n",
       "         'WBS000132': 4,\n",
       "         'WBS000077': 151,\n",
       "         'WBS000326': 143,\n",
       "         'WBS000099': 717,\n",
       "         'WBS000224': 5,\n",
       "         'WBS000018': 10,\n",
       "         'WBS000008': 12,\n",
       "         'WBS000030': 101,\n",
       "         'WBS000121': 10,\n",
       "         'WBS000052': 49,\n",
       "         'WBS000058': 4,\n",
       "         'WBS000256': 54,\n",
       "         'WBS000242': 47,\n",
       "         'WBS000123': 50,\n",
       "         'WBS000047': 10,\n",
       "         'WBS000146': 858,\n",
       "         'WBS000307': 374,\n",
       "         'WBS000075': 2,\n",
       "         'WBS000013': 277,\n",
       "         'WBS000063': 35,\n",
       "         'WBS000239': 200,\n",
       "         'WBS000218': 43,\n",
       "         'WBS000148': 34,\n",
       "         'WBS000083': 22,\n",
       "         'WBS000139': 110,\n",
       "         'WBS000258': 7,\n",
       "         'WBS000053': 24,\n",
       "         'WBS000006': 48,\n",
       "         'WBS000169': 17,\n",
       "         'WBS000182': 107,\n",
       "         'WBS000255': 291,\n",
       "         'WBS000268': 67,\n",
       "         'WBS000267': 129,\n",
       "         'WBS000294': 94,\n",
       "         'WBS000273': 27,\n",
       "         'WBS000037': 31,\n",
       "         'WBS000062': 26,\n",
       "         'WBS000151': 23,\n",
       "         'WBS000133': 50,\n",
       "         'WBS000171': 112,\n",
       "         'WBS000118': 37,\n",
       "         'WBS000163': 65,\n",
       "         'WBS000212': 55,\n",
       "         'WBS000174': 13,\n",
       "         'WBS000245': 27,\n",
       "         'WBS000265': 11,\n",
       "         'WBS000007': 46,\n",
       "         'WBS000130': 50,\n",
       "         'WBS000134': 32,\n",
       "         'WBS000331': 4,\n",
       "         'WBS000264': 232,\n",
       "         'WBS000281': 22,\n",
       "         'WBS000042': 9,\n",
       "         'WBS000081': 4,\n",
       "         'WBS000149': 70,\n",
       "         'WBS000244': 93,\n",
       "         'WBS000044': 56,\n",
       "         'WBS000177': 17,\n",
       "         'WBS000166': 21,\n",
       "         'WBS000040': 10,\n",
       "         'WBS000201': 56,\n",
       "         'WBS000076': 41,\n",
       "         'WBS000101': 96,\n",
       "         'WBS000183': 52,\n",
       "         'WBS000299': 112,\n",
       "         'WBS000275': 4,\n",
       "         'WBS000222': 22,\n",
       "         'WBS000022': 6,\n",
       "         'WBS000185': 17,\n",
       "         'WBS000219': 463,\n",
       "         'WBS000237': 28,\n",
       "         'WBS000316': 6,\n",
       "         'WBS000295': 24,\n",
       "         'WBS000100': 19,\n",
       "         'WBS000158': 18,\n",
       "         'WBS000050': 3,\n",
       "         'WBS000026': 6,\n",
       "         'WBS000280': 25,\n",
       "         'WBS000035': 7,\n",
       "         'WBS000203': 13,\n",
       "         'WBS000181': 11,\n",
       "         'WBS000236': 26,\n",
       "         'WBS000108': 18,\n",
       "         'WBS000191': 29,\n",
       "         'WBS000033': 2,\n",
       "         'WBS000056': 12,\n",
       "         'WBS000206': 8,\n",
       "         'WBS000304': 2,\n",
       "         'WBS000279': 11,\n",
       "         'WBS000127': 20,\n",
       "         'WBS000019': 1,\n",
       "         'WBS000270': 17,\n",
       "         'WBS000029': 31,\n",
       "         'WBS000147': 19,\n",
       "         'WBS000145': 4,\n",
       "         'WBS000005': 22,\n",
       "         'WBS000215': 4,\n",
       "         'WBS000207': 2,\n",
       "         'WBS000247': 74,\n",
       "         'WBS000126': 2,\n",
       "         'WBS000011': 3,\n",
       "         'WBS000107': 19,\n",
       "         'WBS000305': 1,\n",
       "         'WBS000257': 2,\n",
       "         'WBS000059': 1,\n",
       "         'WBS000306': 16,\n",
       "         'WBS000321': 1,\n",
       "         'WBS000157': 13,\n",
       "         'WBS000079': 3,\n",
       "         'WBS000085': 13,\n",
       "         'WBS000097': 25,\n",
       "         'WBS000252': 1,\n",
       "         'WBS000061': 6,\n",
       "         'WBS000002': 157,\n",
       "         'WBS000197': 13,\n",
       "         'WBS000250': 20,\n",
       "         'WBS000303': 7,\n",
       "         'WBS000188': 22,\n",
       "         'WBS000289': 7,\n",
       "         'WBS000184': 20,\n",
       "         'WBS000301': 2,\n",
       "         'WBS000278': 12,\n",
       "         'WBS000176': 5,\n",
       "         'WBS000120': 13,\n",
       "         'WBS000137': 1,\n",
       "         'WBS000113': 1,\n",
       "         'WBS000122': 11,\n",
       "         'WBS000328': 5,\n",
       "         'WBS000112': 1,\n",
       "         'WBS000192': 2,\n",
       "         'WBS000221': 7,\n",
       "         'WBS000209': 5,\n",
       "         'WBS000330': 222,\n",
       "         'WBS000057': 4,\n",
       "         'WBS000060': 5,\n",
       "         'WBS000310': 11,\n",
       "         'WBS000131': 2,\n",
       "         'WBS000175': 6,\n",
       "         'WBS000160': 1,\n",
       "         'WBS000319': 13,\n",
       "         'WBS000104': 4,\n",
       "         'WBS000010': 3,\n",
       "         'WBS000211': 5,\n",
       "         'WBS000087': 4,\n",
       "         'WBS000277': 5,\n",
       "         'WBS000243': 1,\n",
       "         'WBS000196': 5,\n",
       "         'WBS000200': 1,\n",
       "         'WBS000031': 3,\n",
       "         'WBS000315': 3,\n",
       "         'WBS000119': 1,\n",
       "         'WBS000254': 8,\n",
       "         'WBS000240': 4,\n",
       "         'WBS000117': 1,\n",
       "         'WBS000021': 3,\n",
       "         'WBS000068': 3,\n",
       "         'WBS000220': 63,\n",
       "         'WBS000106': 4,\n",
       "         'WBS000282': 1,\n",
       "         'WBS000194': 2,\n",
       "         'WBS000232': 4,\n",
       "         'WBS000246': 3,\n",
       "         'WBS000204': 12,\n",
       "         'WBS000020': 3,\n",
       "         'WBS000150': 2,\n",
       "         'WBS000001': 1,\n",
       "         'WBS000325': 4,\n",
       "         'WBS000235': 36,\n",
       "         'WBS000195': 2,\n",
       "         'WBS000302': 2,\n",
       "         'WBS000322': 7,\n",
       "         'WBS000248': 3,\n",
       "         'WBS000004': 1,\n",
       "         'WBS000329': 17,\n",
       "         'WBS000144': 1,\n",
       "         'WBS000051': 4,\n",
       "         'WBS000074': 1,\n",
       "         'WBS000317': 1,\n",
       "         'WBS000286': 1,\n",
       "         'WBS000339': 2,\n",
       "         'WBS000335': 92,\n",
       "         'WBS000024': 1,\n",
       "         'WBS000337': 4,\n",
       "         'WBS000156': 1,\n",
       "         'WBS000164': 1,\n",
       "         'WBS000210': 2,\n",
       "         'WBS000320': 1,\n",
       "         'WBS000114': 1,\n",
       "         'WBS000262': 1,\n",
       "         'WBS000327': 2,\n",
       "         'WBS000332': 1,\n",
       "         'WBS000313': 1,\n",
       "         'WBS000105': 1})"
      ]
     },
     "execution_count": 18,
     "metadata": {},
     "output_type": "execute_result"
    }
   ],
   "source": [
    "df.columns\n",
    "Counter(df.WBS)\n",
    "\n",
    "df.loc[(df.WBS == '5'),'WBS'] = np.nan\n",
    "\n",
    "\n",
    "df.isnull().sum()\n",
    "df.loc[:,'WBS'] = df.loc[:,'WBS'].ffill()\n",
    "#df.WBS = df['WBS'].ffill()\n",
    "df.isnull().sum()\n",
    "\n",
    "Counter(df.WBS)\n"
   ]
  },
  {
   "cell_type": "markdown",
   "metadata": {},
   "source": [
    "### Label ENcoding of columns CI_Cat ,CI_SubCat and Catogery\n"
   ]
  },
  {
   "cell_type": "code",
   "execution_count": 19,
   "metadata": {},
   "outputs": [
    {
     "data": {
      "text/plain": [
       "0        136\n",
       "1         70\n",
       "2         74\n",
       "3         70\n",
       "4         70\n",
       "        ... \n",
       "46601     59\n",
       "46602     59\n",
       "46603     73\n",
       "46604     59\n",
       "46605    216\n",
       "Name: WBS, Length: 46495, dtype: int32"
      ]
     },
     "execution_count": 19,
     "metadata": {},
     "output_type": "execute_result"
    }
   ],
   "source": [
    "from sklearn.preprocessing import LabelEncoder\n",
    "\n",
    "encoder= LabelEncoder()\n",
    "\n",
    "df.CI_Cat = encoder.fit_transform(df['CI_Cat'])\n",
    "df.CI_Cat \n",
    "\n",
    "df.CI_Subcat =encoder.fit_transform(df['CI_Subcat'])\n",
    "df.CI_Subcat\n",
    "\n",
    "Counter(df.Category)\n",
    "df.Category = encoder.fit_transform(df.Category)\n",
    "df.Category\n",
    "\n",
    "df.WBS = encoder.fit_transform(df.WBS)\n",
    "df.WBS"
   ]
  },
  {
   "cell_type": "markdown",
   "metadata": {},
   "source": [
    "### Define X & Y   , split the data"
   ]
  },
  {
   "cell_type": "code",
   "execution_count": 75,
   "metadata": {},
   "outputs": [],
   "source": [
    "#Since Priority can be determined by considering the Impact and Urgency\n",
    "X=df.loc[:,['CI_Cat','CI_Subcat','Category','WBS','Impact']]\n",
    "Y=df.Priority\n"
   ]
  },
  {
   "cell_type": "code",
   "execution_count": 76,
   "metadata": {},
   "outputs": [],
   "source": [
    "from sklearn.model_selection import train_test_split\n",
    "\n",
    "#Dividing data into train n test dataset\n",
    "X_train ,X_test,Y_train,Y_test = train_test_split(X,Y,test_size=0.3,random_state=10)\n"
   ]
  },
  {
   "cell_type": "markdown",
   "metadata": {},
   "source": [
    "### PCA for detremine the significancec of each columns"
   ]
  },
  {
   "cell_type": "code",
   "execution_count": 77,
   "metadata": {},
   "outputs": [],
   "source": [
    "from sklearn.preprocessing import StandardScaler\n",
    "scaler = StandardScaler()\n",
    "X_std = scaler.fit_transform(X)"
   ]
  },
  {
   "cell_type": "code",
   "execution_count": 78,
   "metadata": {},
   "outputs": [],
   "source": [
    "from sklearn.decomposition import PCA\n",
    "pca =PCA()\n",
    "X1=pd.DataFrame(pca.fit_transform(X_std))"
   ]
  },
  {
   "cell_type": "code",
   "execution_count": 79,
   "metadata": {},
   "outputs": [
    {
     "name": "stdout",
     "output_type": "stream",
     "text": [
      "Index(['CI_Cat', 'CI_Subcat', 'Category', 'WBS', 'Impact'], dtype='object')\n",
      "[0.3093569  0.26706784 0.16990137 0.15074636 0.10292753]\n",
      "[1.54681779 1.3353679  0.8495251  0.75374804 0.51464872]\n"
     ]
    }
   ],
   "source": [
    "print(X.columns)\n",
    "print(pca.explained_variance_ratio_)\n",
    "print(pca.explained_variance_)"
   ]
  },
  {
   "cell_type": "markdown",
   "metadata": {},
   "source": [
    "### Define Model :  RandomForestClassifier"
   ]
  },
  {
   "cell_type": "code",
   "execution_count": 80,
   "metadata": {},
   "outputs": [
    {
     "data": {
      "text/plain": [
       "0.9952684780270987"
      ]
     },
     "execution_count": 80,
     "metadata": {},
     "output_type": "execute_result"
    }
   ],
   "source": [
    "from sklearn.ensemble import RandomForestClassifier\n",
    "from sklearn.metrics import confusion_matrix,accuracy_score\n",
    "\n",
    "model_rf = RandomForestClassifier(max_depth= 15, n_estimators= 1000)\n",
    "model_rf.fit(X_train,Y_train)\n",
    "Y_predict= model_rf.predict(X_test)\n",
    "\n",
    "accuracy_score(Y_test,Y_predict)"
   ]
  },
  {
   "cell_type": "code",
   "execution_count": 66,
   "metadata": {},
   "outputs": [
    {
     "name": "stdout",
     "output_type": "stream",
     "text": [
      "[[   0    0    0    1    0]\n",
      " [   0  130   17   45   13]\n",
      " [   0   71 1188  509  157]\n",
      " [   0   62  215 6219  327]\n",
      " [   0   19   42  865 4069]]\n"
     ]
    }
   ],
   "source": [
    "print(confusion_matrix(Y_test,Y_predict))\n"
   ]
  },
  {
   "cell_type": "code",
   "execution_count": 67,
   "metadata": {},
   "outputs": [
    {
     "data": {
      "text/plain": [
       "0.831815900781418"
      ]
     },
     "execution_count": 67,
     "metadata": {},
     "output_type": "execute_result"
    }
   ],
   "source": [
    "from sklearn.svm import SVC\n",
    "\n",
    "model_bernb =SVC(C=2,gamma=1 ,kernel='rbf' ,probability=True)\n",
    "\n",
    "model_bernb.fit(X_train,Y_train)\n",
    "Y_predict = model_bernb.predict(X_test)\n",
    "\n",
    "accuracy_score(Y_test,Y_predict)"
   ]
  },
  {
   "cell_type": "markdown",
   "metadata": {},
   "source": [
    "### HyperParameter tuning using GridSearchCV"
   ]
  },
  {
   "cell_type": "code",
   "execution_count": 34,
   "metadata": {},
   "outputs": [
    {
     "name": "stderr",
     "output_type": "stream",
     "text": [
      "C:\\Users\\Rakshu\\Anaconda3\\lib\\site-packages\\sklearn\\model_selection\\_split.py:657: Warning: The least populated class in y has only 4 members, which is too few. The minimum number of members in any class cannot be less than n_splits=5.\n",
      "  % (min_groups, self.n_splits)), Warning)\n"
     ]
    },
    {
     "data": {
      "text/plain": [
       "GridSearchCV(cv=5, error_score='raise-deprecating',\n",
       "             estimator=RandomForestClassifier(bootstrap=True, class_weight=None,\n",
       "                                              criterion='gini', max_depth=8,\n",
       "                                              max_features='auto',\n",
       "                                              max_leaf_nodes=None,\n",
       "                                              min_impurity_decrease=0.0,\n",
       "                                              min_impurity_split=None,\n",
       "                                              min_samples_leaf=1,\n",
       "                                              min_samples_split=2,\n",
       "                                              min_weight_fraction_leaf=0.0,\n",
       "                                              n_estimators=1000, n_jobs=None,\n",
       "                                              oob_score=False,\n",
       "                                              random_state=None, verbose=0,\n",
       "                                              warm_start=False),\n",
       "             iid='warn', n_jobs=None,\n",
       "             param_grid={'max_depth': [2, 4, 8, 10, 15],\n",
       "                         'n_estimators': [5, 10, 100, 500, 250]},\n",
       "             pre_dispatch='2*n_jobs', refit=True, return_train_score=False,\n",
       "             scoring=None, verbose=0)"
      ]
     },
     "execution_count": 34,
     "metadata": {},
     "output_type": "execute_result"
    }
   ],
   "source": [
    "from sklearn.model_selection import GridSearchCV\n",
    "\n",
    "params={'n_estimators' : [5,10,100,500,250],\n",
    "       'max_depth' : [2,4,8,10,15]}\n",
    "\n",
    "cv =GridSearchCV(model_rf ,params ,cv=5)\n",
    "cv.fit(X_train,Y_train)\n"
   ]
  },
  {
   "cell_type": "code",
   "execution_count": 36,
   "metadata": {},
   "outputs": [
    {
     "name": "stdout",
     "output_type": "stream",
     "text": [
      "Best Estimators :   RandomForestClassifier(bootstrap=True, class_weight=None, criterion='gini',\n",
      "                       max_depth=15, max_features='auto', max_leaf_nodes=None,\n",
      "                       min_impurity_decrease=0.0, min_impurity_split=None,\n",
      "                       min_samples_leaf=1, min_samples_split=2,\n",
      "                       min_weight_fraction_leaf=0.0, n_estimators=500,\n",
      "                       n_jobs=None, oob_score=False, random_state=None,\n",
      "                       verbose=0, warm_start=False)\n",
      "Best Score :  0.8209611012105943\n",
      "Best Params :  {'max_depth': 15, 'n_estimators': 500}\n"
     ]
    }
   ],
   "source": [
    "print(\"Best Estimators :  \", cv.best_estimator_)\n",
    "print(\"Best Score : \" , cv.best_score_)\n",
    "print(\"Best Params : \",cv.best_params_)"
   ]
  },
  {
   "cell_type": "markdown",
   "metadata": {},
   "source": [
    "## Model2"
   ]
  },
  {
   "cell_type": "code",
   "execution_count": 81,
   "metadata": {},
   "outputs": [
    {
     "data": {
      "text/plain": [
       "0.8330346261380744"
      ]
     },
     "execution_count": 81,
     "metadata": {},
     "output_type": "execute_result"
    }
   ],
   "source": [
    "X1=df.loc[:,['CI_Cat','CI_Subcat','Category','WBS']]\n",
    "Y1=df.Impact\n",
    "\n",
    "X_train1 ,X_test1,Y_train1,Y_test1 = train_test_split(X1,Y1,test_size=0.3,random_state=10)\n",
    "\n",
    "model_rf1 = RandomForestClassifier(max_depth= 15, n_estimators= 1000)\n",
    "model_rf1.fit(X_train1,Y_train1)\n",
    "Y_predict1= model_rf1.predict(X_test1)\n",
    "\n",
    "accuracy_score(Y_test1,Y_predict1)"
   ]
  },
  {
   "cell_type": "code",
   "execution_count": 86,
   "metadata": {},
   "outputs": [
    {
     "data": {
      "text/plain": [
       "0.8278729658040003"
      ]
     },
     "execution_count": 86,
     "metadata": {},
     "output_type": "execute_result"
    }
   ],
   "source": [
    "X1=df.loc[:,['CI_Cat','CI_Subcat','Category','WBS']]\n",
    "Y1=df.Urgency\n",
    "\n",
    "model_rf2 = RandomForestClassifier(max_depth= 15, n_estimators= 1000)\n",
    "model_rf2.fit(X_train1,Y_train1)\n",
    "Y_predict2= model_rf2.predict(X_test1)\n",
    "\n",
    "accuracy_score(Y_test1,Y_predict2)"
   ]
  },
  {
   "cell_type": "code",
   "execution_count": null,
   "metadata": {},
   "outputs": [],
   "source": [
    "\n",
    "    \n"
   ]
  }
 ],
 "metadata": {
  "kernelspec": {
   "display_name": "Python 3",
   "language": "python",
   "name": "python3"
  },
  "language_info": {
   "codemirror_mode": {
    "name": "ipython",
    "version": 3
   },
   "file_extension": ".py",
   "mimetype": "text/x-python",
   "name": "python",
   "nbconvert_exporter": "python",
   "pygments_lexer": "ipython3",
   "version": "3.7.4"
  }
 },
 "nbformat": 4,
 "nbformat_minor": 2
}
