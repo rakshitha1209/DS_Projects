{
 "cells": [
  {
   "cell_type": "raw",
   "metadata": {},
   "source": [
    "\n",
    "\n",
    "ABC Tech is an mid-size organisation operation in IT-enabled business segment over a decade. On an average ABC Tech receives 22-25k IT incidents/tickets , which were handled to best practice ITIL framework with incident management , problem management, change management and configuration management processes. These ITIL practices attained matured process level and a recent audit confirmed that further improvement initiatives may not yield return of investment.\n",
    "ABC Tech management is looking for ways to improve the incident management process as recent customer survey results shows that incident management is rated as poor.\n",
    "Machine Learning as way to improve ITSM processes\n",
    "ABC Tech management recently attended Machine Learning conference on ML for ITSM.\n",
    "Machine learning looks prospective to improve ITSM processes through prediction and automation. They came up with 4 key areas, where ML can help ITSM process in ABC Tech.\n",
    "1. Predicting High Priority Tickets: To predict priority 1 & 2 tickets, so that they can take preventive measures or fix the problem before it surfaces.\n",
    "2. Forecast the incident volume in different fields , quarterly and annual. So that they can be better prepared with resources and technology planning.\n",
    "3. Auto tag the tickets with right priorities and right departments so that reassigning and related delay can be reduced.\n",
    "4. Predict RFC (Request for change) and possible failure / misconfiguration of ITSM assets."
   ]
  },
  {
   "cell_type": "code",
   "execution_count": 1,
   "metadata": {},
   "outputs": [],
   "source": [
    "from matplotlib import rcParams\n",
    "import matplotlib.pyplot as plt\n",
    "import seaborn as sb\n",
    "from collections import Counter"
   ]
  },
  {
   "cell_type": "code",
   "execution_count": 2,
   "metadata": {},
   "outputs": [],
   "source": [
    "from sklearn.tree import DecisionTreeClassifier ,DecisionTreeRegressor\n",
    "from sklearn.ensemble import RandomForestClassifier , GradientBoostingClassifier\n",
    "from sklearn.naive_bayes import GaussianNB ,MultinomialNB,BernoulliNB\n",
    "from sklearn.linear_model import LinearRegression ,LogisticRegression ,Log,Lasso\n",
    "from sklearn.svm import SVC\n",
    "from sklearn.neighbors import KNeighborsClassifier ,KNeighborsRegressor ,RadiusNeighborsClassifier\n",
    "#from sklearn.cluster import KMeans ,AgglomerativeClustering ,FeatureAgglomeartion\n",
    "from sklearn.neural_network import BernoulliRBM ,MLPClassifier ,MLPRegressor\n",
    "from xgboost import XGBClassifier ,XGBRegressor"
   ]
  },
  {
   "cell_type": "code",
   "execution_count": 3,
   "metadata": {},
   "outputs": [],
   "source": [
    "from sklearn.model_selection import train_test_split,GridSearchCV ,cross_val_score,validation_curve,KFold\n",
    "from sklearn import model_selection"
   ]
  },
  {
   "cell_type": "code",
   "execution_count": 4,
   "metadata": {},
   "outputs": [
    {
     "name": "stdout",
     "output_type": "stream",
     "text": [
      "(46606, 25)\n"
     ]
    },
    {
     "data": {
      "text/plain": [
       "Index(['CI_Name', 'CI_Cat', 'CI_Subcat', 'WBS', 'Incident_ID', 'Status',\n",
       "       'Impact', 'Urgency', 'Priority', 'number_cnt', 'Category', 'KB_number',\n",
       "       'Alert_Status', 'No_of_Reassignments', 'Open_Time', 'Reopen_Time',\n",
       "       'Resolved_Time', 'Close_Time', 'Handle_Time_hrs', 'Closure_Code',\n",
       "       'No_of_Related_Interactions', 'Related_Interaction',\n",
       "       'No_of_Related_Incidents', 'No_of_Related_Changes', 'Related_Change'],\n",
       "      dtype='object')"
      ]
     },
     "execution_count": 4,
     "metadata": {},
     "output_type": "execute_result"
    }
   ],
   "source": [
    "from sqlalchemy import create_engine\n",
    "import pandas as pd\n",
    "\n",
    "db_host = '18.136.56.185'\n",
    "username ='dm_team'\n",
    "pwd='dm_team123#'\n",
    "db_name='project_itsm'\n",
    "\n",
    "#Connecting to SQL DB\n",
    "conn =create_engine('mysql+pymysql://'+username+':'+pwd+'@'+db_host+'/'+db_name)\n",
    "conn.table_names()\n",
    "query ='select * from dataset_list '\n",
    "df =pd.read_sql(query,conn)\n",
    "print(df.shape)\n",
    "df.head(2)\n",
    "\n",
    "df.columns"
   ]
  },
  {
   "cell_type": "code",
   "execution_count": 5,
   "metadata": {},
   "outputs": [
    {
     "name": "stdout",
     "output_type": "stream",
     "text": [
      "(46606, 25)\n"
     ]
    },
    {
     "data": {
      "text/plain": [
       "Index(['CI_Name', 'CI_Cat', 'CI_Subcat', 'WBS', 'Incident_ID', 'Status',\n",
       "       'Impact', 'Urgency', 'Priority', 'number_cnt', 'Category', 'KB_number',\n",
       "       'Alert_Status', 'No_of_Reassignments', 'Open_Time', 'Reopen_Time',\n",
       "       'Resolved_Time', 'Close_Time', 'Handle_Time_hrs', 'Closure_Code',\n",
       "       'No_of_Related_Interactions', 'Related_Interaction',\n",
       "       'No_of_Related_Incidents', 'No_of_Related_Changes', 'Related_Change'],\n",
       "      dtype='object')"
      ]
     },
     "execution_count": 5,
     "metadata": {},
     "output_type": "execute_result"
    }
   ],
   "source": [
    "query ='select * from dataset_list '\n",
    "df =pd.read_sql(query,conn)\n",
    "print(df.shape)\n",
    "df.head(2)\n",
    "\n",
    "df.columns"
   ]
  },
  {
   "cell_type": "markdown",
   "metadata": {},
   "source": [
    "### Data Cleaning"
   ]
  },
  {
   "cell_type": "code",
   "execution_count": 12,
   "metadata": {},
   "outputs": [],
   "source": [
    "import numpy as np\n",
    "\n",
    "#==========================CI_Cat================================\n",
    "Counter(df.CI_Cat)\n",
    "df.CI_Cat.isnull().sum()\n",
    "\n",
    "#Replacing empty srting values of 111 records of CI_Cat column n dropping the same\n",
    "df['CI_Cat'] = np.where((df['CI_Cat'] == '') ,np.nan ,df['CI_Cat'])\n",
    "\n",
    "df.dropna(inplace =True)\n",
    "Counter(df.CI_Cat)\n",
    "\n",
    "#==========================CI_Name================================\n",
    "Counter(df.CI_Name)\n",
    "df.CI_Name.isnull().sum()\n",
    "\n",
    "#==========================CI_Subcat================================\n",
    "Counter(df.CI_Subcat)\n",
    "df.CI_Subcat.isnull().sum()\n",
    "\n",
    "#==========================WBS================================\n",
    "Counter(df.WBS)\n",
    "\n",
    "#==========================No_of_Reassignments================================\n",
    "Counter(df.No_of_Reassignments)\n",
    "df.No_of_Reassignments = np.where((df.No_of_Reassignments ==''),np.nan,df.No_of_Reassignments)\n",
    "df.No_of_Reassignments.ffill(inplace=True)\n",
    "\n",
    "\n",
    "#==========================No_of_Related_Incidents : replace empty values with '1'\n",
    "Counter(df.No_of_Related_Incidents) \n",
    "df['No_of_Related_Incidents'] = np.where((df.No_of_Related_Incidents == ''),'1',df.No_of_Related_Incidents)\n",
    "\n",
    "#==================== Closure_Code==============================================\n",
    "Counter(df.Closure_Code)\n",
    "df['Closure_Code'] = np.where((df.Closure_Code ==''),np.nan,df.Closure_Code)\n",
    "df.dropna(inplace=True)"
   ]
  },
  {
   "cell_type": "code",
   "execution_count": 13,
   "metadata": {},
   "outputs": [],
   "source": [
    "#==================== No_of_Related_Interactions==============================================\n",
    "Counter(df.No_of_Related_Interactions)\n",
    "df['No_of_Related_Interactions'] = np.where((df.No_of_Related_Interactions == ''),'0',df.No_of_Related_Interactions)\n"
   ]
  },
  {
   "cell_type": "markdown",
   "metadata": {},
   "source": [
    "### Drop the Columns which are not required"
   ]
  },
  {
   "cell_type": "code",
   "execution_count": 14,
   "metadata": {},
   "outputs": [],
   "source": [
    "DeleteColList = ['Incident_ID', 'Status','Impact', 'Urgency','number_cnt',\n",
    "                 'KB_number','Alert_Status','Resolved_Time','Handle_Time_hrs',\n",
    "                 'Related_Interaction','Related_Change']\n",
    "\n",
    "df.drop(DeleteColList,inplace=True , axis=1)\n"
   ]
  },
  {
   "cell_type": "markdown",
   "metadata": {},
   "source": [
    "### Delete the rows which are not incidents .SInce prediction task is scoped only for incidents\n"
   ]
  },
  {
   "cell_type": "markdown",
   "metadata": {},
   "source": [
    "#### Tickets of Category type complaints ,RFC and RFI will be deleted"
   ]
  },
  {
   "cell_type": "code",
   "execution_count": 16,
   "metadata": {},
   "outputs": [
    {
     "data": {
      "text/html": [
       "<div>\n",
       "<style scoped>\n",
       "    .dataframe tbody tr th:only-of-type {\n",
       "        vertical-align: middle;\n",
       "    }\n",
       "\n",
       "    .dataframe tbody tr th {\n",
       "        vertical-align: top;\n",
       "    }\n",
       "\n",
       "    .dataframe thead th {\n",
       "        text-align: right;\n",
       "    }\n",
       "</style>\n",
       "<table border=\"1\" class=\"dataframe\">\n",
       "  <thead>\n",
       "    <tr style=\"text-align: right;\">\n",
       "      <th>Category</th>\n",
       "      <th>complaint</th>\n",
       "      <th>incident</th>\n",
       "      <th>request for change</th>\n",
       "      <th>request for information</th>\n",
       "      <th>All</th>\n",
       "    </tr>\n",
       "    <tr>\n",
       "      <th>CI_Cat</th>\n",
       "      <th></th>\n",
       "      <th></th>\n",
       "      <th></th>\n",
       "      <th></th>\n",
       "      <th></th>\n",
       "    </tr>\n",
       "  </thead>\n",
       "  <tbody>\n",
       "    <tr>\n",
       "      <td>Phone</td>\n",
       "      <td>0</td>\n",
       "      <td>2</td>\n",
       "      <td>0</td>\n",
       "      <td>0</td>\n",
       "      <td>2</td>\n",
       "    </tr>\n",
       "    <tr>\n",
       "      <td>application</td>\n",
       "      <td>0</td>\n",
       "      <td>25370</td>\n",
       "      <td>1</td>\n",
       "      <td>7529</td>\n",
       "      <td>32900</td>\n",
       "    </tr>\n",
       "    <tr>\n",
       "      <td>applicationcomponent</td>\n",
       "      <td>0</td>\n",
       "      <td>5</td>\n",
       "      <td>0</td>\n",
       "      <td>0</td>\n",
       "      <td>5</td>\n",
       "    </tr>\n",
       "    <tr>\n",
       "      <td>computer</td>\n",
       "      <td>0</td>\n",
       "      <td>3084</td>\n",
       "      <td>0</td>\n",
       "      <td>99</td>\n",
       "      <td>3183</td>\n",
       "    </tr>\n",
       "    <tr>\n",
       "      <td>database</td>\n",
       "      <td>0</td>\n",
       "      <td>213</td>\n",
       "      <td>0</td>\n",
       "      <td>1</td>\n",
       "      <td>214</td>\n",
       "    </tr>\n",
       "    <tr>\n",
       "      <td>displaydevice</td>\n",
       "      <td>0</td>\n",
       "      <td>163</td>\n",
       "      <td>0</td>\n",
       "      <td>49</td>\n",
       "      <td>212</td>\n",
       "    </tr>\n",
       "    <tr>\n",
       "      <td>hardware</td>\n",
       "      <td>7</td>\n",
       "      <td>384</td>\n",
       "      <td>0</td>\n",
       "      <td>51</td>\n",
       "      <td>442</td>\n",
       "    </tr>\n",
       "    <tr>\n",
       "      <td>networkcomponents</td>\n",
       "      <td>0</td>\n",
       "      <td>95</td>\n",
       "      <td>0</td>\n",
       "      <td>12</td>\n",
       "      <td>107</td>\n",
       "    </tr>\n",
       "    <tr>\n",
       "      <td>officeelectronics</td>\n",
       "      <td>0</td>\n",
       "      <td>152</td>\n",
       "      <td>0</td>\n",
       "      <td>0</td>\n",
       "      <td>152</td>\n",
       "    </tr>\n",
       "    <tr>\n",
       "      <td>software</td>\n",
       "      <td>0</td>\n",
       "      <td>305</td>\n",
       "      <td>0</td>\n",
       "      <td>28</td>\n",
       "      <td>333</td>\n",
       "    </tr>\n",
       "    <tr>\n",
       "      <td>storage</td>\n",
       "      <td>4</td>\n",
       "      <td>630</td>\n",
       "      <td>0</td>\n",
       "      <td>69</td>\n",
       "      <td>703</td>\n",
       "    </tr>\n",
       "    <tr>\n",
       "      <td>subapplication</td>\n",
       "      <td>0</td>\n",
       "      <td>6788</td>\n",
       "      <td>0</td>\n",
       "      <td>994</td>\n",
       "      <td>7782</td>\n",
       "    </tr>\n",
       "    <tr>\n",
       "      <td>All</td>\n",
       "      <td>11</td>\n",
       "      <td>37191</td>\n",
       "      <td>1</td>\n",
       "      <td>8832</td>\n",
       "      <td>46035</td>\n",
       "    </tr>\n",
       "  </tbody>\n",
       "</table>\n",
       "</div>"
      ],
      "text/plain": [
       "Category              complaint  incident  request for change  \\\n",
       "CI_Cat                                                          \n",
       "Phone                         0         2                   0   \n",
       "application                   0     25370                   1   \n",
       "applicationcomponent          0         5                   0   \n",
       "computer                      0      3084                   0   \n",
       "database                      0       213                   0   \n",
       "displaydevice                 0       163                   0   \n",
       "hardware                      7       384                   0   \n",
       "networkcomponents             0        95                   0   \n",
       "officeelectronics             0       152                   0   \n",
       "software                      0       305                   0   \n",
       "storage                       4       630                   0   \n",
       "subapplication                0      6788                   0   \n",
       "All                          11     37191                   1   \n",
       "\n",
       "Category              request for information    All  \n",
       "CI_Cat                                                \n",
       "Phone                                       0      2  \n",
       "application                              7529  32900  \n",
       "applicationcomponent                        0      5  \n",
       "computer                                   99   3183  \n",
       "database                                    1    214  \n",
       "displaydevice                              49    212  \n",
       "hardware                                   51    442  \n",
       "networkcomponents                          12    107  \n",
       "officeelectronics                           0    152  \n",
       "software                                   28    333  \n",
       "storage                                    69    703  \n",
       "subapplication                            994   7782  \n",
       "All                                      8832  46035  "
      ]
     },
     "execution_count": 16,
     "metadata": {},
     "output_type": "execute_result"
    }
   ],
   "source": [
    "#======================Find the count of incident tickets\n",
    "\n",
    "pd.crosstab(df.CI_Cat,df.Category,margins='all')"
   ]
  },
  {
   "cell_type": "code",
   "execution_count": null,
   "metadata": {},
   "outputs": [],
   "source": [
    "df = df[df['Category'] ==  'incident']\n",
    "df.shape"
   ]
  },
  {
   "cell_type": "markdown",
   "metadata": {},
   "source": [
    "### Convert the data types"
   ]
  },
  {
   "cell_type": "code",
   "execution_count": 17,
   "metadata": {},
   "outputs": [
    {
     "name": "stdout",
     "output_type": "stream",
     "text": [
      "<class 'pandas.core.frame.DataFrame'>\n",
      "Int64Index: 46035 entries, 0 to 46605\n",
      "Data columns (total 14 columns):\n",
      "CI_Name                       46035 non-null object\n",
      "CI_Cat                        46035 non-null object\n",
      "CI_Subcat                     46035 non-null object\n",
      "WBS                           46035 non-null object\n",
      "Priority                      46035 non-null object\n",
      "Category                      46035 non-null object\n",
      "No_of_Reassignments           46035 non-null object\n",
      "Open_Time                     46035 non-null object\n",
      "Reopen_Time                   46035 non-null object\n",
      "Close_Time                    46035 non-null object\n",
      "Closure_Code                  46035 non-null object\n",
      "No_of_Related_Interactions    46035 non-null object\n",
      "No_of_Related_Incidents       46035 non-null object\n",
      "No_of_Related_Changes         46035 non-null object\n",
      "dtypes: object(14)\n",
      "memory usage: 5.3+ MB\n",
      "Before Data Conversion :  None\n",
      "<class 'pandas.core.frame.DataFrame'>\n",
      "Int64Index: 46035 entries, 0 to 46605\n",
      "Data columns (total 14 columns):\n",
      "CI_Name                       46035 non-null object\n",
      "CI_Cat                        46035 non-null object\n",
      "CI_Subcat                     46035 non-null object\n",
      "WBS                           46035 non-null object\n",
      "Priority                      46035 non-null object\n",
      "Category                      46035 non-null object\n",
      "No_of_Reassignments           46035 non-null int64\n",
      "Open_Time                     46035 non-null object\n",
      "Reopen_Time                   46035 non-null object\n",
      "Close_Time                    46035 non-null object\n",
      "Closure_Code                  46035 non-null object\n",
      "No_of_Related_Interactions    46035 non-null object\n",
      "No_of_Related_Incidents       46035 non-null int64\n",
      "No_of_Related_Changes         557 non-null float64\n",
      "dtypes: float64(1), int64(2), object(11)\n",
      "memory usage: 5.3+ MB\n",
      "After Data Conversion :  None\n"
     ]
    }
   ],
   "source": [
    "print( \"Before Data Conversion : \" ,df.info())\n",
    "\n",
    "#====Convert data into correct datatype\n",
    "convert_list = list(['No_of_Reassignments','No_of_Related_Incidents','No_of_Related_Changes'])\n",
    "df[convert_list] = df[convert_list].apply(pd.to_numeric ,errors ='coerce')\n",
    "\n",
    "print( \"After Data Conversion : \" ,df.info())"
   ]
  },
  {
   "cell_type": "markdown",
   "metadata": {},
   "source": [
    "### Check to see if all converted columns have a proper data.\n",
    "### ----CrossTab--- helps to find data across different values of  data column\n",
    "\n",
    "#### The total shoul match to 37748 ,all columns should have either an integer value or zero"
   ]
  },
  {
   "cell_type": "code",
   "execution_count": null,
   "metadata": {},
   "outputs": [],
   "source": [
    "pd.crosstab(df.No_of_Reassignments ,df.Category ,margins='all')"
   ]
  },
  {
   "cell_type": "code",
   "execution_count": null,
   "metadata": {},
   "outputs": [],
   "source": [
    "pd.crosstab(df.No_of_Related_Incidents ,df.Category ,margins=True)"
   ]
  },
  {
   "cell_type": "markdown",
   "metadata": {},
   "source": [
    "### Convert all date columns into datatype Date ,if any blanks or errors it will convey to 'Nat'\n"
   ]
  },
  {
   "cell_type": "code",
   "execution_count": 18,
   "metadata": {},
   "outputs": [],
   "source": [
    "df.Open_Time = pd.to_datetime(df.Open_Time ,dayfirst =True)\n",
    "df.Reopen_Time = pd.to_datetime(df.Reopen_Time ,dayfirst =True)\n",
    "df.Close_Time = pd.to_datetime(df.Close_Time ,dayfirst =True)\n"
   ]
  },
  {
   "cell_type": "markdown",
   "metadata": {},
   "source": [
    "### Using Reopen time stamp to create a flag ( 0-Ticket was not reopened ,1-Ticket was  reopened)"
   ]
  },
  {
   "cell_type": "code",
   "execution_count": 19,
   "metadata": {},
   "outputs": [
    {
     "data": {
      "text/plain": [
       "Counter({NaT: 43760,\n",
       "         Timestamp('2013-12-02 12:31:00'): 1,\n",
       "         Timestamp('2014-01-28 14:07:00'): 1,\n",
       "         Timestamp('2014-02-11 14:50:00'): 1,\n",
       "         Timestamp('2013-10-17 12:22:00'): 1,\n",
       "         Timestamp('2013-12-04 13:58:00'): 1,\n",
       "         Timestamp('2013-12-03 08:57:00'): 1,\n",
       "         Timestamp('2014-01-24 15:20:00'): 1,\n",
       "         Timestamp('2013-10-08 09:14:00'): 1,\n",
       "         Timestamp('2014-01-03 14:14:00'): 1,\n",
       "         Timestamp('2014-03-24 12:35:00'): 1,\n",
       "         Timestamp('2013-04-10 09:15:00'): 1,\n",
       "         Timestamp('2013-10-21 08:50:00'): 1,\n",
       "         Timestamp('2013-11-18 09:46:00'): 1,\n",
       "         Timestamp('2013-11-12 12:04:00'): 1,\n",
       "         Timestamp('2013-05-17 09:08:00'): 1,\n",
       "         Timestamp('2013-10-10 14:48:00'): 1,\n",
       "         Timestamp('2014-03-05 08:34:00'): 1,\n",
       "         Timestamp('2013-05-22 15:27:00'): 1,\n",
       "         Timestamp('2013-08-12 10:16:00'): 1,\n",
       "         Timestamp('2013-06-27 14:56:00'): 1,\n",
       "         Timestamp('2013-06-20 14:23:00'): 1,\n",
       "         Timestamp('2013-10-25 11:29:00'): 1,\n",
       "         Timestamp('2013-09-13 11:33:00'): 1,\n",
       "         Timestamp('2013-06-10 12:22:00'): 1,\n",
       "         Timestamp('2013-10-10 15:06:00'): 1,\n",
       "         Timestamp('2014-01-29 09:34:00'): 1,\n",
       "         Timestamp('2014-01-20 09:47:00'): 1,\n",
       "         Timestamp('2013-09-24 13:14:00'): 1,\n",
       "         Timestamp('2013-10-08 09:22:00'): 1,\n",
       "         Timestamp('2013-07-19 14:17:00'): 1,\n",
       "         Timestamp('2013-08-12 09:25:00'): 1,\n",
       "         Timestamp('2013-08-20 09:30:00'): 1,\n",
       "         Timestamp('2013-08-19 16:47:00'): 1,\n",
       "         Timestamp('2013-07-25 09:00:00'): 1,\n",
       "         Timestamp('2013-09-09 09:40:00'): 1,\n",
       "         Timestamp('2013-08-05 11:14:00'): 1,\n",
       "         Timestamp('2013-10-10 09:56:00'): 1,\n",
       "         Timestamp('2013-09-02 15:22:00'): 1,\n",
       "         Timestamp('2013-08-09 10:05:00'): 1,\n",
       "         Timestamp('2013-11-05 17:02:00'): 1,\n",
       "         Timestamp('2013-09-16 15:54:00'): 1,\n",
       "         Timestamp('2013-08-13 12:25:00'): 1,\n",
       "         Timestamp('2013-10-21 13:58:00'): 1,\n",
       "         Timestamp('2013-08-29 09:32:00'): 1,\n",
       "         Timestamp('2013-11-20 14:15:00'): 1,\n",
       "         Timestamp('2013-09-17 09:26:00'): 1,\n",
       "         Timestamp('2013-09-25 10:04:00'): 1,\n",
       "         Timestamp('2013-09-19 09:54:00'): 1,\n",
       "         Timestamp('2013-08-30 16:35:00'): 1,\n",
       "         Timestamp('2013-10-18 13:37:00'): 1,\n",
       "         Timestamp('2013-10-14 16:25:00'): 1,\n",
       "         Timestamp('2013-08-29 11:25:00'): 1,\n",
       "         Timestamp('2013-10-08 08:40:00'): 1,\n",
       "         Timestamp('2013-08-28 15:38:00'): 1,\n",
       "         Timestamp('2013-09-13 11:40:00'): 1,\n",
       "         Timestamp('2013-09-30 11:02:00'): 1,\n",
       "         Timestamp('2013-09-25 10:30:00'): 1,\n",
       "         Timestamp('2013-09-05 09:19:00'): 1,\n",
       "         Timestamp('2013-09-06 09:51:00'): 1,\n",
       "         Timestamp('2013-10-08 08:36:00'): 1,\n",
       "         Timestamp('2013-10-11 14:02:00'): 1,\n",
       "         Timestamp('2013-09-03 08:32:00'): 1,\n",
       "         Timestamp('2013-09-25 13:25:00'): 1,\n",
       "         Timestamp('2013-11-08 15:20:00'): 1,\n",
       "         Timestamp('2013-09-13 10:04:00'): 1,\n",
       "         Timestamp('2013-09-10 16:51:00'): 1,\n",
       "         Timestamp('2013-09-30 15:57:00'): 1,\n",
       "         Timestamp('2013-09-26 09:36:00'): 1,\n",
       "         Timestamp('2013-10-11 15:21:00'): 1,\n",
       "         Timestamp('2013-10-30 14:26:00'): 1,\n",
       "         Timestamp('2013-10-07 11:53:00'): 1,\n",
       "         Timestamp('2013-09-10 12:26:00'): 1,\n",
       "         Timestamp('2013-09-09 13:26:00'): 1,\n",
       "         Timestamp('2013-10-11 08:26:00'): 1,\n",
       "         Timestamp('2013-10-07 10:25:00'): 1,\n",
       "         Timestamp('2013-11-13 11:25:00'): 1,\n",
       "         Timestamp('2013-09-23 09:59:00'): 1,\n",
       "         Timestamp('2013-10-07 08:52:00'): 1,\n",
       "         Timestamp('2013-10-09 10:16:00'): 1,\n",
       "         Timestamp('2013-09-27 16:41:00'): 1,\n",
       "         Timestamp('2013-10-04 15:12:00'): 1,\n",
       "         Timestamp('2013-10-15 09:53:00'): 2,\n",
       "         Timestamp('2013-09-18 15:15:00'): 1,\n",
       "         Timestamp('2013-10-15 15:05:00'): 1,\n",
       "         Timestamp('2013-09-26 12:10:00'): 1,\n",
       "         Timestamp('2013-11-04 15:16:00'): 1,\n",
       "         Timestamp('2013-09-16 15:16:00'): 1,\n",
       "         Timestamp('2013-10-08 10:46:00'): 1,\n",
       "         Timestamp('2013-09-18 12:44:00'): 1,\n",
       "         Timestamp('2013-09-13 07:33:00'): 1,\n",
       "         Timestamp('2013-09-26 15:52:00'): 1,\n",
       "         Timestamp('2013-10-03 15:16:00'): 1,\n",
       "         Timestamp('2013-10-24 14:16:00'): 1,\n",
       "         Timestamp('2013-10-01 15:50:00'): 1,\n",
       "         Timestamp('2013-09-13 15:17:00'): 1,\n",
       "         Timestamp('2013-11-12 11:53:00'): 1,\n",
       "         Timestamp('2013-09-25 13:55:00'): 1,\n",
       "         Timestamp('2013-09-20 09:18:00'): 1,\n",
       "         Timestamp('2013-11-26 10:05:00'): 1,\n",
       "         Timestamp('2013-09-27 13:21:00'): 1,\n",
       "         Timestamp('2013-10-07 11:14:00'): 1,\n",
       "         Timestamp('2013-11-26 09:40:00'): 1,\n",
       "         Timestamp('2013-10-02 09:51:00'): 1,\n",
       "         Timestamp('2013-10-04 09:17:00'): 1,\n",
       "         Timestamp('2013-09-18 13:56:00'): 1,\n",
       "         Timestamp('2013-09-25 10:07:00'): 1,\n",
       "         Timestamp('2013-09-20 09:52:00'): 1,\n",
       "         Timestamp('2013-09-26 13:35:00'): 1,\n",
       "         Timestamp('2013-10-04 09:12:00'): 1,\n",
       "         Timestamp('2013-10-09 12:28:00'): 1,\n",
       "         Timestamp('2013-09-30 09:43:00'): 1,\n",
       "         Timestamp('2013-09-19 14:06:00'): 1,\n",
       "         Timestamp('2013-09-30 13:22:00'): 1,\n",
       "         Timestamp('2013-10-01 09:58:00'): 1,\n",
       "         Timestamp('2013-10-03 08:39:00'): 1,\n",
       "         Timestamp('2013-09-25 08:52:00'): 1,\n",
       "         Timestamp('2013-09-24 15:52:00'): 1,\n",
       "         Timestamp('2013-10-28 13:11:00'): 1,\n",
       "         Timestamp('2013-10-28 14:53:00'): 1,\n",
       "         Timestamp('2013-10-14 08:37:00'): 1,\n",
       "         Timestamp('2013-10-17 17:07:00'): 1,\n",
       "         Timestamp('2013-10-21 11:23:00'): 1,\n",
       "         Timestamp('2013-10-03 08:41:00'): 1,\n",
       "         Timestamp('2013-10-11 08:47:00'): 1,\n",
       "         Timestamp('2013-10-01 11:35:00'): 1,\n",
       "         Timestamp('2013-10-07 09:04:00'): 1,\n",
       "         Timestamp('2013-10-17 15:05:00'): 1,\n",
       "         Timestamp('2013-09-25 09:16:00'): 1,\n",
       "         Timestamp('2013-09-24 14:39:00'): 1,\n",
       "         Timestamp('2013-10-11 09:44:00'): 1,\n",
       "         Timestamp('2013-09-27 08:52:00'): 1,\n",
       "         Timestamp('2013-10-09 08:46:00'): 1,\n",
       "         Timestamp('2013-10-17 11:43:00'): 1,\n",
       "         Timestamp('2013-10-02 10:55:00'): 1,\n",
       "         Timestamp('2013-10-03 09:21:00'): 1,\n",
       "         Timestamp('2013-10-31 09:53:00'): 1,\n",
       "         Timestamp('2013-10-14 12:18:00'): 1,\n",
       "         Timestamp('2013-09-24 15:05:00'): 1,\n",
       "         Timestamp('2013-10-07 15:31:00'): 1,\n",
       "         Timestamp('2013-10-02 09:28:00'): 1,\n",
       "         Timestamp('2013-10-15 09:46:00'): 2,\n",
       "         Timestamp('2013-10-01 11:08:00'): 1,\n",
       "         Timestamp('2013-10-17 11:27:00'): 1,\n",
       "         Timestamp('2013-10-01 12:23:00'): 1,\n",
       "         Timestamp('2013-09-25 11:36:00'): 1,\n",
       "         Timestamp('2013-09-30 11:43:00'): 1,\n",
       "         Timestamp('2013-10-17 13:13:00'): 1,\n",
       "         Timestamp('2013-10-16 13:18:00'): 1,\n",
       "         Timestamp('2013-09-26 14:02:00'): 1,\n",
       "         Timestamp('2013-09-26 14:00:00'): 1,\n",
       "         Timestamp('2013-10-07 11:18:00'): 1,\n",
       "         Timestamp('2013-10-04 16:45:00'): 1,\n",
       "         Timestamp('2013-09-26 11:37:00'): 1,\n",
       "         Timestamp('2013-09-27 10:04:00'): 1,\n",
       "         Timestamp('2013-09-30 07:53:00'): 1,\n",
       "         Timestamp('2013-09-27 14:45:00'): 1,\n",
       "         Timestamp('2013-10-07 08:48:00'): 2,\n",
       "         Timestamp('2013-10-14 09:03:00'): 1,\n",
       "         Timestamp('2013-10-03 12:56:00'): 1,\n",
       "         Timestamp('2013-10-04 10:03:00'): 1,\n",
       "         Timestamp('2013-09-27 10:10:00'): 1,\n",
       "         Timestamp('2013-09-30 10:54:00'): 1,\n",
       "         Timestamp('2013-09-27 10:57:00'): 1,\n",
       "         Timestamp('2013-10-29 15:54:00'): 1,\n",
       "         Timestamp('2013-10-01 10:22:00'): 1,\n",
       "         Timestamp('2013-10-04 15:25:00'): 1,\n",
       "         Timestamp('2013-10-04 12:22:00'): 1,\n",
       "         Timestamp('2013-10-02 14:51:00'): 1,\n",
       "         Timestamp('2013-10-01 14:00:00'): 1,\n",
       "         Timestamp('2013-09-28 21:19:00'): 1,\n",
       "         Timestamp('2013-10-07 14:10:00'): 1,\n",
       "         Timestamp('2013-10-03 13:22:00'): 1,\n",
       "         Timestamp('2013-10-15 15:43:00'): 1,\n",
       "         Timestamp('2013-11-05 17:51:00'): 1,\n",
       "         Timestamp('2013-10-01 11:06:00'): 1,\n",
       "         Timestamp('2013-10-02 09:44:00'): 1,\n",
       "         Timestamp('2013-10-04 16:28:00'): 1,\n",
       "         Timestamp('2013-10-01 13:19:00'): 1,\n",
       "         Timestamp('2013-10-03 10:37:00'): 1,\n",
       "         Timestamp('2013-10-07 08:37:00'): 1,\n",
       "         Timestamp('2013-10-29 12:28:00'): 1,\n",
       "         Timestamp('2013-10-08 09:37:00'): 2,\n",
       "         Timestamp('2013-10-01 16:19:00'): 1,\n",
       "         Timestamp('2013-12-02 14:21:00'): 1,\n",
       "         Timestamp('2013-10-02 13:04:00'): 1,\n",
       "         Timestamp('2013-10-07 11:44:00'): 1,\n",
       "         Timestamp('2013-10-04 15:53:00'): 1,\n",
       "         Timestamp('2013-10-01 10:20:00'): 1,\n",
       "         Timestamp('2013-10-01 12:56:00'): 1,\n",
       "         Timestamp('2013-10-07 07:45:00'): 1,\n",
       "         Timestamp('2013-10-08 13:11:00'): 1,\n",
       "         Timestamp('2013-10-10 12:49:00'): 1,\n",
       "         Timestamp('2013-10-03 10:45:00'): 1,\n",
       "         Timestamp('2013-10-01 12:16:00'): 1,\n",
       "         Timestamp('2013-10-01 11:43:00'): 1,\n",
       "         Timestamp('2013-10-01 16:12:00'): 1,\n",
       "         Timestamp('2013-10-01 16:13:00'): 1,\n",
       "         Timestamp('2013-10-01 16:18:00'): 1,\n",
       "         Timestamp('2013-10-01 16:21:00'): 2,\n",
       "         Timestamp('2013-10-03 13:09:00'): 1,\n",
       "         Timestamp('2013-10-22 14:19:00'): 1,\n",
       "         Timestamp('2013-11-15 15:24:00'): 1,\n",
       "         Timestamp('2013-10-02 13:35:00'): 1,\n",
       "         Timestamp('2013-10-09 15:25:00'): 1,\n",
       "         Timestamp('2013-10-14 09:20:00'): 1,\n",
       "         Timestamp('2013-10-01 16:01:00'): 1,\n",
       "         Timestamp('2013-10-10 12:51:00'): 1,\n",
       "         Timestamp('2013-10-03 10:43:00'): 1,\n",
       "         Timestamp('2013-10-08 15:40:00'): 1,\n",
       "         Timestamp('2013-10-07 11:24:00'): 1,\n",
       "         Timestamp('2013-10-03 16:53:00'): 1,\n",
       "         Timestamp('2013-10-08 14:58:00'): 1,\n",
       "         Timestamp('2013-10-03 07:29:00'): 1,\n",
       "         Timestamp('2013-10-07 13:23:00'): 1,\n",
       "         Timestamp('2013-10-02 12:05:00'): 1,\n",
       "         Timestamp('2013-10-07 10:27:00'): 1,\n",
       "         Timestamp('2013-10-04 09:23:00'): 1,\n",
       "         Timestamp('2013-10-07 09:11:00'): 1,\n",
       "         Timestamp('2013-10-03 09:23:00'): 1,\n",
       "         Timestamp('2013-10-10 16:49:00'): 1,\n",
       "         Timestamp('2013-10-02 13:21:00'): 1,\n",
       "         Timestamp('2013-10-08 08:20:00'): 1,\n",
       "         Timestamp('2013-10-07 10:08:00'): 1,\n",
       "         Timestamp('2013-10-08 11:31:00'): 1,\n",
       "         Timestamp('2013-10-08 11:26:00'): 1,\n",
       "         Timestamp('2013-10-03 10:06:00'): 1,\n",
       "         Timestamp('2013-10-04 11:09:00'): 1,\n",
       "         Timestamp('2013-10-07 13:22:00'): 1,\n",
       "         Timestamp('2013-10-03 13:43:00'): 1,\n",
       "         Timestamp('2013-11-06 14:35:00'): 1,\n",
       "         Timestamp('2013-11-25 13:25:00'): 1,\n",
       "         Timestamp('2013-10-02 16:30:00'): 1,\n",
       "         Timestamp('2013-10-21 12:01:00'): 1,\n",
       "         Timestamp('2013-10-21 08:48:00'): 1,\n",
       "         Timestamp('2013-10-15 14:48:00'): 1,\n",
       "         Timestamp('2013-10-08 09:10:00'): 1,\n",
       "         Timestamp('2013-10-14 14:38:00'): 1,\n",
       "         Timestamp('2013-10-10 10:31:00'): 1,\n",
       "         Timestamp('2013-10-04 12:14:00'): 1,\n",
       "         Timestamp('2013-10-03 12:50:00'): 1,\n",
       "         Timestamp('2013-10-21 09:49:00'): 1,\n",
       "         Timestamp('2013-10-24 15:16:00'): 1,\n",
       "         Timestamp('2013-10-07 09:35:00'): 1,\n",
       "         Timestamp('2013-10-04 13:49:00'): 1,\n",
       "         Timestamp('2013-10-07 15:35:00'): 2,\n",
       "         Timestamp('2013-10-10 14:51:00'): 1,\n",
       "         Timestamp('2013-10-21 11:09:00'): 1,\n",
       "         Timestamp('2013-10-07 13:31:00'): 1,\n",
       "         Timestamp('2013-10-04 11:43:00'): 1,\n",
       "         Timestamp('2014-03-21 11:02:00'): 1,\n",
       "         Timestamp('2013-10-25 11:18:00'): 1,\n",
       "         Timestamp('2013-10-04 14:10:00'): 1,\n",
       "         Timestamp('2013-10-09 15:10:00'): 1,\n",
       "         Timestamp('2013-10-08 12:45:00'): 1,\n",
       "         Timestamp('2013-10-15 11:40:00'): 1,\n",
       "         Timestamp('2013-10-22 08:39:00'): 1,\n",
       "         Timestamp('2013-10-08 09:46:00'): 1,\n",
       "         Timestamp('2013-10-09 10:59:00'): 1,\n",
       "         Timestamp('2013-10-18 12:49:00'): 1,\n",
       "         Timestamp('2013-10-09 12:44:00'): 1,\n",
       "         Timestamp('2013-11-07 16:15:00'): 1,\n",
       "         Timestamp('2013-10-14 15:23:00'): 1,\n",
       "         Timestamp('2013-10-07 10:50:00'): 1,\n",
       "         Timestamp('2013-10-14 09:26:00'): 1,\n",
       "         Timestamp('2013-10-14 09:38:00'): 1,\n",
       "         Timestamp('2013-10-08 14:44:00'): 1,\n",
       "         Timestamp('2013-10-11 09:18:00'): 1,\n",
       "         Timestamp('2013-10-07 14:04:00'): 1,\n",
       "         Timestamp('2013-10-08 08:00:00'): 1,\n",
       "         Timestamp('2013-10-23 13:37:00'): 1,\n",
       "         Timestamp('2013-10-09 12:42:00'): 1,\n",
       "         Timestamp('2013-10-08 09:58:00'): 1,\n",
       "         Timestamp('2013-10-18 09:22:00'): 1,\n",
       "         Timestamp('2013-10-08 15:54:00'): 1,\n",
       "         Timestamp('2013-10-11 10:32:00'): 1,\n",
       "         Timestamp('2013-10-08 09:35:00'): 1,\n",
       "         Timestamp('2013-10-11 09:12:00'): 1,\n",
       "         Timestamp('2013-10-10 08:49:00'): 1,\n",
       "         Timestamp('2013-10-08 16:52:00'): 1,\n",
       "         Timestamp('2013-10-08 14:14:00'): 1,\n",
       "         Timestamp('2013-10-09 09:49:00'): 1,\n",
       "         Timestamp('2013-10-09 14:27:00'): 1,\n",
       "         Timestamp('2013-10-14 08:41:00'): 1,\n",
       "         Timestamp('2013-10-18 14:48:00'): 1,\n",
       "         Timestamp('2013-10-15 07:49:00'): 1,\n",
       "         Timestamp('2013-10-21 13:29:00'): 1,\n",
       "         Timestamp('2013-10-14 15:26:00'): 1,\n",
       "         Timestamp('2013-10-08 11:11:00'): 1,\n",
       "         Timestamp('2013-10-08 14:07:00'): 1,\n",
       "         Timestamp('2013-10-08 12:31:00'): 1,\n",
       "         Timestamp('2013-10-08 11:59:00'): 1,\n",
       "         Timestamp('2013-10-10 12:39:00'): 1,\n",
       "         Timestamp('2013-10-14 16:02:00'): 2,\n",
       "         Timestamp('2013-10-08 13:18:00'): 1,\n",
       "         Timestamp('2013-10-09 09:02:00'): 1,\n",
       "         Timestamp('2013-10-10 09:38:00'): 1,\n",
       "         Timestamp('2013-10-10 11:52:00'): 1,\n",
       "         Timestamp('2013-10-10 13:59:00'): 1,\n",
       "         Timestamp('2013-10-09 15:51:00'): 1,\n",
       "         Timestamp('2013-10-09 14:36:00'): 1,\n",
       "         Timestamp('2013-10-11 08:45:00'): 1,\n",
       "         Timestamp('2013-10-09 12:06:00'): 1,\n",
       "         Timestamp('2013-11-05 07:06:00'): 1,\n",
       "         Timestamp('2013-10-28 08:53:00'): 1,\n",
       "         Timestamp('2013-10-18 08:13:00'): 1,\n",
       "         Timestamp('2013-10-09 09:24:00'): 1,\n",
       "         Timestamp('2013-10-11 13:46:00'): 1,\n",
       "         Timestamp('2013-10-21 14:55:00'): 1,\n",
       "         Timestamp('2013-10-14 10:08:00'): 1,\n",
       "         Timestamp('2013-10-22 15:12:00'): 2,\n",
       "         Timestamp('2013-10-10 08:06:00'): 1,\n",
       "         Timestamp('2013-10-16 09:32:00'): 1,\n",
       "         Timestamp('2013-10-14 10:29:00'): 1,\n",
       "         Timestamp('2013-10-11 11:50:00'): 1,\n",
       "         Timestamp('2013-10-14 09:35:00'): 1,\n",
       "         Timestamp('2013-10-15 09:44:00'): 1,\n",
       "         Timestamp('2013-10-17 15:58:00'): 1,\n",
       "         Timestamp('2013-10-16 11:05:00'): 2,\n",
       "         Timestamp('2013-10-09 14:50:00'): 1,\n",
       "         Timestamp('2014-01-13 15:58:00'): 1,\n",
       "         Timestamp('2013-10-11 12:03:00'): 1,\n",
       "         Timestamp('2013-10-18 13:33:00'): 1,\n",
       "         Timestamp('2013-10-11 09:24:00'): 1,\n",
       "         Timestamp('2013-10-11 10:06:00'): 1,\n",
       "         Timestamp('2013-10-11 14:01:00'): 1,\n",
       "         Timestamp('2013-10-11 14:27:00'): 1,\n",
       "         Timestamp('2013-10-21 16:55:00'): 1,\n",
       "         Timestamp('2013-10-15 12:25:00'): 1,\n",
       "         Timestamp('2013-10-14 10:25:00'): 1,\n",
       "         Timestamp('2013-10-14 13:21:00'): 1,\n",
       "         Timestamp('2013-10-14 11:01:00'): 1,\n",
       "         Timestamp('2013-10-11 10:07:00'): 1,\n",
       "         Timestamp('2013-10-10 16:25:00'): 1,\n",
       "         Timestamp('2013-10-22 09:54:00'): 1,\n",
       "         Timestamp('2013-10-14 15:49:00'): 1,\n",
       "         Timestamp('2013-10-21 08:41:00'): 1,\n",
       "         Timestamp('2013-10-14 13:06:00'): 1,\n",
       "         Timestamp('2013-10-30 08:39:00'): 1,\n",
       "         Timestamp('2013-12-04 12:48:00'): 1,\n",
       "         Timestamp('2013-10-14 10:26:00'): 1,\n",
       "         Timestamp('2013-10-14 08:10:00'): 1,\n",
       "         Timestamp('2013-10-24 11:57:00'): 1,\n",
       "         Timestamp('2013-10-11 09:07:00'): 1,\n",
       "         Timestamp('2013-10-11 08:50:00'): 1,\n",
       "         Timestamp('2013-10-14 12:43:00'): 1,\n",
       "         Timestamp('2013-11-01 13:47:00'): 1,\n",
       "         Timestamp('2013-10-29 15:57:00'): 2,\n",
       "         Timestamp('2013-10-14 09:27:00'): 1,\n",
       "         Timestamp('2013-10-11 16:49:00'): 1,\n",
       "         Timestamp('2013-10-15 09:27:00'): 1,\n",
       "         Timestamp('2014-01-10 12:18:00'): 1,\n",
       "         Timestamp('2013-10-17 16:40:00'): 1,\n",
       "         Timestamp('2013-10-11 12:29:00'): 1,\n",
       "         Timestamp('2013-10-14 16:30:00'): 1,\n",
       "         Timestamp('2013-10-23 14:21:00'): 1,\n",
       "         Timestamp('2013-10-17 09:43:00'): 1,\n",
       "         Timestamp('2013-10-11 16:59:00'): 1,\n",
       "         Timestamp('2013-10-16 16:17:00'): 1,\n",
       "         Timestamp('2013-10-21 14:32:00'): 1,\n",
       "         Timestamp('2013-10-14 16:27:00'): 1,\n",
       "         Timestamp('2013-10-11 16:35:00'): 1,\n",
       "         Timestamp('2013-10-14 16:35:00'): 1,\n",
       "         Timestamp('2013-10-24 10:39:00'): 1,\n",
       "         Timestamp('2013-10-15 09:45:00'): 1,\n",
       "         Timestamp('2013-10-29 11:22:00'): 1,\n",
       "         Timestamp('2013-10-14 16:12:00'): 1,\n",
       "         Timestamp('2013-10-24 10:25:00'): 1,\n",
       "         Timestamp('2013-10-22 09:52:00'): 1,\n",
       "         Timestamp('2013-10-16 13:06:00'): 1,\n",
       "         Timestamp('2013-10-15 13:15:00'): 1,\n",
       "         Timestamp('2013-10-18 08:06:00'): 1,\n",
       "         Timestamp('2013-10-21 12:50:00'): 1,\n",
       "         Timestamp('2013-10-15 15:21:00'): 1,\n",
       "         Timestamp('2013-10-14 16:09:00'): 1,\n",
       "         Timestamp('2013-10-15 11:52:00'): 1,\n",
       "         Timestamp('2013-10-15 15:10:00'): 1,\n",
       "         Timestamp('2013-10-21 12:27:00'): 1,\n",
       "         Timestamp('2013-10-16 10:30:00'): 1,\n",
       "         Timestamp('2013-10-21 14:52:00'): 1,\n",
       "         Timestamp('2013-10-18 16:19:00'): 1,\n",
       "         Timestamp('2013-10-16 11:41:00'): 1,\n",
       "         Timestamp('2013-10-15 09:43:00'): 1,\n",
       "         Timestamp('2013-10-15 10:14:00'): 1,\n",
       "         Timestamp('2013-10-16 09:33:00'): 1,\n",
       "         Timestamp('2013-11-01 14:36:00'): 1,\n",
       "         Timestamp('2013-10-16 10:36:00'): 1,\n",
       "         Timestamp('2013-10-17 15:42:00'): 1,\n",
       "         Timestamp('2013-10-21 08:54:00'): 1,\n",
       "         Timestamp('2013-10-22 09:42:00'): 1,\n",
       "         Timestamp('2013-10-17 17:04:00'): 1,\n",
       "         Timestamp('2013-10-15 15:19:00'): 1,\n",
       "         Timestamp('2013-10-22 10:02:00'): 1,\n",
       "         Timestamp('2013-10-18 12:53:00'): 1,\n",
       "         Timestamp('2013-12-03 14:51:00'): 1,\n",
       "         Timestamp('2013-10-17 08:07:00'): 1,\n",
       "         Timestamp('2013-10-16 11:04:00'): 1,\n",
       "         Timestamp('2013-10-21 09:35:00'): 1,\n",
       "         Timestamp('2013-10-18 09:00:00'): 1,\n",
       "         Timestamp('2013-10-17 11:29:00'): 1,\n",
       "         Timestamp('2013-10-28 08:30:00'): 1,\n",
       "         Timestamp('2013-10-16 10:58:00'): 1,\n",
       "         Timestamp('2013-10-25 10:35:00'): 1,\n",
       "         Timestamp('2013-10-16 10:38:00'): 1,\n",
       "         Timestamp('2013-10-16 12:38:00'): 1,\n",
       "         Timestamp('2013-10-22 16:32:00'): 1,\n",
       "         Timestamp('2013-10-21 14:00:00'): 1,\n",
       "         Timestamp('2013-10-16 11:00:00'): 1,\n",
       "         Timestamp('2013-10-30 14:45:00'): 1,\n",
       "         Timestamp('2013-10-16 08:58:00'): 1,\n",
       "         Timestamp('2013-10-16 10:43:00'): 1,\n",
       "         Timestamp('2013-10-21 11:22:00'): 1,\n",
       "         Timestamp('2013-10-16 14:33:00'): 1,\n",
       "         Timestamp('2013-10-23 13:30:00'): 1,\n",
       "         Timestamp('2013-11-12 08:31:00'): 1,\n",
       "         Timestamp('2013-10-22 09:49:00'): 1,\n",
       "         Timestamp('2013-10-21 13:48:00'): 1,\n",
       "         Timestamp('2013-10-16 17:35:00'): 1,\n",
       "         Timestamp('2013-10-18 10:20:00'): 1,\n",
       "         Timestamp('2013-10-21 16:08:00'): 1,\n",
       "         Timestamp('2013-10-17 14:54:00'): 1,\n",
       "         Timestamp('2013-10-29 10:16:00'): 1,\n",
       "         Timestamp('2013-10-22 14:40:00'): 1,\n",
       "         Timestamp('2013-10-17 14:31:00'): 1,\n",
       "         Timestamp('2013-10-17 12:06:00'): 1,\n",
       "         Timestamp('2013-10-17 14:22:00'): 1,\n",
       "         Timestamp('2013-10-17 14:23:00'): 1,\n",
       "         Timestamp('2013-10-18 15:06:00'): 1,\n",
       "         Timestamp('2013-10-18 15:14:00'): 1,\n",
       "         Timestamp('2013-10-28 11:01:00'): 1,\n",
       "         Timestamp('2013-10-18 11:09:00'): 1,\n",
       "         Timestamp('2013-10-17 15:11:00'): 1,\n",
       "         Timestamp('2013-10-23 12:18:00'): 1,\n",
       "         Timestamp('2013-10-24 16:54:00'): 1,\n",
       "         Timestamp('2013-10-28 15:37:00'): 1,\n",
       "         Timestamp('2013-12-09 08:44:00'): 1,\n",
       "         Timestamp('2013-10-24 11:56:00'): 1,\n",
       "         Timestamp('2013-10-23 13:09:00'): 1,\n",
       "         Timestamp('2013-10-18 17:24:00'): 1,\n",
       "         Timestamp('2013-10-18 14:42:00'): 1,\n",
       "         Timestamp('2013-11-11 13:57:00'): 1,\n",
       "         Timestamp('2013-10-18 16:35:00'): 1,\n",
       "         Timestamp('2013-10-28 10:47:00'): 1,\n",
       "         Timestamp('2013-10-24 09:12:00'): 1,\n",
       "         Timestamp('2013-10-24 09:24:00'): 1,\n",
       "         Timestamp('2013-10-24 10:36:00'): 1,\n",
       "         Timestamp('2013-10-23 12:53:00'): 1,\n",
       "         Timestamp('2013-10-29 16:11:00'): 1,\n",
       "         Timestamp('2013-10-23 15:39:00'): 1,\n",
       "         Timestamp('2013-11-06 14:19:00'): 1,\n",
       "         Timestamp('2013-10-30 15:20:00'): 1,\n",
       "         Timestamp('2013-10-21 10:57:00'): 1,\n",
       "         Timestamp('2013-10-28 11:19:00'): 1,\n",
       "         Timestamp('2013-11-01 14:28:00'): 1,\n",
       "         Timestamp('2013-10-30 15:49:00'): 1,\n",
       "         Timestamp('2013-10-24 12:59:00'): 1,\n",
       "         Timestamp('2013-10-30 09:23:00'): 1,\n",
       "         Timestamp('2013-11-01 13:43:00'): 1,\n",
       "         Timestamp('2013-10-22 15:54:00'): 1,\n",
       "         Timestamp('2013-10-24 16:31:00'): 1,\n",
       "         Timestamp('2013-11-26 12:39:00'): 1,\n",
       "         Timestamp('2013-10-24 15:52:00'): 1,\n",
       "         Timestamp('2013-11-08 16:36:00'): 1,\n",
       "         Timestamp('2013-10-23 12:27:00'): 1,\n",
       "         Timestamp('2013-11-13 15:46:00'): 1,\n",
       "         Timestamp('2013-10-22 16:22:00'): 1,\n",
       "         Timestamp('2013-10-24 07:11:00'): 1,\n",
       "         Timestamp('2013-10-22 10:11:00'): 1,\n",
       "         Timestamp('2013-10-22 14:30:00'): 1,\n",
       "         Timestamp('2013-11-29 11:18:00'): 1,\n",
       "         Timestamp('2013-10-23 15:45:00'): 1,\n",
       "         Timestamp('2013-10-23 15:35:00'): 1,\n",
       "         Timestamp('2013-10-22 16:40:00'): 1,\n",
       "         Timestamp('2013-10-28 10:09:00'): 1,\n",
       "         Timestamp('2013-10-22 13:49:00'): 1,\n",
       "         Timestamp('2013-10-22 16:17:00'): 1,\n",
       "         Timestamp('2013-10-25 10:25:00'): 1,\n",
       "         Timestamp('2013-10-22 14:55:00'): 1,\n",
       "         Timestamp('2013-10-28 11:31:00'): 1,\n",
       "         Timestamp('2013-11-08 15:33:00'): 1,\n",
       "         Timestamp('2013-10-23 15:12:00'): 1,\n",
       "         Timestamp('2013-10-31 16:27:00'): 1,\n",
       "         Timestamp('2013-11-19 11:28:00'): 2,\n",
       "         Timestamp('2013-10-22 15:28:00'): 1,\n",
       "         Timestamp('2013-11-21 16:16:00'): 1,\n",
       "         Timestamp('2013-10-23 13:47:00'): 1,\n",
       "         Timestamp('2013-10-24 11:34:00'): 1,\n",
       "         Timestamp('2013-10-23 15:16:00'): 1,\n",
       "         Timestamp('2013-10-23 11:08:00'): 1,\n",
       "         Timestamp('2013-10-31 14:28:00'): 1,\n",
       "         Timestamp('2013-10-28 11:40:00'): 1,\n",
       "         Timestamp('2013-10-24 12:11:00'): 1,\n",
       "         Timestamp('2013-10-24 13:11:00'): 1,\n",
       "         Timestamp('2013-11-11 14:24:00'): 1,\n",
       "         Timestamp('2013-10-24 11:39:00'): 1,\n",
       "         Timestamp('2013-10-24 09:53:00'): 1,\n",
       "         Timestamp('2013-10-24 11:11:00'): 1,\n",
       "         Timestamp('2013-11-04 14:57:00'): 1,\n",
       "         Timestamp('2013-10-29 13:53:00'): 1,\n",
       "         Timestamp('2013-10-24 12:21:00'): 1,\n",
       "         Timestamp('2013-10-28 12:45:00'): 1,\n",
       "         Timestamp('2013-10-28 09:45:00'): 1,\n",
       "         Timestamp('2013-10-25 09:26:00'): 1,\n",
       "         Timestamp('2013-10-24 13:55:00'): 1,\n",
       "         Timestamp('2013-10-24 16:24:00'): 1,\n",
       "         Timestamp('2013-10-31 11:17:00'): 1,\n",
       "         Timestamp('2013-10-28 16:19:00'): 1,\n",
       "         Timestamp('2013-10-25 08:45:00'): 1,\n",
       "         Timestamp('2013-10-24 14:50:00'): 1,\n",
       "         Timestamp('2013-10-28 13:23:00'): 1,\n",
       "         Timestamp('2013-10-28 08:59:00'): 1,\n",
       "         Timestamp('2013-10-25 09:59:00'): 1,\n",
       "         Timestamp('2013-10-25 11:36:00'): 1,\n",
       "         Timestamp('2013-10-28 12:12:00'): 1,\n",
       "         Timestamp('2013-11-12 15:13:00'): 1,\n",
       "         Timestamp('2013-10-31 09:47:00'): 1,\n",
       "         Timestamp('2013-10-31 14:08:00'): 1,\n",
       "         Timestamp('2013-10-25 13:38:00'): 1,\n",
       "         Timestamp('2013-10-24 16:40:00'): 1,\n",
       "         Timestamp('2013-10-28 08:19:00'): 1,\n",
       "         Timestamp('2013-11-01 10:35:00'): 1,\n",
       "         Timestamp('2013-10-24 16:09:00'): 1,\n",
       "         Timestamp('2013-10-28 09:14:00'): 1,\n",
       "         Timestamp('2013-11-26 14:47:00'): 1,\n",
       "         Timestamp('2013-10-30 14:53:00'): 1,\n",
       "         Timestamp('2013-11-19 08:35:00'): 1,\n",
       "         Timestamp('2013-11-01 11:30:00'): 1,\n",
       "         Timestamp('2013-11-21 13:46:00'): 1,\n",
       "         Timestamp('2013-10-28 12:16:00'): 1,\n",
       "         Timestamp('2013-10-28 09:05:00'): 1,\n",
       "         Timestamp('2013-10-28 10:56:00'): 1,\n",
       "         Timestamp('2013-10-28 16:35:00'): 1,\n",
       "         Timestamp('2013-11-12 13:38:00'): 1,\n",
       "         Timestamp('2013-11-04 14:19:00'): 1,\n",
       "         Timestamp('2013-10-31 11:53:00'): 1,\n",
       "         Timestamp('2013-10-27 10:50:00'): 1,\n",
       "         Timestamp('2013-11-05 12:00:00'): 1,\n",
       "         Timestamp('2013-10-28 18:39:00'): 1,\n",
       "         Timestamp('2013-10-28 10:59:00'): 1,\n",
       "         Timestamp('2013-10-29 11:58:00'): 1,\n",
       "         Timestamp('2013-12-09 10:06:00'): 1,\n",
       "         Timestamp('2013-10-30 13:08:00'): 1,\n",
       "         Timestamp('2013-10-28 12:11:00'): 1,\n",
       "         Timestamp('2013-10-29 11:48:00'): 1,\n",
       "         Timestamp('2013-11-12 08:50:00'): 1,\n",
       "         Timestamp('2013-10-28 14:08:00'): 1,\n",
       "         Timestamp('2013-10-30 10:48:00'): 1,\n",
       "         Timestamp('2013-11-07 14:58:00'): 1,\n",
       "         Timestamp('2013-10-30 11:49:00'): 1,\n",
       "         Timestamp('2013-11-04 08:55:00'): 1,\n",
       "         Timestamp('2013-11-08 14:45:00'): 1,\n",
       "         Timestamp('2013-10-28 15:01:00'): 1,\n",
       "         Timestamp('2013-11-01 15:02:00'): 1,\n",
       "         Timestamp('2013-10-28 14:27:00'): 1,\n",
       "         Timestamp('2013-11-01 10:32:00'): 1,\n",
       "         Timestamp('2013-12-10 14:32:00'): 1,\n",
       "         Timestamp('2013-10-30 08:48:00'): 1,\n",
       "         Timestamp('2013-11-19 09:25:00'): 1,\n",
       "         Timestamp('2013-10-30 08:43:00'): 1,\n",
       "         Timestamp('2013-10-30 09:05:00'): 1,\n",
       "         Timestamp('2013-10-29 10:31:00'): 1,\n",
       "         Timestamp('2013-10-30 08:55:00'): 1,\n",
       "         Timestamp('2013-10-31 11:57:00'): 1,\n",
       "         Timestamp('2013-11-01 11:00:00'): 1,\n",
       "         Timestamp('2013-12-05 07:22:00'): 1,\n",
       "         Timestamp('2013-10-29 13:32:00'): 1,\n",
       "         Timestamp('2013-10-29 15:14:00'): 1,\n",
       "         Timestamp('2013-10-29 15:03:00'): 2,\n",
       "         Timestamp('2013-10-30 09:41:00'): 1,\n",
       "         Timestamp('2013-11-06 11:36:00'): 1,\n",
       "         Timestamp('2013-12-06 15:50:00'): 1,\n",
       "         Timestamp('2013-11-07 10:10:00'): 1,\n",
       "         Timestamp('2013-10-30 16:27:00'): 1,\n",
       "         Timestamp('2013-10-29 15:56:00'): 1,\n",
       "         Timestamp('2013-11-06 18:12:00'): 1,\n",
       "         Timestamp('2013-11-04 11:02:00'): 1,\n",
       "         Timestamp('2013-10-30 08:56:00'): 1,\n",
       "         Timestamp('2013-11-04 17:14:00'): 1,\n",
       "         Timestamp('2013-10-30 16:00:00'): 1,\n",
       "         Timestamp('2013-10-31 10:04:00'): 1,\n",
       "         Timestamp('2013-10-31 11:07:00'): 1,\n",
       "         Timestamp('2013-10-30 11:15:00'): 1,\n",
       "         Timestamp('2013-11-01 09:28:00'): 1,\n",
       "         Timestamp('2013-10-30 14:33:00'): 1,\n",
       "         Timestamp('2013-11-01 11:15:00'): 1,\n",
       "         Timestamp('2013-10-30 12:12:00'): 1,\n",
       "         Timestamp('2013-10-30 13:57:00'): 1,\n",
       "         Timestamp('2013-10-30 12:23:00'): 1,\n",
       "         Timestamp('2013-10-30 14:30:00'): 1,\n",
       "         Timestamp('2013-10-30 14:27:00'): 1,\n",
       "         Timestamp('2013-10-31 12:12:00'): 1,\n",
       "         Timestamp('2013-10-30 13:58:00'): 1,\n",
       "         Timestamp('2013-10-30 16:22:00'): 1,\n",
       "         Timestamp('2013-10-31 12:58:00'): 1,\n",
       "         Timestamp('2013-10-30 13:42:00'): 1,\n",
       "         Timestamp('2013-11-05 10:51:00'): 1,\n",
       "         Timestamp('2013-11-01 10:36:00'): 1,\n",
       "         Timestamp('2013-11-04 09:05:00'): 1,\n",
       "         Timestamp('2013-10-30 16:40:00'): 1,\n",
       "         Timestamp('2013-10-31 15:50:00'): 1,\n",
       "         Timestamp('2013-11-07 10:12:00'): 1,\n",
       "         Timestamp('2013-11-07 09:05:00'): 1,\n",
       "         Timestamp('2013-10-31 09:59:00'): 1,\n",
       "         Timestamp('2013-10-31 13:33:00'): 1,\n",
       "         Timestamp('2013-11-01 08:53:00'): 1,\n",
       "         Timestamp('2013-11-07 11:20:00'): 1,\n",
       "         Timestamp('2013-11-06 08:38:00'): 1,\n",
       "         Timestamp('2013-11-06 15:50:00'): 1,\n",
       "         Timestamp('2013-11-07 10:06:00'): 1,\n",
       "         Timestamp('2013-11-06 10:59:00'): 1,\n",
       "         Timestamp('2013-11-04 15:46:00'): 1,\n",
       "         Timestamp('2013-11-07 11:48:00'): 1,\n",
       "         Timestamp('2013-11-08 10:11:00'): 1,\n",
       "         Timestamp('2013-11-04 11:23:00'): 1,\n",
       "         Timestamp('2013-11-01 13:20:00'): 1,\n",
       "         Timestamp('2013-11-08 10:58:00'): 1,\n",
       "         Timestamp('2013-11-01 11:20:00'): 1,\n",
       "         Timestamp('2013-11-05 09:42:00'): 1,\n",
       "         Timestamp('2013-11-05 08:42:00'): 1,\n",
       "         Timestamp('2013-11-04 12:47:00'): 1,\n",
       "         Timestamp('2013-11-01 13:12:00'): 1,\n",
       "         Timestamp('2013-11-07 09:57:00'): 1,\n",
       "         Timestamp('2013-11-14 14:24:00'): 1,\n",
       "         Timestamp('2013-11-27 08:58:00'): 1,\n",
       "         Timestamp('2013-11-11 08:50:00'): 1,\n",
       "         Timestamp('2013-11-05 11:54:00'): 1,\n",
       "         Timestamp('2013-11-04 15:44:00'): 1,\n",
       "         Timestamp('2013-11-05 09:09:00'): 1,\n",
       "         Timestamp('2013-11-01 16:17:00'): 1,\n",
       "         Timestamp('2013-11-06 13:44:00'): 1,\n",
       "         Timestamp('2013-11-14 15:04:00'): 1,\n",
       "         Timestamp('2013-11-25 10:57:00'): 1,\n",
       "         Timestamp('2013-11-04 13:33:00'): 1,\n",
       "         Timestamp('2013-11-05 12:32:00'): 1,\n",
       "         Timestamp('2013-11-06 10:52:00'): 1,\n",
       "         Timestamp('2013-11-18 12:58:00'): 1,\n",
       "         Timestamp('2013-11-11 12:23:00'): 1,\n",
       "         Timestamp('2013-11-05 10:59:00'): 1,\n",
       "         Timestamp('2013-11-26 15:54:00'): 1,\n",
       "         Timestamp('2014-03-05 08:51:00'): 1,\n",
       "         Timestamp('2013-11-08 12:12:00'): 1,\n",
       "         Timestamp('2013-11-05 14:19:00'): 1,\n",
       "         Timestamp('2013-11-19 08:21:00'): 1,\n",
       "         Timestamp('2013-11-14 09:11:00'): 1,\n",
       "         Timestamp('2013-11-22 10:15:00'): 1,\n",
       "         Timestamp('2013-11-04 21:19:00'): 1,\n",
       "         Timestamp('2014-01-07 13:31:00'): 1,\n",
       "         Timestamp('2013-11-04 16:16:00'): 1,\n",
       "         Timestamp('2013-11-06 14:39:00'): 1,\n",
       "         Timestamp('2013-11-14 12:16:00'): 1,\n",
       "         Timestamp('2013-11-05 16:29:00'): 1,\n",
       "         Timestamp('2013-11-06 11:55:00'): 1,\n",
       "         Timestamp('2013-11-06 14:38:00'): 2,\n",
       "         Timestamp('2013-11-15 09:48:00'): 1,\n",
       "         Timestamp('2013-11-19 15:40:00'): 1,\n",
       "         Timestamp('2013-11-13 17:09:00'): 1,\n",
       "         Timestamp('2013-11-07 14:50:00'): 1,\n",
       "         Timestamp('2013-11-28 08:33:00'): 1,\n",
       "         Timestamp('2013-11-05 16:22:00'): 1,\n",
       "         Timestamp('2013-11-14 11:59:00'): 1,\n",
       "         Timestamp('2013-11-07 14:51:00'): 1,\n",
       "         Timestamp('2013-11-07 09:02:00'): 1,\n",
       "         Timestamp('2013-11-06 14:11:00'): 1,\n",
       "         Timestamp('2013-11-07 11:50:00'): 1,\n",
       "         Timestamp('2013-11-06 11:51:00'): 1,\n",
       "         Timestamp('2013-11-06 12:03:00'): 1,\n",
       "         Timestamp('2013-11-06 11:57:00'): 1,\n",
       "         Timestamp('2013-11-08 15:41:00'): 1,\n",
       "         Timestamp('2013-11-08 09:26:00'): 1,\n",
       "         Timestamp('2013-11-12 14:51:00'): 1,\n",
       "         Timestamp('2013-11-07 15:24:00'): 1,\n",
       "         Timestamp('2014-01-08 11:32:00'): 1,\n",
       "         Timestamp('2013-11-08 08:38:00'): 1,\n",
       "         Timestamp('2013-11-19 11:21:00'): 1,\n",
       "         Timestamp('2013-11-19 11:17:00'): 1,\n",
       "         Timestamp('2013-12-12 14:37:00'): 1,\n",
       "         Timestamp('2013-12-03 14:14:00'): 1,\n",
       "         Timestamp('2013-11-25 14:07:00'): 1,\n",
       "         Timestamp('2013-11-07 10:33:00'): 1,\n",
       "         Timestamp('2013-11-12 14:34:00'): 1,\n",
       "         Timestamp('2013-11-08 11:10:00'): 1,\n",
       "         Timestamp('2013-11-07 12:16:00'): 1,\n",
       "         Timestamp('2013-11-12 13:34:00'): 1,\n",
       "         Timestamp('2013-11-19 09:26:00'): 1,\n",
       "         Timestamp('2013-11-20 11:32:00'): 1,\n",
       "         Timestamp('2013-11-18 15:32:00'): 1,\n",
       "         Timestamp('2013-11-07 14:02:00'): 1,\n",
       "         Timestamp('2013-11-08 10:35:00'): 1,\n",
       "         Timestamp('2013-11-08 08:37:00'): 1,\n",
       "         Timestamp('2013-11-08 08:21:00'): 1,\n",
       "         Timestamp('2013-11-18 09:22:00'): 1,\n",
       "         Timestamp('2013-11-14 08:07:00'): 1,\n",
       "         Timestamp('2013-11-07 16:47:00'): 1,\n",
       "         Timestamp('2013-11-13 14:52:00'): 1,\n",
       "         Timestamp('2013-11-11 11:22:00'): 1,\n",
       "         Timestamp('2013-11-07 17:20:00'): 1,\n",
       "         Timestamp('2013-11-12 10:09:00'): 1,\n",
       "         Timestamp('2014-02-17 11:29:00'): 1,\n",
       "         Timestamp('2013-11-15 09:43:00'): 1,\n",
       "         Timestamp('2013-11-19 10:15:00'): 1,\n",
       "         Timestamp('2013-11-11 10:09:00'): 1,\n",
       "         Timestamp('2013-11-08 16:46:00'): 1,\n",
       "         Timestamp('2013-11-11 15:59:00'): 1,\n",
       "         Timestamp('2013-11-18 11:30:00'): 1,\n",
       "         Timestamp('2013-11-13 15:44:00'): 1,\n",
       "         Timestamp('2013-11-08 16:27:00'): 1,\n",
       "         Timestamp('2013-11-12 10:36:00'): 2,\n",
       "         Timestamp('2013-11-14 09:23:00'): 1,\n",
       "         Timestamp('2013-11-12 08:25:00'): 1,\n",
       "         Timestamp('2013-11-11 10:51:00'): 1,\n",
       "         Timestamp('2013-11-12 13:51:00'): 1,\n",
       "         Timestamp('2013-11-20 13:04:00'): 1,\n",
       "         Timestamp('2013-11-11 09:15:00'): 1,\n",
       "         Timestamp('2013-11-20 16:55:00'): 1,\n",
       "         Timestamp('2013-11-19 11:15:00'): 1,\n",
       "         Timestamp('2013-12-09 09:26:00'): 1,\n",
       "         Timestamp('2013-11-11 11:48:00'): 1,\n",
       "         Timestamp('2013-11-14 14:27:00'): 1,\n",
       "         Timestamp('2013-11-21 12:51:00'): 1,\n",
       "         Timestamp('2013-11-11 13:38:00'): 1,\n",
       "         Timestamp('2013-11-11 13:35:00'): 1,\n",
       "         Timestamp('2013-12-09 09:27:00'): 1,\n",
       "         Timestamp('2013-11-11 15:10:00'): 1,\n",
       "         Timestamp('2013-11-19 14:44:00'): 1,\n",
       "         Timestamp('2013-11-25 15:27:00'): 1,\n",
       "         Timestamp('2013-11-18 10:01:00'): 1,\n",
       "         Timestamp('2013-11-11 14:15:00'): 1,\n",
       "         Timestamp('2013-11-13 13:41:00'): 1,\n",
       "         Timestamp('2013-11-11 15:03:00'): 1,\n",
       "         Timestamp('2013-11-13 09:07:00'): 1,\n",
       "         Timestamp('2013-12-02 15:24:00'): 1,\n",
       "         Timestamp('2013-11-13 13:49:00'): 1,\n",
       "         Timestamp('2013-11-18 16:15:00'): 1,\n",
       "         Timestamp('2013-11-18 13:46:00'): 1,\n",
       "         Timestamp('2013-11-14 11:24:00'): 1,\n",
       "         Timestamp('2013-11-13 12:12:00'): 1,\n",
       "         Timestamp('2013-11-15 09:07:00'): 1,\n",
       "         Timestamp('2013-11-19 12:46:00'): 1,\n",
       "         Timestamp('2013-11-15 09:20:00'): 1,\n",
       "         Timestamp('2013-11-15 17:01:00'): 1,\n",
       "         Timestamp('2013-11-13 08:43:00'): 1,\n",
       "         Timestamp('2013-11-15 09:52:00'): 1,\n",
       "         Timestamp('2013-11-12 12:11:00'): 1,\n",
       "         Timestamp('2013-11-13 16:13:00'): 1,\n",
       "         Timestamp('2013-11-12 09:51:00'): 1,\n",
       "         Timestamp('2013-11-25 16:14:00'): 1,\n",
       "         Timestamp('2013-11-14 14:17:00'): 1,\n",
       "         Timestamp('2013-11-15 08:38:00'): 1,\n",
       "         Timestamp('2013-11-15 14:02:00'): 1,\n",
       "         Timestamp('2013-11-27 09:22:00'): 1,\n",
       "         Timestamp('2013-11-15 09:18:00'): 1,\n",
       "         Timestamp('2013-11-19 11:59:00'): 1,\n",
       "         Timestamp('2013-11-13 15:06:00'): 1,\n",
       "         Timestamp('2013-11-18 15:23:00'): 1,\n",
       "         Timestamp('2013-11-15 11:01:00'): 1,\n",
       "         Timestamp('2013-11-15 16:36:00'): 1,\n",
       "         Timestamp('2013-11-13 15:35:00'): 1,\n",
       "         Timestamp('2013-11-18 12:09:00'): 1,\n",
       "         Timestamp('2013-11-13 11:47:00'): 1,\n",
       "         Timestamp('2013-11-26 11:58:00'): 1,\n",
       "         Timestamp('2013-11-14 11:19:00'): 1,\n",
       "         Timestamp('2013-11-20 11:42:00'): 1,\n",
       "         Timestamp('2013-11-22 11:32:00'): 1,\n",
       "         Timestamp('2013-11-20 09:22:00'): 1,\n",
       "         Timestamp('2014-01-20 08:05:00'): 1,\n",
       "         Timestamp('2013-11-27 10:24:00'): 1,\n",
       "         Timestamp('2013-11-19 09:06:00'): 1,\n",
       "         Timestamp('2013-12-09 16:50:00'): 2,\n",
       "         Timestamp('2013-11-15 14:57:00'): 1,\n",
       "         Timestamp('2013-11-20 12:38:00'): 1,\n",
       "         Timestamp('2013-11-20 10:00:00'): 1,\n",
       "         Timestamp('2013-11-15 10:25:00'): 1,\n",
       "         Timestamp('2013-11-18 10:40:00'): 1,\n",
       "         Timestamp('2013-11-13 14:30:00'): 1,\n",
       "         Timestamp('2013-11-19 12:39:00'): 1,\n",
       "         Timestamp('2013-11-18 07:19:00'): 1,\n",
       "         Timestamp('2013-11-22 15:26:00'): 1,\n",
       "         Timestamp('2013-11-19 17:25:00'): 1,\n",
       "         Timestamp('2013-11-15 09:02:00'): 1,\n",
       "         Timestamp('2013-11-20 16:16:00'): 1,\n",
       "         Timestamp('2013-11-28 12:22:00'): 1,\n",
       "         Timestamp('2013-11-20 08:46:00'): 1,\n",
       "         Timestamp('2013-11-15 10:01:00'): 1,\n",
       "         Timestamp('2013-11-18 17:04:00'): 1,\n",
       "         Timestamp('2013-11-14 09:30:00'): 1,\n",
       "         Timestamp('2013-11-14 15:49:00'): 1,\n",
       "         Timestamp('2013-11-14 09:28:00'): 1,\n",
       "         Timestamp('2013-11-26 08:53:00'): 1,\n",
       "         Timestamp('2013-11-19 14:15:00'): 1,\n",
       "         Timestamp('2013-11-18 14:00:00'): 1,\n",
       "         Timestamp('2013-11-14 10:28:00'): 1,\n",
       "         Timestamp('2013-11-15 11:43:00'): 1,\n",
       "         Timestamp('2013-11-18 09:37:00'): 1,\n",
       "         Timestamp('2013-11-21 10:16:00'): 1,\n",
       "         Timestamp('2013-11-15 14:26:00'): 1,\n",
       "         Timestamp('2013-11-21 16:11:00'): 1,\n",
       "         Timestamp('2013-11-25 10:22:00'): 1,\n",
       "         Timestamp('2013-11-15 09:14:00'): 1,\n",
       "         Timestamp('2013-11-18 10:50:00'): 1,\n",
       "         Timestamp('2013-11-21 10:41:00'): 1,\n",
       "         Timestamp('2013-11-14 16:11:00'): 1,\n",
       "         Timestamp('2013-11-14 17:19:00'): 1,\n",
       "         Timestamp('2013-11-22 08:33:00'): 1,\n",
       "         Timestamp('2013-12-03 14:52:00'): 1,\n",
       "         Timestamp('2013-11-15 12:20:00'): 1,\n",
       "         Timestamp('2013-11-22 13:59:00'): 1,\n",
       "         Timestamp('2013-11-15 13:25:00'): 1,\n",
       "         Timestamp('2013-11-22 13:39:00'): 1,\n",
       "         Timestamp('2013-11-15 16:50:00'): 1,\n",
       "         Timestamp('2013-11-21 16:20:00'): 1,\n",
       "         Timestamp('2013-12-10 11:58:00'): 1,\n",
       "         Timestamp('2013-11-22 11:23:00'): 1,\n",
       "         Timestamp('2013-11-18 10:28:00'): 1,\n",
       "         Timestamp('2013-11-18 19:21:00'): 1,\n",
       "         Timestamp('2013-11-27 10:18:00'): 1,\n",
       "         Timestamp('2013-11-22 10:30:00'): 1,\n",
       "         Timestamp('2013-11-20 11:27:00'): 1,\n",
       "         Timestamp('2013-11-18 10:38:00'): 1,\n",
       "         Timestamp('2013-11-26 09:06:00'): 1,\n",
       "         Timestamp('2013-11-18 13:06:00'): 1,\n",
       "         Timestamp('2013-11-20 13:19:00'): 1,\n",
       "         Timestamp('2013-11-19 13:08:00'): 1,\n",
       "         Timestamp('2013-11-19 13:43:00'): 1,\n",
       "         Timestamp('2013-11-27 13:31:00'): 1,\n",
       "         Timestamp('2013-11-20 10:26:00'): 1,\n",
       "         Timestamp('2013-11-21 09:11:00'): 1,\n",
       "         Timestamp('2013-11-27 12:18:00'): 1,\n",
       "         Timestamp('2014-01-16 16:16:00'): 1,\n",
       "         Timestamp('2013-11-18 15:14:00'): 1,\n",
       "         Timestamp('2013-11-21 09:18:00'): 1,\n",
       "         Timestamp('2013-12-02 16:33:00'): 1,\n",
       "         Timestamp('2013-11-29 12:55:00'): 1,\n",
       "         Timestamp('2013-11-20 09:00:00'): 1,\n",
       "         Timestamp('2013-11-21 16:08:00'): 1,\n",
       "         Timestamp('2013-12-24 08:56:00'): 1,\n",
       "         Timestamp('2013-11-19 15:29:00'): 1,\n",
       "         Timestamp('2014-01-14 16:44:00'): 1,\n",
       "         Timestamp('2013-11-20 10:58:00'): 1,\n",
       "         Timestamp('2013-11-25 11:33:00'): 1,\n",
       "         Timestamp('2013-11-25 17:02:00'): 1,\n",
       "         Timestamp('2013-11-20 14:29:00'): 1,\n",
       "         Timestamp('2013-11-21 15:07:00'): 1,\n",
       "         Timestamp('2013-11-21 13:40:00'): 1,\n",
       "         Timestamp('2013-11-25 10:53:00'): 1,\n",
       "         Timestamp('2013-12-02 10:14:00'): 1,\n",
       "         Timestamp('2013-11-29 09:18:00'): 1,\n",
       "         Timestamp('2013-11-26 16:15:00'): 1,\n",
       "         Timestamp('2013-11-28 13:56:00'): 1,\n",
       "         Timestamp('2013-12-19 11:40:00'): 1,\n",
       "         Timestamp('2013-11-20 08:30:00'): 1,\n",
       "         Timestamp('2013-11-21 12:59:00'): 1,\n",
       "         Timestamp('2013-11-20 09:37:00'): 1,\n",
       "         Timestamp('2013-11-26 16:25:00'): 1,\n",
       "         Timestamp('2013-11-21 11:45:00'): 1,\n",
       "         Timestamp('2013-11-19 15:45:00'): 1,\n",
       "         Timestamp('2013-11-20 15:10:00'): 1,\n",
       "         Timestamp('2013-11-22 09:52:00'): 1,\n",
       "         Timestamp('2013-11-21 09:23:00'): 1,\n",
       "         Timestamp('2013-11-27 10:59:00'): 1,\n",
       "         Timestamp('2013-11-21 09:52:00'): 1,\n",
       "         Timestamp('2013-11-26 14:39:00'): 1,\n",
       "         Timestamp('2013-11-26 10:35:00'): 1,\n",
       "         Timestamp('2013-11-22 14:44:00'): 2,\n",
       "         Timestamp('2013-11-21 13:58:00'): 1,\n",
       "         Timestamp('2013-11-25 11:20:00'): 1,\n",
       "         Timestamp('2013-11-21 13:59:00'): 1,\n",
       "         Timestamp('2013-11-25 15:43:00'): 1,\n",
       "         Timestamp('2013-11-25 10:54:00'): 1,\n",
       "         Timestamp('2013-12-06 08:26:00'): 1,\n",
       "         Timestamp('2013-11-22 10:05:00'): 1,\n",
       "         Timestamp('2013-12-04 09:43:00'): 1,\n",
       "         Timestamp('2013-12-06 08:27:00'): 1,\n",
       "         Timestamp('2013-11-25 09:42:00'): 1,\n",
       "         Timestamp('2013-11-26 11:40:00'): 1,\n",
       "         Timestamp('2013-11-22 09:15:00'): 1,\n",
       "         Timestamp('2013-12-03 08:59:00'): 1,\n",
       "         Timestamp('2013-12-02 16:16:00'): 1,\n",
       "         Timestamp('2013-11-26 09:47:00'): 1,\n",
       "         Timestamp('2013-12-30 09:12:00'): 1,\n",
       "         Timestamp('2013-12-02 08:34:00'): 1,\n",
       "         Timestamp('2013-11-25 09:57:00'): 1,\n",
       "         Timestamp('2013-12-03 12:50:00'): 1,\n",
       "         Timestamp('2013-12-04 21:37:00'): 1,\n",
       "         Timestamp('2013-11-25 12:26:00'): 1,\n",
       "         Timestamp('2013-11-25 11:39:00'): 1,\n",
       "         Timestamp('2013-11-22 15:33:00'): 1,\n",
       "         Timestamp('2014-02-14 13:46:00'): 1,\n",
       "         Timestamp('2013-12-05 09:07:00'): 1,\n",
       "         Timestamp('2013-11-26 11:15:00'): 1,\n",
       "         Timestamp('2013-11-25 12:51:00'): 1,\n",
       "         Timestamp('2013-12-02 13:42:00'): 1,\n",
       "         Timestamp('2013-11-21 16:44:00'): 1,\n",
       "         Timestamp('2013-11-21 16:24:00'): 1,\n",
       "         Timestamp('2013-11-29 10:26:00'): 2,\n",
       "         Timestamp('2013-12-18 10:39:00'): 2,\n",
       "         Timestamp('2013-11-25 14:34:00'): 1,\n",
       "         Timestamp('2014-02-05 16:01:00'): 1,\n",
       "         Timestamp('2013-12-03 10:51:00'): 1,\n",
       "         Timestamp('2013-12-19 10:04:00'): 1,\n",
       "         Timestamp('2013-11-26 09:57:00'): 1,\n",
       "         Timestamp('2013-11-22 11:12:00'): 1,\n",
       "         Timestamp('2013-11-27 09:34:00'): 1,\n",
       "         Timestamp('2013-11-26 13:53:00'): 1,\n",
       "         Timestamp('2013-11-22 13:53:00'): 1,\n",
       "         Timestamp('2013-12-05 09:32:00'): 1,\n",
       "         Timestamp('2013-12-13 09:54:00'): 1,\n",
       "         Timestamp('2013-12-04 10:16:00'): 1,\n",
       "         Timestamp('2013-12-16 08:31:00'): 1,\n",
       "         Timestamp('2013-12-04 11:40:00'): 1,\n",
       "         Timestamp('2013-12-04 11:59:00'): 1,\n",
       "         Timestamp('2013-11-25 13:00:00'): 1,\n",
       "         Timestamp('2013-11-25 11:29:00'): 1,\n",
       "         Timestamp('2013-11-29 16:48:00'): 1,\n",
       "         Timestamp('2013-11-27 12:12:00'): 1,\n",
       "         Timestamp('2013-11-23 11:12:00'): 1,\n",
       "         Timestamp('2013-11-22 16:25:00'): 1,\n",
       "         Timestamp('2013-11-25 12:30:00'): 1,\n",
       "         Timestamp('2013-11-25 15:01:00'): 1,\n",
       "         Timestamp('2013-11-25 12:54:00'): 1,\n",
       "         Timestamp('2013-11-26 11:32:00'): 1,\n",
       "         Timestamp('2013-11-26 11:51:00'): 1,\n",
       "         Timestamp('2013-11-26 12:01:00'): 1,\n",
       "         Timestamp('2013-11-28 09:44:00'): 1,\n",
       "         Timestamp('2013-12-03 16:25:00'): 1,\n",
       "         Timestamp('2013-12-18 09:00:00'): 1,\n",
       "         Timestamp('2013-11-26 08:17:00'): 1,\n",
       "         Timestamp('2013-12-12 13:06:00'): 1,\n",
       "         Timestamp('2013-11-26 10:16:00'): 1,\n",
       "         Timestamp('2013-12-11 12:16:00'): 1,\n",
       "         Timestamp('2014-01-07 08:20:00'): 1,\n",
       "         Timestamp('2013-11-25 16:31:00'): 1,\n",
       "         Timestamp('2013-11-28 08:56:00'): 1,\n",
       "         Timestamp('2013-12-03 16:28:00'): 1,\n",
       "         Timestamp('2013-11-26 09:11:00'): 1,\n",
       "         Timestamp('2013-11-27 20:35:00'): 1,\n",
       "         Timestamp('2013-12-04 14:20:00'): 1,\n",
       "         Timestamp('2013-12-06 12:43:00'): 1,\n",
       "         Timestamp('2013-11-26 10:43:00'): 1,\n",
       "         Timestamp('2013-12-03 13:51:00'): 1,\n",
       "         Timestamp('2013-12-11 14:27:00'): 1,\n",
       "         Timestamp('2013-12-05 10:49:00'): 1,\n",
       "         Timestamp('2013-12-03 10:14:00'): 1,\n",
       "         Timestamp('2013-12-02 10:51:00'): 1,\n",
       "         Timestamp('2013-12-02 14:58:00'): 1,\n",
       "         Timestamp('2013-11-29 11:25:00'): 1,\n",
       "         Timestamp('2013-12-18 10:55:00'): 2,\n",
       "         Timestamp('2013-12-10 14:04:00'): 1,\n",
       "         Timestamp('2013-11-29 15:50:00'): 1,\n",
       "         Timestamp('2013-11-29 09:01:00'): 1,\n",
       "         Timestamp('2013-12-17 14:22:00'): 1,\n",
       "         Timestamp('2013-12-10 11:19:00'): 1,\n",
       "         Timestamp('2014-01-08 12:39:00'): 1,\n",
       "         Timestamp('2013-11-28 16:01:00'): 1,\n",
       "         Timestamp('2013-11-27 14:19:00'): 1,\n",
       "         Timestamp('2013-11-27 13:04:00'): 1,\n",
       "         Timestamp('2013-12-02 14:56:00'): 1,\n",
       "         Timestamp('2013-12-02 09:12:00'): 1,\n",
       "         Timestamp('2013-11-27 11:49:00'): 1,\n",
       "         Timestamp('2013-11-27 12:24:00'): 1,\n",
       "         Timestamp('2013-12-10 11:27:00'): 1,\n",
       "         Timestamp('2013-11-27 12:58:00'): 1,\n",
       "         Timestamp('2013-11-28 14:38:00'): 1,\n",
       "         Timestamp('2013-12-02 07:52:00'): 1,\n",
       "         Timestamp('2013-11-28 11:41:00'): 1,\n",
       "         Timestamp('2013-11-27 15:11:00'): 1,\n",
       "         Timestamp('2013-12-03 15:29:00'): 1,\n",
       "         Timestamp('2013-11-29 15:46:00'): 1,\n",
       "         Timestamp('2013-11-28 11:39:00'): 1,\n",
       "         Timestamp('2013-11-28 09:43:00'): 1,\n",
       "         Timestamp('2013-11-28 11:02:00'): 1,\n",
       "         Timestamp('2013-11-28 17:13:00'): 1,\n",
       "         Timestamp('2013-11-28 13:28:00'): 1,\n",
       "         Timestamp('2013-11-29 16:19:00'): 1,\n",
       "         Timestamp('2013-11-29 08:41:00'): 1,\n",
       "         Timestamp('2013-11-28 13:21:00'): 1,\n",
       "         Timestamp('2013-12-04 12:11:00'): 1,\n",
       "         Timestamp('2013-11-29 08:23:00'): 1,\n",
       "         Timestamp('2013-12-03 14:29:00'): 1,\n",
       "         Timestamp('2013-12-05 16:57:00'): 1,\n",
       "         Timestamp('2013-12-03 14:35:00'): 1,\n",
       "         Timestamp('2013-11-28 15:02:00'): 1,\n",
       "         Timestamp('2013-12-02 09:43:00'): 1,\n",
       "         Timestamp('2013-11-29 09:50:00'): 1,\n",
       "         Timestamp('2013-12-21 16:40:00'): 1,\n",
       "         Timestamp('2013-11-29 10:16:00'): 1,\n",
       "         Timestamp('2013-12-02 11:06:00'): 1,\n",
       "         Timestamp('2013-12-02 09:03:00'): 1,\n",
       "         Timestamp('2013-12-24 13:56:00'): 1,\n",
       "         Timestamp('2013-12-03 13:35:00'): 1,\n",
       "         Timestamp('2013-12-06 16:24:00'): 1,\n",
       "         Timestamp('2013-12-06 15:11:00'): 1,\n",
       "         Timestamp('2013-12-02 12:12:00'): 1,\n",
       "         Timestamp('2014-01-14 10:06:00'): 1,\n",
       "         Timestamp('2013-12-18 16:31:00'): 1,\n",
       "         Timestamp('2013-12-02 13:43:00'): 1,\n",
       "         Timestamp('2013-12-02 11:34:00'): 1,\n",
       "         Timestamp('2013-12-04 12:41:00'): 1,\n",
       "         Timestamp('2013-12-09 13:54:00'): 1,\n",
       "         Timestamp('2013-12-03 15:27:00'): 1,\n",
       "         Timestamp('2013-11-29 15:30:00'): 1,\n",
       "         ...})"
      ]
     },
     "execution_count": 19,
     "metadata": {},
     "output_type": "execute_result"
    }
   ],
   "source": [
    "Counter(df.Reopen_Time)\n",
    "#df['Reopen_Time'] = np.where((df.Reopen_Time == 'NaT'),)\n",
    "\n",
    "df.loc[df.Reopen_Time.isna()==True ,'t_ReOpenFlag']=0\n",
    "df.loc[df.Reopen_Time.isna()==False,'t_ReOpenFlag']=1\n",
    "Counter(df.Reopen_Time)"
   ]
  },
  {
   "cell_type": "code",
   "execution_count": null,
   "metadata": {},
   "outputs": [],
   "source": [
    "pd.crosstab(df.t_ReOpenFlag ,df.Priority ,margins='all')"
   ]
  },
  {
   "cell_type": "code",
   "execution_count": 20,
   "metadata": {},
   "outputs": [
    {
     "data": {
      "text/html": [
       "<div>\n",
       "<style scoped>\n",
       "    .dataframe tbody tr th:only-of-type {\n",
       "        vertical-align: middle;\n",
       "    }\n",
       "\n",
       "    .dataframe tbody tr th {\n",
       "        vertical-align: top;\n",
       "    }\n",
       "\n",
       "    .dataframe thead th {\n",
       "        text-align: right;\n",
       "    }\n",
       "</style>\n",
       "<table border=\"1\" class=\"dataframe\">\n",
       "  <thead>\n",
       "    <tr style=\"text-align: right;\">\n",
       "      <th>Priority</th>\n",
       "      <th>1</th>\n",
       "      <th>2</th>\n",
       "      <th>3</th>\n",
       "      <th>4</th>\n",
       "      <th>5</th>\n",
       "      <th>NA</th>\n",
       "      <th>All</th>\n",
       "    </tr>\n",
       "    <tr>\n",
       "      <th>t_ReOpenFlag</th>\n",
       "      <th></th>\n",
       "      <th></th>\n",
       "      <th></th>\n",
       "      <th></th>\n",
       "      <th></th>\n",
       "      <th></th>\n",
       "      <th></th>\n",
       "    </tr>\n",
       "  </thead>\n",
       "  <tbody>\n",
       "    <tr>\n",
       "      <td>0.0</td>\n",
       "      <td>0</td>\n",
       "      <td>426</td>\n",
       "      <td>5030</td>\n",
       "      <td>21589</td>\n",
       "      <td>15393</td>\n",
       "      <td>1322</td>\n",
       "      <td>43760</td>\n",
       "    </tr>\n",
       "    <tr>\n",
       "      <td>1.0</td>\n",
       "      <td>3</td>\n",
       "      <td>12</td>\n",
       "      <td>197</td>\n",
       "      <td>989</td>\n",
       "      <td>1030</td>\n",
       "      <td>44</td>\n",
       "      <td>2275</td>\n",
       "    </tr>\n",
       "    <tr>\n",
       "      <td>All</td>\n",
       "      <td>3</td>\n",
       "      <td>438</td>\n",
       "      <td>5227</td>\n",
       "      <td>22578</td>\n",
       "      <td>16423</td>\n",
       "      <td>1366</td>\n",
       "      <td>46035</td>\n",
       "    </tr>\n",
       "  </tbody>\n",
       "</table>\n",
       "</div>"
      ],
      "text/plain": [
       "Priority      1    2     3      4      5    NA    All\n",
       "t_ReOpenFlag                                         \n",
       "0.0           0  426  5030  21589  15393  1322  43760\n",
       "1.0           3   12   197    989   1030    44   2275\n",
       "All           3  438  5227  22578  16423  1366  46035"
      ]
     },
     "execution_count": 20,
     "metadata": {},
     "output_type": "execute_result"
    }
   ],
   "source": [
    "#Check is all the outcome variables are labled.\n",
    "#Run the below commands sequentially to undestandthe final data set for missinng records\n",
    "\n",
    "pd.crosstab(df.CI_Cat ,df.Priority ,margins='all')\n",
    "pd.crosstab(df.CI_Subcat ,df.Priority ,margins='all')\n",
    "pd.crosstab(df.CI_Name ,df.Priority ,margins='all')\n",
    "pd.crosstab(df.Closure_Code ,df.Priority ,margins='all')\n",
    "pd.crosstab(df.WBS ,df.Priority ,margins='all')\n",
    "pd.crosstab(df.No_of_Reassignments ,df.Priority ,margins='all')\n",
    "pd.crosstab(df.No_of_Related_Incidents ,df.Priority ,margins='all')\n",
    "pd.crosstab(df.t_ReOpenFlag ,df.Priority ,margins='all')"
   ]
  },
  {
   "cell_type": "code",
   "execution_count": null,
   "metadata": {},
   "outputs": [],
   "source": [
    "#============Priority Column : remove NA records as der is no ascertain them\n",
    "\n",
    "print(\"Count of Priority is NA : \", df[df['Priority']=='NA'].Priority.count())\n",
    "df = df[df.Priority != 'NA']\n",
    "print(\"Count of Priority post deletion of  NA : \", df[df['Priority']=='NA'].Priority.count())\n",
    "df.shape\n",
    "Counter(df.Priority)"
   ]
  },
  {
   "cell_type": "markdown",
   "metadata": {},
   "source": [
    "### Remove all the dupliate records as it doesnt add variablity"
   ]
  },
  {
   "cell_type": "code",
   "execution_count": null,
   "metadata": {},
   "outputs": [],
   "source": [
    "df.duplicated().sum()"
   ]
  },
  {
   "cell_type": "code",
   "execution_count": 21,
   "metadata": {},
   "outputs": [
    {
     "data": {
      "text/plain": [
       "Index(['CI_Name', 'CI_Cat', 'CI_Subcat', 'WBS', 'Priority', 'Category',\n",
       "       'No_of_Reassignments', 'Open_Time', 'Reopen_Time', 'Close_Time',\n",
       "       'Closure_Code', 'No_of_Related_Interactions', 'No_of_Related_Incidents',\n",
       "       'No_of_Related_Changes', 't_ReOpenFlag'],\n",
       "      dtype='object')"
      ]
     },
     "execution_count": 21,
     "metadata": {},
     "output_type": "execute_result"
    }
   ],
   "source": [
    "df.drop_duplicates(inplace =True)\n",
    "df.columns"
   ]
  },
  {
   "cell_type": "markdown",
   "metadata": {},
   "source": [
    "### Fetching tickect handled duration by taking difference of Close_Time and Open_Time"
   ]
  },
  {
   "cell_type": "code",
   "execution_count": 22,
   "metadata": {},
   "outputs": [
    {
     "data": {
      "text/plain": [
       "count    46011.000000\n",
       "mean         4.840647\n",
       "std         18.929245\n",
       "min          0.000000\n",
       "25%          0.000000\n",
       "50%          0.000000\n",
       "75%          3.000000\n",
       "max        655.000000\n",
       "Name: Handled_Time_days, dtype: float64"
      ]
     },
     "execution_count": 22,
     "metadata": {},
     "output_type": "execute_result"
    }
   ],
   "source": [
    "df['Handled_Time_days']= (df['Close_Time'] - df['Open_Time']).dt.days\n",
    "\n",
    "#pd.Timedelta(df['Handle_Time_hrs'],unit='h').days\n",
    "Counter(df['Handled_Time_days'])\n",
    "df['Handled_Time_days'].describe()"
   ]
  },
  {
   "cell_type": "markdown",
   "metadata": {},
   "source": [
    "### Save the Cleaned file before encoding"
   ]
  },
  {
   "cell_type": "code",
   "execution_count": null,
   "metadata": {},
   "outputs": [],
   "source": [
    "df.to_csv('C:\\\\Users\\\\Rakshu\\\\Desktop\\Pyt\\\\ITSM_cleanedfile.csv',index=False)"
   ]
  },
  {
   "cell_type": "markdown",
   "metadata": {},
   "source": [
    "### Delete Reopen_Time and  Category column"
   ]
  },
  {
   "cell_type": "code",
   "execution_count": null,
   "metadata": {},
   "outputs": [],
   "source": [
    "df.columns"
   ]
  },
  {
   "cell_type": "code",
   "execution_count": 23,
   "metadata": {},
   "outputs": [],
   "source": [
    "del_list=['Category']\n",
    "\n",
    "df.drop(del_list ,inplace=True,axis=1)"
   ]
  },
  {
   "cell_type": "code",
   "execution_count": 24,
   "metadata": {},
   "outputs": [
    {
     "data": {
      "text/html": [
       "<div>\n",
       "<style scoped>\n",
       "    .dataframe tbody tr th:only-of-type {\n",
       "        vertical-align: middle;\n",
       "    }\n",
       "\n",
       "    .dataframe tbody tr th {\n",
       "        vertical-align: top;\n",
       "    }\n",
       "\n",
       "    .dataframe thead th {\n",
       "        text-align: right;\n",
       "    }\n",
       "</style>\n",
       "<table border=\"1\" class=\"dataframe\">\n",
       "  <thead>\n",
       "    <tr style=\"text-align: right;\">\n",
       "      <th></th>\n",
       "      <th>CI_Name</th>\n",
       "      <th>CI_Cat</th>\n",
       "      <th>CI_Subcat</th>\n",
       "      <th>WBS</th>\n",
       "      <th>Priority</th>\n",
       "      <th>No_of_Reassignments</th>\n",
       "      <th>Open_Time</th>\n",
       "      <th>Reopen_Time</th>\n",
       "      <th>Close_Time</th>\n",
       "      <th>Closure_Code</th>\n",
       "      <th>No_of_Related_Interactions</th>\n",
       "      <th>No_of_Related_Incidents</th>\n",
       "      <th>No_of_Related_Changes</th>\n",
       "      <th>t_ReOpenFlag</th>\n",
       "      <th>Handled_Time_days</th>\n",
       "    </tr>\n",
       "  </thead>\n",
       "  <tbody>\n",
       "    <tr>\n",
       "      <td>0</td>\n",
       "      <td>SUB000508</td>\n",
       "      <td>subapplication</td>\n",
       "      <td>Web Based Application</td>\n",
       "      <td>WBS000162</td>\n",
       "      <td>4</td>\n",
       "      <td>26</td>\n",
       "      <td>2012-02-05 13:32:00</td>\n",
       "      <td>NaT</td>\n",
       "      <td>2013-11-04 13:51:00</td>\n",
       "      <td>Other</td>\n",
       "      <td>1</td>\n",
       "      <td>2</td>\n",
       "      <td>NaN</td>\n",
       "      <td>0.0</td>\n",
       "      <td>638</td>\n",
       "    </tr>\n",
       "    <tr>\n",
       "      <td>1</td>\n",
       "      <td>WBA000124</td>\n",
       "      <td>application</td>\n",
       "      <td>Web Based Application</td>\n",
       "      <td>WBS000088</td>\n",
       "      <td>3</td>\n",
       "      <td>33</td>\n",
       "      <td>2012-03-12 15:44:00</td>\n",
       "      <td>2013-12-02 12:31:00</td>\n",
       "      <td>2013-12-02 12:36:00</td>\n",
       "      <td>Software</td>\n",
       "      <td>1</td>\n",
       "      <td>1</td>\n",
       "      <td>NaN</td>\n",
       "      <td>1.0</td>\n",
       "      <td>629</td>\n",
       "    </tr>\n",
       "    <tr>\n",
       "      <td>2</td>\n",
       "      <td>DTA000024</td>\n",
       "      <td>application</td>\n",
       "      <td>Desktop Application</td>\n",
       "      <td>WBS000092</td>\n",
       "      <td>NA</td>\n",
       "      <td>3</td>\n",
       "      <td>2012-03-29 12:36:00</td>\n",
       "      <td>NaT</td>\n",
       "      <td>2014-01-13 15:13:00</td>\n",
       "      <td>No error - works as designed</td>\n",
       "      <td>1</td>\n",
       "      <td>1</td>\n",
       "      <td>NaN</td>\n",
       "      <td>0.0</td>\n",
       "      <td>655</td>\n",
       "    </tr>\n",
       "    <tr>\n",
       "      <td>3</td>\n",
       "      <td>WBA000124</td>\n",
       "      <td>application</td>\n",
       "      <td>Web Based Application</td>\n",
       "      <td>WBS000088</td>\n",
       "      <td>4</td>\n",
       "      <td>13</td>\n",
       "      <td>2012-07-17 11:49:00</td>\n",
       "      <td>NaT</td>\n",
       "      <td>2013-11-14 09:31:00</td>\n",
       "      <td>Operator error</td>\n",
       "      <td>1</td>\n",
       "      <td>1</td>\n",
       "      <td>NaN</td>\n",
       "      <td>0.0</td>\n",
       "      <td>484</td>\n",
       "    </tr>\n",
       "    <tr>\n",
       "      <td>4</td>\n",
       "      <td>WBA000124</td>\n",
       "      <td>application</td>\n",
       "      <td>Web Based Application</td>\n",
       "      <td>WBS000088</td>\n",
       "      <td>4</td>\n",
       "      <td>2</td>\n",
       "      <td>2012-08-10 11:01:00</td>\n",
       "      <td>NaT</td>\n",
       "      <td>2013-11-08 13:55:00</td>\n",
       "      <td>Other</td>\n",
       "      <td>1</td>\n",
       "      <td>1</td>\n",
       "      <td>NaN</td>\n",
       "      <td>0.0</td>\n",
       "      <td>455</td>\n",
       "    </tr>\n",
       "  </tbody>\n",
       "</table>\n",
       "</div>"
      ],
      "text/plain": [
       "     CI_Name          CI_Cat              CI_Subcat        WBS Priority  \\\n",
       "0  SUB000508  subapplication  Web Based Application  WBS000162        4   \n",
       "1  WBA000124     application  Web Based Application  WBS000088        3   \n",
       "2  DTA000024     application    Desktop Application  WBS000092       NA   \n",
       "3  WBA000124     application  Web Based Application  WBS000088        4   \n",
       "4  WBA000124     application  Web Based Application  WBS000088        4   \n",
       "\n",
       "   No_of_Reassignments           Open_Time         Reopen_Time  \\\n",
       "0                   26 2012-02-05 13:32:00                 NaT   \n",
       "1                   33 2012-03-12 15:44:00 2013-12-02 12:31:00   \n",
       "2                    3 2012-03-29 12:36:00                 NaT   \n",
       "3                   13 2012-07-17 11:49:00                 NaT   \n",
       "4                    2 2012-08-10 11:01:00                 NaT   \n",
       "\n",
       "           Close_Time                  Closure_Code  \\\n",
       "0 2013-11-04 13:51:00                         Other   \n",
       "1 2013-12-02 12:36:00                      Software   \n",
       "2 2014-01-13 15:13:00  No error - works as designed   \n",
       "3 2013-11-14 09:31:00                Operator error   \n",
       "4 2013-11-08 13:55:00                         Other   \n",
       "\n",
       "  No_of_Related_Interactions  No_of_Related_Incidents  No_of_Related_Changes  \\\n",
       "0                          1                        2                    NaN   \n",
       "1                          1                        1                    NaN   \n",
       "2                          1                        1                    NaN   \n",
       "3                          1                        1                    NaN   \n",
       "4                          1                        1                    NaN   \n",
       "\n",
       "   t_ReOpenFlag  Handled_Time_days  \n",
       "0           0.0                638  \n",
       "1           1.0                629  \n",
       "2           0.0                655  \n",
       "3           0.0                484  \n",
       "4           0.0                455  "
      ]
     },
     "execution_count": 24,
     "metadata": {},
     "output_type": "execute_result"
    }
   ],
   "source": [
    "df.head()"
   ]
  },
  {
   "cell_type": "code",
   "execution_count": null,
   "metadata": {},
   "outputs": [],
   "source": [
    "df=df.sort_index(axis=1)\n",
    "df"
   ]
  },
  {
   "cell_type": "markdown",
   "metadata": {},
   "source": [
    "#### Label Encodinng"
   ]
  },
  {
   "cell_type": "code",
   "execution_count": 25,
   "metadata": {},
   "outputs": [
    {
     "data": {
      "text/html": [
       "<div>\n",
       "<style scoped>\n",
       "    .dataframe tbody tr th:only-of-type {\n",
       "        vertical-align: middle;\n",
       "    }\n",
       "\n",
       "    .dataframe tbody tr th {\n",
       "        vertical-align: top;\n",
       "    }\n",
       "\n",
       "    .dataframe thead th {\n",
       "        text-align: right;\n",
       "    }\n",
       "</style>\n",
       "<table border=\"1\" class=\"dataframe\">\n",
       "  <thead>\n",
       "    <tr style=\"text-align: right;\">\n",
       "      <th></th>\n",
       "      <th>CI_Name</th>\n",
       "      <th>CI_Cat</th>\n",
       "      <th>CI_Subcat</th>\n",
       "      <th>WBS</th>\n",
       "      <th>Priority</th>\n",
       "      <th>No_of_Reassignments</th>\n",
       "      <th>Open_Time</th>\n",
       "      <th>Reopen_Time</th>\n",
       "      <th>Close_Time</th>\n",
       "      <th>Closure_Code</th>\n",
       "      <th>No_of_Related_Interactions</th>\n",
       "      <th>No_of_Related_Incidents</th>\n",
       "      <th>No_of_Related_Changes</th>\n",
       "      <th>t_ReOpenFlag</th>\n",
       "      <th>Handled_Time_days</th>\n",
       "    </tr>\n",
       "  </thead>\n",
       "  <tbody>\n",
       "    <tr>\n",
       "      <td>0</td>\n",
       "      <td>SUB000508</td>\n",
       "      <td>11</td>\n",
       "      <td>Web Based Application</td>\n",
       "      <td>136</td>\n",
       "      <td>4</td>\n",
       "      <td>26</td>\n",
       "      <td>2012-02-05 13:32:00</td>\n",
       "      <td>NaT</td>\n",
       "      <td>2013-11-04 13:51:00</td>\n",
       "      <td>6</td>\n",
       "      <td>1</td>\n",
       "      <td>2</td>\n",
       "      <td>NaN</td>\n",
       "      <td>0.0</td>\n",
       "      <td>638</td>\n",
       "    </tr>\n",
       "    <tr>\n",
       "      <td>1</td>\n",
       "      <td>WBA000124</td>\n",
       "      <td>1</td>\n",
       "      <td>Web Based Application</td>\n",
       "      <td>70</td>\n",
       "      <td>3</td>\n",
       "      <td>33</td>\n",
       "      <td>2012-03-12 15:44:00</td>\n",
       "      <td>2013-12-02 12:31:00</td>\n",
       "      <td>2013-12-02 12:36:00</td>\n",
       "      <td>10</td>\n",
       "      <td>1</td>\n",
       "      <td>1</td>\n",
       "      <td>NaN</td>\n",
       "      <td>1.0</td>\n",
       "      <td>629</td>\n",
       "    </tr>\n",
       "    <tr>\n",
       "      <td>2</td>\n",
       "      <td>DTA000024</td>\n",
       "      <td>1</td>\n",
       "      <td>Desktop Application</td>\n",
       "      <td>74</td>\n",
       "      <td>NA</td>\n",
       "      <td>3</td>\n",
       "      <td>2012-03-29 12:36:00</td>\n",
       "      <td>NaT</td>\n",
       "      <td>2014-01-13 15:13:00</td>\n",
       "      <td>4</td>\n",
       "      <td>1</td>\n",
       "      <td>1</td>\n",
       "      <td>NaN</td>\n",
       "      <td>0.0</td>\n",
       "      <td>655</td>\n",
       "    </tr>\n",
       "    <tr>\n",
       "      <td>3</td>\n",
       "      <td>WBA000124</td>\n",
       "      <td>1</td>\n",
       "      <td>Web Based Application</td>\n",
       "      <td>70</td>\n",
       "      <td>4</td>\n",
       "      <td>13</td>\n",
       "      <td>2012-07-17 11:49:00</td>\n",
       "      <td>NaT</td>\n",
       "      <td>2013-11-14 09:31:00</td>\n",
       "      <td>5</td>\n",
       "      <td>1</td>\n",
       "      <td>1</td>\n",
       "      <td>NaN</td>\n",
       "      <td>0.0</td>\n",
       "      <td>484</td>\n",
       "    </tr>\n",
       "    <tr>\n",
       "      <td>4</td>\n",
       "      <td>WBA000124</td>\n",
       "      <td>1</td>\n",
       "      <td>Web Based Application</td>\n",
       "      <td>70</td>\n",
       "      <td>4</td>\n",
       "      <td>2</td>\n",
       "      <td>2012-08-10 11:01:00</td>\n",
       "      <td>NaT</td>\n",
       "      <td>2013-11-08 13:55:00</td>\n",
       "      <td>6</td>\n",
       "      <td>1</td>\n",
       "      <td>1</td>\n",
       "      <td>NaN</td>\n",
       "      <td>0.0</td>\n",
       "      <td>455</td>\n",
       "    </tr>\n",
       "  </tbody>\n",
       "</table>\n",
       "</div>"
      ],
      "text/plain": [
       "     CI_Name  CI_Cat              CI_Subcat  WBS Priority  \\\n",
       "0  SUB000508      11  Web Based Application  136        4   \n",
       "1  WBA000124       1  Web Based Application   70        3   \n",
       "2  DTA000024       1    Desktop Application   74       NA   \n",
       "3  WBA000124       1  Web Based Application   70        4   \n",
       "4  WBA000124       1  Web Based Application   70        4   \n",
       "\n",
       "   No_of_Reassignments           Open_Time         Reopen_Time  \\\n",
       "0                   26 2012-02-05 13:32:00                 NaT   \n",
       "1                   33 2012-03-12 15:44:00 2013-12-02 12:31:00   \n",
       "2                    3 2012-03-29 12:36:00                 NaT   \n",
       "3                   13 2012-07-17 11:49:00                 NaT   \n",
       "4                    2 2012-08-10 11:01:00                 NaT   \n",
       "\n",
       "           Close_Time  Closure_Code No_of_Related_Interactions  \\\n",
       "0 2013-11-04 13:51:00             6                          1   \n",
       "1 2013-12-02 12:36:00            10                          1   \n",
       "2 2014-01-13 15:13:00             4                          1   \n",
       "3 2013-11-14 09:31:00             5                          1   \n",
       "4 2013-11-08 13:55:00             6                          1   \n",
       "\n",
       "   No_of_Related_Incidents  No_of_Related_Changes  t_ReOpenFlag  \\\n",
       "0                        2                    NaN           0.0   \n",
       "1                        1                    NaN           1.0   \n",
       "2                        1                    NaN           0.0   \n",
       "3                        1                    NaN           0.0   \n",
       "4                        1                    NaN           0.0   \n",
       "\n",
       "   Handled_Time_days  \n",
       "0                638  \n",
       "1                629  \n",
       "2                655  \n",
       "3                484  \n",
       "4                455  "
      ]
     },
     "execution_count": 25,
     "metadata": {},
     "output_type": "execute_result"
    }
   ],
   "source": [
    "from sklearn.preprocessing import LabelEncoder\n",
    "\n",
    "encoder = LabelEncoder()\n",
    "\n",
    "#List of columns need to be Encoded\n",
    "\n",
    "encoderlist =['CI_Cat','Closure_Code','WBS']\n",
    "\n",
    "for i in encoderlist:\n",
    "    df[i] = encoder.fit_transform(df[i])\n",
    "df.head()"
   ]
  },
  {
   "cell_type": "code",
   "execution_count": null,
   "metadata": {},
   "outputs": [],
   "source": [
    "df.info()\n",
    "#Counter(df.Closure_Code)"
   ]
  },
  {
   "cell_type": "markdown",
   "metadata": {},
   "source": [
    "### Checking Normality of variables to understand the requirement of transforming the variables"
   ]
  },
  {
   "cell_type": "code",
   "execution_count": 26,
   "metadata": {},
   "outputs": [
    {
     "name": "stdout",
     "output_type": "stream",
     "text": [
      "             CI_Cat         WBS  Closure_Code  t_ReOpenFlag  \\\n",
      "skew       1.428957    0.833190     -0.339910      4.156652   \n",
      "kurtosis   0.176962   -0.672581     -0.657882     15.278423   \n",
      "std        3.859810   69.500603      3.399524      0.216797   \n",
      "mean       3.141923  107.422203      7.087740      0.049445   \n",
      "min        0.000000    0.000000      0.000000      0.000000   \n",
      "median     1.000000   73.000000      6.000000      0.000000   \n",
      "max       11.000000  271.000000     13.000000      1.000000   \n",
      "\n",
      "          No_of_Reassignments  No_of_Related_Incidents  \\\n",
      "skew                 4.805858                66.863938   \n",
      "kurtosis            41.482453              6113.860576   \n",
      "std                  2.280206                 0.544150   \n",
      "mean                 1.142357                 1.017105   \n",
      "min                  0.000000                 1.000000   \n",
      "median               0.000000                 1.000000   \n",
      "max                 46.000000                63.000000   \n",
      "\n",
      "         No_of_Related_Interactions  \n",
      "skew                        100.254  \n",
      "kurtosis                      12765  \n",
      "std                             NaN  \n",
      "mean                            inf  \n",
      "min                               0  \n",
      "median                            1  \n",
      "max                               9  \n"
     ]
    }
   ],
   "source": [
    "#Check the distribution of continous variables -None seem to be normal in distribution\n",
    "ConVarList = ['CI_Cat','WBS','Closure_Code','t_ReOpenFlag','No_of_Reassignments','No_of_Related_Incidents','No_of_Related_Interactions']\n",
    "\n",
    "ConVarStatus = df[ConVarList].agg(['skew','kurtosis','std','mean','min','median','max'])\n",
    "print(ConVarStatus)\n"
   ]
  },
  {
   "cell_type": "code",
   "execution_count": 27,
   "metadata": {},
   "outputs": [
    {
     "name": "stdout",
     "output_type": "stream",
     "text": [
      "CI_Cat (0.5614616870880127, 0.0)\n",
      "WBS (0.8403604626655579, 0.0)\n",
      "Closure_Code (0.9033034443855286, 0.0)\n",
      "t_ReOpenFlag (0.22231906652450562, 0.0)\n",
      "No_of_Reassignments (0.535767674446106, 0.0)\n",
      "No_of_Related_Incidents (0.011551856994628906, 0.0)\n",
      "No_of_Related_Interactions (0.017537057399749756, 0.0)\n"
     ]
    },
    {
     "name": "stderr",
     "output_type": "stream",
     "text": [
      "C:\\Users\\Rakshu\\Anaconda3\\lib\\site-packages\\scipy\\stats\\morestats.py:1660: UserWarning: p-value may not be accurate for N > 5000.\n",
      "  warnings.warn(\"p-value may not be accurate for N > 5000.\")\n"
     ]
    }
   ],
   "source": [
    "from scipy import stats\n",
    "\n",
    "#The P> 0.05 for the variable to be normal(In this test null hypothesisis reverse of usual)\n",
    "#None of the variables are normal We can look at log transforming those variables before being fed into the algorithms\n",
    "\n",
    "NormalityStat = pd.DataFrame()\n",
    "for i in ConVarList:\n",
    "    print(i,stats.shapiro(df[i]))"
   ]
  },
  {
   "cell_type": "markdown",
   "metadata": {},
   "source": [
    "### Box plot of all the variables - to analysing the possibility of scaling"
   ]
  },
  {
   "cell_type": "code",
   "execution_count": null,
   "metadata": {},
   "outputs": [],
   "source": [
    "df[ConVarList].describe()"
   ]
  },
  {
   "cell_type": "code",
   "execution_count": null,
   "metadata": {},
   "outputs": [],
   "source": [
    "#The magnitude of variations between the variables is huge ,Variables have to be scaled\n",
    "\n",
    "rcParams['figure.figsize'] = 25,8\n",
    "df[ConVarList].boxplot()"
   ]
  },
  {
   "cell_type": "markdown",
   "metadata": {},
   "source": [
    "### Basic Pie Chart of outcome variable"
   ]
  },
  {
   "cell_type": "code",
   "execution_count": null,
   "metadata": {},
   "outputs": [],
   "source": [
    "#P1 ,P2 are in extreme minority as compared to P3 ,P4,P5\n",
    "rcParams['figure.figsize'] = 10,5\n",
    "df.Priority.value_counts(sort=False).plot.pie(labels=['P1','P2','P3','P4','P5'],legend=True)\n",
    "plt.show()"
   ]
  },
  {
   "cell_type": "code",
   "execution_count": null,
   "metadata": {},
   "outputs": [],
   "source": [
    "Counter(df.Priority)"
   ]
  },
  {
   "cell_type": "markdown",
   "metadata": {},
   "source": [
    "### Analysing Ticket Resolution Durations"
   ]
  },
  {
   "cell_type": "code",
   "execution_count": 28,
   "metadata": {},
   "outputs": [],
   "source": [
    "df.columns #=======================================================================\n",
    "df['Handled_Time_days'].describe()\n",
    "\n",
    "#Converting Ticket resolution  duration into bins (50 days each ).Check the frequency of each bin\n",
    "custom_bucket_array = np.linspace(0,700,141)\n",
    "df['Handled_Time_days_bins'] =pd.cut(df['Handled_Time_days'],custom_bucket_array)"
   ]
  },
  {
   "cell_type": "code",
   "execution_count": 29,
   "metadata": {},
   "outputs": [
    {
     "data": {
      "text/plain": [
       "<matplotlib.axes._subplots.AxesSubplot at 0x256bfd36d88>"
      ]
     },
     "execution_count": 29,
     "metadata": {},
     "output_type": "execute_result"
    },
    {
     "data": {
      "image/png": "[encoded data removed]",
      "text/plain": [
       "<Figure size 432x288 with 1 Axes>"
      ]
     },
     "metadata": {
      "needs_background": "light"
     },
     "output_type": "display_data"
    }
   ],
   "source": [
    "# SHow thw resolution of tickets has hanppened in duration of 5 days.\n",
    "#Also Majority of P1/P2 have been solved in 5 days\n",
    "Crosstab_AL =pd.crosstab(df.Handled_Time_days_bins,df.Priority)\n",
    "Crosstab_AL.plot(kind='barh',stacked=False ,grid=True ,title='Ticket Resolved Duration VS Priority')"
   ]
  },
  {
   "cell_type": "markdown",
   "metadata": {},
   "source": [
    "## Getting closer look on P1 and P2\n",
    "#### Since the Results are skewed we can look at keeping 2 categories (High:P!,P2   and Low:P3,P4,P5"
   ]
  },
  {
   "cell_type": "code",
   "execution_count": 30,
   "metadata": {},
   "outputs": [
    {
     "data": {
      "text/plain": [
       "Index(['CI_Name', 'CI_Cat', 'CI_Subcat', 'WBS', 'Priority',\n",
       "       'No_of_Reassignments', 'Open_Time', 'Reopen_Time', 'Close_Time',\n",
       "       'Closure_Code', 'No_of_Related_Interactions', 'No_of_Related_Incidents',\n",
       "       'No_of_Related_Changes', 't_ReOpenFlag', 'Handled_Time_days',\n",
       "       'Handled_Time_days_bins'],\n",
       "      dtype='object')"
      ]
     },
     "execution_count": 30,
     "metadata": {},
     "output_type": "execute_result"
    }
   ],
   "source": [
    "df_temp =df[(df.Priority==1) | (df.Priority==2)]\n",
    "df_temp.shape\n",
    "df.columns"
   ]
  },
  {
   "cell_type": "code",
   "execution_count": 31,
   "metadata": {},
   "outputs": [
    {
     "name": "stdout",
     "output_type": "stream",
     "text": [
      "Empty DataFrame\n",
      "Columns: []\n",
      "Index: []\n"
     ]
    },
    {
     "data": {
      "text/html": [
       "<div>\n",
       "<style scoped>\n",
       "    .dataframe tbody tr th:only-of-type {\n",
       "        vertical-align: middle;\n",
       "    }\n",
       "\n",
       "    .dataframe tbody tr th {\n",
       "        vertical-align: top;\n",
       "    }\n",
       "\n",
       "    .dataframe thead th {\n",
       "        text-align: right;\n",
       "    }\n",
       "</style>\n",
       "<table border=\"1\" class=\"dataframe\">\n",
       "  <thead>\n",
       "    <tr style=\"text-align: right;\">\n",
       "      <th></th>\n",
       "      <th>CI_Name</th>\n",
       "      <th>CI_Cat</th>\n",
       "      <th>CI_Subcat</th>\n",
       "      <th>WBS</th>\n",
       "      <th>Priority</th>\n",
       "      <th>No_of_Reassignments</th>\n",
       "      <th>Open_Time</th>\n",
       "      <th>Reopen_Time</th>\n",
       "      <th>Close_Time</th>\n",
       "      <th>Closure_Code</th>\n",
       "      <th>No_of_Related_Interactions</th>\n",
       "      <th>No_of_Related_Incidents</th>\n",
       "      <th>No_of_Related_Changes</th>\n",
       "      <th>t_ReOpenFlag</th>\n",
       "      <th>Handled_Time_days</th>\n",
       "      <th>Handled_Time_days_bins</th>\n",
       "      <th>t_P12_Handled_Time_days_bin</th>\n",
       "    </tr>\n",
       "  </thead>\n",
       "  <tbody>\n",
       "  </tbody>\n",
       "</table>\n",
       "</div>"
      ],
      "text/plain": [
       "Empty DataFrame\n",
       "Columns: [CI_Name, CI_Cat, CI_Subcat, WBS, Priority, No_of_Reassignments, Open_Time, Reopen_Time, Close_Time, Closure_Code, No_of_Related_Interactions, No_of_Related_Incidents, No_of_Related_Changes, t_ReOpenFlag, Handled_Time_days, Handled_Time_days_bins, t_P12_Handled_Time_days_bin]\n",
       "Index: []"
      ]
     },
     "execution_count": 31,
     "metadata": {},
     "output_type": "execute_result"
    }
   ],
   "source": [
    "#Majority of P1/P2  have been solved within 1.25 days\n",
    "custom_bucket_array = np.linspace(0,25,101)\n",
    "df_temp['t_P12_Handled_Time_days_bin'] =pd.cut(df_temp['Handled_Time_days'],custom_bucket_array)\n",
    "Crosstab_AL =pd.crosstab(df_temp.t_P12_Handled_Time_days_bin,df.Priority)\n",
    "print(Crosstab_AL)\n",
    "df_temp.head()"
   ]
  },
  {
   "cell_type": "markdown",
   "metadata": {},
   "source": [
    "### Analyse CI Category and Sub Category"
   ]
  },
  {
   "cell_type": "code",
   "execution_count": 32,
   "metadata": {},
   "outputs": [
    {
     "name": "stdout",
     "output_type": "stream",
     "text": [
      "Priority       1       2       3        4        5      NA\n",
      "CI_Cat                                                    \n",
      "0         0.0000  0.0022  0.0022   0.0000   0.0000  0.0000\n",
      "1         0.0022  0.4216  8.7305  33.5833  26.5024  2.2234\n",
      "2         0.0000  0.0000  0.0065   0.0022   0.0000  0.0022\n",
      "3         0.0000  0.3782  0.6281   1.3453   4.3707  0.1913\n",
      "4         0.0000  0.0000  0.3130   0.0348   0.0174  0.1000\n",
      "5         0.0000  0.0000  0.0022   0.4369   0.0217  0.0000\n",
      "6         0.0000  0.0130  0.3108   0.1717   0.3869  0.0782\n",
      "7         0.0000  0.0478  0.0739   0.0674   0.0261  0.0174\n",
      "8         0.0000  0.0000  0.0804   0.1413   0.0804  0.0283\n",
      "9         0.0000  0.0065  0.2847   0.2412   0.1065  0.0848\n",
      "10        0.0000  0.0109  0.4086   0.7520   0.2478  0.1087\n",
      "11        0.0043  0.0717  0.5194  12.2536   3.9230  0.1348\n"
     ]
    },
    {
     "data": {
      "text/plain": [
       "<matplotlib.axes._subplots.AxesSubplot at 0x256bfb91748>"
      ]
     },
     "execution_count": 32,
     "metadata": {},
     "output_type": "execute_result"
    },
    {
     "data": {
      "image/png": "[encoded data removed]",
      "text/plain": [
       "<Figure size 1440x1080 with 1 Axes>"
      ]
     },
     "metadata": {
      "needs_background": "light"
     },
     "output_type": "display_data"
    }
   ],
   "source": [
    "#68% belong to application and 18% belong tosubapplication category\n",
    "#All P1's belong to the same category -applictation,subapp .P2 are spread across\n",
    "#Since theOutcome classes are highly skewed ,we can look at records where P1 n P2 =0\n",
    "rcParams['figure.figsize'] =20,15\n",
    "Crosstab_Cat = pd.crosstab([df.CI_Cat],df.Priority,normalize='all').round(6)*100\n",
    "print(Crosstab_Cat)\n",
    "Crosstab_Cat.plot(kind='barh',stacked=False,grid=True ,title='Category VS Priority')"
   ]
  },
  {
   "cell_type": "markdown",
   "metadata": {},
   "source": [
    "### Analyse Closure Code"
   ]
  },
  {
   "cell_type": "code",
   "execution_count": 33,
   "metadata": {},
   "outputs": [
    {
     "name": "stdout",
     "output_type": "stream",
     "text": [
      "Priority            1        2        3        4        5       NA\n",
      "Closure_Code                                                      \n",
      "0              0.0000   6.1644   4.7063   4.9470   4.4098   4.7584\n",
      "1             33.3333  25.3425  12.2824   2.2341   9.5261  12.0791\n",
      "2              0.0000   0.0000   0.1148   0.2527   0.5908   0.1464\n",
      "3              0.0000   0.0000   0.0000   0.0000   0.0609   0.0000\n",
      "4              0.0000   2.0548   6.0647   7.3762   8.8318   5.9297\n",
      "5              0.0000   3.6530   2.8888   4.5658   1.8394   2.7818\n",
      "6             33.3333  33.3333  25.5213  32.3241  44.4208  26.3543\n",
      "7              0.0000   0.0000   0.0000   0.0000   0.0061   0.0000\n",
      "8              0.0000   0.0000   0.0191   0.0576   0.7187   0.0000\n",
      "9              0.0000   0.6849   0.4400   0.3369   0.2802   0.7321\n",
      "10            33.3333  25.3425  24.1821  36.0610  19.3690  22.9868\n",
      "11             0.0000   1.5982   4.1898   3.2936   3.4048   3.8067\n",
      "12             0.0000   1.8265  18.0409   7.1546   4.4281  18.8141\n",
      "13             0.0000   0.0000   1.5496   1.3963   2.1135   1.6105\n"
     ]
    },
    {
     "data": {
      "text/plain": [
       "<matplotlib.axes._subplots.AxesSubplot at 0x256bfaaa708>"
      ]
     },
     "execution_count": 33,
     "metadata": {},
     "output_type": "execute_result"
    },
    {
     "data": {
      "image/png": "[encoded data removed]",
      "text/plain": [
       "<Figure size 1440x1080 with 1 Axes>"
      ]
     },
     "metadata": {
      "needs_background": "light"
     },
     "output_type": "display_data"
    }
   ],
   "source": [
    "#Predominant reason for closure across P1-P5 is Hardware,Other,SOftware\n",
    "Crosstab_CC = pd.crosstab(df.Closure_Code,df.Priority,normalize='columns').round(6)*100\n",
    "print(Crosstab_CC)\n",
    "Crosstab_CC.plot(kind='barh',stacked=False ,grid=True,title='Closure_Code Vs Priority')"
   ]
  },
  {
   "cell_type": "markdown",
   "metadata": {},
   "source": [
    "### Analyse WBS : This cuould be interpreted as  a cost centrerelated t Dept"
   ]
  },
  {
   "cell_type": "code",
   "execution_count": 34,
   "metadata": {},
   "outputs": [
    {
     "name": "stdout",
     "output_type": "stream",
     "text": [
      "Priority    1       2       3       4       5      NA\n",
      "WBS                                                  \n",
      "0         0.0  0.0000  0.0000  0.0000  0.0022  0.0000\n",
      "1         0.0  0.0000  0.0152  0.1913  0.1261  0.0087\n",
      "2         0.0  0.0000  0.0000  0.0000  0.0022  0.0000\n",
      "3         0.0  0.0000  0.0043  0.0435  0.0000  0.0000\n",
      "4         0.0  0.0065  0.0304  0.0500  0.0087  0.0087\n",
      "..        ...     ...     ...     ...     ...     ...\n",
      "267       0.0  0.0000  0.0043  0.0000  0.0022  0.0022\n",
      "268       0.0  0.0000  0.0000  0.0022  0.0000  0.0000\n",
      "269       0.0  0.0022  0.0174  0.1739  0.0065  0.0000\n",
      "270       0.0  0.0000  0.0000  0.0043  0.0043  0.0000\n",
      "271       0.0  0.0000  0.0022  0.0000  0.0022  0.0000\n",
      "\n",
      "[272 rows x 6 columns]\n"
     ]
    },
    {
     "data": {
      "text/plain": [
       "<matplotlib.axes._subplots.AxesSubplot at 0x256bf9d2988>"
      ]
     },
     "execution_count": 34,
     "metadata": {},
     "output_type": "execute_result"
    },
    {
     "data": {
      "image/png": "[encoded data removed]",
      "text/plain": [
       "<Figure size 1440x720 with 1 Axes>"
      ]
     },
     "metadata": {
      "needs_background": "light"
     },
     "output_type": "display_data"
    }
   ],
   "source": [
    "#Too many WBS's to get any meanigful insights\n",
    "#Chrn Rate more than 2% and special care of with more than 3%\n",
    "rcParams['figure.figsize'] =20,10\n",
    "Crosstab_WBS = pd.crosstab([df.WBS],df.Priority,normalize='all').round(6)*100\n",
    "print(Crosstab_WBS)\n",
    "Crosstab_WBS.plot(kind='barh',stacked=False,grid=True ,title='WBS VS Priority')"
   ]
  },
  {
   "cell_type": "markdown",
   "metadata": {},
   "source": [
    "### Analyse No of related interactions(No of interactions with client)`"
   ]
  },
  {
   "cell_type": "code",
   "execution_count": 35,
   "metadata": {},
   "outputs": [
    {
     "name": "stdout",
     "output_type": "stream",
     "text": [
      "Priority                         1       2        3        4        5      NA\n",
      "No_of_Related_Interactions                                                   \n",
      "0                           0.0000  0.0000   0.0087   0.0869   0.1521  0.0000\n",
      "1                           0.0043  0.8020  10.5301  45.5282  32.6878  2.7928\n",
      "10                          0.0000  0.0022   0.0043   0.0000   0.0000  0.0000\n",
      "11                          0.0000  0.0022   0.0000   0.0022   0.0000  0.0000\n",
      "118                         0.0000  0.0000   0.0000   0.0022   0.0000  0.0000\n",
      "12                          0.0000  0.0065   0.0000   0.0043   0.0000  0.0022\n",
      "13                          0.0000  0.0000   0.0022   0.0022   0.0022  0.0022\n",
      "14                          0.0000  0.0022   0.0000   0.0022   0.0000  0.0000\n",
      "15                          0.0000  0.0000   0.0022   0.0043   0.0000  0.0000\n",
      "16                          0.0000  0.0022   0.0000   0.0022   0.0000  0.0000\n",
      "17                          0.0000  0.0000   0.0000   0.0043   0.0000  0.0000\n",
      "18                          0.0000  0.0000   0.0000   0.0043   0.0000  0.0000\n",
      "19                          0.0000  0.0043   0.0000   0.0022   0.0000  0.0000\n",
      "2                           0.0022  0.0543   0.6194   2.7341   2.3473  0.1434\n",
      "20                          0.0000  0.0043   0.0022   0.0022   0.0022  0.0000\n",
      "21                          0.0000  0.0000   0.0000   0.0022   0.0000  0.0000\n",
      "22                          0.0000  0.0022   0.0000   0.0022   0.0022  0.0000\n",
      "23                          0.0000  0.0000   0.0000   0.0022   0.0022  0.0000\n",
      "24                          0.0000  0.0000   0.0000   0.0000   0.0022  0.0000\n",
      "25                          0.0000  0.0000   0.0000   0.0022   0.0000  0.0000\n",
      "26                          0.0000  0.0000   0.0000   0.0000   0.0000  0.0043\n",
      "27                          0.0000  0.0000   0.0022   0.0000   0.0000  0.0000\n",
      "28                          0.0000  0.0000   0.0022   0.0022   0.0000  0.0000\n",
      "288                         0.0000  0.0000   0.0000   0.0022   0.0000  0.0000\n",
      "29                          0.0000  0.0000   0.0022   0.0022   0.0000  0.0000\n",
      "3                           0.0000  0.0152   0.0978   0.4521   0.3456  0.0152\n",
      "30                          0.0000  0.0000   0.0000   0.0000   0.0022  0.0000\n",
      "31                          0.0000  0.0000   0.0022   0.0000   0.0000  0.0000\n",
      "33                          0.0000  0.0022   0.0000   0.0000   0.0000  0.0022\n",
      "34                          0.0000  0.0022   0.0022   0.0000   0.0000  0.0000\n",
      "37                          0.0000  0.0022   0.0000   0.0000   0.0000  0.0000\n",
      "370                         0.0000  0.0000   0.0022   0.0000   0.0000  0.0000\n",
      "39                          0.0000  0.0022   0.0000   0.0022   0.0000  0.0000\n",
      "4                           0.0000  0.0130   0.0391   0.0913   0.1174  0.0043\n",
      "40                          0.0000  0.0000   0.0000   0.0022   0.0000  0.0000\n",
      "41                          0.0000  0.0000   0.0000   0.0000   0.0022  0.0000\n",
      "42                          0.0000  0.0022   0.0022   0.0022   0.0000  0.0000\n",
      "43                          0.0000  0.0022   0.0000   0.0000   0.0000  0.0000\n",
      "44                          0.0000  0.0022   0.0022   0.0000   0.0000  0.0000\n",
      "45                          0.0000  0.0000   0.0000   0.0000   0.0022  0.0022\n",
      "5                           0.0000  0.0043   0.0087   0.0456   0.0065  0.0000\n",
      "54                          0.0000  0.0000   0.0000   0.0022   0.0000  0.0000\n",
      "55                          0.0000  0.0000   0.0022   0.0000   0.0000  0.0000\n",
      "57                          0.0000  0.0000   0.0000   0.0022   0.0000  0.0000\n",
      "6                           0.0000  0.0087   0.0152   0.0109   0.0000  0.0000\n",
      "7                           0.0000  0.0065   0.0065   0.0109   0.0022  0.0000\n",
      "74                          0.0000  0.0000   0.0000   0.0000   0.0022  0.0000\n",
      "8                           0.0000  0.0043   0.0022   0.0043   0.0022  0.0000\n",
      "88                          0.0000  0.0000   0.0000   0.0022   0.0000  0.0000\n",
      "9                           0.0000  0.0022   0.0022   0.0043   0.0022  0.0000\n"
     ]
    },
    {
     "data": {
      "text/plain": [
       "<matplotlib.axes._subplots.AxesSubplot at 0x256beebce08>"
      ]
     },
     "execution_count": 35,
     "metadata": {},
     "output_type": "execute_result"
    },
    {
     "data": {
      "image/png": "[encoded data removed]",
      "text/plain": [
       "<Figure size 1440x720 with 1 Axes>"
      ]
     },
     "metadata": {
      "needs_background": "light"
     },
     "output_type": "display_data"
    }
   ],
   "source": [
    "#No of interations are less in P1 and it increases as priority increases\n",
    "rcParams['figure.figsize'] =20,10\n",
    "Crosstab_NR = pd.crosstab([df.No_of_Related_Interactions],df.Priority,normalize='all').round(6)*100\n",
    "print(Crosstab_NR)\n",
    "Crosstab_NR.plot(kind='barh',stacked=False,grid=True ,title='No_of_Related_Interactions VS Priority')"
   ]
  },
  {
   "cell_type": "markdown",
   "metadata": {},
   "source": [
    "### Analyse Ticket Repoen flag"
   ]
  },
  {
   "cell_type": "code",
   "execution_count": 36,
   "metadata": {},
   "outputs": [
    {
     "name": "stdout",
     "output_type": "stream",
     "text": [
      "Priority           1       2        3        4        5      NA\n",
      "t_ReOpenFlag                                                   \n",
      "0.0           0.0000  0.9259  10.9322  46.8801  33.4442  2.8732\n",
      "1.0           0.0065  0.0261   0.4282   2.1495   2.2386  0.0956\n"
     ]
    },
    {
     "data": {
      "text/plain": [
       "<matplotlib.axes._subplots.AxesSubplot at 0x256bec97808>"
      ]
     },
     "execution_count": 36,
     "metadata": {},
     "output_type": "execute_result"
    },
    {
     "data": {
      "image/png": "[encoded data removed]",
      "text/plain": [
       "<Figure size 1440x720 with 1 Axes>"
      ]
     },
     "metadata": {
      "needs_background": "light"
     },
     "output_type": "display_data"
    }
   ],
   "source": [
    "#ALl P1 tickets are reopened\n",
    "rcParams['figure.figsize'] =20,10\n",
    "Crosstab_Reopen = pd.crosstab([df.t_ReOpenFlag],df.Priority,normalize='all').round(6)*100\n",
    "print(Crosstab_Reopen)\n",
    "Crosstab_Reopen.plot(kind='barh',stacked=False,grid=True ,title='ReOpen flag VS Priority')"
   ]
  },
  {
   "cell_type": "markdown",
   "metadata": {},
   "source": [
    "## Full COrrelation Matrix"
   ]
  },
  {
   "cell_type": "code",
   "execution_count": 37,
   "metadata": {},
   "outputs": [],
   "source": [
    "\n",
    "CatVarList = ['CI_Cat' ,'CI_Subcat','CI_Name','Closure_Code','WBS','t_ReOpenFlag' ]\n",
    "ConVarList = ['No_of_Reassignments' ,'No_of_Related_Incidents','No_of_Related_Interactions','Handled_Time_days']\n",
    "DateVarList = ['Close_Time','Open_Time' ,'Reopen_Time']\n",
    "OutValList =['Priority']"
   ]
  },
  {
   "cell_type": "code",
   "execution_count": 38,
   "metadata": {},
   "outputs": [
    {
     "data": {
      "text/plain": [
       "<matplotlib.axes._subplots.AxesSubplot at 0x256bec4a6c8>"
      ]
     },
     "execution_count": 38,
     "metadata": {},
     "output_type": "execute_result"
    },
    {
     "data": {
      "image/png": "[encoded data removed]",
      "text/plain": [
       "<Figure size 720x360 with 2 Axes>"
      ]
     },
     "metadata": {},
     "output_type": "display_data"
    }
   ],
   "source": [
    "#Run Correlation on continuous variable\n",
    "Corr_All = df[ConVarList].corr().round(2)\n",
    "\n",
    "#Maskinng of upper triangle\n",
    "sb.set(style=\"white\")\n",
    "mask = np.zeros_like(Corr_All,dtype=np.bool)\n",
    "mask[np.triu_indices_from(mask)] = True\n",
    "\n",
    "#Plotting\n",
    "rcParams['figure.figsize'] =10,5\n",
    "sb.heatmap(Corr_All,annot=True ,mask=mask,cmap = sb.diverging_palette(220,10,as_cmap=True),vmax=0.3,center=0)\n",
    "\n",
    "#Correlation between the predictors is less hence none get deleted"
   ]
  },
  {
   "cell_type": "code",
   "execution_count": null,
   "metadata": {},
   "outputs": [],
   "source": [
    "#There are 258 wbse whcih doesnot make sense as it cannot indicate any department hence we can delete it\n",
    "\n",
    "df.drop('WBS',inplace=True,axis=1)\n",
    "#df.columns\n",
    "\n",
    "df=df.sort_index(axis=1)"
   ]
  },
  {
   "cell_type": "markdown",
   "metadata": {},
   "source": [
    "## ML Model Selection"
   ]
  },
  {
   "cell_type": "markdown",
   "metadata": {},
   "source": [
    "### K fold Cross Validation will be used for model selection"
   ]
  },
  {
   "cell_type": "code",
   "execution_count": 39,
   "metadata": {},
   "outputs": [],
   "source": [
    "\n",
    "CatVarList = ['CI_Cat' ,'Closure_Code','t_ReOpenFlag' ]\n",
    "ConVarList = ['No_of_Reassignments' ,'No_of_Related_Incidents','No_of_Related_Interactions','Handled_Time_days']\n",
    "DateVarList = ['Close_Time','Open_Time']\n",
    "OutValList =['Priority']\n",
    "\n",
    "X_All =['CI_Cat' ,'Closure_Code','t_ReOpenFlag' ,\n",
    "       'No_of_Reassignments' ,'No_of_Related_Incidents','No_of_Related_Interactions','Handled_Time_days']"
   ]
  },
  {
   "cell_type": "code",
   "execution_count": 40,
   "metadata": {},
   "outputs": [],
   "source": [
    "#Assign X and Y\n",
    "\n",
    "X = df.loc[:,X_All]\n",
    "y=df.Priority\n"
   ]
  },
  {
   "cell_type": "code",
   "execution_count": null,
   "metadata": {},
   "outputs": [],
   "source": [
    "X.columns"
   ]
  },
  {
   "cell_type": "code",
   "execution_count": 41,
   "metadata": {},
   "outputs": [
    {
     "name": "stdout",
     "output_type": "stream",
     "text": [
      "(36808, 7)\n",
      "(36808,)\n",
      "(9203, 7)\n",
      "(9203,)\n"
     ]
    }
   ],
   "source": [
    "#split\n",
    "X_train,X_test,y_train,y_test =train_test_split(X,y,random_state=10,test_size=0.2)\n",
    "print(X_train.shape)\n",
    "print(y_train.shape)\n",
    "print(X_test.shape)\n",
    "print(y_test.shape)\n"
   ]
  },
  {
   "cell_type": "code",
   "execution_count": null,
   "metadata": {},
   "outputs": [],
   "source": [
    "y_train.head()"
   ]
  },
  {
   "cell_type": "markdown",
   "metadata": {},
   "source": [
    "## Scaling done based on EDA analysis\n",
    "### Fit on Train set , then transform noth train and test"
   ]
  },
  {
   "cell_type": "code",
   "execution_count": 42,
   "metadata": {},
   "outputs": [
    {
     "data": {
      "text/plain": [
       "array([[-0.55578752, -0.32081213, -0.22879835, ..., -0.0320127 ,\n",
       "        -0.05407894, -0.20582057],\n",
       "       [-0.55578752, -0.32081213, -0.22879835, ..., -0.0320127 ,\n",
       "        -0.05407894, -0.26022402],\n",
       "       [-0.55578752,  0.85729407,  4.37066083, ..., -0.0320127 ,\n",
       "         0.30606899,  0.01179323],\n",
       "       ...,\n",
       "       [-0.55578752, -0.61533868, -0.22879835, ..., -0.0320127 ,\n",
       "        -0.05407894, -0.26022402],\n",
       "       [-0.55578752,  0.85729407, -0.22879835, ..., -0.0320127 ,\n",
       "        -0.05407894, -0.26022402],\n",
       "       [ 0.73774193, -1.79344488, -0.22879835, ..., -0.0320127 ,\n",
       "        -0.05407894, -0.26022402]])"
      ]
     },
     "execution_count": 42,
     "metadata": {},
     "output_type": "execute_result"
    }
   ],
   "source": [
    "from sklearn.preprocessing import StandardScaler\n",
    "scaler = StandardScaler()\n",
    "\n",
    "#Fit train data\n",
    "scaler.fit(X_train)\n",
    "\n",
    "#transform both train and test\n",
    "\n",
    "scaler.transform(X_train)\n",
    "scaler.transform(X_test)"
   ]
  },
  {
   "cell_type": "markdown",
   "metadata": {},
   "source": [
    "## Grid Search to Optimise the hyper PArameters\n"
   ]
  },
  {
   "cell_type": "code",
   "execution_count": 43,
   "metadata": {},
   "outputs": [
    {
     "name": "stderr",
     "output_type": "stream",
     "text": [
      "C:\\Users\\Rakshu\\Anaconda3\\lib\\site-packages\\sklearn\\model_selection\\_split.py:667: UserWarning: The least populated class in y has only 1 members, which is less than n_splits=5.\n",
      "  % (min_groups, self.n_splits)), UserWarning)\n",
      "C:\\Users\\Rakshu\\Anaconda3\\lib\\site-packages\\sklearn\\model_selection\\_validation.py:536: FitFailedWarning: Estimator fit failed. The score on this train-test partition for these parameters will be set to nan. Details: \n",
      "ValueError: DataFrame.dtypes for data must be int, float or bool.\n",
      "                Did not expect the data types in fields No_of_Related_Interactions\n",
      "\n",
      "  FitFailedWarning)\n"
     ]
    },
    {
     "ename": "ValueError",
     "evalue": "DataFrame.dtypes for data must be int, float or bool.\n                Did not expect the data types in fields No_of_Related_Interactions",
     "output_type": "error",
     "traceback": [
      "\u001b[1;31m---------------------------------------------------------------------------\u001b[0m",
      "\u001b[1;31mValueError\u001b[0m                                Traceback (most recent call last)",
      "\u001b[1;32m<ipython-input-43-4e6207db96e4>\u001b[0m in \u001b[0;36m<module>\u001b[1;34m\u001b[0m\n\u001b[0;32m      8\u001b[0m \u001b[0mmodel\u001b[0m \u001b[1;33m=\u001b[0m\u001b[0mXGBClassifier\u001b[0m\u001b[1;33m(\u001b[0m\u001b[0mbooster\u001b[0m\u001b[1;33m=\u001b[0m\u001b[1;34m'gbtree'\u001b[0m\u001b[1;33m,\u001b[0m\u001b[0mrandom_state\u001b[0m\u001b[1;33m=\u001b[0m\u001b[1;36m380\u001b[0m\u001b[1;33m)\u001b[0m\u001b[1;33m\u001b[0m\u001b[1;33m\u001b[0m\u001b[0m\n\u001b[0;32m      9\u001b[0m \u001b[0mgrid_model_XGB\u001b[0m \u001b[1;33m=\u001b[0m\u001b[0mGridSearchCV\u001b[0m\u001b[1;33m(\u001b[0m\u001b[0mmodel\u001b[0m\u001b[1;33m,\u001b[0m\u001b[0mparam\u001b[0m\u001b[1;33m)\u001b[0m\u001b[1;33m\u001b[0m\u001b[1;33m\u001b[0m\u001b[0m\n\u001b[1;32m---> 10\u001b[1;33m \u001b[0mgrid_model_XGB\u001b[0m\u001b[1;33m.\u001b[0m\u001b[0mfit\u001b[0m\u001b[1;33m(\u001b[0m\u001b[0mX_train\u001b[0m\u001b[1;33m,\u001b[0m\u001b[0my_train\u001b[0m\u001b[1;33m)\u001b[0m\u001b[1;33m\u001b[0m\u001b[1;33m\u001b[0m\u001b[0m\n\u001b[0m",
      "\u001b[1;32m~\\Anaconda3\\lib\\site-packages\\sklearn\\model_selection\\_search.py\u001b[0m in \u001b[0;36mfit\u001b[1;34m(self, X, y, groups, **fit_params)\u001b[0m\n\u001b[0;32m    737\u001b[0m             \u001b[0mrefit_start_time\u001b[0m \u001b[1;33m=\u001b[0m \u001b[0mtime\u001b[0m\u001b[1;33m.\u001b[0m\u001b[0mtime\u001b[0m\u001b[1;33m(\u001b[0m\u001b[1;33m)\u001b[0m\u001b[1;33m\u001b[0m\u001b[1;33m\u001b[0m\u001b[0m\n\u001b[0;32m    738\u001b[0m             \u001b[1;32mif\u001b[0m \u001b[0my\u001b[0m \u001b[1;32mis\u001b[0m \u001b[1;32mnot\u001b[0m \u001b[1;32mNone\u001b[0m\u001b[1;33m:\u001b[0m\u001b[1;33m\u001b[0m\u001b[1;33m\u001b[0m\u001b[0m\n\u001b[1;32m--> 739\u001b[1;33m                 \u001b[0mself\u001b[0m\u001b[1;33m.\u001b[0m\u001b[0mbest_estimator_\u001b[0m\u001b[1;33m.\u001b[0m\u001b[0mfit\u001b[0m\u001b[1;33m(\u001b[0m\u001b[0mX\u001b[0m\u001b[1;33m,\u001b[0m \u001b[0my\u001b[0m\u001b[1;33m,\u001b[0m \u001b[1;33m**\u001b[0m\u001b[0mfit_params\u001b[0m\u001b[1;33m)\u001b[0m\u001b[1;33m\u001b[0m\u001b[1;33m\u001b[0m\u001b[0m\n\u001b[0m\u001b[0;32m    740\u001b[0m             \u001b[1;32melse\u001b[0m\u001b[1;33m:\u001b[0m\u001b[1;33m\u001b[0m\u001b[1;33m\u001b[0m\u001b[0m\n\u001b[0;32m    741\u001b[0m                 \u001b[0mself\u001b[0m\u001b[1;33m.\u001b[0m\u001b[0mbest_estimator_\u001b[0m\u001b[1;33m.\u001b[0m\u001b[0mfit\u001b[0m\u001b[1;33m(\u001b[0m\u001b[0mX\u001b[0m\u001b[1;33m,\u001b[0m \u001b[1;33m**\u001b[0m\u001b[0mfit_params\u001b[0m\u001b[1;33m)\u001b[0m\u001b[1;33m\u001b[0m\u001b[1;33m\u001b[0m\u001b[0m\n",
      "\u001b[1;32m~\\Anaconda3\\lib\\site-packages\\xgboost\\sklearn.py\u001b[0m in \u001b[0;36mfit\u001b[1;34m(self, X, y, sample_weight, base_margin, eval_set, eval_metric, early_stopping_rounds, verbose, xgb_model, sample_weight_eval_set, callbacks)\u001b[0m\n\u001b[0;32m    813\u001b[0m         train_dmatrix = DMatrix(X, label=training_labels, weight=sample_weight,\n\u001b[0;32m    814\u001b[0m                                 \u001b[0mbase_margin\u001b[0m\u001b[1;33m=\u001b[0m\u001b[0mbase_margin\u001b[0m\u001b[1;33m,\u001b[0m\u001b[1;33m\u001b[0m\u001b[1;33m\u001b[0m\u001b[0m\n\u001b[1;32m--> 815\u001b[1;33m                                 missing=self.missing, nthread=self.n_jobs)\n\u001b[0m\u001b[0;32m    816\u001b[0m \u001b[1;33m\u001b[0m\u001b[0m\n\u001b[0;32m    817\u001b[0m         self._Booster = train(xgb_options, train_dmatrix,\n",
      "\u001b[1;32m~\\Anaconda3\\lib\\site-packages\\xgboost\\core.py\u001b[0m in \u001b[0;36m__init__\u001b[1;34m(self, data, label, weight, base_margin, missing, silent, feature_names, feature_types, nthread)\u001b[0m\n\u001b[0;32m    457\u001b[0m \u001b[1;33m\u001b[0m\u001b[0m\n\u001b[0;32m    458\u001b[0m         data, feature_names, feature_types = _convert_dataframes(\n\u001b[1;32m--> 459\u001b[1;33m             \u001b[0mdata\u001b[0m\u001b[1;33m,\u001b[0m \u001b[0mfeature_names\u001b[0m\u001b[1;33m,\u001b[0m \u001b[0mfeature_types\u001b[0m\u001b[1;33m\u001b[0m\u001b[1;33m\u001b[0m\u001b[0m\n\u001b[0m\u001b[0;32m    460\u001b[0m         )\n\u001b[0;32m    461\u001b[0m \u001b[1;33m\u001b[0m\u001b[0m\n",
      "\u001b[1;32m~\\Anaconda3\\lib\\site-packages\\xgboost\\core.py\u001b[0m in \u001b[0;36m_convert_dataframes\u001b[1;34m(data, feature_names, feature_types, meta, meta_type)\u001b[0m\n\u001b[0;32m    360\u001b[0m                                                             \u001b[0mfeature_types\u001b[0m\u001b[1;33m,\u001b[0m\u001b[1;33m\u001b[0m\u001b[1;33m\u001b[0m\u001b[0m\n\u001b[0;32m    361\u001b[0m                                                             \u001b[0mmeta\u001b[0m\u001b[1;33m,\u001b[0m\u001b[1;33m\u001b[0m\u001b[1;33m\u001b[0m\u001b[0m\n\u001b[1;32m--> 362\u001b[1;33m                                                             meta_type)\n\u001b[0m\u001b[0;32m    363\u001b[0m \u001b[1;33m\u001b[0m\u001b[0m\n\u001b[0;32m    364\u001b[0m     data, feature_names, feature_types = _maybe_dt_data(data,\n",
      "\u001b[1;32m~\\Anaconda3\\lib\\site-packages\\xgboost\\core.py\u001b[0m in \u001b[0;36m_maybe_pandas_data\u001b[1;34m(data, feature_names, feature_types, meta, meta_type)\u001b[0m\n\u001b[0;32m    260\u001b[0m         msg = \"\"\"DataFrame.dtypes for data must be int, float or bool.\n\u001b[0;32m    261\u001b[0m                 Did not expect the data types in fields \"\"\"\n\u001b[1;32m--> 262\u001b[1;33m         \u001b[1;32mraise\u001b[0m \u001b[0mValueError\u001b[0m\u001b[1;33m(\u001b[0m\u001b[0mmsg\u001b[0m \u001b[1;33m+\u001b[0m \u001b[1;34m', '\u001b[0m\u001b[1;33m.\u001b[0m\u001b[0mjoin\u001b[0m\u001b[1;33m(\u001b[0m\u001b[0mbad_fields\u001b[0m\u001b[1;33m)\u001b[0m\u001b[1;33m)\u001b[0m\u001b[1;33m\u001b[0m\u001b[1;33m\u001b[0m\u001b[0m\n\u001b[0m\u001b[0;32m    263\u001b[0m \u001b[1;33m\u001b[0m\u001b[0m\n\u001b[0;32m    264\u001b[0m     \u001b[1;32mif\u001b[0m \u001b[0mfeature_names\u001b[0m \u001b[1;32mis\u001b[0m \u001b[1;32mNone\u001b[0m \u001b[1;32mand\u001b[0m \u001b[0mmeta\u001b[0m \u001b[1;32mis\u001b[0m \u001b[1;32mNone\u001b[0m\u001b[1;33m:\u001b[0m\u001b[1;33m\u001b[0m\u001b[1;33m\u001b[0m\u001b[0m\n",
      "\u001b[1;31mValueError\u001b[0m: DataFrame.dtypes for data must be int, float or bool.\n                Did not expect the data types in fields No_of_Related_Interactions"
     ]
    }
   ],
   "source": [
    "param = {\"learning_rate\" : [0.05,0.1,0.15],\n",
    "         'max_depth':[3,5,8,10,15,20],\n",
    "         'min_child_weight':[3,5,7],\n",
    "         'gamma':[0.0,0.1],\n",
    "         'colsample_bytree':[0.1,0.7,0.8],\n",
    "         'scoring':[\"recall\"]\n",
    "         }\n",
    "model =XGBClassifier(booster='gbtree',random_state=380)\n",
    "grid_model_XGB =GridSearchCV(model,param)\n",
    "grid_model_XGB.fit(X_train,y_train)"
   ]
  },
  {
   "cell_type": "markdown",
   "metadata": {},
   "source": [
    "## Modelling with RANDOM FOREST"
   ]
  },
  {
   "cell_type": "code",
   "execution_count": null,
   "metadata": {},
   "outputs": [],
   "source": [
    "from sklearn.ensemble import RandomForestClassifier\n",
    "from sklearn.metrics import confusion_matrix,accuracy_score\n",
    "\n",
    "model_rf = RandomForestClassifier(max_depth= 15, n_estimators= 1000)\n",
    "model_rf.fit(X_train,y_train)\n",
    "Y_predict= model_rf.predict(X_test)\n",
    "\n",
    "accuracy_score(y_test,Y_predict)"
   ]
  },
  {
   "cell_type": "markdown",
   "metadata": {},
   "source": [
    "## Combaining P1 /P2 and P3/P4/P5 as 1/0"
   ]
  },
  {
   "cell_type": "code",
   "execution_count": null,
   "metadata": {},
   "outputs": [],
   "source": [
    "df.loc[((df.Priority=='1') | (df.Priority=='2')),'Priority'] = 1\n",
    "df.loc[((df.Priority=='3') | (df.Priority=='4')| (df.Priority=='5')),'Priority'] = 0\n",
    "\n",
    "print(Counter(df.Priority))"
   ]
  },
  {
   "cell_type": "markdown",
   "metadata": {},
   "source": [
    "## Balancing Imbalance Data Set\n",
    "#### Since their exists imbalance in dataset(i.e Priority : 0: 35412, 1: 434)"
   ]
  },
  {
   "cell_type": "code",
   "execution_count": null,
   "metadata": {},
   "outputs": [],
   "source": [
    "from imblearn.over_sampling import SMOTE\n",
    "smote =SMOTE(k_neighbors=2)\n",
    "\n",
    "X_train_sm,y_train_sm =smote.fit_sample(X_train,y_train)\n",
    "\n",
    "#print(Counter(y_train_sm))\n",
    "#print(X_train_sm)\n",
    "type(X_train_sm)"
   ]
  },
  {
   "cell_type": "code",
   "execution_count": 6,
   "metadata": {},
   "outputs": [
    {
     "ename": "NameError",
     "evalue": "name 'pd' is not defined",
     "output_type": "error",
     "traceback": [
      "\u001b[1;31m---------------------------------------------------------------------------\u001b[0m",
      "\u001b[1;31mNameError\u001b[0m                                 Traceback (most recent call last)",
      "\u001b[1;32m<ipython-input-6-57c76496a25b>\u001b[0m in \u001b[0;36m<module>\u001b[1;34m\u001b[0m\n\u001b[0;32m      1\u001b[0m \u001b[1;31m#Convert SMote into DataFrame\u001b[0m\u001b[1;33m\u001b[0m\u001b[1;33m\u001b[0m\u001b[1;33m\u001b[0m\u001b[0m\n\u001b[1;32m----> 2\u001b[1;33m X_train_sm =pd.DataFrame(X_train_sm,columns=['CI_Cat', 'Closure_Code', 't_ReOpenFlag', 'No_of_Reassignments',\n\u001b[0m\u001b[0;32m      3\u001b[0m        \u001b[1;34m'No_of_Related_Incidents'\u001b[0m\u001b[1;33m,\u001b[0m \u001b[1;34m'No_of_Related_Interactions'\u001b[0m\u001b[1;33m,\u001b[0m\u001b[1;33m\u001b[0m\u001b[1;33m\u001b[0m\u001b[0m\n\u001b[0;32m      4\u001b[0m        'Handled_Time_days'])\n\u001b[0;32m      5\u001b[0m \u001b[0my_train_sm\u001b[0m\u001b[1;33m=\u001b[0m\u001b[0mpd\u001b[0m\u001b[1;33m.\u001b[0m\u001b[0mDataFrame\u001b[0m\u001b[1;33m(\u001b[0m\u001b[0my_train_sm\u001b[0m\u001b[1;33m,\u001b[0m\u001b[0mcolumns\u001b[0m\u001b[1;33m=\u001b[0m\u001b[1;33m[\u001b[0m\u001b[1;34m'Priority'\u001b[0m\u001b[1;33m]\u001b[0m\u001b[1;33m)\u001b[0m\u001b[1;33m\u001b[0m\u001b[1;33m\u001b[0m\u001b[0m\n",
      "\u001b[1;31mNameError\u001b[0m: name 'pd' is not defined"
     ]
    }
   ],
   "source": [
    "#Convert SMote into DataFrame\n",
    "X_train_sm =pd.DataFrame(X_train_sm,columns=['CI_Cat', 'Closure_Code', 't_ReOpenFlag', 'No_of_Reassignments',\n",
    "       'No_of_Related_Incidents', 'No_of_Related_Interactions',\n",
    "       'Handled_Time_days'])\n",
    "y_train_sm=pd.DataFrame(y_train_sm,columns=['Priority'])"
   ]
  },
  {
   "cell_type": "code",
   "execution_count": null,
   "metadata": {},
   "outputs": [],
   "source": [
    "print(X_train_sm.shape)\n",
    "print(y_train_sm.shape)\n",
    "print(X_train_sm.columns)\n",
    "print(y_train_sm.columns)"
   ]
  },
  {
   "cell_type": "code",
   "execution_count": null,
   "metadata": {},
   "outputs": [],
   "source": [
    "import warnings\n",
    "warnings.filterwarnings('ignore')\n",
    "                        \n",
    "scaler = StandardScaler()\n",
    "\n",
    "scaler.fit(X_train_sm)\n",
    "\n",
    "X_train_sm =scaler.transform(X_train_sm)\n",
    "X_train =scaler.transform(X_train)\n",
    "X_test=scaler.transform(X_test)\n"
   ]
  },
  {
   "cell_type": "code",
   "execution_count": null,
   "metadata": {},
   "outputs": [],
   "source": [
    "print(X_train_sm.shape)\n",
    "print(X_train.shape)\n",
    "print(X_test.shape)"
   ]
  },
  {
   "cell_type": "code",
   "execution_count": null,
   "metadata": {},
   "outputs": [],
   "source": [
    "print(X_train_sm.columns)\n",
    "X_train.columns"
   ]
  },
  {
   "cell_type": "markdown",
   "metadata": {},
   "source": [
    "### XGB with Smotted Data"
   ]
  },
  {
   "cell_type": "code",
   "execution_count": 5,
   "metadata": {},
   "outputs": [
    {
     "ename": "NameError",
     "evalue": "name 'X_train_sm' is not defined",
     "output_type": "error",
     "traceback": [
      "\u001b[1;31m---------------------------------------------------------------------------\u001b[0m",
      "\u001b[1;31mNameError\u001b[0m                                 Traceback (most recent call last)",
      "\u001b[1;32m<ipython-input-5-4810c0577dab>\u001b[0m in \u001b[0;36m<module>\u001b[1;34m\u001b[0m\n\u001b[0;32m      1\u001b[0m \u001b[0mgrid_model_XGB\u001b[0m \u001b[1;33m=\u001b[0m \u001b[0mXGBClassifier\u001b[0m\u001b[1;33m(\u001b[0m\u001b[0mbooster\u001b[0m\u001b[1;33m=\u001b[0m\u001b[1;34m'gbtree'\u001b[0m\u001b[1;33m,\u001b[0m\u001b[0mrandom_state\u001b[0m\u001b[1;33m=\u001b[0m\u001b[1;36m25\u001b[0m\u001b[1;33m,\u001b[0m\u001b[0mscoring\u001b[0m\u001b[1;33m=\u001b[0m\u001b[1;34m'recall'\u001b[0m\u001b[1;33m)\u001b[0m\u001b[1;33m\u001b[0m\u001b[1;33m\u001b[0m\u001b[0m\n\u001b[1;32m----> 2\u001b[1;33m \u001b[0mgrid_model_XGB\u001b[0m\u001b[1;33m.\u001b[0m\u001b[0mfit\u001b[0m\u001b[1;33m(\u001b[0m\u001b[0mX_train_sm\u001b[0m\u001b[1;33m,\u001b[0m\u001b[0my_train_sm\u001b[0m\u001b[1;33m)\u001b[0m\u001b[1;33m\u001b[0m\u001b[1;33m\u001b[0m\u001b[0m\n\u001b[0m\u001b[0;32m      3\u001b[0m \u001b[0my_predict\u001b[0m \u001b[1;33m=\u001b[0m \u001b[0mpd\u001b[0m\u001b[1;33m.\u001b[0m\u001b[0mDataFrame\u001b[0m\u001b[1;33m(\u001b[0m\u001b[0mgrid_model_XGB\u001b[0m\u001b[1;33m.\u001b[0m\u001b[0mpredict\u001b[0m\u001b[1;33m(\u001b[0m\u001b[0mX_test\u001b[0m\u001b[1;33m)\u001b[0m\u001b[1;33m,\u001b[0m\u001b[0mcolumns\u001b[0m\u001b[1;33m=\u001b[0m\u001b[1;33m[\u001b[0m\u001b[1;34m'Priority'\u001b[0m\u001b[1;33m]\u001b[0m\u001b[1;33m)\u001b[0m\u001b[1;33m\u001b[0m\u001b[1;33m\u001b[0m\u001b[0m\n\u001b[0;32m      4\u001b[0m \u001b[1;33m\u001b[0m\u001b[0m\n\u001b[0;32m      5\u001b[0m \u001b[0mprint\u001b[0m\u001b[1;33m(\u001b[0m\u001b[0maccuracy_score\u001b[0m\u001b[1;33m(\u001b[0m\u001b[0my_test\u001b[0m\u001b[1;33m,\u001b[0m\u001b[0my_predict\u001b[0m\u001b[1;33m)\u001b[0m\u001b[1;33m.\u001b[0m\u001b[0mround\u001b[0m\u001b[1;33m(\u001b[0m\u001b[1;36m4\u001b[0m\u001b[1;33m)\u001b[0m\u001b[1;33m*\u001b[0m\u001b[1;36m100\u001b[0m\u001b[1;33m)\u001b[0m\u001b[1;33m\u001b[0m\u001b[1;33m\u001b[0m\u001b[0m\n",
      "\u001b[1;31mNameError\u001b[0m: name 'X_train_sm' is not defined"
     ]
    }
   ],
   "source": [
    "grid_model_XGB = XGBClassifier(booster='gbtree',random_state=25,scoring='recall')\n",
    "grid_model_XGB.fit(X_train_sm,y_train_sm)\n",
    "y_predict = pd.DataFrame(grid_model_XGB.predict(X_test),columns=['Priority'])\n",
    "\n",
    "print(accuracy_score(y_test,y_predict).round(4)*100)"
   ]
  },
  {
   "cell_type": "code",
   "execution_count": 79,
   "metadata": {},
   "outputs": [
    {
     "name": "stdout",
     "output_type": "stream",
     "text": [
      "54.81\n",
      "              precision    recall  f1-score   support\n",
      "\n",
      "           2       0.07      0.47      0.12        92\n",
      "           3       0.35      0.41      0.37      1020\n",
      "           4       0.69      0.55      0.62      4484\n",
      "           5       0.56      0.59      0.57      3333\n",
      "\n",
      "    accuracy                           0.55      8929\n",
      "   macro avg       0.42      0.50      0.42      8929\n",
      "weighted avg       0.60      0.55      0.57      8929\n",
      "\n"
     ]
    }
   ],
   "source": [
    "from sklearn.metrics import accuracy_score,recall_score,classification_report\n",
    "\n",
    "print(accuracy_score(y_test,y_predict).round(4)*100)\n",
    "#print(recall_score(y_test,y_predict).round(4)*100)\n",
    "print(classification_report(y_test,y_predict))"
   ]
  },
  {
   "cell_type": "markdown",
   "metadata": {},
   "source": [
    "### XGB without SMotted Data"
   ]
  },
  {
   "cell_type": "code",
   "execution_count": 80,
   "metadata": {},
   "outputs": [
    {
     "name": "stdout",
     "output_type": "stream",
     "text": [
      "61.519999999999996\n",
      "              precision    recall  f1-score   support\n",
      "\n",
      "           2       0.36      0.09      0.14        92\n",
      "           3       0.61      0.17      0.26      1020\n",
      "           4       0.61      0.81      0.70      4484\n",
      "           5       0.62      0.51      0.56      3333\n",
      "\n",
      "    accuracy                           0.62      8929\n",
      "   macro avg       0.55      0.39      0.42      8929\n",
      "weighted avg       0.61      0.62      0.59      8929\n",
      "\n"
     ]
    }
   ],
   "source": [
    "grid_model_XGB = XGBClassifier(booster='gbtree',randomm_state=25,scoring='recall')\n",
    "grid_model_XGB.fit(X_train,y_train)\n",
    "y_predict =pd.DataFrame(grid_model_XGB.predict(X_test),columns=['Priority'])\n",
    "\n",
    "print(accuracy_score(y_test,y_predict).round(4)*100)\n",
    "#print(recall_score(y_test,y_predict).round(4)*100)\n",
    "print(classification_report(y_test,y_predict))"
   ]
  },
  {
   "cell_type": "code",
   "execution_count": null,
   "metadata": {},
   "outputs": [],
   "source": []
  }
 ],
 "metadata": {
  "kernelspec": {
   "display_name": "Python 3",
   "language": "python",
   "name": "python3"
  },
  "language_info": {
   "codemirror_mode": {
    "name": "ipython",
    "version": 3
   },
   "file_extension": ".py",
   "mimetype": "text/x-python",
   "name": "python",
   "nbconvert_exporter": "python",
   "pygments_lexer": "ipython3",
   "version": "3.7.4"
  }
 },
 "nbformat": 4,
 "nbformat_minor": 2
}
