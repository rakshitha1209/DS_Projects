{
 "cells": [
  {
   "cell_type": "code",
   "execution_count": 1,
   "metadata": {},
   "outputs": [],
   "source": [
    "import numpy as np\n",
    "import pandas as pd\n",
    "import matplotlib.pyplot as plt\n",
    "from matplotlib import rcParams\n",
    "import pickle\n",
    "import seaborn as sns\n",
    "from sklearn.ensemble import RandomForestClassifier\n",
    "from xgboost import XGBClassifier\n",
    "from sklearn.metrics import accuracy_score , classification_report ,confusion_matrix ,precision_recall_curve ,auc\n"
   ]
  },
  {
   "cell_type": "code",
   "execution_count": 3,
   "metadata": {},
   "outputs": [
    {
     "name": "stdout",
     "output_type": "stream",
     "text": [
      "(1200, 11)\n"
     ]
    },
    {
     "data": {
      "text/html": [
       "<div>\n",
       "<style scoped>\n",
       "    .dataframe tbody tr th:only-of-type {\n",
       "        vertical-align: middle;\n",
       "    }\n",
       "\n",
       "    .dataframe tbody tr th {\n",
       "        vertical-align: top;\n",
       "    }\n",
       "\n",
       "    .dataframe thead th {\n",
       "        text-align: right;\n",
       "    }\n",
       "</style>\n",
       "<table border=\"1\" class=\"dataframe\">\n",
       "  <thead>\n",
       "    <tr style=\"text-align: right;\">\n",
       "      <th></th>\n",
       "      <th>EmpLastSalaryHikePercent</th>\n",
       "      <th>YearsSinceLastPromotion</th>\n",
       "      <th>EmpEnvironmentSatisfaction</th>\n",
       "      <th>EmpDepartment</th>\n",
       "      <th>DistanceFromHome</th>\n",
       "      <th>OverTime</th>\n",
       "      <th>EmpHourlyRate</th>\n",
       "      <th>EmpWorkLifeBalance</th>\n",
       "      <th>TrainingTimesLastYear</th>\n",
       "      <th>NumCompaniesWorked</th>\n",
       "      <th>PerformanceRating</th>\n",
       "    </tr>\n",
       "  </thead>\n",
       "  <tbody>\n",
       "    <tr>\n",
       "      <th>0</th>\n",
       "      <td>12</td>\n",
       "      <td>0</td>\n",
       "      <td>4</td>\n",
       "      <td>5</td>\n",
       "      <td>10</td>\n",
       "      <td>0</td>\n",
       "      <td>55</td>\n",
       "      <td>2</td>\n",
       "      <td>2</td>\n",
       "      <td>1</td>\n",
       "      <td>1</td>\n",
       "    </tr>\n",
       "    <tr>\n",
       "      <th>1</th>\n",
       "      <td>12</td>\n",
       "      <td>1</td>\n",
       "      <td>4</td>\n",
       "      <td>5</td>\n",
       "      <td>14</td>\n",
       "      <td>0</td>\n",
       "      <td>42</td>\n",
       "      <td>3</td>\n",
       "      <td>2</td>\n",
       "      <td>2</td>\n",
       "      <td>1</td>\n",
       "    </tr>\n",
       "  </tbody>\n",
       "</table>\n",
       "</div>"
      ],
      "text/plain": [
       "   EmpLastSalaryHikePercent  YearsSinceLastPromotion  \\\n",
       "0                        12                        0   \n",
       "1                        12                        1   \n",
       "\n",
       "   EmpEnvironmentSatisfaction  EmpDepartment  DistanceFromHome  OverTime  \\\n",
       "0                           4              5                10         0   \n",
       "1                           4              5                14         0   \n",
       "\n",
       "   EmpHourlyRate  EmpWorkLifeBalance  TrainingTimesLastYear  \\\n",
       "0             55                   2                      2   \n",
       "1             42                   3                      2   \n",
       "\n",
       "   NumCompaniesWorked  PerformanceRating  \n",
       "0                   1                  1  \n",
       "1                   2                  1  "
      ]
     },
     "execution_count": 3,
     "metadata": {},
     "output_type": "execute_result"
    }
   ],
   "source": [
    "df = pd.read_csv(r\"D:\\AnacondaProjects\\EmployeePerformance\\data\\processed\\train_encoded.csv\")\n",
    "\n",
    "print(df.shape)\n",
    "df.head(2)"
   ]
  },
  {
   "cell_type": "markdown",
   "metadata": {},
   "source": [
    "### Define predictor(X) and target(y) variables"
   ]
  },
  {
   "cell_type": "code",
   "execution_count": 4,
   "metadata": {},
   "outputs": [],
   "source": [
    "X_test= df.loc[:,df.columns != 'PerformanceRating']\n",
    "y_test= df['PerformanceRating']"
   ]
  },
  {
   "cell_type": "markdown",
   "metadata": {},
   "source": [
    "## Importing Trained XGBModel(SelectKBest) and predicting the Performance of Employee"
   ]
  },
  {
   "cell_type": "code",
   "execution_count": 8,
   "metadata": {},
   "outputs": [
    {
     "name": "stdout",
     "output_type": "stream",
     "text": [
      "Accuracy of XGB_Model with SelectKBest featues : 99.17 %\n",
      "------------------------------------------------------------\n",
      "              precision    recall  f1-score   support\n",
      "\n",
      "           0       0.97      0.98      0.98       194\n",
      "           1       1.00      0.99      0.99       874\n",
      "           2       0.99      0.99      0.99       132\n",
      "\n",
      "    accuracy                           0.99      1200\n",
      "   macro avg       0.99      0.99      0.99      1200\n",
      "weighted avg       0.99      0.99      0.99      1200\n",
      "\n",
      "------------------------------------------------------------\n",
      "COnfusion Matrix \n",
      " col_0                0    1    2\n",
      "PerformanceRating               \n",
      "0                  191    3    0\n",
      "1                    5  868    1\n",
      "2                    0    1  131\n"
     ]
    }
   ],
   "source": [
    "filename = 'D:\\AnacondaProjects\\EmployeePerformance\\src\\models\\model_XGB_SKB.sav'\n",
    "XGB_Model = pickle.load(open(filename, 'rb'))\n",
    "result = XGB_Model.score(X_test, y_test)\n",
    "y_predict = XGB_Model.predict(X_test)\n",
    "print(\"Accuracy of XGB_Model with SelectKBest featues : {} {}\".format(accuracy_score(y_test,y_predict).round(4)*100 , \"%\"))\n",
    "print(\"-\"*60)\n",
    "print(classification_report(y_test,y_predict))\n",
    "print(\"-\"*60)\n",
    "print(\"COnfusion Matrix \\n\" ,pd.crosstab(y_test,y_predict))"
   ]
  },
  {
   "cell_type": "markdown",
   "metadata": {},
   "source": [
    "## Importing Trained RandomForest and predicting the Performance of Employee"
   ]
  },
  {
   "cell_type": "code",
   "execution_count": 9,
   "metadata": {},
   "outputs": [
    {
     "name": "stdout",
     "output_type": "stream",
     "text": [
      "Acuuracy of Random Forest with SelectKBest featues : 98.83 %\n",
      "------------------------------------------------------------\n",
      "              precision    recall  f1-score   support\n",
      "\n",
      "           0       0.96      0.99      0.97       194\n",
      "           1       1.00      0.99      0.99       874\n",
      "           2       0.98      0.99      0.99       132\n",
      "\n",
      "    accuracy                           0.99      1200\n",
      "   macro avg       0.98      0.99      0.98      1200\n",
      "weighted avg       0.99      0.99      0.99      1200\n",
      "\n",
      "------------------------------------------------------------\n",
      "COnfusion Matrix \n",
      " col_0                0    1    2\n",
      "PerformanceRating               \n",
      "0                  192    2    0\n",
      "1                    9  863    2\n",
      "2                    0    1  131\n"
     ]
    }
   ],
   "source": [
    "filename = 'D:\\AnacondaProjects\\EmployeePerformance\\src\\models\\model_rf.sav'\n",
    "model_rf = pickle.load(open(filename, 'rb'))\n",
    "result = model_rf.score(X_test, y_test)\n",
    "y_predict2 = model_rf.predict(X_test)\n",
    "\n",
    "print(\"Acuuracy of Random Forest with SelectKBest featues : {} {}\".format(accuracy_score(y_test,y_predict2).round(4)*100 , \"%\"))\n",
    "print(\"-\"*60)\n",
    "print(classification_report(y_test,y_predict2))\n",
    "print(\"-\"*60)\n",
    "print(\"COnfusion Matrix \\n\" ,pd.crosstab(y_test,y_predict2))\n"
   ]
  },
  {
   "cell_type": "markdown",
   "metadata": {},
   "source": [
    "## Evaluate XGB model performance"
   ]
  },
  {
   "cell_type": "code",
   "execution_count": 10,
   "metadata": {},
   "outputs": [
    {
     "data": {
      "text/plain": [
       "(1200, 3)"
      ]
     },
     "execution_count": 10,
     "metadata": {},
     "output_type": "execute_result"
    }
   ],
   "source": [
    "#Define Result lists\n",
    "y_test = pd.DataFrame(y_test)\n",
    "y_predict = pd.DataFrame(y_predict ,columns =['y_Predict_Status'])\n",
    "Proba =XGB_Model.predict_proba(X_test)\n",
    "Proba.shape"
   ]
  },
  {
   "cell_type": "code",
   "execution_count": 11,
   "metadata": {},
   "outputs": [
    {
     "data": {
      "text/html": [
       "<div>\n",
       "<style scoped>\n",
       "    .dataframe tbody tr th:only-of-type {\n",
       "        vertical-align: middle;\n",
       "    }\n",
       "\n",
       "    .dataframe tbody tr th {\n",
       "        vertical-align: top;\n",
       "    }\n",
       "\n",
       "    .dataframe thead th {\n",
       "        text-align: right;\n",
       "    }\n",
       "</style>\n",
       "<table border=\"1\" class=\"dataframe\">\n",
       "  <thead>\n",
       "    <tr style=\"text-align: right;\">\n",
       "      <th></th>\n",
       "      <th>0</th>\n",
       "      <th>1</th>\n",
       "      <th>2</th>\n",
       "    </tr>\n",
       "  </thead>\n",
       "  <tbody>\n",
       "    <tr>\n",
       "      <th>0</th>\n",
       "      <td>0.000007</td>\n",
       "      <td>0.999981</td>\n",
       "      <td>0.000013</td>\n",
       "    </tr>\n",
       "    <tr>\n",
       "      <th>1</th>\n",
       "      <td>0.000009</td>\n",
       "      <td>0.999987</td>\n",
       "      <td>0.000004</td>\n",
       "    </tr>\n",
       "    <tr>\n",
       "      <th>2</th>\n",
       "      <td>0.000002</td>\n",
       "      <td>0.000284</td>\n",
       "      <td>0.999714</td>\n",
       "    </tr>\n",
       "    <tr>\n",
       "      <th>3</th>\n",
       "      <td>0.028635</td>\n",
       "      <td>0.971197</td>\n",
       "      <td>0.000168</td>\n",
       "    </tr>\n",
       "    <tr>\n",
       "      <th>4</th>\n",
       "      <td>0.020254</td>\n",
       "      <td>0.979740</td>\n",
       "      <td>0.000006</td>\n",
       "    </tr>\n",
       "  </tbody>\n",
       "</table>\n",
       "</div>"
      ],
      "text/plain": [
       "          0         1         2\n",
       "0  0.000007  0.999981  0.000013\n",
       "1  0.000009  0.999987  0.000004\n",
       "2  0.000002  0.000284  0.999714\n",
       "3  0.028635  0.971197  0.000168\n",
       "4  0.020254  0.979740  0.000006"
      ]
     },
     "execution_count": 11,
     "metadata": {},
     "output_type": "execute_result"
    }
   ],
   "source": [
    "Proba =pd.DataFrame(Proba)\n",
    "Proba.head()"
   ]
  },
  {
   "cell_type": "code",
   "execution_count": 12,
   "metadata": {},
   "outputs": [
    {
     "data": {
      "text/html": [
       "<div>\n",
       "<style scoped>\n",
       "    .dataframe tbody tr th:only-of-type {\n",
       "        vertical-align: middle;\n",
       "    }\n",
       "\n",
       "    .dataframe tbody tr th {\n",
       "        vertical-align: top;\n",
       "    }\n",
       "\n",
       "    .dataframe thead th {\n",
       "        text-align: right;\n",
       "    }\n",
       "</style>\n",
       "<table border=\"1\" class=\"dataframe\">\n",
       "  <thead>\n",
       "    <tr style=\"text-align: right;\">\n",
       "      <th></th>\n",
       "      <th>y_test</th>\n",
       "      <th>y_predict</th>\n",
       "      <th>Proba_0</th>\n",
       "      <th>Proba_1</th>\n",
       "      <th>Proba_2</th>\n",
       "    </tr>\n",
       "  </thead>\n",
       "  <tbody>\n",
       "    <tr>\n",
       "      <th>0</th>\n",
       "      <td>1.0</td>\n",
       "      <td>1.0</td>\n",
       "      <td>0.000007</td>\n",
       "      <td>0.999981</td>\n",
       "      <td>0.000013</td>\n",
       "    </tr>\n",
       "    <tr>\n",
       "      <th>1</th>\n",
       "      <td>1.0</td>\n",
       "      <td>1.0</td>\n",
       "      <td>0.000009</td>\n",
       "      <td>0.999987</td>\n",
       "      <td>0.000004</td>\n",
       "    </tr>\n",
       "    <tr>\n",
       "      <th>2</th>\n",
       "      <td>2.0</td>\n",
       "      <td>2.0</td>\n",
       "      <td>0.000002</td>\n",
       "      <td>0.000284</td>\n",
       "      <td>0.999714</td>\n",
       "    </tr>\n",
       "    <tr>\n",
       "      <th>3</th>\n",
       "      <td>1.0</td>\n",
       "      <td>1.0</td>\n",
       "      <td>0.028635</td>\n",
       "      <td>0.971197</td>\n",
       "      <td>0.000168</td>\n",
       "    </tr>\n",
       "    <tr>\n",
       "      <th>4</th>\n",
       "      <td>1.0</td>\n",
       "      <td>1.0</td>\n",
       "      <td>0.020254</td>\n",
       "      <td>0.979740</td>\n",
       "      <td>0.000006</td>\n",
       "    </tr>\n",
       "  </tbody>\n",
       "</table>\n",
       "</div>"
      ],
      "text/plain": [
       "   y_test  y_predict   Proba_0   Proba_1   Proba_2\n",
       "0     1.0        1.0  0.000007  0.999981  0.000013\n",
       "1     1.0        1.0  0.000009  0.999987  0.000004\n",
       "2     2.0        2.0  0.000002  0.000284  0.999714\n",
       "3     1.0        1.0  0.028635  0.971197  0.000168\n",
       "4     1.0        1.0  0.020254  0.979740  0.000006"
      ]
     },
     "execution_count": 12,
     "metadata": {},
     "output_type": "execute_result"
    }
   ],
   "source": [
    "ConsolidatedData1 = np.concatenate([np.array(y_test),np.array(y_predict),np.array(Proba)],axis=1)\n",
    "ConsolidatedData1 = pd.DataFrame(ConsolidatedData1,columns=['y_test','y_predict','Proba_0','Proba_1','Proba_2'])\n",
    "ConsolidatedData1 = pd.DataFrame(ConsolidatedData1)\n",
    "ConsolidatedData1.head()"
   ]
  },
  {
   "cell_type": "code",
   "execution_count": 13,
   "metadata": {},
   "outputs": [
    {
     "name": "stdout",
     "output_type": "stream",
     "text": [
      "y_predict  0.0  1.0  2.0\n",
      "y_test                  \n",
      "0.0        191    3    0\n",
      "1.0          5  868    1\n",
      "2.0          0    1  131\n",
      "              precision    recall  f1-score   support\n",
      "\n",
      "         0.0       0.97      0.98      0.98       194\n",
      "         1.0       1.00      0.99      0.99       874\n",
      "         2.0       0.99      0.99      0.99       132\n",
      "\n",
      "    accuracy                           0.99      1200\n",
      "   macro avg       0.99      0.99      0.99      1200\n",
      "weighted avg       0.99      0.99      0.99      1200\n",
      "\n"
     ]
    },
    {
     "data": {
      "text/plain": [
       "y_test       1200\n",
       "y_predict    1200\n",
       "Proba_0      1200\n",
       "Proba_1      1200\n",
       "Proba_2      1200\n",
       "dtype: int64"
      ]
     },
     "execution_count": 13,
     "metadata": {},
     "output_type": "execute_result"
    }
   ],
   "source": [
    "print(pd.crosstab(ConsolidatedData1.y_test,ConsolidatedData1.y_predict))\n",
    "print(classification_report(ConsolidatedData1.y_test,ConsolidatedData1.y_predict))\n",
    "ConsolidatedData1.count()"
   ]
  },
  {
   "cell_type": "code",
   "execution_count": 14,
   "metadata": {},
   "outputs": [
    {
     "data": {
      "text/html": [
       "<div>\n",
       "<style scoped>\n",
       "    .dataframe tbody tr th:only-of-type {\n",
       "        vertical-align: middle;\n",
       "    }\n",
       "\n",
       "    .dataframe tbody tr th {\n",
       "        vertical-align: top;\n",
       "    }\n",
       "\n",
       "    .dataframe thead th {\n",
       "        text-align: right;\n",
       "    }\n",
       "</style>\n",
       "<table border=\"1\" class=\"dataframe\">\n",
       "  <thead>\n",
       "    <tr style=\"text-align: right;\">\n",
       "      <th></th>\n",
       "      <th>Threshold</th>\n",
       "      <th>Accuracy</th>\n",
       "      <th>Recall</th>\n",
       "      <th>Precision</th>\n",
       "    </tr>\n",
       "  </thead>\n",
       "  <tbody>\n",
       "    <tr>\n",
       "      <th>0</th>\n",
       "      <td>0.05</td>\n",
       "      <td>98.970037</td>\n",
       "      <td>99.542334</td>\n",
       "      <td>99.201824</td>\n",
       "    </tr>\n",
       "    <tr>\n",
       "      <th>1</th>\n",
       "      <td>0.06</td>\n",
       "      <td>98.970037</td>\n",
       "      <td>99.542334</td>\n",
       "      <td>99.201824</td>\n",
       "    </tr>\n",
       "    <tr>\n",
       "      <th>2</th>\n",
       "      <td>0.07</td>\n",
       "      <td>98.970037</td>\n",
       "      <td>99.542334</td>\n",
       "      <td>99.201824</td>\n",
       "    </tr>\n",
       "    <tr>\n",
       "      <th>3</th>\n",
       "      <td>0.08</td>\n",
       "      <td>98.970037</td>\n",
       "      <td>99.542334</td>\n",
       "      <td>99.201824</td>\n",
       "    </tr>\n",
       "    <tr>\n",
       "      <th>4</th>\n",
       "      <td>0.09</td>\n",
       "      <td>98.970037</td>\n",
       "      <td>99.542334</td>\n",
       "      <td>99.201824</td>\n",
       "    </tr>\n",
       "    <tr>\n",
       "      <th>...</th>\n",
       "      <td>...</td>\n",
       "      <td>...</td>\n",
       "      <td>...</td>\n",
       "      <td>...</td>\n",
       "    </tr>\n",
       "    <tr>\n",
       "      <th>85</th>\n",
       "      <td>0.90</td>\n",
       "      <td>98.782772</td>\n",
       "      <td>98.741419</td>\n",
       "      <td>99.768786</td>\n",
       "    </tr>\n",
       "    <tr>\n",
       "      <th>86</th>\n",
       "      <td>0.91</td>\n",
       "      <td>98.782772</td>\n",
       "      <td>98.741419</td>\n",
       "      <td>99.768786</td>\n",
       "    </tr>\n",
       "    <tr>\n",
       "      <th>87</th>\n",
       "      <td>0.92</td>\n",
       "      <td>98.782772</td>\n",
       "      <td>98.741419</td>\n",
       "      <td>99.768786</td>\n",
       "    </tr>\n",
       "    <tr>\n",
       "      <th>88</th>\n",
       "      <td>0.93</td>\n",
       "      <td>98.782772</td>\n",
       "      <td>98.741419</td>\n",
       "      <td>99.768786</td>\n",
       "    </tr>\n",
       "    <tr>\n",
       "      <th>89</th>\n",
       "      <td>0.94</td>\n",
       "      <td>98.782772</td>\n",
       "      <td>98.741419</td>\n",
       "      <td>99.768786</td>\n",
       "    </tr>\n",
       "  </tbody>\n",
       "</table>\n",
       "<p>90 rows × 4 columns</p>\n",
       "</div>"
      ],
      "text/plain": [
       "    Threshold   Accuracy     Recall  Precision\n",
       "0        0.05  98.970037  99.542334  99.201824\n",
       "1        0.06  98.970037  99.542334  99.201824\n",
       "2        0.07  98.970037  99.542334  99.201824\n",
       "3        0.08  98.970037  99.542334  99.201824\n",
       "4        0.09  98.970037  99.542334  99.201824\n",
       "..        ...        ...        ...        ...\n",
       "85       0.90  98.782772  98.741419  99.768786\n",
       "86       0.91  98.782772  98.741419  99.768786\n",
       "87       0.92  98.782772  98.741419  99.768786\n",
       "88       0.93  98.782772  98.741419  99.768786\n",
       "89       0.94  98.782772  98.741419  99.768786\n",
       "\n",
       "[90 rows x 4 columns]"
      ]
     },
     "execution_count": 14,
     "metadata": {},
     "output_type": "execute_result"
    }
   ],
   "source": [
    "#Define Result lists\n",
    "\n",
    "Accuracy =[]\n",
    "Recall =[]\n",
    "Precision=[]\n",
    "Threshold =[]\n",
    "\n",
    "#Set new col to zero\n",
    "ConsolidatedData1['y_Pred_new'] =0\n",
    "\n",
    "#Loop to evaluate the threshold\n",
    "for i in range(5,95,1):\n",
    "    ConsolidatedData1.loc[ConsolidatedData1.Proba_1 > i/100 , 'y_Pred_new']=1\n",
    "    z = pd.crosstab(ConsolidatedData1.y_test , ConsolidatedData1.y_Pred_new)\n",
    "    #print(z)\n",
    "    Threshold.append(i/100)\n",
    "    Accuracy.append(((z[0][0] + z[1][1])/(z[0][0]+z[0][1]+z[1][0]+z[1][1])) *100)\n",
    "    Precision.append((z[1][1]/(z[1][0]+z[1][1]))*100)\n",
    "    Recall.append((z[1][1]/(z[0][1]+z[1][1]))*100)\n",
    "    ConsolidatedData1['y_Pred_new']=0\n",
    "\n",
    "#Convert the lists into a single data frame\n",
    "\n",
    "Result = pd.DataFrame({'Threshold' : Threshold ,\n",
    "                      'Accuracy' : Accuracy,\n",
    "                      'Recall':Recall,\n",
    "                      'Precision':Precision})\n",
    "Result.loc[Result.Accuracy > 76]"
   ]
  },
  {
   "cell_type": "code",
   "execution_count": 15,
   "metadata": {},
   "outputs": [
    {
     "data": {
      "text/plain": [
       "<matplotlib.axes._subplots.AxesSubplot at 0x2a5abbf6548>"
      ]
     },
     "execution_count": 15,
     "metadata": {},
     "output_type": "execute_result"
    },
    {
     "data": {
      "image/png": "[encoded data removed]",
      "text/plain": [
       "<Figure size 720x360 with 1 Axes>"
      ]
     },
     "metadata": {
      "needs_background": "light"
     },
     "output_type": "display_data"
    }
   ],
   "source": [
    "Result.plot(x='Threshold',\n",
    "           y=['Accuracy','Recall','Precision'],\n",
    "           kind='line',\n",
    "           grid=True,\n",
    "           title='Threshold VS Accuracy/Reca5ll/Precisioin',\n",
    "           legend=True,\n",
    "           figsize =(10,5))\n",
    "\n",
    "#Choose threshold as 0.5 as its giving better accuracy:"
   ]
  },
  {
   "cell_type": "code",
   "execution_count": null,
   "metadata": {},
   "outputs": [],
   "source": []
  }
 ],
 "metadata": {
  "kernelspec": {
   "display_name": "Python 3",
   "language": "python",
   "name": "python3"
  },
  "language_info": {
   "codemirror_mode": {
    "name": "ipython",
    "version": 3
   },
   "file_extension": ".py",
   "mimetype": "text/x-python",
   "name": "python",
   "nbconvert_exporter": "python",
   "pygments_lexer": "ipython3",
   "version": "3.7.6"
  }
 },
 "nbformat": 4,
 "nbformat_minor": 4
}
