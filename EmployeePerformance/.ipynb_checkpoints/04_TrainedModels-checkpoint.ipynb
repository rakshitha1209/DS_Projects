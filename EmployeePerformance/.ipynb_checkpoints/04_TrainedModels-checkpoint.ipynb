{
 "cells": [
  {
   "cell_type": "code",
   "execution_count": 11,
   "metadata": {},
   "outputs": [],
   "source": [
    "import numpy as np\n",
    "import pandas as pd\n",
    "import matplotlib.pyplot as plt\n",
    "from matplotlib import rcParams\n",
    "import seaborn as sns\n",
    "from sklearn.neighbors import KNeighborsClassifier\n",
    "from sklearn.tree import DecisionTreeClassifier\n",
    "from sklearn.ensemble import RandomForestClassifier\n",
    "from sklearn.svm import SVC\n",
    "from xgboost import XGBClassifier\n",
    "from sklearn.metrics import accuracy_score , classification_report ,confusion_matrix ,precision_recall_curve ,auc\n",
    "from sklearn.model_selection import KFold ,cross_val_score\n",
    "\n",
    "import warnings\n",
    "warnings.filterwarnings('ignore')\n",
    "\n",
    "pd.set_option('display.max_columns' ,27)\n",
    "pd.options.display.max_columns =100"
   ]
  },
  {
   "cell_type": "code",
   "execution_count": 3,
   "metadata": {},
   "outputs": [
    {
     "name": "stdout",
     "output_type": "stream",
     "text": [
      "(1200, 22)\n"
     ]
    },
    {
     "data": {
      "text/html": [
       "<div>\n",
       "<style scoped>\n",
       "    .dataframe tbody tr th:only-of-type {\n",
       "        vertical-align: middle;\n",
       "    }\n",
       "\n",
       "    .dataframe tbody tr th {\n",
       "        vertical-align: top;\n",
       "    }\n",
       "\n",
       "    .dataframe thead th {\n",
       "        text-align: right;\n",
       "    }\n",
       "</style>\n",
       "<table border=\"1\" class=\"dataframe\">\n",
       "  <thead>\n",
       "    <tr style=\"text-align: right;\">\n",
       "      <th></th>\n",
       "      <th>Gender</th>\n",
       "      <th>EducationBackground</th>\n",
       "      <th>MaritalStatus</th>\n",
       "      <th>EmpDepartment</th>\n",
       "      <th>EmpJobRole</th>\n",
       "      <th>BusinessTravelFrequency</th>\n",
       "      <th>DistanceFromHome</th>\n",
       "      <th>EmpEducationLevel</th>\n",
       "      <th>EmpEnvironmentSatisfaction</th>\n",
       "      <th>EmpHourlyRate</th>\n",
       "      <th>EmpJobInvolvement</th>\n",
       "      <th>EmpJobLevel</th>\n",
       "      <th>EmpJobSatisfaction</th>\n",
       "      <th>NumCompaniesWorked</th>\n",
       "      <th>OverTime</th>\n",
       "      <th>EmpLastSalaryHikePercent</th>\n",
       "      <th>EmpRelationshipSatisfaction</th>\n",
       "      <th>TrainingTimesLastYear</th>\n",
       "      <th>EmpWorkLifeBalance</th>\n",
       "      <th>YearsSinceLastPromotion</th>\n",
       "      <th>Attrition</th>\n",
       "      <th>PerformanceRating</th>\n",
       "    </tr>\n",
       "  </thead>\n",
       "  <tbody>\n",
       "    <tr>\n",
       "      <th>0</th>\n",
       "      <td>1</td>\n",
       "      <td>2</td>\n",
       "      <td>2</td>\n",
       "      <td>5</td>\n",
       "      <td>13</td>\n",
       "      <td>2</td>\n",
       "      <td>10</td>\n",
       "      <td>3</td>\n",
       "      <td>4</td>\n",
       "      <td>55</td>\n",
       "      <td>3</td>\n",
       "      <td>2</td>\n",
       "      <td>4</td>\n",
       "      <td>1</td>\n",
       "      <td>0</td>\n",
       "      <td>12</td>\n",
       "      <td>4</td>\n",
       "      <td>2</td>\n",
       "      <td>2</td>\n",
       "      <td>0</td>\n",
       "      <td>0</td>\n",
       "      <td>1</td>\n",
       "    </tr>\n",
       "    <tr>\n",
       "      <th>1</th>\n",
       "      <td>1</td>\n",
       "      <td>2</td>\n",
       "      <td>2</td>\n",
       "      <td>5</td>\n",
       "      <td>13</td>\n",
       "      <td>2</td>\n",
       "      <td>14</td>\n",
       "      <td>4</td>\n",
       "      <td>4</td>\n",
       "      <td>42</td>\n",
       "      <td>3</td>\n",
       "      <td>2</td>\n",
       "      <td>1</td>\n",
       "      <td>2</td>\n",
       "      <td>0</td>\n",
       "      <td>12</td>\n",
       "      <td>4</td>\n",
       "      <td>2</td>\n",
       "      <td>3</td>\n",
       "      <td>1</td>\n",
       "      <td>0</td>\n",
       "      <td>1</td>\n",
       "    </tr>\n",
       "  </tbody>\n",
       "</table>\n",
       "</div>"
      ],
      "text/plain": [
       "   Gender  EducationBackground  MaritalStatus  EmpDepartment  EmpJobRole  \\\n",
       "0       1                    2              2              5          13   \n",
       "1       1                    2              2              5          13   \n",
       "\n",
       "   BusinessTravelFrequency  DistanceFromHome  EmpEducationLevel  \\\n",
       "0                        2                10                  3   \n",
       "1                        2                14                  4   \n",
       "\n",
       "   EmpEnvironmentSatisfaction  EmpHourlyRate  EmpJobInvolvement  EmpJobLevel  \\\n",
       "0                           4             55                  3            2   \n",
       "1                           4             42                  3            2   \n",
       "\n",
       "   EmpJobSatisfaction  NumCompaniesWorked  OverTime  EmpLastSalaryHikePercent  \\\n",
       "0                   4                   1         0                        12   \n",
       "1                   1                   2         0                        12   \n",
       "\n",
       "   EmpRelationshipSatisfaction  TrainingTimesLastYear  EmpWorkLifeBalance  \\\n",
       "0                            4                      2                   2   \n",
       "1                            4                      2                   3   \n",
       "\n",
       "   YearsSinceLastPromotion  Attrition  PerformanceRating  \n",
       "0                        0          0                  1  \n",
       "1                        1          0                  1  "
      ]
     },
     "execution_count": 3,
     "metadata": {},
     "output_type": "execute_result"
    }
   ],
   "source": [
    "df = pd.read_csv(\"train_encoded.csv\")\n",
    "\n",
    "print(df.shape)\n",
    "df.head(2)"
   ]
  },
  {
   "cell_type": "markdown",
   "metadata": {},
   "source": [
    "### Define predictor(X) and target(y) variables"
   ]
  },
  {
   "cell_type": "code",
   "execution_count": 19,
   "metadata": {},
   "outputs": [],
   "source": [
    "X1= df.loc[:,df.columns != 'PerformanceRating']\n",
    "y1= df['PerformanceRating']"
   ]
  },
  {
   "cell_type": "markdown",
   "metadata": {},
   "source": [
    "### Handling Imbalanced data via SMOTETomek technique"
   ]
  },
  {
   "cell_type": "code",
   "execution_count": 20,
   "metadata": {},
   "outputs": [
    {
     "name": "stdout",
     "output_type": "stream",
     "text": [
      "(2618, 21)\n",
      "(2618,)\n"
     ]
    }
   ],
   "source": [
    "from imblearn.combine import SMOTETomek\n",
    "smk =SMOTETomek(random_state=42)\n",
    "X, y = smk.fit_sample(X1,y1)\n",
    "\n",
    "print(X.shape)\n",
    "print(y.shape)"
   ]
  },
  {
   "cell_type": "markdown",
   "metadata": {},
   "source": [
    "## Modelling"
   ]
  },
  {
   "cell_type": "code",
   "execution_count": 12,
   "metadata": {
    "collapsed": true
   },
   "outputs": [
    {
     "name": "stdout",
     "output_type": "stream",
     "text": [
      "KNN : 0.798086 (0.184147) \n",
      "CART : 0.911034 (0.050087) \n",
      "SVM : 0.694183 (0.130674) \n",
      "XGBoost : 0.932003 (0.037246) \n",
      "RF : 0.947679 (0.033089) \n"
     ]
    }
   ],
   "source": [
    "#prepare models\n",
    "\n",
    "models=[]\n",
    "\n",
    "models.append(('KNN',KNeighborsClassifier()))\n",
    "models.append(('CART',DecisionTreeClassifier()))\n",
    "models.append(('SVM',SVC()))\n",
    "models.append(('XGBoost',XGBClassifier()))\n",
    "models.append(('RF',RandomForestClassifier()))\n",
    "\n",
    "score='accuracy'\n",
    "results=[]\n",
    "names=[]\n",
    "\n",
    "for n ,m in models:\n",
    "    kfold = KFold(n_splits=10 , random_state=10)\n",
    "    \n",
    "    cv_results = cross_val_score(m ,X,y,scoring=score,cv=kfold ) # m :model (model ,X,y,scoring,cv)\n",
    "    results.append(cv_results)\n",
    "    names.append(n)\n",
    "    \n",
    "    msg =\"%s : %f (%f) \" % (n,cv_results.mean(),cv_results.std())\n",
    "    print(msg)"
   ]
  },
  {
   "cell_type": "code",
   "execution_count": 13,
   "metadata": {
    "collapsed": true
   },
   "outputs": [
    {
     "data": {
      "text/plain": [
       "[Text(0, 0, 'KNN'),\n",
       " Text(0, 0, 'CART'),\n",
       " Text(0, 0, 'SVM'),\n",
       " Text(0, 0, 'XGBoost'),\n",
       " Text(0, 0, 'RF')]"
      ]
     },
     "execution_count": 13,
     "metadata": {},
     "output_type": "execute_result"
    },
    {
     "data": {
      "image/png": "[encoded data removed]",
      "text/plain": [
       "<Figure size 1080x360 with 1 Axes>"
      ]
     },
     "metadata": {
      "needs_background": "light"
     },
     "output_type": "display_data"
    }
   ],
   "source": [
    "#boxplot algorithm comparision\n",
    "rcParams['figure.figsize'] =15,5\n",
    "fig=plt.figure()\n",
    "fig.suptitle(\"Algorithm Comparision\")\n",
    "ax=fig.add_subplot(111)\n",
    "plt.boxplot(results)\n",
    "ax.set_xticklabels(names)"
   ]
  },
  {
   "cell_type": "markdown",
   "metadata": {},
   "source": [
    "### Features derived from PCA technique(during FeatureEngineering)\n",
    "\n",
    "* ['Gender', 'EducationBackground', 'MaritalStatus', 'EmpDepartment', 'EmpJobRole', 'BusinessTravelFrequency', 'DistanceFromHome', 'EmpEducationLevel', 'EmpEnvironmentSatisfaction', 'EmpHourlyRate', 'EmpJobInvolvement']"
   ]
  },
  {
   "cell_type": "code",
   "execution_count": 28,
   "metadata": {},
   "outputs": [],
   "source": [
    "X_pcb = ['Gender', 'EducationBackground', 'MaritalStatus', 'EmpDepartment', 'EmpJobRole', 'BusinessTravelFrequency', \n",
    "         'DistanceFromHome', 'EmpEducationLevel', 'EmpEnvironmentSatisfaction', 'EmpHourlyRate', 'EmpJobInvolvement']\n",
    "\n",
    "X_1 = X[X_pcb]"
   ]
  },
  {
   "cell_type": "markdown",
   "metadata": {},
   "source": [
    "## KFold CrossValidation"
   ]
  },
  {
   "cell_type": "code",
   "execution_count": 29,
   "metadata": {},
   "outputs": [
    {
     "name": "stdout",
     "output_type": "stream",
     "text": [
      "(2400, 11)\n",
      "(2400,)\n"
     ]
    }
   ],
   "source": [
    "from sklearn.model_selection import KFold\n",
    "\n",
    "kf = KFold(n_splits=12,shuffle=True, random_state=45) \n",
    "for train_index, test_index in kf.split(X_1,y):\n",
    "    X_train, X_test = X_1.iloc[train_index], X_1.iloc[test_index] \n",
    "    y_train, y_test = y[train_index], y[test_index]\n",
    "\n",
    "\n",
    "print(X_train.shape)\n",
    "print(y_train.shape)\n"
   ]
  },
  {
   "cell_type": "code",
   "execution_count": 17,
   "metadata": {
    "collapsed": true
   },
   "outputs": [
    {
     "data": {
      "text/html": [
       "<div>\n",
       "<style scoped>\n",
       "    .dataframe tbody tr th:only-of-type {\n",
       "        vertical-align: middle;\n",
       "    }\n",
       "\n",
       "    .dataframe tbody tr th {\n",
       "        vertical-align: top;\n",
       "    }\n",
       "\n",
       "    .dataframe thead th {\n",
       "        text-align: right;\n",
       "    }\n",
       "</style>\n",
       "<table border=\"1\" class=\"dataframe\">\n",
       "  <thead>\n",
       "    <tr style=\"text-align: right;\">\n",
       "      <th></th>\n",
       "      <th>Gender</th>\n",
       "      <th>EducationBackground</th>\n",
       "      <th>MaritalStatus</th>\n",
       "      <th>EmpDepartment</th>\n",
       "      <th>EmpJobRole</th>\n",
       "      <th>BusinessTravelFrequency</th>\n",
       "      <th>DistanceFromHome</th>\n",
       "      <th>EmpEducationLevel</th>\n",
       "      <th>EmpEnvironmentSatisfaction</th>\n",
       "      <th>EmpHourlyRate</th>\n",
       "      <th>EmpJobInvolvement</th>\n",
       "    </tr>\n",
       "  </thead>\n",
       "  <tbody>\n",
       "    <tr>\n",
       "      <th>0</th>\n",
       "      <td>1</td>\n",
       "      <td>2</td>\n",
       "      <td>2</td>\n",
       "      <td>5</td>\n",
       "      <td>13</td>\n",
       "      <td>2</td>\n",
       "      <td>10</td>\n",
       "      <td>3</td>\n",
       "      <td>4</td>\n",
       "      <td>55</td>\n",
       "      <td>3</td>\n",
       "    </tr>\n",
       "    <tr>\n",
       "      <th>1</th>\n",
       "      <td>1</td>\n",
       "      <td>2</td>\n",
       "      <td>2</td>\n",
       "      <td>5</td>\n",
       "      <td>13</td>\n",
       "      <td>2</td>\n",
       "      <td>14</td>\n",
       "      <td>4</td>\n",
       "      <td>4</td>\n",
       "      <td>42</td>\n",
       "      <td>3</td>\n",
       "    </tr>\n",
       "    <tr>\n",
       "      <th>2</th>\n",
       "      <td>1</td>\n",
       "      <td>1</td>\n",
       "      <td>1</td>\n",
       "      <td>5</td>\n",
       "      <td>13</td>\n",
       "      <td>1</td>\n",
       "      <td>5</td>\n",
       "      <td>4</td>\n",
       "      <td>4</td>\n",
       "      <td>48</td>\n",
       "      <td>2</td>\n",
       "    </tr>\n",
       "    <tr>\n",
       "      <th>3</th>\n",
       "      <td>1</td>\n",
       "      <td>0</td>\n",
       "      <td>0</td>\n",
       "      <td>3</td>\n",
       "      <td>8</td>\n",
       "      <td>2</td>\n",
       "      <td>10</td>\n",
       "      <td>4</td>\n",
       "      <td>2</td>\n",
       "      <td>73</td>\n",
       "      <td>2</td>\n",
       "    </tr>\n",
       "    <tr>\n",
       "      <th>4</th>\n",
       "      <td>1</td>\n",
       "      <td>2</td>\n",
       "      <td>2</td>\n",
       "      <td>5</td>\n",
       "      <td>13</td>\n",
       "      <td>2</td>\n",
       "      <td>16</td>\n",
       "      <td>4</td>\n",
       "      <td>1</td>\n",
       "      <td>84</td>\n",
       "      <td>3</td>\n",
       "    </tr>\n",
       "  </tbody>\n",
       "</table>\n",
       "</div>"
      ],
      "text/plain": [
       "   Gender  EducationBackground  MaritalStatus  EmpDepartment  EmpJobRole  \\\n",
       "0       1                    2              2              5          13   \n",
       "1       1                    2              2              5          13   \n",
       "2       1                    1              1              5          13   \n",
       "3       1                    0              0              3           8   \n",
       "4       1                    2              2              5          13   \n",
       "\n",
       "   BusinessTravelFrequency  DistanceFromHome  EmpEducationLevel  \\\n",
       "0                        2                10                  3   \n",
       "1                        2                14                  4   \n",
       "2                        1                 5                  4   \n",
       "3                        2                10                  4   \n",
       "4                        2                16                  4   \n",
       "\n",
       "   EmpEnvironmentSatisfaction  EmpHourlyRate  EmpJobInvolvement  \n",
       "0                           4             55                  3  \n",
       "1                           4             42                  3  \n",
       "2                           4             48                  2  \n",
       "3                           2             73                  2  \n",
       "4                           1             84                  3  "
      ]
     },
     "execution_count": 17,
     "metadata": {},
     "output_type": "execute_result"
    }
   ],
   "source": [
    "X_train.head()"
   ]
  },
  {
   "cell_type": "markdown",
   "metadata": {},
   "source": [
    "##  XGBClassifer based on PCA"
   ]
  },
  {
   "cell_type": "code",
   "execution_count": 31,
   "metadata": {},
   "outputs": [
    {
     "name": "stdout",
     "output_type": "stream",
     "text": [
      "Training Accuracy 1.0\n",
      "Testing Accuracy 0.9128440366972477\n",
      "Acuuracy of XGBClassifier with PCA featues : 91.28 %\n",
      "------------------------------------------------------------\n",
      "              precision    recall  f1-score   support\n",
      "\n",
      "           0       0.91      0.97      0.94        75\n",
      "           1       0.93      0.83      0.88        78\n",
      "           2       0.90      0.94      0.92        65\n",
      "\n",
      "    accuracy                           0.91       218\n",
      "   macro avg       0.91      0.92      0.91       218\n",
      "weighted avg       0.91      0.91      0.91       218\n",
      "\n"
     ]
    }
   ],
   "source": [
    "model_XGB_SKB = XGBClassifier(booster='gbtree',\n",
    "                             learning_rate=0.1,\n",
    "                             n_estimators=1000,\n",
    "                             max_depth=12)\n",
    "model_XGB_SKB.fit(X_train,y_train)\n",
    "y_predict4 = pd.DataFrame(model_XGB_SKB.predict(X_test),columns=['PerformanceRating'])\n",
    "\n",
    "print(\"Training Accuracy\",model_XGB_SKB.score(X_train,y_train))\n",
    "print(\"Testing Accuracy\",model_XGB_SKB.score(X_test,y_test))\n",
    "print(\"Acuuracy of XGBClassifier with PCA featues : {} {}\".format(accuracy_score(y_test,y_predict4).round(4)*100 , \"%\"))\n",
    "print(\"-\"*60)\n",
    "print(classification_report(y_test,y_predict4))"
   ]
  },
  {
   "cell_type": "code",
   "execution_count": 52,
   "metadata": {},
   "outputs": [],
   "source": [
    "x_skb = ['EmpLastSalaryHikePercent',\n",
    " 'YearsSinceLastPromotion',\n",
    " 'EmpEnvironmentSatisfaction',\n",
    " 'EmpDepartment',\n",
    " 'EmpJobRole',\n",
    " 'DistanceFromHome',\n",
    " 'OverTime',\n",
    " 'EmpWorkLifeBalance',\n",
    " 'EmpHourlyRate']\n",
    "\n",
    "X_2 =X[x_skb]"
   ]
  },
  {
   "cell_type": "code",
   "execution_count": 65,
   "metadata": {},
   "outputs": [],
   "source": [
    "kf = KFold(n_splits=12,shuffle=True, random_state=45) \n",
    "for train_index, test_index in kf.split(X_2,y):\n",
    "    X_train1, X_test1 = X_2.iloc[train_index], X_2.iloc[test_index] \n",
    "    y_train1, y_test1 = y[train_index], y[test_index]"
   ]
  },
  {
   "cell_type": "markdown",
   "metadata": {},
   "source": [
    "## XGBClassifier based on SelectKBest"
   ]
  },
  {
   "cell_type": "code",
   "execution_count": 74,
   "metadata": {},
   "outputs": [
    {
     "data": {
      "text/plain": [
       "XGBClassifier(max_depth=15, n_estimators=1000, objective='multi:softprob',\n",
       "              random_state=100)"
      ]
     },
     "execution_count": 74,
     "metadata": {},
     "output_type": "execute_result"
    }
   ],
   "source": [
    "model_XGB_SKB = XGBClassifier(booster='gbtree',\n",
    "                             learning_rate=0.1,\n",
    "                             n_estimators=1000,\n",
    "                             max_depth=15,\n",
    "                             random_state=100)\n",
    "model_XGB_SKB.fit(X_train1,y_train1)\n"
   ]
  },
  {
   "cell_type": "code",
   "execution_count": 76,
   "metadata": {},
   "outputs": [],
   "source": [
    "import pickle\n",
    "filename = 'XGB_Model.sav'\n",
    "pickle.dump(model_XGB_SKB, open(filename, 'wb'))"
   ]
  },
  {
   "cell_type": "markdown",
   "metadata": {},
   "source": [
    "## Random Forest"
   ]
  },
  {
   "cell_type": "code",
   "execution_count": 73,
   "metadata": {},
   "outputs": [
    {
     "name": "stdout",
     "output_type": "stream",
     "text": [
      "Training Accuracy 0.9954166666666666\n",
      "Testing Accuracy 0.9587155963302753\n",
      "Acuuracy of RandommForest with SelectKBest featues : 95.87 %\n",
      "------------------------------------------------------------\n",
      "              precision    recall  f1-score   support\n",
      "\n",
      "           0       0.97      0.96      0.97        75\n",
      "           1       0.95      0.96      0.96        78\n",
      "           2       0.95      0.95      0.95        65\n",
      "\n",
      "    accuracy                           0.96       218\n",
      "   macro avg       0.96      0.96      0.96       218\n",
      "weighted avg       0.96      0.96      0.96       218\n",
      "\n"
     ]
    }
   ],
   "source": [
    "from sklearn.ensemble import RandomForestClassifier\n",
    "model_rf = RandomForestClassifier(max_depth= 15, n_estimators= 1000,min_samples_split=4 ,random_state=46)\n",
    "\n",
    "model_rf.fit(X_train1,y_train1)\n",
    "y_predict1 = model_rf.predict(X_test1)\n",
    "\n",
    "print(\"Training Accuracy\",model_rf.score(X_train1,y_train1))\n",
    "print(\"Testing Accuracy\",model_rf.score(X_test1,y_test1))\n",
    "print(\"Acuuracy of RandommForest with SelectKBest featues : {} {}\".format(accuracy_score(y_test1,y_predict1).round(4)*100 , \"%\"))\n",
    "print(\"-\"*60)\n",
    "print(classification_report(y_test1,y_predict1))"
   ]
  },
  {
   "cell_type": "code",
   "execution_count": null,
   "metadata": {},
   "outputs": [],
   "source": []
  }
 ],
 "metadata": {
  "kernelspec": {
   "display_name": "Python 3",
   "language": "python",
   "name": "python3"
  },
  "language_info": {
   "codemirror_mode": {
    "name": "ipython",
    "version": 3
   },
   "file_extension": ".py",
   "mimetype": "text/x-python",
   "name": "python",
   "nbconvert_exporter": "python",
   "pygments_lexer": "ipython3",
   "version": "3.7.6"
  }
 },
 "nbformat": 4,
 "nbformat_minor": 4
}
