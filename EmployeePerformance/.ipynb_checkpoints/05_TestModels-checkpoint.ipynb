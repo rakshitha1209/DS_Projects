{
 "cells": [
  {
   "cell_type": "code",
   "execution_count": 37,
   "metadata": {},
   "outputs": [],
   "source": [
    "import numpy as np\n",
    "import pandas as pd\n",
    "import matplotlib.pyplot as plt\n",
    "from matplotlib import rcParams\n",
    "import pickle\n",
    "import seaborn as sns\n",
    "from sklearn.ensemble import RandomForestClassifier\n",
    "from xgboost import XGBClassifier\n",
    "from sklearn.metrics import accuracy_score , classification_report ,confusion_matrix ,precision_recall_curve ,auc\n"
   ]
  },
  {
   "cell_type": "code",
   "execution_count": 38,
   "metadata": {},
   "outputs": [
    {
     "name": "stdout",
     "output_type": "stream",
     "text": [
      "(1200, 22)\n"
     ]
    },
    {
     "data": {
      "text/html": [
       "<div>\n",
       "<style scoped>\n",
       "    .dataframe tbody tr th:only-of-type {\n",
       "        vertical-align: middle;\n",
       "    }\n",
       "\n",
       "    .dataframe tbody tr th {\n",
       "        vertical-align: top;\n",
       "    }\n",
       "\n",
       "    .dataframe thead th {\n",
       "        text-align: right;\n",
       "    }\n",
       "</style>\n",
       "<table border=\"1\" class=\"dataframe\">\n",
       "  <thead>\n",
       "    <tr style=\"text-align: right;\">\n",
       "      <th></th>\n",
       "      <th>Gender</th>\n",
       "      <th>EducationBackground</th>\n",
       "      <th>MaritalStatus</th>\n",
       "      <th>EmpDepartment</th>\n",
       "      <th>EmpJobRole</th>\n",
       "      <th>BusinessTravelFrequency</th>\n",
       "      <th>DistanceFromHome</th>\n",
       "      <th>EmpEducationLevel</th>\n",
       "      <th>EmpEnvironmentSatisfaction</th>\n",
       "      <th>EmpHourlyRate</th>\n",
       "      <th>...</th>\n",
       "      <th>EmpJobSatisfaction</th>\n",
       "      <th>NumCompaniesWorked</th>\n",
       "      <th>OverTime</th>\n",
       "      <th>EmpLastSalaryHikePercent</th>\n",
       "      <th>EmpRelationshipSatisfaction</th>\n",
       "      <th>TrainingTimesLastYear</th>\n",
       "      <th>EmpWorkLifeBalance</th>\n",
       "      <th>YearsSinceLastPromotion</th>\n",
       "      <th>Attrition</th>\n",
       "      <th>PerformanceRating</th>\n",
       "    </tr>\n",
       "  </thead>\n",
       "  <tbody>\n",
       "    <tr>\n",
       "      <th>0</th>\n",
       "      <td>1</td>\n",
       "      <td>2</td>\n",
       "      <td>2</td>\n",
       "      <td>5</td>\n",
       "      <td>13</td>\n",
       "      <td>2</td>\n",
       "      <td>10</td>\n",
       "      <td>3</td>\n",
       "      <td>4</td>\n",
       "      <td>55</td>\n",
       "      <td>...</td>\n",
       "      <td>4</td>\n",
       "      <td>1</td>\n",
       "      <td>0</td>\n",
       "      <td>12</td>\n",
       "      <td>4</td>\n",
       "      <td>2</td>\n",
       "      <td>2</td>\n",
       "      <td>0</td>\n",
       "      <td>0</td>\n",
       "      <td>1</td>\n",
       "    </tr>\n",
       "    <tr>\n",
       "      <th>1</th>\n",
       "      <td>1</td>\n",
       "      <td>2</td>\n",
       "      <td>2</td>\n",
       "      <td>5</td>\n",
       "      <td>13</td>\n",
       "      <td>2</td>\n",
       "      <td>14</td>\n",
       "      <td>4</td>\n",
       "      <td>4</td>\n",
       "      <td>42</td>\n",
       "      <td>...</td>\n",
       "      <td>1</td>\n",
       "      <td>2</td>\n",
       "      <td>0</td>\n",
       "      <td>12</td>\n",
       "      <td>4</td>\n",
       "      <td>2</td>\n",
       "      <td>3</td>\n",
       "      <td>1</td>\n",
       "      <td>0</td>\n",
       "      <td>1</td>\n",
       "    </tr>\n",
       "  </tbody>\n",
       "</table>\n",
       "<p>2 rows × 22 columns</p>\n",
       "</div>"
      ],
      "text/plain": [
       "   Gender  EducationBackground  MaritalStatus  EmpDepartment  EmpJobRole  \\\n",
       "0       1                    2              2              5          13   \n",
       "1       1                    2              2              5          13   \n",
       "\n",
       "   BusinessTravelFrequency  DistanceFromHome  EmpEducationLevel  \\\n",
       "0                        2                10                  3   \n",
       "1                        2                14                  4   \n",
       "\n",
       "   EmpEnvironmentSatisfaction  EmpHourlyRate  ...  EmpJobSatisfaction  \\\n",
       "0                           4             55  ...                   4   \n",
       "1                           4             42  ...                   1   \n",
       "\n",
       "   NumCompaniesWorked  OverTime  EmpLastSalaryHikePercent  \\\n",
       "0                   1         0                        12   \n",
       "1                   2         0                        12   \n",
       "\n",
       "   EmpRelationshipSatisfaction  TrainingTimesLastYear  EmpWorkLifeBalance  \\\n",
       "0                            4                      2                   2   \n",
       "1                            4                      2                   3   \n",
       "\n",
       "   YearsSinceLastPromotion  Attrition  PerformanceRating  \n",
       "0                        0          0                  1  \n",
       "1                        1          0                  1  \n",
       "\n",
       "[2 rows x 22 columns]"
      ]
     },
     "execution_count": 38,
     "metadata": {},
     "output_type": "execute_result"
    }
   ],
   "source": [
    "df = pd.read_csv(\"test_encoded.csv\")\n",
    "\n",
    "print(df.shape)\n",
    "df.head(2)"
   ]
  },
  {
   "cell_type": "markdown",
   "metadata": {},
   "source": [
    "### Define predictor(X) and target(y) variables"
   ]
  },
  {
   "cell_type": "code",
   "execution_count": 39,
   "metadata": {},
   "outputs": [],
   "source": [
    "X_test= df.loc[:,df.columns != 'PerformanceRating']\n",
    "y_test= df['PerformanceRating']"
   ]
  },
  {
   "cell_type": "markdown",
   "metadata": {},
   "source": [
    "### Significant features are derived from SelectKBest technique"
   ]
  },
  {
   "cell_type": "code",
   "execution_count": 63,
   "metadata": {},
   "outputs": [],
   "source": [
    "x_skb = ['EmpLastSalaryHikePercent',\n",
    " 'YearsSinceLastPromotion',\n",
    " 'EmpEnvironmentSatisfaction',\n",
    " 'EmpDepartment',\n",
    " 'EmpJobRole',\n",
    " 'DistanceFromHome',\n",
    " 'OverTime',\n",
    " 'EmpWorkLifeBalance',\n",
    " 'EmpHourlyRate']\n",
    "\n",
    "X_2 =X_test[x_skb]"
   ]
  },
  {
   "cell_type": "markdown",
   "metadata": {},
   "source": [
    "## Importing Trained XGBModel(SelectKBest) and predicting the Performance of Employee"
   ]
  },
  {
   "cell_type": "code",
   "execution_count": 61,
   "metadata": {},
   "outputs": [
    {
     "name": "stdout",
     "output_type": "stream",
     "text": [
      "Accuracy of XGB_Model with SelectKBest featues : 99.25 %\n",
      "------------------------------------------------------------\n",
      "              precision    recall  f1-score   support\n",
      "\n",
      "           0       0.99      0.98      0.99       194\n",
      "           1       1.00      1.00      1.00       874\n",
      "           2       0.97      0.99      0.98       132\n",
      "\n",
      "    accuracy                           0.99      1200\n",
      "   macro avg       0.99      0.99      0.99      1200\n",
      "weighted avg       0.99      0.99      0.99      1200\n",
      "\n",
      "------------------------------------------------------------\n",
      "COnfusion Matrix \n",
      " col_0                0    1    2\n",
      "PerformanceRating               \n",
      "0                  190    3    1\n",
      "1                    1  870    3\n",
      "2                    0    1  131\n"
     ]
    }
   ],
   "source": [
    "filename = 'XGB_Model.sav'\n",
    "XGB_Model = pickle.load(open(filename, 'rb'))\n",
    "result = XGB_Model.score(X_test[x_skb], y_test)\n",
    "y_predict = XGB_Model.predict(X_test[x_skb])\n",
    "print(\"Accuracy of XGB_Model with SelectKBest featues : {} {}\".format(accuracy_score(y_test,y_predict).round(4)*100 , \"%\"))\n",
    "print(\"-\"*60)\n",
    "print(classification_report(y_test,y_predict))\n",
    "print(\"-\"*60)\n",
    "print(\"COnfusion Matrix \\n\" ,pd.crosstab(y_test,y_predict))"
   ]
  },
  {
   "cell_type": "markdown",
   "metadata": {},
   "source": [
    "## Importing Trained RandomForest and predicting the Performance of Employee"
   ]
  },
  {
   "cell_type": "code",
   "execution_count": 69,
   "metadata": {},
   "outputs": [
    {
     "name": "stdout",
     "output_type": "stream",
     "text": [
      "Acuuracy of Random Forest with SelectKBest featues : 98.58 %\n",
      "------------------------------------------------------------\n",
      "              precision    recall  f1-score   support\n",
      "\n",
      "           0       0.98      0.97      0.98       194\n",
      "           1       0.99      1.00      0.99       874\n",
      "           2       1.00      0.93      0.96       132\n",
      "\n",
      "    accuracy                           0.99      1200\n",
      "   macro avg       0.99      0.97      0.98      1200\n",
      "weighted avg       0.99      0.99      0.99      1200\n",
      "\n",
      "------------------------------------------------------------\n",
      "COnfusion Matrix \n",
      " col_0                0    1    2\n",
      "PerformanceRating               \n",
      "0                  189    5    0\n",
      "1                    3  871    0\n",
      "2                    1    8  123\n"
     ]
    }
   ],
   "source": [
    "filename = 'model_rf.sav'\n",
    "model_rf = pickle.load(open(filename, 'rb'))\n",
    "#result = model_rf.score(X_2, y_test)\n",
    "y_predict2 = model_rf.predict(X_test[x_skb])\n",
    "\n",
    "print(\"Acuuracy of Random Forest with SelectKBest featues : {} {}\".format(accuracy_score(y_test,y_predict2).round(4)*100 , \"%\"))\n",
    "print(\"-\"*60)\n",
    "print(classification_report(y_test,y_predict2))\n",
    "print(\"-\"*60)\n",
    "print(\"COnfusion Matrix \\n\" ,pd.crosstab(y_test,y_predict2))\n"
   ]
  },
  {
   "cell_type": "code",
   "execution_count": 70,
   "metadata": {},
   "outputs": [
    {
     "name": "stdout",
     "output_type": "stream",
     "text": [
      "(1200, 9)\n",
      "(1200,)\n"
     ]
    }
   ],
   "source": [
    "print(X_test[x_skb].shape)\n",
    "print(y_test.shape)"
   ]
  },
  {
   "cell_type": "markdown",
   "metadata": {},
   "source": [
    "## Evaluate XGB model performance"
   ]
  },
  {
   "cell_type": "code",
   "execution_count": 29,
   "metadata": {},
   "outputs": [
    {
     "data": {
      "text/plain": [
       "(1200, 3)"
      ]
     },
     "execution_count": 29,
     "metadata": {},
     "output_type": "execute_result"
    }
   ],
   "source": [
    "#Define Result lists\n",
    "y_test = pd.DataFrame(y_test)\n",
    "y_predict = pd.DataFrame(y_predict ,columns =['y_Predict_Status'])\n",
    "Proba =XGB_Model.predict_proba(X_2)\n",
    "Proba.shape"
   ]
  },
  {
   "cell_type": "code",
   "execution_count": 30,
   "metadata": {},
   "outputs": [
    {
     "data": {
      "text/html": [
       "<div>\n",
       "<style scoped>\n",
       "    .dataframe tbody tr th:only-of-type {\n",
       "        vertical-align: middle;\n",
       "    }\n",
       "\n",
       "    .dataframe tbody tr th {\n",
       "        vertical-align: top;\n",
       "    }\n",
       "\n",
       "    .dataframe thead th {\n",
       "        text-align: right;\n",
       "    }\n",
       "</style>\n",
       "<table border=\"1\" class=\"dataframe\">\n",
       "  <thead>\n",
       "    <tr style=\"text-align: right;\">\n",
       "      <th></th>\n",
       "      <th>0</th>\n",
       "      <th>1</th>\n",
       "      <th>2</th>\n",
       "    </tr>\n",
       "  </thead>\n",
       "  <tbody>\n",
       "    <tr>\n",
       "      <th>0</th>\n",
       "      <td>0.000011</td>\n",
       "      <td>0.999964</td>\n",
       "      <td>0.000025</td>\n",
       "    </tr>\n",
       "    <tr>\n",
       "      <th>1</th>\n",
       "      <td>0.000009</td>\n",
       "      <td>0.999982</td>\n",
       "      <td>0.000009</td>\n",
       "    </tr>\n",
       "    <tr>\n",
       "      <th>2</th>\n",
       "      <td>0.000007</td>\n",
       "      <td>0.000469</td>\n",
       "      <td>0.999525</td>\n",
       "    </tr>\n",
       "    <tr>\n",
       "      <th>3</th>\n",
       "      <td>0.025078</td>\n",
       "      <td>0.974787</td>\n",
       "      <td>0.000135</td>\n",
       "    </tr>\n",
       "    <tr>\n",
       "      <th>4</th>\n",
       "      <td>0.015660</td>\n",
       "      <td>0.984333</td>\n",
       "      <td>0.000007</td>\n",
       "    </tr>\n",
       "  </tbody>\n",
       "</table>\n",
       "</div>"
      ],
      "text/plain": [
       "          0         1         2\n",
       "0  0.000011  0.999964  0.000025\n",
       "1  0.000009  0.999982  0.000009\n",
       "2  0.000007  0.000469  0.999525\n",
       "3  0.025078  0.974787  0.000135\n",
       "4  0.015660  0.984333  0.000007"
      ]
     },
     "execution_count": 30,
     "metadata": {},
     "output_type": "execute_result"
    }
   ],
   "source": [
    "Proba =pd.DataFrame(Proba)\n",
    "Proba.head()"
   ]
  },
  {
   "cell_type": "code",
   "execution_count": 33,
   "metadata": {},
   "outputs": [
    {
     "data": {
      "text/html": [
       "<div>\n",
       "<style scoped>\n",
       "    .dataframe tbody tr th:only-of-type {\n",
       "        vertical-align: middle;\n",
       "    }\n",
       "\n",
       "    .dataframe tbody tr th {\n",
       "        vertical-align: top;\n",
       "    }\n",
       "\n",
       "    .dataframe thead th {\n",
       "        text-align: right;\n",
       "    }\n",
       "</style>\n",
       "<table border=\"1\" class=\"dataframe\">\n",
       "  <thead>\n",
       "    <tr style=\"text-align: right;\">\n",
       "      <th></th>\n",
       "      <th>y_test</th>\n",
       "      <th>y_predict</th>\n",
       "      <th>Proba_0</th>\n",
       "      <th>Proba_1</th>\n",
       "      <th>Proba_2</th>\n",
       "    </tr>\n",
       "  </thead>\n",
       "  <tbody>\n",
       "    <tr>\n",
       "      <th>0</th>\n",
       "      <td>1.0</td>\n",
       "      <td>1.0</td>\n",
       "      <td>0.000011</td>\n",
       "      <td>0.999964</td>\n",
       "      <td>0.000025</td>\n",
       "    </tr>\n",
       "    <tr>\n",
       "      <th>1</th>\n",
       "      <td>1.0</td>\n",
       "      <td>1.0</td>\n",
       "      <td>0.000009</td>\n",
       "      <td>0.999982</td>\n",
       "      <td>0.000009</td>\n",
       "    </tr>\n",
       "    <tr>\n",
       "      <th>2</th>\n",
       "      <td>2.0</td>\n",
       "      <td>2.0</td>\n",
       "      <td>0.000007</td>\n",
       "      <td>0.000469</td>\n",
       "      <td>0.999525</td>\n",
       "    </tr>\n",
       "    <tr>\n",
       "      <th>3</th>\n",
       "      <td>1.0</td>\n",
       "      <td>1.0</td>\n",
       "      <td>0.025078</td>\n",
       "      <td>0.974787</td>\n",
       "      <td>0.000135</td>\n",
       "    </tr>\n",
       "    <tr>\n",
       "      <th>4</th>\n",
       "      <td>1.0</td>\n",
       "      <td>1.0</td>\n",
       "      <td>0.015660</td>\n",
       "      <td>0.984333</td>\n",
       "      <td>0.000007</td>\n",
       "    </tr>\n",
       "  </tbody>\n",
       "</table>\n",
       "</div>"
      ],
      "text/plain": [
       "   y_test  y_predict   Proba_0   Proba_1   Proba_2\n",
       "0     1.0        1.0  0.000011  0.999964  0.000025\n",
       "1     1.0        1.0  0.000009  0.999982  0.000009\n",
       "2     2.0        2.0  0.000007  0.000469  0.999525\n",
       "3     1.0        1.0  0.025078  0.974787  0.000135\n",
       "4     1.0        1.0  0.015660  0.984333  0.000007"
      ]
     },
     "execution_count": 33,
     "metadata": {},
     "output_type": "execute_result"
    }
   ],
   "source": [
    "ConsolidatedData1 = np.concatenate([np.array(y_test),np.array(y_predict),np.array(Proba)],axis=1)\n",
    "ConsolidatedData1 = pd.DataFrame(ConsolidatedData1,columns=['y_test','y_predict','Proba_0','Proba_1','Proba_2'])\n",
    "ConsolidatedData1 = pd.DataFrame(ConsolidatedData1)\n",
    "ConsolidatedData1.head()"
   ]
  },
  {
   "cell_type": "code",
   "execution_count": 34,
   "metadata": {},
   "outputs": [
    {
     "name": "stdout",
     "output_type": "stream",
     "text": [
      "y_predict  0.0  1.0  2.0\n",
      "y_test                  \n",
      "0.0        190    3    1\n",
      "1.0          1  870    3\n",
      "2.0          0    1  131\n",
      "              precision    recall  f1-score   support\n",
      "\n",
      "         0.0       0.99      0.98      0.99       194\n",
      "         1.0       1.00      1.00      1.00       874\n",
      "         2.0       0.97      0.99      0.98       132\n",
      "\n",
      "    accuracy                           0.99      1200\n",
      "   macro avg       0.99      0.99      0.99      1200\n",
      "weighted avg       0.99      0.99      0.99      1200\n",
      "\n"
     ]
    },
    {
     "data": {
      "text/plain": [
       "y_test       1200\n",
       "y_predict    1200\n",
       "Proba_0      1200\n",
       "Proba_1      1200\n",
       "Proba_2      1200\n",
       "dtype: int64"
      ]
     },
     "execution_count": 34,
     "metadata": {},
     "output_type": "execute_result"
    }
   ],
   "source": [
    "print(pd.crosstab(ConsolidatedData1.y_test,ConsolidatedData1.y_predict))\n",
    "print(classification_report(ConsolidatedData1.y_test,ConsolidatedData1.y_predict))\n",
    "ConsolidatedData1.count()"
   ]
  },
  {
   "cell_type": "code",
   "execution_count": 35,
   "metadata": {},
   "outputs": [
    {
     "data": {
      "text/html": [
       "<div>\n",
       "<style scoped>\n",
       "    .dataframe tbody tr th:only-of-type {\n",
       "        vertical-align: middle;\n",
       "    }\n",
       "\n",
       "    .dataframe tbody tr th {\n",
       "        vertical-align: top;\n",
       "    }\n",
       "\n",
       "    .dataframe thead th {\n",
       "        text-align: right;\n",
       "    }\n",
       "</style>\n",
       "<table border=\"1\" class=\"dataframe\">\n",
       "  <thead>\n",
       "    <tr style=\"text-align: right;\">\n",
       "      <th></th>\n",
       "      <th>Threshold</th>\n",
       "      <th>Accuracy</th>\n",
       "      <th>Recall</th>\n",
       "      <th>Precision</th>\n",
       "    </tr>\n",
       "  </thead>\n",
       "  <tbody>\n",
       "    <tr>\n",
       "      <th>0</th>\n",
       "      <td>0.05</td>\n",
       "      <td>99.344569</td>\n",
       "      <td>99.771167</td>\n",
       "      <td>99.429875</td>\n",
       "    </tr>\n",
       "    <tr>\n",
       "      <th>1</th>\n",
       "      <td>0.06</td>\n",
       "      <td>99.531835</td>\n",
       "      <td>99.771167</td>\n",
       "      <td>99.657143</td>\n",
       "    </tr>\n",
       "    <tr>\n",
       "      <th>2</th>\n",
       "      <td>0.07</td>\n",
       "      <td>99.531835</td>\n",
       "      <td>99.771167</td>\n",
       "      <td>99.657143</td>\n",
       "    </tr>\n",
       "    <tr>\n",
       "      <th>3</th>\n",
       "      <td>0.08</td>\n",
       "      <td>99.531835</td>\n",
       "      <td>99.771167</td>\n",
       "      <td>99.657143</td>\n",
       "    </tr>\n",
       "    <tr>\n",
       "      <th>4</th>\n",
       "      <td>0.09</td>\n",
       "      <td>99.531835</td>\n",
       "      <td>99.771167</td>\n",
       "      <td>99.657143</td>\n",
       "    </tr>\n",
       "    <tr>\n",
       "      <th>...</th>\n",
       "      <td>...</td>\n",
       "      <td>...</td>\n",
       "      <td>...</td>\n",
       "      <td>...</td>\n",
       "    </tr>\n",
       "    <tr>\n",
       "      <th>85</th>\n",
       "      <td>0.90</td>\n",
       "      <td>98.970037</td>\n",
       "      <td>98.970252</td>\n",
       "      <td>99.769319</td>\n",
       "    </tr>\n",
       "    <tr>\n",
       "      <th>86</th>\n",
       "      <td>0.91</td>\n",
       "      <td>98.876404</td>\n",
       "      <td>98.855835</td>\n",
       "      <td>99.769053</td>\n",
       "    </tr>\n",
       "    <tr>\n",
       "      <th>87</th>\n",
       "      <td>0.92</td>\n",
       "      <td>98.970037</td>\n",
       "      <td>98.855835</td>\n",
       "      <td>99.884393</td>\n",
       "    </tr>\n",
       "    <tr>\n",
       "      <th>88</th>\n",
       "      <td>0.93</td>\n",
       "      <td>98.876404</td>\n",
       "      <td>98.741419</td>\n",
       "      <td>99.884259</td>\n",
       "    </tr>\n",
       "    <tr>\n",
       "      <th>89</th>\n",
       "      <td>0.94</td>\n",
       "      <td>98.782772</td>\n",
       "      <td>98.627002</td>\n",
       "      <td>99.884125</td>\n",
       "    </tr>\n",
       "  </tbody>\n",
       "</table>\n",
       "<p>90 rows × 4 columns</p>\n",
       "</div>"
      ],
      "text/plain": [
       "    Threshold   Accuracy     Recall  Precision\n",
       "0        0.05  99.344569  99.771167  99.429875\n",
       "1        0.06  99.531835  99.771167  99.657143\n",
       "2        0.07  99.531835  99.771167  99.657143\n",
       "3        0.08  99.531835  99.771167  99.657143\n",
       "4        0.09  99.531835  99.771167  99.657143\n",
       "..        ...        ...        ...        ...\n",
       "85       0.90  98.970037  98.970252  99.769319\n",
       "86       0.91  98.876404  98.855835  99.769053\n",
       "87       0.92  98.970037  98.855835  99.884393\n",
       "88       0.93  98.876404  98.741419  99.884259\n",
       "89       0.94  98.782772  98.627002  99.884125\n",
       "\n",
       "[90 rows x 4 columns]"
      ]
     },
     "execution_count": 35,
     "metadata": {},
     "output_type": "execute_result"
    }
   ],
   "source": [
    "#Define Result lists\n",
    "\n",
    "Accuracy =[]\n",
    "Recall =[]\n",
    "Precision=[]\n",
    "Threshold =[]\n",
    "\n",
    "#Set new col to zero\n",
    "ConsolidatedData1['y_Pred_new'] =0\n",
    "\n",
    "#Loop to evaluate the threshold\n",
    "for i in range(5,95,1):\n",
    "    ConsolidatedData1.loc[ConsolidatedData1.Proba_1 > i/100 , 'y_Pred_new']=1\n",
    "    z = pd.crosstab(ConsolidatedData1.y_test , ConsolidatedData1.y_Pred_new)\n",
    "    #print(z)\n",
    "    Threshold.append(i/100)\n",
    "    Accuracy.append(((z[0][0] + z[1][1])/(z[0][0]+z[0][1]+z[1][0]+z[1][1])) *100)\n",
    "    Precision.append((z[1][1]/(z[1][0]+z[1][1]))*100)\n",
    "    Recall.append((z[1][1]/(z[0][1]+z[1][1]))*100)\n",
    "    ConsolidatedData1['y_Pred_new']=0\n",
    "\n",
    "#Convert the lists into a single data frame\n",
    "\n",
    "Result = pd.DataFrame({'Threshold' : Threshold ,\n",
    "                      'Accuracy' : Accuracy,\n",
    "                      'Recall':Recall,\n",
    "                      'Precision':Precision})\n",
    "Result.loc[Result.Accuracy > 76]"
   ]
  },
  {
   "cell_type": "code",
   "execution_count": 36,
   "metadata": {},
   "outputs": [
    {
     "data": {
      "text/plain": [
       "<matplotlib.axes._subplots.AxesSubplot at 0x1c094dafec8>"
      ]
     },
     "execution_count": 36,
     "metadata": {},
     "output_type": "execute_result"
    },
    {
     "data": {
      "image/png": "[encoded data removed]",
      "text/plain": [
       "<Figure size 720x360 with 1 Axes>"
      ]
     },
     "metadata": {
      "needs_background": "light"
     },
     "output_type": "display_data"
    }
   ],
   "source": [
    "Result.plot(x='Threshold',\n",
    "           y=['Accuracy','Recall','Precision'],\n",
    "           kind='line',\n",
    "           grid=True,\n",
    "           title='Threshold VS Accuracy/Reca5ll/Precisioin',\n",
    "           legend=True,\n",
    "           figsize =(10,5))\n",
    "\n",
    "#Choose threshold as 0.5 as its giving better accuracy:"
   ]
  },
  {
   "cell_type": "code",
   "execution_count": null,
   "metadata": {},
   "outputs": [],
   "source": []
  }
 ],
 "metadata": {
  "kernelspec": {
   "display_name": "Python 3",
   "language": "python",
   "name": "python3"
  },
  "language_info": {
   "codemirror_mode": {
    "name": "ipython",
    "version": 3
   },
   "file_extension": ".py",
   "mimetype": "text/x-python",
   "name": "python",
   "nbconvert_exporter": "python",
   "pygments_lexer": "ipython3",
   "version": "3.7.6"
  }
 },
 "nbformat": 4,
 "nbformat_minor": 4
}
